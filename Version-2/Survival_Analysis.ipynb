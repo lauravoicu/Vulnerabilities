{
 "cells": [
  {
   "cell_type": "code",
   "execution_count": 1,
   "id": "88b442c2",
   "metadata": {},
   "outputs": [],
   "source": [
    "import pandas as pd\n",
    "import numpy as np\n",
    "\n",
    "import csv\n",
    "\n",
    "from lifelines import KaplanMeierFitter\n",
    "from lifelines import WeibullAFTFitter\n",
    "from lifelines import CoxPHFitter\n",
    "from lifelines import WeibullFitter\n",
    "\n",
    "from lifelines.utils import median_survival_times\n",
    "from lifelines.utils import find_best_parametric_model\n",
    "\n",
    "import matplotlib.pyplot as plt\n",
    "\n",
    "from sklearn.preprocessing import LabelEncoder\n",
    "import statsmodels.api as sm\n",
    "from empiricaldist import Pmf  \n",
    "\n",
    "from scipy.stats import probplot\n",
    "\n",
    "from datetime import datetime, timezone\n",
    "from matplotlib_venn import venn3\n",
    "from supervenn import supervenn\n",
    "\n",
    "from datetime import datetime, timedelta"
   ]
  },
  {
   "cell_type": "code",
   "execution_count": 2,
   "id": "f393cea8",
   "metadata": {},
   "outputs": [],
   "source": [
    "import warnings\n",
    "warnings.simplefilter(action='ignore', category=FutureWarning)\n",
    "warnings.simplefilter(action='ignore')"
   ]
  },
  {
   "cell_type": "code",
   "execution_count": 3,
   "id": "85f9b542",
   "metadata": {},
   "outputs": [],
   "source": [
    "# Set a random seed for reproducibility\n",
    "np.random.seed(42)"
   ]
  },
  {
   "cell_type": "code",
   "execution_count": 4,
   "id": "66ec668d",
   "metadata": {},
   "outputs": [
    {
     "data": {
      "text/plain": [
       "131072"
      ]
     },
     "execution_count": 4,
     "metadata": {},
     "output_type": "execute_result"
    }
   ],
   "source": [
    "csv.field_size_limit(100000000)"
   ]
  },
  {
   "cell_type": "markdown",
   "id": "4b3601c0",
   "metadata": {},
   "source": [
    "***\n",
    "## Data Preprocessing\n",
    "***"
   ]
  },
  {
   "cell_type": "markdown",
   "id": "32e2a486",
   "metadata": {},
   "source": [
    "Let's use the dataframe created before by joining CVE list, CISA KEV, CVSS Scores and EPSS Scores information, to make the synthetically generated data more realistic."
   ]
  },
  {
   "cell_type": "code",
   "execution_count": 5,
   "id": "1b2b34ba",
   "metadata": {},
   "outputs": [],
   "source": [
    "original_data = pd.read_csv('cve_epss_cvss.csv', encoding = 'utf-8-sig', engine = 'python')\n",
    "original_data['publishedDate'] = pd.to_datetime(original_data['publishedDate'], errors='coerce')"
   ]
  },
  {
   "cell_type": "code",
   "execution_count": 6,
   "id": "44255615",
   "metadata": {},
   "outputs": [],
   "source": [
    "# Get the current date and time in UTC\n",
    "current_utc_time = pd.Timestamp.now(tz='UTC')\n",
    "\n",
    "# Calculate the time difference\n",
    "original_data['days_difference'] = (current_utc_time - original_data['publishedDate']).dt.total_seconds() / (60 * 60 * 24)\n",
    "\n",
    "# Convert to integer if you want the result as a whole number of days\n",
    "original_data['days_difference'] = original_data['days_difference'].astype(int)"
   ]
  },
  {
   "cell_type": "code",
   "execution_count": 7,
   "id": "410bce9b",
   "metadata": {},
   "outputs": [
    {
     "name": "stdout",
     "output_type": "stream",
     "text": [
      "<class 'pandas.core.frame.DataFrame'>\n",
      "RangeIndex: 229453 entries, 0 to 229452\n",
      "Data columns (total 35 columns):\n",
      " #   Column                      Non-Null Count   Dtype              \n",
      "---  ------                      --------------   -----              \n",
      " 0   publishedDate               229453 non-null  datetime64[ns, UTC]\n",
      " 1   lastModifiedDate            229453 non-null  object             \n",
      " 2   cveID                       229453 non-null  object             \n",
      " 3   assigner                    229453 non-null  object             \n",
      " 4   configurations.nodes        229453 non-null  object             \n",
      " 5   version                     141850 non-null  float64            \n",
      " 6   vectorString                141850 non-null  object             \n",
      " 7   attackVector                141850 non-null  object             \n",
      " 8   attackComplexity            141850 non-null  object             \n",
      " 9   privilegesRequired          141850 non-null  object             \n",
      " 10  userInteraction             141850 non-null  object             \n",
      " 11  scope                       141850 non-null  object             \n",
      " 12  confidentialityImpact       141850 non-null  object             \n",
      " 13  integrityImpact             141850 non-null  object             \n",
      " 14  availabilityImpact          141850 non-null  object             \n",
      " 15  cvssScore                   229453 non-null  float64            \n",
      " 16  baseSeverity                141850 non-null  object             \n",
      " 17  exploitabilityScore         141850 non-null  float64            \n",
      " 18  impactScore                 141850 non-null  float64            \n",
      " 19  vendorProject               1025 non-null    object             \n",
      " 20  product                     1024 non-null    object             \n",
      " 21  vulnerabilityName           1025 non-null    object             \n",
      " 22  dateAdded                   1025 non-null    object             \n",
      " 23  shortDescription            1025 non-null    object             \n",
      " 24  requiredAction              1025 non-null    object             \n",
      " 25  dueDate                     1025 non-null    object             \n",
      " 26  knownRansomwareCampaignUse  1025 non-null    object             \n",
      " 27  notes                       258 non-null     object             \n",
      " 28  hasKEV                      229453 non-null  float64            \n",
      " 29  epss                        229453 non-null  float64            \n",
      " 30  percentile                  216636 non-null  float64            \n",
      " 31  publishedYear               229453 non-null  int64              \n",
      " 32  publishedMonth              229453 non-null  int64              \n",
      " 33  count                       229453 non-null  int64              \n",
      " 34  days_difference             229453 non-null  int64              \n",
      "dtypes: datetime64[ns, UTC](1), float64(7), int64(4), object(23)\n",
      "memory usage: 61.3+ MB\n"
     ]
    }
   ],
   "source": [
    "original_data.info()"
   ]
  },
  {
   "cell_type": "code",
   "execution_count": 8,
   "id": "89adbd19",
   "metadata": {},
   "outputs": [],
   "source": [
    "# Map numerical values to criticality levels and add a 'Criticality' column to the DataFrame.\n",
    "\n",
    "def map_criticality(df):\n",
    "    # Define the mapping function\n",
    "    def map_to_criticality(value):\n",
    "        if 0 <= value < 4:\n",
    "            return 'Low'\n",
    "        elif 4 <= value < 7:\n",
    "            return 'Medium'\n",
    "        elif 7 <= value < 9:\n",
    "            return 'High'\n",
    "        elif 9 <= value <= 10:\n",
    "            return 'Critical'\n",
    "        else:\n",
    "            return 'Low'\n",
    "\n",
    "    # Apply the mapping function to create the 'Criticality' column\n",
    "    df['Criticality'] = df['cvssScore'].apply(map_to_criticality)\n",
    "\n",
    "    return df"
   ]
  },
  {
   "cell_type": "code",
   "execution_count": 9,
   "id": "97ce8e45",
   "metadata": {},
   "outputs": [],
   "source": [
    "original_data = map_criticality(original_data)"
   ]
  },
  {
   "cell_type": "code",
   "execution_count": 10,
   "id": "1a152c0f",
   "metadata": {},
   "outputs": [],
   "source": [
    "# Convert 'publishedDate' to datetime if not already done\n",
    "original_data['publishedDate'] = pd.to_datetime(original_data['publishedDate'])"
   ]
  },
  {
   "cell_type": "code",
   "execution_count": 11,
   "id": "808dc90e",
   "metadata": {},
   "outputs": [],
   "source": [
    "# Ratio of criticality scores in the synthetic dataset (e.g., [0.4, 0.3, 0.2, 0.1]).\n",
    "CRITICALITY_RATIO = [0.15, 0.7, 0.1, 0.05]\n",
    "# Number of samples to generate in the synthetic dataset.\n",
    "NUM_SAMPLES = 10000"
   ]
  },
  {
   "cell_type": "markdown",
   "id": "945d4df8",
   "metadata": {},
   "source": [
    "***\n",
    "## Data Generation\n",
    "***"
   ]
  },
  {
   "cell_type": "code",
   "execution_count": 12,
   "id": "ace8a6e7",
   "metadata": {},
   "outputs": [],
   "source": [
    "# Generate a synthetic dataset with time-to-remediate based on the criticality score.\n",
    "def generate_synthetic_data(original_data, num_samples, criticality_ratio):\n",
    "    # Check if the 'Criticality' and 'Exploitability' columns are present in the original data\n",
    "    required_columns = {'Criticality', 'epss', 'cvssScore', 'publishedDate'}\n",
    "    if not required_columns.issubset(original_data.columns):\n",
    "        raise KeyError(f\"The columns {required_columns} are not present in the original_data DataFrame.\")\n",
    "\n",
    "    # Check if the criticality_ratio is valid\n",
    "    if len(criticality_ratio) != len(original_data['Criticality'].unique()):\n",
    "        raise ValueError(\"The length of criticality_ratio should match the number of unique criticality scores.\")\n",
    "\n",
    "    # Get the current date and time in UTC, minus one week\n",
    "    current_date_minus_one_week = pd.Timestamp.now(tz='UTC') - timedelta(weeks=1)\n",
    "    \n",
    "    # Initialize an empty DataFrame for the synthetic data\n",
    "    synthetic_data = pd.DataFrame(columns=['Time_to_Remediate', 'Criticality', 'CVSS_Score', 'Exploitability',  'Known_Exploit', 'CVE_ID', 'Remediated', 'Observed_Date'])\n",
    "\n",
    "    # Generate synthetic data based on the given ratio\n",
    "    for ratio, crit_level in zip(criticality_ratio, original_data['Criticality'].unique()):\n",
    "        # Check if there are vulnerabilities for the current criticality level\n",
    "        if crit_level not in original_data['Criticality'].values:\n",
    "            continue\n",
    "\n",
    "        # Calculate the number of samples for the current criticality level\n",
    "        num_samples_crit_level = int(num_samples * ratio)\n",
    "\n",
    "        # Randomly select vulnerabilities for the current criticality level\n",
    "        subset_data = original_data[original_data['Criticality'] == crit_level]\n",
    "\n",
    "        # Check if there are vulnerabilities for the current criticality level\n",
    "        if subset_data.empty:\n",
    "            continue\n",
    "\n",
    "        sampled_indices = np.random.choice(subset_data.index, size=num_samples_crit_level, replace=True)\n",
    "\n",
    "        # Extract CVSS scores for selected vulnerabilities\n",
    "        cvss_score = subset_data.loc[sampled_indices, 'cvssScore'].values\n",
    "\n",
    "        # Extract exploitability scores for selected vulnerabilities\n",
    "        exploitability = subset_data.loc[sampled_indices, 'epss'].values\n",
    "        \n",
    "        # Extract age for selected vulnerabilities\n",
    "#         days_difference = subset_data.loc[sampled_indices, 'days_difference'].values\n",
    "        # Instead of using 'days_difference', generate a realistic 'Time_to_Remediate'\n",
    "        # For example, using a normal distribution with a mean and standard deviation\n",
    "        mean_remediate_time = 250 # mean time to remediate (days)\n",
    "        std_deviation = 150  # standard deviation (days)\n",
    "        remediation_times = np.random.normal(mean_remediate_time, std_deviation, num_samples_crit_level)\n",
    "        remediation_times = np.clip(remediation_times, 0, None)  # Ensure all times are positive\n",
    "\n",
    "\n",
    "        known_exploit = subset_data.loc[sampled_indices, 'hasKEV'].values\n",
    "        cve_id = subset_data.loc[sampled_indices, 'cveID'].values\n",
    "\n",
    "       # Generate random Observed_Dates\n",
    "        published_dates = subset_data.loc[sampled_indices, 'publishedDate']\n",
    "        observed_dates = published_dates.apply(\n",
    "            lambda x: x + (current_date_minus_one_week - x) * np.random.rand()\n",
    "        )\n",
    "\n",
    "\n",
    "       # Create a DataFrame with the generated data\n",
    "        synthetic_subset = pd.DataFrame({\n",
    "            'Time_to_Remediate': remediation_times,\n",
    "            'Criticality': [crit_level] * num_samples_crit_level,\n",
    "            'CVSS_Score': cvss_score,\n",
    "            'Exploitability': exploitability,\n",
    "            'Remediated': np.random.choice([0, 1], size=num_samples_crit_level),  # Random choice of 0 or 1 for 'Remediated'\n",
    "            'Known_Exploit': known_exploit,\n",
    "            'CVE_ID': cve_id,\n",
    "            'Observed_Date': observed_dates\n",
    " \n",
    "        })\n",
    "\n",
    "        # Append the synthetic subset to the overall synthetic data\n",
    "        synthetic_data = synthetic_data.append(synthetic_subset)\n",
    "\n",
    "    # Reset the index of the synthetic data\n",
    "    synthetic_data.reset_index(drop=True, inplace=True)\n",
    "\n",
    "    return synthetic_data\n"
   ]
  },
  {
   "cell_type": "markdown",
   "id": "6fec214d",
   "metadata": {},
   "source": [
    "I initially used the vulnerability age since publish date to approximate the time to remediate. However, this was not a realistic approximation of reality. Time_to_Remediate is generated using a normal distribution centered around a mean time-to-remediate (30/90/180 days for example) with a standard deviation (10 days). "
   ]
  },
  {
   "cell_type": "code",
   "execution_count": 13,
   "id": "4f9bb3c3",
   "metadata": {},
   "outputs": [],
   "source": [
    "# Generate synthetic data with NUM_SAMPLES vulnerabilities\n",
    "synthetic_data = generate_synthetic_data(original_data, NUM_SAMPLES, CRITICALITY_RATIO)"
   ]
  },
  {
   "cell_type": "code",
   "execution_count": 14,
   "id": "af61e47b",
   "metadata": {},
   "outputs": [
    {
     "name": "stdout",
     "output_type": "stream",
     "text": [
      "<class 'pandas.core.frame.DataFrame'>\n",
      "RangeIndex: 10000 entries, 0 to 9999\n",
      "Data columns (total 8 columns):\n",
      " #   Column             Non-Null Count  Dtype              \n",
      "---  ------             --------------  -----              \n",
      " 0   Time_to_Remediate  10000 non-null  float64            \n",
      " 1   Criticality        10000 non-null  object             \n",
      " 2   CVSS_Score         10000 non-null  float64            \n",
      " 3   Exploitability     10000 non-null  float64            \n",
      " 4   Known_Exploit      10000 non-null  float64            \n",
      " 5   CVE_ID             10000 non-null  object             \n",
      " 6   Remediated         10000 non-null  object             \n",
      " 7   Observed_Date      10000 non-null  datetime64[ns, UTC]\n",
      "dtypes: datetime64[ns, UTC](1), float64(4), object(3)\n",
      "memory usage: 625.1+ KB\n"
     ]
    }
   ],
   "source": [
    "synthetic_data.info()"
   ]
  },
  {
   "cell_type": "code",
   "execution_count": 15,
   "id": "6662f593",
   "metadata": {},
   "outputs": [],
   "source": [
    "# Convert relevant columns to numeric and handle NaNs\n",
    "synthetic_data['Time_to_Remediate'] = pd.to_numeric(synthetic_data['Time_to_Remediate'], errors='coerce')\n",
    "synthetic_data['Remediated'] = pd.to_numeric(synthetic_data['Remediated'], errors='coerce')"
   ]
  },
  {
   "cell_type": "code",
   "execution_count": 16,
   "id": "31985888",
   "metadata": {},
   "outputs": [
    {
     "data": {
      "text/html": [
       "<div>\n",
       "<style scoped>\n",
       "    .dataframe tbody tr th:only-of-type {\n",
       "        vertical-align: middle;\n",
       "    }\n",
       "\n",
       "    .dataframe tbody tr th {\n",
       "        vertical-align: top;\n",
       "    }\n",
       "\n",
       "    .dataframe thead th {\n",
       "        text-align: right;\n",
       "    }\n",
       "</style>\n",
       "<table border=\"1\" class=\"dataframe\">\n",
       "  <thead>\n",
       "    <tr style=\"text-align: right;\">\n",
       "      <th></th>\n",
       "      <th>Time_to_Remediate</th>\n",
       "      <th>CVSS_Score</th>\n",
       "      <th>Exploitability</th>\n",
       "      <th>Known_Exploit</th>\n",
       "      <th>Remediated</th>\n",
       "    </tr>\n",
       "  </thead>\n",
       "  <tbody>\n",
       "    <tr>\n",
       "      <th>count</th>\n",
       "      <td>10000.000000</td>\n",
       "      <td>10000.000000</td>\n",
       "      <td>10000.000000</td>\n",
       "      <td>10000.000000</td>\n",
       "      <td>10000.000000</td>\n",
       "    </tr>\n",
       "    <tr>\n",
       "      <th>mean</th>\n",
       "      <td>251.259858</td>\n",
       "      <td>6.895570</td>\n",
       "      <td>0.022824</td>\n",
       "      <td>0.057400</td>\n",
       "      <td>0.498000</td>\n",
       "    </tr>\n",
       "    <tr>\n",
       "      <th>std</th>\n",
       "      <td>143.819511</td>\n",
       "      <td>2.518952</td>\n",
       "      <td>0.117598</td>\n",
       "      <td>0.232617</td>\n",
       "      <td>0.500021</td>\n",
       "    </tr>\n",
       "    <tr>\n",
       "      <th>min</th>\n",
       "      <td>0.000000</td>\n",
       "      <td>0.000000</td>\n",
       "      <td>0.000000</td>\n",
       "      <td>0.000000</td>\n",
       "      <td>0.000000</td>\n",
       "    </tr>\n",
       "    <tr>\n",
       "      <th>25%</th>\n",
       "      <td>145.232563</td>\n",
       "      <td>6.950000</td>\n",
       "      <td>0.000560</td>\n",
       "      <td>0.000000</td>\n",
       "      <td>0.000000</td>\n",
       "    </tr>\n",
       "    <tr>\n",
       "      <th>50%</th>\n",
       "      <td>249.217067</td>\n",
       "      <td>7.500000</td>\n",
       "      <td>0.001050</td>\n",
       "      <td>0.000000</td>\n",
       "      <td>0.000000</td>\n",
       "    </tr>\n",
       "    <tr>\n",
       "      <th>75%</th>\n",
       "      <td>350.205915</td>\n",
       "      <td>8.100000</td>\n",
       "      <td>0.002800</td>\n",
       "      <td>0.000000</td>\n",
       "      <td>1.000000</td>\n",
       "    </tr>\n",
       "    <tr>\n",
       "      <th>max</th>\n",
       "      <td>789.920017</td>\n",
       "      <td>10.000000</td>\n",
       "      <td>0.975160</td>\n",
       "      <td>1.000000</td>\n",
       "      <td>1.000000</td>\n",
       "    </tr>\n",
       "  </tbody>\n",
       "</table>\n",
       "</div>"
      ],
      "text/plain": [
       "       Time_to_Remediate    CVSS_Score  Exploitability  Known_Exploit  \\\n",
       "count       10000.000000  10000.000000    10000.000000   10000.000000   \n",
       "mean          251.259858      6.895570        0.022824       0.057400   \n",
       "std           143.819511      2.518952        0.117598       0.232617   \n",
       "min             0.000000      0.000000        0.000000       0.000000   \n",
       "25%           145.232563      6.950000        0.000560       0.000000   \n",
       "50%           249.217067      7.500000        0.001050       0.000000   \n",
       "75%           350.205915      8.100000        0.002800       0.000000   \n",
       "max           789.920017     10.000000        0.975160       1.000000   \n",
       "\n",
       "         Remediated  \n",
       "count  10000.000000  \n",
       "mean       0.498000  \n",
       "std        0.500021  \n",
       "min        0.000000  \n",
       "25%        0.000000  \n",
       "50%        0.000000  \n",
       "75%        1.000000  \n",
       "max        1.000000  "
      ]
     },
     "execution_count": 16,
     "metadata": {},
     "output_type": "execute_result"
    }
   ],
   "source": [
    "synthetic_data.describe()"
   ]
  },
  {
   "cell_type": "markdown",
   "id": "3848b1f6",
   "metadata": {},
   "source": [
    "***\n",
    "## Exploratory Data Analysis\n",
    "***"
   ]
  },
  {
   "cell_type": "code",
   "execution_count": 17,
   "id": "a9767eca",
   "metadata": {},
   "outputs": [],
   "source": [
    "# Function to plot the distribution of criticality values\n",
    "def plot_criticality_distribution(data):\n",
    "    criticality_counts = data['Criticality'].value_counts()\n",
    "    \n",
    "    # Plot a bar chart\n",
    "    criticality_counts.plot(kind='bar', color=['darkred', 'grey', 'lightblue', 'darkgrey'])\n",
    "    \n",
    "    # Add labels and title\n",
    "    plt.title(\"Distribution of Vulnerabilities by Criticality\")\n",
    "    plt.xlabel(\"Criticality Level\")\n",
    "    plt.ylabel(\"Number of Vulnerabilities\")\n",
    "    plt.xticks(rotation=0)  # Rotate x-axis labels for better readability\n",
    "    \n",
    "    # Display the plot\n",
    "    plt.show()"
   ]
  },
  {
   "cell_type": "code",
   "execution_count": 18,
   "id": "34e0040f",
   "metadata": {},
   "outputs": [
    {
     "data": {
      "image/png": "[encoded data removed]",
      "text/plain": [
       "<Figure size 432x288 with 1 Axes>"
      ]
     },
     "metadata": {
      "needs_background": "light"
     },
     "output_type": "display_data"
    }
   ],
   "source": [
    "# Plot the distribution of criticality values\n",
    "plot_criticality_distribution(synthetic_data)"
   ]
  },
  {
   "cell_type": "code",
   "execution_count": 19,
   "id": "b534da9d",
   "metadata": {},
   "outputs": [],
   "source": [
    "# Function to plot the distribution of exploitability values\n",
    "def plot_exploitability_distribution(data):\n",
    "    # Plot a histogram of exploitability values\n",
    "    plt.hist(data['Exploitability'], bins=20, color='darkred')\n",
    "    \n",
    "    # Add labels and title\n",
    "    plt.title(\"Distribution of Initial Exploitability Values\")\n",
    "    plt.xlabel(\"Exploitability\")\n",
    "    plt.ylabel(\"Number of Vulnerabilities\")\n",
    "    \n",
    "    # Display the plot\n",
    "    plt.show()"
   ]
  },
  {
   "cell_type": "code",
   "execution_count": 20,
   "id": "5c563a8b",
   "metadata": {
    "scrolled": true
   },
   "outputs": [
    {
     "data": {
      "image/png": "[encoded data removed]",
      "text/plain": [
       "<Figure size 432x288 with 1 Axes>"
      ]
     },
     "metadata": {
      "needs_background": "light"
     },
     "output_type": "display_data"
    }
   ],
   "source": [
    "# Plot the distribution of exploitability values\n",
    "plot_exploitability_distribution(synthetic_data)"
   ]
  },
  {
   "cell_type": "code",
   "execution_count": 21,
   "id": "9734c809",
   "metadata": {},
   "outputs": [],
   "source": [
    "# Function to plot the distribution of exploitability values\n",
    "def plot_age_distribution(data):\n",
    "    # Plot a histogram of exploitability values\n",
    "    plt.hist(data['Time_to_Remediate'], bins=20, color='darkred')\n",
    "    \n",
    "    # Add labels and title\n",
    "    plt.title(\"Distribution of Remediation times\")\n",
    "    plt.xlabel(\"Age\")\n",
    "    plt.ylabel(\"Number of Vulnerabilities\")\n",
    "    \n",
    "    # Display the plot\n",
    "    plt.show()"
   ]
  },
  {
   "cell_type": "code",
   "execution_count": 22,
   "id": "7bf1fcaa",
   "metadata": {},
   "outputs": [
    {
     "data": {
      "image/png": "[encoded data removed]",
      "text/plain": [
       "<Figure size 432x288 with 1 Axes>"
      ]
     },
     "metadata": {
      "needs_background": "light"
     },
     "output_type": "display_data"
    }
   ],
   "source": [
    "# Plot the distribution of exploitability values\n",
    "plot_age_distribution(synthetic_data)"
   ]
  },
  {
   "cell_type": "markdown",
   "id": "f47d5e70",
   "metadata": {},
   "source": [
    "***\n",
    "## Metrics\n",
    "***"
   ]
  },
  {
   "cell_type": "code",
   "execution_count": 23,
   "id": "287ad872",
   "metadata": {},
   "outputs": [],
   "source": [
    "def venn_diagram(a, b, c, labels):\n",
    "\n",
    "    a = set(a)\n",
    "    b = set(b)\n",
    "    c = set(c)\n",
    "\n",
    "    only_a = len(a - b - c)\n",
    "    only_b = len(b - a - c)\n",
    "    only_c = len(c - a - b)\n",
    "\n",
    "    only_a_b = len(a & b - c)\n",
    "    only_a_c = len(a & c - b)\n",
    "    only_b_c = len(b & c - a)\n",
    "\n",
    "    a_b_c = len(a & b & c)\n",
    "\n",
    "    venn3(subsets=(only_a, only_b, only_a_b, only_c, only_a_c, only_b_c, a_b_c), set_labels=labels,\n",
    "         set_colors=(\"lightblue\", \"darkred\", \"grey\"), alpha=0.8)"
   ]
  },
  {
   "cell_type": "code",
   "execution_count": 24,
   "id": "c44f461a",
   "metadata": {},
   "outputs": [],
   "source": [
    "a = synthetic_data.loc[synthetic_data['Known_Exploit'] == 1, 'CVE_ID']\n",
    "b = synthetic_data.loc[synthetic_data['CVSS_Score'] >= 7, 'CVE_ID']\n",
    "c = synthetic_data.CVE_ID\n",
    "labels = ['Present in KEV', 'CVSS7+', 'EPSS']"
   ]
  },
  {
   "cell_type": "code",
   "execution_count": 25,
   "id": "6bfa906c",
   "metadata": {},
   "outputs": [
    {
     "data": {
      "image/png": "[encoded data removed]",
      "text/plain": [
       "<Figure size 432x288 with 1 Axes>"
      ]
     },
     "metadata": {},
     "output_type": "display_data"
    }
   ],
   "source": [
    "venn_diagram(a, b, c, labels)"
   ]
  },
  {
   "cell_type": "code",
   "execution_count": 26,
   "id": "9fdfb563",
   "metadata": {},
   "outputs": [],
   "source": [
    "tp = len(set(a) & set(b) & set(c))\n",
    "fp = len(set(b) & set(c) - set(a))\n",
    "tn = len(set(a) & set(c) - set(b))\n",
    "fn = len(set(a) & set(b) - set(c))"
   ]
  },
  {
   "cell_type": "code",
   "execution_count": 27,
   "id": "925f76e7",
   "metadata": {},
   "outputs": [
    {
     "name": "stdout",
     "output_type": "stream",
     "text": [
      "Patching effort: 71.19%\n"
     ]
    }
   ],
   "source": [
    "b_c = len(set(b) & set(c))\n",
    "print(\"Patching effort: {:.2f}%\".format(b_c / len(synthetic_data) * 100))"
   ]
  },
  {
   "cell_type": "code",
   "execution_count": 28,
   "id": "98a39312",
   "metadata": {},
   "outputs": [
    {
     "name": "stdout",
     "output_type": "stream",
     "text": [
      "Efficiency: 4.51%\n"
     ]
    }
   ],
   "source": [
    "print(\"Efficiency: {:.2f}%\".format(tp / (tp+fp) * 100))"
   ]
  },
  {
   "cell_type": "code",
   "execution_count": 29,
   "id": "19bd5095",
   "metadata": {},
   "outputs": [
    {
     "name": "stdout",
     "output_type": "stream",
     "text": [
      "Coverage: 100.00%\n"
     ]
    }
   ],
   "source": [
    "print(\"Coverage: {:.2f}%\".format(tp / (tp+fn) * 100))"
   ]
  },
  {
   "cell_type": "code",
   "execution_count": null,
   "id": "9ca406bc",
   "metadata": {},
   "outputs": [],
   "source": []
  },
  {
   "cell_type": "code",
   "execution_count": 30,
   "id": "2958ff39",
   "metadata": {},
   "outputs": [],
   "source": [
    "a = synthetic_data.loc[synthetic_data['Known_Exploit'] == 1, 'CVE_ID']\n",
    "b = synthetic_data.CVE_ID\n",
    "c = synthetic_data.loc[synthetic_data['Exploitability'] > 0.1, 'CVE_ID']\n",
    "\n",
    "\n",
    "labels = ['Present in KEV', 'CVSS', 'EPSS 0.1+']"
   ]
  },
  {
   "cell_type": "code",
   "execution_count": 31,
   "id": "8b03f7f2",
   "metadata": {},
   "outputs": [
    {
     "data": {
      "image/png": "[encoded data removed]",
      "text/plain": [
       "<Figure size 432x288 with 1 Axes>"
      ]
     },
     "metadata": {},
     "output_type": "display_data"
    }
   ],
   "source": [
    "venn_diagram(a, b, c, labels)"
   ]
  },
  {
   "cell_type": "code",
   "execution_count": 32,
   "id": "1fc60ab2",
   "metadata": {},
   "outputs": [],
   "source": [
    "tp = len(set(a) & set(b) & set(c))\n",
    "fp = len(set(b) & set(c) - set(a))\n",
    "tn = len(set(a) & set(c) - set(b))\n",
    "fn = len(set(a) & set(b) - set(c))"
   ]
  },
  {
   "cell_type": "code",
   "execution_count": 33,
   "id": "b9246b5b",
   "metadata": {},
   "outputs": [
    {
     "name": "stdout",
     "output_type": "stream",
     "text": [
      "Patching effort: 3.35%\n"
     ]
    }
   ],
   "source": [
    "b_c = len(set(b) & set(c))\n",
    "print(\"Patching effort: {:.2f}%\".format(b_c / len(synthetic_data) * 100))"
   ]
  },
  {
   "cell_type": "code",
   "execution_count": 34,
   "id": "ae16a052",
   "metadata": {},
   "outputs": [
    {
     "name": "stdout",
     "output_type": "stream",
     "text": [
      "Efficiency: 44.48%\n"
     ]
    }
   ],
   "source": [
    "print(\"Efficiency: {:.2f}%\".format(tp / (tp+fp) * 100))"
   ]
  },
  {
   "cell_type": "code",
   "execution_count": 35,
   "id": "26d12328",
   "metadata": {},
   "outputs": [
    {
     "name": "stdout",
     "output_type": "stream",
     "text": [
      "Coverage: 26.99%\n"
     ]
    }
   ],
   "source": [
    "print(\"Coverage: {:.2f}%\".format(tp / (tp+fn) * 100))"
   ]
  },
  {
   "cell_type": "code",
   "execution_count": null,
   "id": "a887e440",
   "metadata": {},
   "outputs": [],
   "source": []
  },
  {
   "cell_type": "code",
   "execution_count": 36,
   "id": "a866301b",
   "metadata": {},
   "outputs": [],
   "source": [
    "a = synthetic_data.loc[synthetic_data['Known_Exploit'] == 1, 'CVE_ID']\n",
    "b = synthetic_data.CVE_ID\n",
    "c = synthetic_data.loc[synthetic_data['Exploitability'] > 0.36, 'CVE_ID']\n",
    "\n",
    "\n",
    "labels = ['Present in KEV', 'CVSS', 'EPSS 0.36+']"
   ]
  },
  {
   "cell_type": "code",
   "execution_count": 37,
   "id": "00ad3062",
   "metadata": {},
   "outputs": [
    {
     "data": {
      "image/png": "[encoded data removed]",
      "text/plain": [
       "<Figure size 432x288 with 1 Axes>"
      ]
     },
     "metadata": {},
     "output_type": "display_data"
    }
   ],
   "source": [
    "venn_diagram(a, b, c, labels)"
   ]
  },
  {
   "cell_type": "code",
   "execution_count": 38,
   "id": "254456e0",
   "metadata": {},
   "outputs": [],
   "source": [
    "tp = len(set(a) & set(b) & set(c))\n",
    "fp = len(set(b) & set(c) - set(a))\n",
    "tn = len(set(a) & set(c) - set(b))\n",
    "fn = len(set(a) & set(b) - set(c))"
   ]
  },
  {
   "cell_type": "code",
   "execution_count": 39,
   "id": "9e389f1c",
   "metadata": {},
   "outputs": [
    {
     "name": "stdout",
     "output_type": "stream",
     "text": [
      "Patching effort: 1.96%\n"
     ]
    }
   ],
   "source": [
    "b_c = len(set(b) & set(c))\n",
    "print(\"Patching effort: {:.2f}%\".format(b_c / len(synthetic_data) * 100))"
   ]
  },
  {
   "cell_type": "code",
   "execution_count": 40,
   "id": "7fd387c8",
   "metadata": {},
   "outputs": [
    {
     "name": "stdout",
     "output_type": "stream",
     "text": [
      "Efficiency: 52.55%\n"
     ]
    }
   ],
   "source": [
    "print(\"Efficiency: {:.2f}%\".format(tp / (tp+fp) * 100))"
   ]
  },
  {
   "cell_type": "code",
   "execution_count": 41,
   "id": "258b6ff8",
   "metadata": {},
   "outputs": [
    {
     "name": "stdout",
     "output_type": "stream",
     "text": [
      "Coverage: 18.66%\n"
     ]
    }
   ],
   "source": [
    "print(\"Coverage: {:.2f}%\".format(tp / (tp+fn) * 100))"
   ]
  },
  {
   "cell_type": "code",
   "execution_count": null,
   "id": "16ea854d",
   "metadata": {},
   "outputs": [],
   "source": []
  },
  {
   "cell_type": "code",
   "execution_count": 42,
   "id": "3fc096df",
   "metadata": {},
   "outputs": [],
   "source": [
    "# Set the index to the date\n",
    "data_by_date = synthetic_data.set_index('Observed_Date')"
   ]
  },
  {
   "cell_type": "code",
   "execution_count": 43,
   "id": "65ce628d",
   "metadata": {},
   "outputs": [],
   "source": [
    "# Resample and count vulnerabilities per day\n",
    "vulnerabilities_per_day = data_by_date.resample('D').count()"
   ]
  },
  {
   "cell_type": "code",
   "execution_count": 44,
   "id": "a8f78bee",
   "metadata": {},
   "outputs": [
    {
     "name": "stdout",
     "output_type": "stream",
     "text": [
      "Average arrival rate: 1.30\n"
     ]
    }
   ],
   "source": [
    "# Calculate the average arrival rate per day\n",
    "average_arrival_rate = vulnerabilities_per_day['CVE_ID'].mean()\n",
    "print(\"Average arrival rate: {:.2f}\".format(average_arrival_rate))"
   ]
  },
  {
   "cell_type": "code",
   "execution_count": null,
   "id": "dd89e8fd",
   "metadata": {},
   "outputs": [],
   "source": []
  },
  {
   "cell_type": "code",
   "execution_count": 45,
   "id": "1d5d5d93",
   "metadata": {},
   "outputs": [
    {
     "name": "stdout",
     "output_type": "stream",
     "text": [
      "Remediation rate: 49.80%\n"
     ]
    }
   ],
   "source": [
    "# Since 'Remediated' is a binary column where 1 indicates remediation\n",
    "remediation_rate = synthetic_data['Remediated'].mean()\n",
    "\n",
    "# Convert rate to a percentage\n",
    "print(f\"Remediation rate: {remediation_rate * 100:.2f}%\")"
   ]
  },
  {
   "cell_type": "markdown",
   "id": "fd632519",
   "metadata": {},
   "source": [
    "***\n",
    "## Survival Analysis\n",
    "***"
   ]
  },
  {
   "cell_type": "markdown",
   "id": "6a3bc8e8",
   "metadata": {},
   "source": [
    "***\n",
    "### Overall Survival\n",
    "***"
   ]
  },
  {
   "cell_type": "code",
   "execution_count": 46,
   "id": "c64aa588",
   "metadata": {},
   "outputs": [],
   "source": [
    "# Function to calculate overall hazard using the Kaplan-Meier estimator\n",
    "def calculate_overall_hazard(data):\n",
    "    # Identify events (1) and censored observations (0)\n",
    "    event_observed = np.where(data['Remediated'] == 1, 1, 0)\n",
    "    kmf = KaplanMeierFitter()\n",
    "    kmf.fit(durations=data['Time_to_Remediate'], event_observed=event_observed)\n",
    "    \n",
    "    # Calculate the negative logarithm of the survival function (proportional to hazard function)\n",
    "    overall_hazard = -np.log(kmf.survival_function_)\n",
    "    \n",
    "    return overall_hazard"
   ]
  },
  {
   "cell_type": "code",
   "execution_count": 47,
   "id": "aef47243",
   "metadata": {},
   "outputs": [
    {
     "data": {
      "image/png": "[encoded data removed]",
      "text/plain": [
       "<Figure size 432x288 with 1 Axes>"
      ]
     },
     "metadata": {
      "needs_background": "light"
     },
     "output_type": "display_data"
    }
   ],
   "source": [
    "# Calculate and plot the overall hazard function\n",
    "overall_hazard = calculate_overall_hazard(synthetic_data)\n",
    "overall_hazard.plot(label=\"Overall\")\n",
    "plt.title(\"Overall Hazard Function\")\n",
    "plt.xlabel(\"Time to Remediate (days)\")\n",
    "plt.ylabel(\"Hazard Rate\")\n",
    "plt.legend()\n",
    "plt.show()"
   ]
  },
  {
   "cell_type": "markdown",
   "id": "5bdc62f5",
   "metadata": {},
   "source": [
    "***\n",
    "### Weibull Fitter\n",
    "***\n",
    "Weibull distribution: the failure/event rate is proportional to time."
   ]
  },
  {
   "cell_type": "code",
   "execution_count": 48,
   "id": "3fb0d131",
   "metadata": {},
   "outputs": [],
   "source": [
    "def perform_weibull_analysis(data):\n",
    "\n",
    "    # Add a small positive value to zero elements in 'Time_to_Remediate'\n",
    "    data['Time_to_Remediate'] = np.maximum(data['Time_to_Remediate'], 1e-6)\n",
    "\n",
    "    wb = WeibullFitter()\n",
    "\n",
    "    # Fit the Weibull model\n",
    "    wb.fit(data['Time_to_Remediate'], data['Remediated'])\n",
    "\n",
    "    # Print the summary\n",
    "    wb.print_summary()\n",
    "\n",
    "    # Plot survival function\n",
    "    wb.survival_function_.plot()\n",
    "    # Hide the legend\n",
    "    plt.legend().set_visible(False)\n",
    "    plt.show()\n",
    "    return wb"
   ]
  },
  {
   "cell_type": "code",
   "execution_count": 49,
   "id": "6e18a32c",
   "metadata": {},
   "outputs": [
    {
     "data": {
      "text/html": [
       "<div>\n",
       "<style scoped>\n",
       "    .dataframe tbody tr th:only-of-type {\n",
       "        vertical-align: middle;\n",
       "    }\n",
       "\n",
       "    .dataframe tbody tr th {\n",
       "        vertical-align: top;\n",
       "    }\n",
       "\n",
       "    .dataframe thead th {\n",
       "        text-align: right;\n",
       "    }\n",
       "</style>\n",
       "<table border=\"1\" class=\"dataframe\">\n",
       "  <tbody>\n",
       "    <tr>\n",
       "      <th>model</th>\n",
       "      <td>lifelines.WeibullFitter</td>\n",
       "    </tr>\n",
       "    <tr>\n",
       "      <th>number of observations</th>\n",
       "      <td>10000</td>\n",
       "    </tr>\n",
       "    <tr>\n",
       "      <th>number of events observed</th>\n",
       "      <td>4980</td>\n",
       "    </tr>\n",
       "    <tr>\n",
       "      <th>log-likelihood</th>\n",
       "      <td>-35826.08</td>\n",
       "    </tr>\n",
       "    <tr>\n",
       "      <th>hypothesis</th>\n",
       "      <td>lambda_ != 1, rho_ != 1</td>\n",
       "    </tr>\n",
       "  </tbody>\n",
       "</table>\n",
       "</div><table border=\"1\" class=\"dataframe\">\n",
       "  <thead>\n",
       "    <tr style=\"text-align: right;\">\n",
       "      <th style=\"min-width: 12px;\"></th>\n",
       "      <th style=\"min-width: 12px;\">coef</th>\n",
       "      <th style=\"min-width: 12px;\">se(coef)</th>\n",
       "      <th style=\"min-width: 12px;\">coef lower 95%</th>\n",
       "      <th style=\"min-width: 12px;\">coef upper 95%</th>\n",
       "      <th style=\"min-width: 12px;\">cmp to</th>\n",
       "      <th style=\"min-width: 12px;\">z</th>\n",
       "      <th style=\"min-width: 12px;\">p</th>\n",
       "      <th style=\"min-width: 12px;\">-log2(p)</th>\n",
       "    </tr>\n",
       "  </thead>\n",
       "  <tbody>\n",
       "    <tr>\n",
       "      <th>lambda_</th>\n",
       "      <td>573.01</td>\n",
       "      <td>11.30</td>\n",
       "      <td>550.86</td>\n",
       "      <td>595.15</td>\n",
       "      <td>1.00</td>\n",
       "      <td>50.62</td>\n",
       "      <td>&lt;0.005</td>\n",
       "      <td>inf</td>\n",
       "    </tr>\n",
       "    <tr>\n",
       "      <th>rho_</th>\n",
       "      <td>0.81</td>\n",
       "      <td>0.01</td>\n",
       "      <td>0.78</td>\n",
       "      <td>0.83</td>\n",
       "      <td>1.00</td>\n",
       "      <td>-18.36</td>\n",
       "      <td>&lt;0.005</td>\n",
       "      <td>247.64</td>\n",
       "    </tr>\n",
       "  </tbody>\n",
       "</table><br><div>\n",
       "<style scoped>\n",
       "    .dataframe tbody tr th:only-of-type {\n",
       "        vertical-align: middle;\n",
       "    }\n",
       "\n",
       "    .dataframe tbody tr th {\n",
       "        vertical-align: top;\n",
       "    }\n",
       "\n",
       "    .dataframe thead th {\n",
       "        text-align: right;\n",
       "    }\n",
       "</style>\n",
       "<table border=\"1\" class=\"dataframe\">\n",
       "  <tbody>\n",
       "    <tr>\n",
       "      <th>AIC</th>\n",
       "      <td>71656.16</td>\n",
       "    </tr>\n",
       "  </tbody>\n",
       "</table>\n",
       "</div>"
      ],
      "text/latex": [
       "\\begin{tabular}{lrrrrrrrr}\n",
       " & coef & se(coef) & coef lower 95% & coef upper 95% & cmp to & z & p & -log2(p) \\\\\n",
       "lambda_ & 573.01 & 11.30 & 550.86 & 595.15 & 1.00 & 50.62 & 0.00 & inf \\\\\n",
       "rho_ & 0.81 & 0.01 & 0.78 & 0.83 & 1.00 & -18.36 & 0.00 & 247.64 \\\\\n",
       "\\end{tabular}\n"
      ],
      "text/plain": [
       "<lifelines.WeibullFitter:\"Weibull_estimate\", fitted with 10000 total observations, 5020 right-censored observations>\n",
       "   number of observations = 10000\n",
       "number of events observed = 4980\n",
       "           log-likelihood = -35826.08\n",
       "               hypothesis = lambda_ != 1, rho_ != 1\n",
       "\n",
       "---\n",
       "          coef   se(coef)   coef lower 95%   coef upper 95%\n",
       "lambda_ 573.01      11.30           550.86           595.15\n",
       "rho_      0.81       0.01             0.78             0.83\n",
       "\n",
       "          cmp to      z      p   -log2(p)\n",
       "lambda_     1.00  50.62 <0.005        inf\n",
       "rho_        1.00 -18.36 <0.005     247.64\n",
       "---\n",
       "AIC = 71656.16"
      ]
     },
     "metadata": {},
     "output_type": "display_data"
    },
    {
     "data": {
      "image/png": "[encoded data removed]",
      "text/plain": [
       "<Figure size 432x288 with 1 Axes>"
      ]
     },
     "metadata": {
      "needs_background": "light"
     },
     "output_type": "display_data"
    }
   ],
   "source": [
    "wb = perform_weibull_analysis(synthetic_data)"
   ]
  },
  {
   "cell_type": "markdown",
   "id": "0a937d45",
   "metadata": {},
   "source": [
    "In the context of a Weibull survival analysis, the shape parameter k or ρ is a crucial component that influences the hazard function, and determines the shape.\n",
    "\n",
    "In our case k = 0.81 or k<1 or ρ<1 implies a decreasing hazard rate, which in this context can be translated as the patching process experiencing a decreasing \"risk of failure\" or remediation over time."
   ]
  },
  {
   "cell_type": "code",
   "execution_count": 50,
   "id": "02274287",
   "metadata": {},
   "outputs": [
    {
     "data": {
      "text/plain": [
       "0.6746741554383866"
      ]
     },
     "execution_count": 50,
     "metadata": {},
     "output_type": "execute_result"
    }
   ],
   "source": [
    "# Predicting likelihood of survival\n",
    "wb.predict(180)"
   ]
  },
  {
   "cell_type": "code",
   "execution_count": 51,
   "id": "a0650783",
   "metadata": {},
   "outputs": [],
   "source": [
    "# Perform Weibull AFT analysis and plot partial effects.\n",
    "\n",
    "def perform_weibull_aft_analysis(data):\n",
    "    # Check if 'CVE_ID' column exists in the DataFrame\n",
    "    if 'CVE_ID' in data.columns:\n",
    "        data = data.drop(columns=['CVE_ID'])\n",
    "    if 'Observed_Date' in data.columns:\n",
    "        data = data.drop(columns=['Observed_Date'])\n",
    "    # Encode categorical variables to numerical values\n",
    "    label_encoder = LabelEncoder()\n",
    "    data['Criticality'] = label_encoder.fit_transform(data['Criticality'])\n",
    "\n",
    "    # Add a small positive value to zero elements in 'Time_to_Remediate'\n",
    "    data['Time_to_Remediate'] = np.maximum(data['Time_to_Remediate'], 1e-6)\n",
    "\n",
    "    aft = WeibullAFTFitter()\n",
    "\n",
    "    # Fit the Weibull AFT model\n",
    "    aft.fit(data, duration_col='Time_to_Remediate', event_col='Remediated', show_progress=True)\n",
    "\n",
    "    # Print the summary\n",
    "    aft.print_summary()\n",
    "\n",
    "    # Plot the partial effects for 'Criticality'\n",
    "    aft.plot_partial_effects_on_outcome(covariates='Criticality', values=np.unique(data['Criticality']), cmap='coolwarm')\n",
    "    plt.title(\"Effect of Criticality on Survival Time\")\n",
    "    plt.show()\n",
    "\n",
    "    # Plot the partial effects for 'Exploitability'\n",
    "    aft.plot_partial_effects_on_outcome(covariates='Exploitability', values=np.unique(data['Exploitability']), cmap='coolwarm')\n",
    "    plt.title(\"Effect of Exploitability on Survival Time\")\n",
    "    # Hide the legend\n",
    "    plt.legend().set_visible(False)\n",
    "    plt.show()"
   ]
  },
  {
   "cell_type": "code",
   "execution_count": 52,
   "id": "8a047f80",
   "metadata": {
    "scrolled": false
   },
   "outputs": [
    {
     "name": "stdout",
     "output_type": "stream",
     "text": [
      "Optimization terminated successfully    (Exit mode 0)\n",
      "            Current function value: 3.5824937631193543\n",
      "            Iterations: 19\n",
      "            Function evaluations: 20\n",
      "            Gradient evaluations: 19\n",
      "     fun: 3.5824937631193543\n",
      "     jac: array([-6.87710416e-06,  2.26222224e-06, -2.09358519e-06, -1.54526745e-06,\n",
      "       -1.66539417e-06,  1.45570625e-06])\n",
      " message: 'Optimization terminated successfully'\n",
      "    nfev: 20\n",
      "     nit: 19\n",
      "    njev: 19\n",
      "  status: 0\n",
      " success: True\n",
      "       x: array([-1.37227104e-02,  1.05274199e-02,  5.49384197e-04,  1.36762814e-02,\n",
      "        6.36756855e+00, -2.16514360e-01])\n"
     ]
    },
    {
     "data": {
      "text/html": [
       "<div>\n",
       "<style scoped>\n",
       "    .dataframe tbody tr th:only-of-type {\n",
       "        vertical-align: middle;\n",
       "    }\n",
       "\n",
       "    .dataframe tbody tr th {\n",
       "        vertical-align: top;\n",
       "    }\n",
       "\n",
       "    .dataframe thead th {\n",
       "        text-align: right;\n",
       "    }\n",
       "</style>\n",
       "<table border=\"1\" class=\"dataframe\">\n",
       "  <tbody>\n",
       "    <tr>\n",
       "      <th>model</th>\n",
       "      <td>lifelines.WeibullAFTFitter</td>\n",
       "    </tr>\n",
       "    <tr>\n",
       "      <th>duration col</th>\n",
       "      <td>'Time_to_Remediate'</td>\n",
       "    </tr>\n",
       "    <tr>\n",
       "      <th>event col</th>\n",
       "      <td>'Remediated'</td>\n",
       "    </tr>\n",
       "    <tr>\n",
       "      <th>number of observations</th>\n",
       "      <td>10000</td>\n",
       "    </tr>\n",
       "    <tr>\n",
       "      <th>number of events observed</th>\n",
       "      <td>4980</td>\n",
       "    </tr>\n",
       "    <tr>\n",
       "      <th>log-likelihood</th>\n",
       "      <td>-35824.94</td>\n",
       "    </tr>\n",
       "    <tr>\n",
       "      <th>time fit was run</th>\n",
       "      <td>2023-12-15 21:28:30 UTC</td>\n",
       "    </tr>\n",
       "  </tbody>\n",
       "</table>\n",
       "</div><table border=\"1\" class=\"dataframe\">\n",
       "  <thead>\n",
       "    <tr style=\"text-align: right;\">\n",
       "      <th style=\"min-width: 12px;\"></th>\n",
       "      <th style=\"min-width: 12px;\"></th>\n",
       "      <th style=\"min-width: 12px;\">coef</th>\n",
       "      <th style=\"min-width: 12px;\">exp(coef)</th>\n",
       "      <th style=\"min-width: 12px;\">se(coef)</th>\n",
       "      <th style=\"min-width: 12px;\">coef lower 95%</th>\n",
       "      <th style=\"min-width: 12px;\">coef upper 95%</th>\n",
       "      <th style=\"min-width: 12px;\">exp(coef) lower 95%</th>\n",
       "      <th style=\"min-width: 12px;\">exp(coef) upper 95%</th>\n",
       "      <th style=\"min-width: 12px;\">cmp to</th>\n",
       "      <th style=\"min-width: 12px;\">z</th>\n",
       "      <th style=\"min-width: 12px;\">p</th>\n",
       "      <th style=\"min-width: 12px;\">-log2(p)</th>\n",
       "    </tr>\n",
       "  </thead>\n",
       "  <tbody>\n",
       "    <tr>\n",
       "      <th rowspan=\"5\" valign=\"top\">lambda_</th>\n",
       "      <th>CVSS_Score</th>\n",
       "      <td>-0.01</td>\n",
       "      <td>0.99</td>\n",
       "      <td>0.01</td>\n",
       "      <td>-0.02</td>\n",
       "      <td>0.01</td>\n",
       "      <td>0.98</td>\n",
       "      <td>1.01</td>\n",
       "      <td>0.00</td>\n",
       "      <td>-0.60</td>\n",
       "      <td>0.55</td>\n",
       "      <td>0.87</td>\n",
       "    </tr>\n",
       "    <tr>\n",
       "      <th>Criticality</th>\n",
       "      <td>0.01</td>\n",
       "      <td>1.01</td>\n",
       "      <td>0.03</td>\n",
       "      <td>-0.04</td>\n",
       "      <td>0.07</td>\n",
       "      <td>0.96</td>\n",
       "      <td>1.07</td>\n",
       "      <td>0.00</td>\n",
       "      <td>0.47</td>\n",
       "      <td>0.64</td>\n",
       "      <td>0.65</td>\n",
       "    </tr>\n",
       "    <tr>\n",
       "      <th>Exploitability</th>\n",
       "      <td>0.00</td>\n",
       "      <td>1.00</td>\n",
       "      <td>0.17</td>\n",
       "      <td>-0.32</td>\n",
       "      <td>0.33</td>\n",
       "      <td>0.72</td>\n",
       "      <td>1.39</td>\n",
       "      <td>0.00</td>\n",
       "      <td>0.03</td>\n",
       "      <td>0.98</td>\n",
       "      <td>0.03</td>\n",
       "    </tr>\n",
       "    <tr>\n",
       "      <th>Known_Exploit</th>\n",
       "      <td>0.06</td>\n",
       "      <td>1.06</td>\n",
       "      <td>0.09</td>\n",
       "      <td>-0.11</td>\n",
       "      <td>0.23</td>\n",
       "      <td>0.90</td>\n",
       "      <td>1.25</td>\n",
       "      <td>0.00</td>\n",
       "      <td>0.69</td>\n",
       "      <td>0.49</td>\n",
       "      <td>1.03</td>\n",
       "    </tr>\n",
       "    <tr>\n",
       "      <th>Intercept</th>\n",
       "      <td>6.37</td>\n",
       "      <td>582.64</td>\n",
       "      <td>0.09</td>\n",
       "      <td>6.18</td>\n",
       "      <td>6.55</td>\n",
       "      <td>485.05</td>\n",
       "      <td>699.86</td>\n",
       "      <td>0.00</td>\n",
       "      <td>68.08</td>\n",
       "      <td>&lt;0.005</td>\n",
       "      <td>inf</td>\n",
       "    </tr>\n",
       "    <tr>\n",
       "      <th>rho_</th>\n",
       "      <th>Intercept</th>\n",
       "      <td>-0.22</td>\n",
       "      <td>0.81</td>\n",
       "      <td>0.01</td>\n",
       "      <td>-0.24</td>\n",
       "      <td>-0.19</td>\n",
       "      <td>0.78</td>\n",
       "      <td>0.83</td>\n",
       "      <td>0.00</td>\n",
       "      <td>-16.45</td>\n",
       "      <td>&lt;0.005</td>\n",
       "      <td>199.59</td>\n",
       "    </tr>\n",
       "  </tbody>\n",
       "</table><br><div>\n",
       "<style scoped>\n",
       "    .dataframe tbody tr th:only-of-type {\n",
       "        vertical-align: middle;\n",
       "    }\n",
       "\n",
       "    .dataframe tbody tr th {\n",
       "        vertical-align: top;\n",
       "    }\n",
       "\n",
       "    .dataframe thead th {\n",
       "        text-align: right;\n",
       "    }\n",
       "</style>\n",
       "<table border=\"1\" class=\"dataframe\">\n",
       "  <tbody>\n",
       "    <tr>\n",
       "      <th>Concordance</th>\n",
       "      <td>0.50</td>\n",
       "    </tr>\n",
       "    <tr>\n",
       "      <th>AIC</th>\n",
       "      <td>71661.88</td>\n",
       "    </tr>\n",
       "    <tr>\n",
       "      <th>log-likelihood ratio test</th>\n",
       "      <td>2.28 on 4 df</td>\n",
       "    </tr>\n",
       "    <tr>\n",
       "      <th>-log2(p) of ll-ratio test</th>\n",
       "      <td>0.55</td>\n",
       "    </tr>\n",
       "  </tbody>\n",
       "</table>\n",
       "</div>"
      ],
      "text/latex": [
       "\\begin{tabular}{llrrrrrrrrrrr}\n",
       " &  & coef & exp(coef) & se(coef) & coef lower 95% & coef upper 95% & exp(coef) lower 95% & exp(coef) upper 95% & cmp to & z & p & -log2(p) \\\\\n",
       "param & covariate &  &  &  &  &  &  &  &  &  &  &  \\\\\n",
       "\\multirow[c]{5}{*}{lambda_} & CVSS_Score & -0.01 & 0.99 & 0.01 & -0.02 & 0.01 & 0.98 & 1.01 & 0.00 & -0.60 & 0.55 & 0.87 \\\\\n",
       " & Criticality & 0.01 & 1.01 & 0.03 & -0.04 & 0.07 & 0.96 & 1.07 & 0.00 & 0.47 & 0.64 & 0.65 \\\\\n",
       " & Exploitability & 0.00 & 1.00 & 0.17 & -0.32 & 0.33 & 0.72 & 1.39 & 0.00 & 0.03 & 0.98 & 0.03 \\\\\n",
       " & Known_Exploit & 0.06 & 1.06 & 0.09 & -0.11 & 0.23 & 0.90 & 1.25 & 0.00 & 0.69 & 0.49 & 1.03 \\\\\n",
       " & Intercept & 6.37 & 582.64 & 0.09 & 6.18 & 6.55 & 485.05 & 699.86 & 0.00 & 68.08 & 0.00 & inf \\\\\n",
       "rho_ & Intercept & -0.22 & 0.81 & 0.01 & -0.24 & -0.19 & 0.78 & 0.83 & 0.00 & -16.45 & 0.00 & 199.59 \\\\\n",
       "\\end{tabular}\n"
      ],
      "text/plain": [
       "<lifelines.WeibullAFTFitter: fitted with 10000 total observations, 5020 right-censored observations>\n",
       "             duration col = 'Time_to_Remediate'\n",
       "                event col = 'Remediated'\n",
       "   number of observations = 10000\n",
       "number of events observed = 4980\n",
       "           log-likelihood = -35824.94\n",
       "         time fit was run = 2023-12-15 21:28:30 UTC\n",
       "\n",
       "---\n",
       "                         coef  exp(coef)   se(coef)   coef lower 95%   coef upper 95%  exp(coef) lower 95%  exp(coef) upper 95%\n",
       "param   covariate                                                                                                              \n",
       "lambda_ CVSS_Score      -0.01       0.99       0.01            -0.02             0.01                 0.98                 1.01\n",
       "        Criticality      0.01       1.01       0.03            -0.04             0.07                 0.96                 1.07\n",
       "        Exploitability   0.00       1.00       0.17            -0.32             0.33                 0.72                 1.39\n",
       "        Known_Exploit    0.06       1.06       0.09            -0.11             0.23                 0.90                 1.25\n",
       "        Intercept        6.37     582.64       0.09             6.18             6.55               485.05               699.86\n",
       "rho_    Intercept       -0.22       0.81       0.01            -0.24            -0.19                 0.78                 0.83\n",
       "\n",
       "                         cmp to      z      p   -log2(p)\n",
       "param   covariate                                       \n",
       "lambda_ CVSS_Score         0.00  -0.60   0.55       0.87\n",
       "        Criticality        0.00   0.47   0.64       0.65\n",
       "        Exploitability     0.00   0.03   0.98       0.03\n",
       "        Known_Exploit      0.00   0.69   0.49       1.03\n",
       "        Intercept          0.00  68.08 <0.005        inf\n",
       "rho_    Intercept          0.00 -16.45 <0.005     199.59\n",
       "---\n",
       "Concordance = 0.50\n",
       "AIC = 71661.88\n",
       "log-likelihood ratio test = 2.28 on 4 df\n",
       "-log2(p) of ll-ratio test = 0.55"
      ]
     },
     "metadata": {},
     "output_type": "display_data"
    },
    {
     "data": {
      "image/png": "[encoded data removed]",
      "text/plain": [
       "<Figure size 432x288 with 1 Axes>"
      ]
     },
     "metadata": {
      "needs_background": "light"
     },
     "output_type": "display_data"
    },
    {
     "data": {
      "image/png": "[encoded data removed]",
      "text/plain": [
       "<Figure size 432x288 with 1 Axes>"
      ]
     },
     "metadata": {
      "needs_background": "light"
     },
     "output_type": "display_data"
    }
   ],
   "source": [
    "# Perform Weibull AFT analysis\n",
    "perform_weibull_aft_analysis(synthetic_data)"
   ]
  },
  {
   "cell_type": "markdown",
   "id": "9c617127",
   "metadata": {},
   "source": [
    "Let's interpret the key components:\n",
    "\n",
    "**Coefficient Summary:**\n",
    "- **Lambda_ and Rho_:** Refer to the scale and shape parameters in the Weibull model, respectively.\n",
    "- **Coef:** The estimated coefficient for each variable in the model.\n",
    "- **Exp(Coef):** The exponential of the estimated coefficient, which is the hazard ratio.\n",
    "- **SE(Coef):** The standard error of the estimated coefficient.\n",
    "- **Coef Lower/Upper 95%:** The 95% confidence intervals for the coefficients.\n",
    "- **Exp(Coef) Lower/Upper 95%:** The 95% confidence intervals for the hazard ratios.\n",
    "- **Z:** The z-score for testing the null hypothesis that the coefficient is zero (no effect).\n",
    "- **P:** The p-value for the hypothesis test associated with the z-score.\n",
    "- **-Log2(P):** The negative binary logarithm of the p-value, which is a measure of the significance level in bits."
   ]
  },
  {
   "cell_type": "markdown",
   "id": "bb61b43c",
   "metadata": {},
   "source": [
    "Let's interpret each of the cofficient's values:\n",
    "1. **CVSS_Score:**\n",
    "- Coefficient (coef): -0.01. A negative coefficient implies that higher CVSS scores are associated with a decrease in the expected time to remediation.\n",
    "- Exponentiated Coefficient (exp(coef)): 0.99. This is the hazard ratio; since it's less than 1, it indicates that as the CVSS score increases, the hazard decreases slightly (vulnerabilities are remediated marginally slower).\n",
    "- Standard Error (se(coef)): 0.01. This is the standard error of the coefficient estimate.\n",
    "- 95% Confidence Interval (CI): From -0.02 to 0.01 for the coefficient, and from 0.98 to 1.01 for the hazard ratio. Since this CI includes 0 for the coefficient and 1 for the hazard ratio, it suggests that this variable is not a statistically significant predictor of remediation time.\n",
    "- Z-score (z): -0.60. This is the test statistic for the hypothesis that the coefficient equals 0.\n",
    "- P-value (p): 0.55. A p-value higher than 0.05 suggests that the effect is not statistically significant.\n",
    "- Negative Log2(p): 0.87. This is another measure of statistical significance.\n",
    "2. **Criticality:**\n",
    "- Coef: 0.01. This suggests a very slight increase in the hazard with higher criticality, potentially meaning that higher criticality vulnerabilities are remediated marginally faster.\n",
    "The CI and p-value indicate that this is not statistically significant.\n",
    "3. **Exploitability:**\n",
    "- Coef: 0.00. There is no clear association between exploitability and the time to remediation based on this coefficient. The wide CI and p-value near 1 suggest non-significance.\n",
    "4. **Known_Exploit:**\n",
    "- Coef: 0.06. This suggests that vulnerabilities with known exploits are associated with a slight increase in the hazard of being remediated. However, the CI includes 0 and the p-value indicates non-significance.\n",
    "\n"
   ]
  },
  {
   "cell_type": "markdown",
   "id": "b335fc71",
   "metadata": {},
   "source": [
    "**Intercept (lambda_):**\n",
    "- Coef: 6.37. This is a significant positive value that affects the baseline hazard function for the lambda parameter.\n",
    "The exponentiated intercept indicates a large baseline hazard.\n",
    "The CI does not include 0, and the p-value is very small, indicating statistical significance.**Concordance:** \n",
    "\n",
    "The concordance index is 0.50, which means that the model is performing no better than random chance in predicting the event times. A concordance of 0.50 is essentially the same as a coin toss, indicating that the model has no predictive power.\n",
    "\n",
    "\n",
    "**AIC (Akaike Information Criterion):** \n",
    "\n",
    "The AIC is a measure of the relative quality of statistical models for a given set of data. With a value of 71661.88, without other models to compare to, it's hard to judge whether this is high or low. However, in general, when comparing models, the one with the lower AIC is preferred. The AIC penalizes complexity, so a model that fits the data well with fewer parameters will have a lower AIC.\n",
    "\n",
    "\n",
    "**Log-likelihood Ratio Test:** \n",
    "\n",
    "This test compares the fit of your model against a null model with fewer predictors. The result of the test is 2.28 on 4 degrees of freedom (df).\n",
    "\n",
    "**-log2(p) of ll-ratio test:** \n",
    "\n",
    "A value of 0.55 is very low, which suggests that the model is not significantly better than the null model. In other words, the predictors you've included don't significantly improve the model compared to a model without them. This is consistent with the p-values and confidence intervals you provided earlier, which suggested that the individual coefficients were not statistically significant.\n",
    "\n",
    "***\n",
    "\n",
    "In summary, the additional metrics support the conclusion that your model is not effectively predicting the time to remediation based on the variables included. The concordance index, in particular, suggests that the model's predictions are no better than random guessing. "
   ]
  },
  {
   "cell_type": "code",
   "execution_count": null,
   "id": "3db55908",
   "metadata": {},
   "outputs": [],
   "source": []
  },
  {
   "cell_type": "markdown",
   "id": "efb0ddde",
   "metadata": {},
   "source": [
    "***\n",
    "### Recreate synthetic dataset\n",
    "***"
   ]
  },
  {
   "cell_type": "markdown",
   "id": "72b88b5e",
   "metadata": {},
   "source": [
    "Since our synthetically generated data set is not indicative of a real scenario let's introduce some more assumptions in the data generation:\n",
    "- assume time to remediate is somehow reflective of the criticality of the vulnerabilities\n",
    "- instead of a random chance of all vulnerabilities to be remedied, assume some are more likely than others"
   ]
  },
  {
   "cell_type": "code",
   "execution_count": 53,
   "id": "f14eb509",
   "metadata": {},
   "outputs": [],
   "source": [
    "# Generate a synthetic dataset with time-to-remediate based on the criticality score.\n",
    "def generate_synthetic_data(original_data, num_samples, criticality_ratio):\n",
    "\n",
    "    # Define mean and standard deviation for each criticality level\n",
    "    time_to_remediate_stats = {\n",
    "        'Critical': (5, 1),\n",
    "        'High': (30, 10),\n",
    "        'Medium': (90, 30),\n",
    "        'Low': (300, 100),\n",
    "    }\n",
    "    \n",
    "    # Define probabilities for 'Remediated' status based on criticality level\n",
    "    remediation_probability = {\n",
    "        'Critical': [0.3, 0.7],  # 30% not remediated, 70% remediated\n",
    "        'High': [0.5, 0.5],      # 50% chance\n",
    "        'Medium': [0.7, 0.3],    # 70% not remediated, 30% remediated\n",
    "        'Low': [0.5, 0.5],       # Random chance\n",
    "    }\n",
    "\n",
    "    # Check if the 'Criticality' and 'Exploitability' columns are present in the original data\n",
    "#     required_columns = {'Criticality', 'epss', 'cvssScore', 'publishedDate'}\n",
    "#     if not required_columns.issubset(original_data.columns):\n",
    "#         raise KeyError(f\"The columns {required_columns} are not present in the original_data DataFrame.\")\n",
    "\n",
    "    # Check if the criticality_ratio is valid\n",
    "    if len(criticality_ratio) != len(original_data['Criticality'].unique()):\n",
    "        raise ValueError(\"The length of criticality_ratio should match the number of unique criticality scores.\")\n",
    "\n",
    "    # Get the current date and time in UTC, minus one week\n",
    "    current_date_minus_one_week = pd.Timestamp.now(tz='UTC') - timedelta(weeks=1)\n",
    "    \n",
    "    # Initialize an empty DataFrame for the synthetic data\n",
    "    synthetic_data = pd.DataFrame(columns=['Time_to_Remediate', 'Criticality', 'CVSS_Score', 'Exploitability',  'Known_Exploit', 'CVE_ID', 'Remediated', 'Observed_Date'])\n",
    "\n",
    "    # Generate synthetic data based on the given ratio\n",
    "    for ratio, crit_level in zip(criticality_ratio, original_data['Criticality'].unique()):\n",
    "        # Check if there are vulnerabilities for the current criticality level\n",
    "        if crit_level not in original_data['Criticality'].values:\n",
    "            continue\n",
    "\n",
    "        # Calculate the number of samples for the current criticality level\n",
    "        num_samples_crit_level = int(num_samples * ratio)\n",
    "\n",
    "        # Randomly select vulnerabilities for the current criticality level\n",
    "        subset_data = original_data[original_data['Criticality'] == crit_level]\n",
    "\n",
    "        # Check if there are vulnerabilities for the current criticality level\n",
    "        if subset_data.empty:\n",
    "            continue\n",
    "\n",
    "        sampled_indices = np.random.choice(subset_data.index, size=num_samples_crit_level, replace=True)\n",
    "\n",
    "        # Extract CVSS scores for selected vulnerabilities\n",
    "        cvss_score = subset_data.loc[sampled_indices, 'cvssScore'].values\n",
    "\n",
    "        # Extract exploitability scores for selected vulnerabilities\n",
    "        exploitability = subset_data.loc[sampled_indices, 'epss'].values\n",
    "        \n",
    "        # Get mean and standard deviation for the criticality level\n",
    "        mean_days, std_dev_days = time_to_remediate_stats[crit_level]\n",
    "\n",
    "        known_exploit = subset_data.loc[sampled_indices, 'hasKEV'].values\n",
    "        cve_id = subset_data.loc[sampled_indices, 'cveID'].values\n",
    "\n",
    "       # Generate random Observed_Dates\n",
    "        published_dates = subset_data.loc[sampled_indices, 'publishedDate']\n",
    "        observed_dates = published_dates.apply(\n",
    "            lambda x: x + (current_date_minus_one_week - x) * np.random.rand()\n",
    "        )\n",
    "        # Generate normally distributed 'Time_to_Remediate' data around the mean days for the criticality level\n",
    "        days_to_remediate = np.random.normal(mean_days, std_dev_days, num_samples_crit_level)\n",
    "        days_to_remediate = np.clip(days_to_remediate, 1, None)  # Ensure all times are positive\n",
    "\n",
    "        # Calculate 'Observed_Date' by adding the 'days_to_remediate' to the 'publishedDate'\n",
    "        published_dates = subset_data.loc[sampled_indices, 'publishedDate']\n",
    "        observed_dates = published_dates + pd.to_timedelta(days_to_remediate, unit='D')\n",
    "\n",
    "        # Generate 'Remediated' status based on criticality level\n",
    "        probabilities = remediation_probability[crit_level]\n",
    "        remediated_status = np.random.choice([0, 1], size=num_samples_crit_level, p=probabilities)\n",
    "\n",
    "       # Create a DataFrame with the generated data\n",
    "        synthetic_subset = pd.DataFrame({\n",
    "            'Time_to_Remediate': days_to_remediate,\n",
    "            'Criticality': [crit_level] * num_samples_crit_level,\n",
    "            'CVSS_Score': cvss_score,\n",
    "            'Exploitability': exploitability,\n",
    "            'Remediated': remediated_status,  \n",
    "            'Known_Exploit': known_exploit,\n",
    "            'CVE_ID': cve_id,\n",
    "            'Observed_Date': observed_dates\n",
    " \n",
    "        })\n",
    "\n",
    "        # Append the synthetic subset to the overall synthetic data\n",
    "        synthetic_data = synthetic_data.append(synthetic_subset)\n",
    "\n",
    "    # Reset the index of the synthetic data\n",
    "    synthetic_data.reset_index(drop=True, inplace=True)\n",
    "\n",
    "    return synthetic_data\n"
   ]
  },
  {
   "cell_type": "code",
   "execution_count": 54,
   "id": "3c58b594",
   "metadata": {},
   "outputs": [],
   "source": [
    "# Generate synthetic data with NUM_SAMPLES vulnerabilities\n",
    "synthetic_data = generate_synthetic_data(original_data, NUM_SAMPLES, CRITICALITY_RATIO)"
   ]
  },
  {
   "cell_type": "code",
   "execution_count": 55,
   "id": "137f6072",
   "metadata": {},
   "outputs": [],
   "source": [
    "# Convert relevant columns to numeric and handle NaNs\n",
    "synthetic_data['Time_to_Remediate'] = pd.to_numeric(synthetic_data['Time_to_Remediate'], errors='coerce')\n",
    "synthetic_data['Remediated'] = pd.to_numeric(synthetic_data['Remediated'], errors='coerce')"
   ]
  },
  {
   "cell_type": "code",
   "execution_count": 56,
   "id": "57de8533",
   "metadata": {},
   "outputs": [
    {
     "name": "stdout",
     "output_type": "stream",
     "text": [
      "<class 'pandas.core.frame.DataFrame'>\n",
      "RangeIndex: 10000 entries, 0 to 9999\n",
      "Data columns (total 8 columns):\n",
      " #   Column             Non-Null Count  Dtype              \n",
      "---  ------             --------------  -----              \n",
      " 0   Time_to_Remediate  10000 non-null  float64            \n",
      " 1   Criticality        10000 non-null  object             \n",
      " 2   CVSS_Score         10000 non-null  float64            \n",
      " 3   Exploitability     10000 non-null  float64            \n",
      " 4   Known_Exploit      10000 non-null  float64            \n",
      " 5   CVE_ID             10000 non-null  object             \n",
      " 6   Remediated         10000 non-null  int64              \n",
      " 7   Observed_Date      10000 non-null  datetime64[ns, UTC]\n",
      "dtypes: datetime64[ns, UTC](1), float64(4), int64(1), object(2)\n",
      "memory usage: 625.1+ KB\n"
     ]
    }
   ],
   "source": [
    "synthetic_data.info()"
   ]
  },
  {
   "cell_type": "code",
   "execution_count": 57,
   "id": "3988b8c6",
   "metadata": {},
   "outputs": [
    {
     "data": {
      "image/png": "[encoded data removed]",
      "text/plain": [
       "<Figure size 432x288 with 1 Axes>"
      ]
     },
     "metadata": {
      "needs_background": "light"
     },
     "output_type": "display_data"
    }
   ],
   "source": [
    "# Plot the distribution of exploitability values\n",
    "plot_age_distribution(synthetic_data)"
   ]
  },
  {
   "cell_type": "code",
   "execution_count": 58,
   "id": "8aa240d2",
   "metadata": {},
   "outputs": [
    {
     "name": "stdout",
     "output_type": "stream",
     "text": [
      "Remediation rate: 47.36%\n"
     ]
    }
   ],
   "source": [
    "# Assuming 'Remediated' is a binary column where 1 indicates remediation\n",
    "remediation_rate = synthetic_data['Remediated'].mean()\n",
    "\n",
    "# Convert rate to a percentage\n",
    "print(f\"Remediation rate: {remediation_rate * 100:.2f}%\")"
   ]
  },
  {
   "cell_type": "code",
   "execution_count": 59,
   "id": "dff998db",
   "metadata": {},
   "outputs": [
    {
     "data": {
      "text/html": [
       "<div>\n",
       "<style scoped>\n",
       "    .dataframe tbody tr th:only-of-type {\n",
       "        vertical-align: middle;\n",
       "    }\n",
       "\n",
       "    .dataframe tbody tr th {\n",
       "        vertical-align: top;\n",
       "    }\n",
       "\n",
       "    .dataframe thead th {\n",
       "        text-align: right;\n",
       "    }\n",
       "</style>\n",
       "<table border=\"1\" class=\"dataframe\">\n",
       "  <tbody>\n",
       "    <tr>\n",
       "      <th>model</th>\n",
       "      <td>lifelines.WeibullFitter</td>\n",
       "    </tr>\n",
       "    <tr>\n",
       "      <th>number of observations</th>\n",
       "      <td>10000</td>\n",
       "    </tr>\n",
       "    <tr>\n",
       "      <th>number of events observed</th>\n",
       "      <td>4736</td>\n",
       "    </tr>\n",
       "    <tr>\n",
       "      <th>log-likelihood</th>\n",
       "      <td>-27948.52</td>\n",
       "    </tr>\n",
       "    <tr>\n",
       "      <th>hypothesis</th>\n",
       "      <td>lambda_ != 1, rho_ != 1</td>\n",
       "    </tr>\n",
       "  </tbody>\n",
       "</table>\n",
       "</div><table border=\"1\" class=\"dataframe\">\n",
       "  <thead>\n",
       "    <tr style=\"text-align: right;\">\n",
       "      <th style=\"min-width: 12px;\"></th>\n",
       "      <th style=\"min-width: 12px;\">coef</th>\n",
       "      <th style=\"min-width: 12px;\">se(coef)</th>\n",
       "      <th style=\"min-width: 12px;\">coef lower 95%</th>\n",
       "      <th style=\"min-width: 12px;\">coef upper 95%</th>\n",
       "      <th style=\"min-width: 12px;\">cmp to</th>\n",
       "      <th style=\"min-width: 12px;\">z</th>\n",
       "      <th style=\"min-width: 12px;\">p</th>\n",
       "      <th style=\"min-width: 12px;\">-log2(p)</th>\n",
       "    </tr>\n",
       "  </thead>\n",
       "  <tbody>\n",
       "    <tr>\n",
       "      <th>lambda_</th>\n",
       "      <td>138.67</td>\n",
       "      <td>2.25</td>\n",
       "      <td>134.25</td>\n",
       "      <td>143.08</td>\n",
       "      <td>1.00</td>\n",
       "      <td>61.16</td>\n",
       "      <td>&lt;0.005</td>\n",
       "      <td>inf</td>\n",
       "    </tr>\n",
       "    <tr>\n",
       "      <th>rho_</th>\n",
       "      <td>0.91</td>\n",
       "      <td>0.01</td>\n",
       "      <td>0.89</td>\n",
       "      <td>0.93</td>\n",
       "      <td>1.00</td>\n",
       "      <td>-9.37</td>\n",
       "      <td>&lt;0.005</td>\n",
       "      <td>66.93</td>\n",
       "    </tr>\n",
       "  </tbody>\n",
       "</table><br><div>\n",
       "<style scoped>\n",
       "    .dataframe tbody tr th:only-of-type {\n",
       "        vertical-align: middle;\n",
       "    }\n",
       "\n",
       "    .dataframe tbody tr th {\n",
       "        vertical-align: top;\n",
       "    }\n",
       "\n",
       "    .dataframe thead th {\n",
       "        text-align: right;\n",
       "    }\n",
       "</style>\n",
       "<table border=\"1\" class=\"dataframe\">\n",
       "  <tbody>\n",
       "    <tr>\n",
       "      <th>AIC</th>\n",
       "      <td>55901.04</td>\n",
       "    </tr>\n",
       "  </tbody>\n",
       "</table>\n",
       "</div>"
      ],
      "text/latex": [
       "\\begin{tabular}{lrrrrrrrr}\n",
       " & coef & se(coef) & coef lower 95% & coef upper 95% & cmp to & z & p & -log2(p) \\\\\n",
       "lambda_ & 138.67 & 2.25 & 134.25 & 143.08 & 1.00 & 61.16 & 0.00 & inf \\\\\n",
       "rho_ & 0.91 & 0.01 & 0.89 & 0.93 & 1.00 & -9.37 & 0.00 & 66.93 \\\\\n",
       "\\end{tabular}\n"
      ],
      "text/plain": [
       "<lifelines.WeibullFitter:\"Weibull_estimate\", fitted with 10000 total observations, 5264 right-censored observations>\n",
       "   number of observations = 10000\n",
       "number of events observed = 4736\n",
       "           log-likelihood = -27948.52\n",
       "               hypothesis = lambda_ != 1, rho_ != 1\n",
       "\n",
       "---\n",
       "          coef   se(coef)   coef lower 95%   coef upper 95%\n",
       "lambda_ 138.67       2.25           134.25           143.08\n",
       "rho_      0.91       0.01             0.89             0.93\n",
       "\n",
       "          cmp to     z      p   -log2(p)\n",
       "lambda_     1.00 61.16 <0.005        inf\n",
       "rho_        1.00 -9.37 <0.005      66.93\n",
       "---\n",
       "AIC = 55901.04"
      ]
     },
     "metadata": {},
     "output_type": "display_data"
    },
    {
     "data": {
      "image/png": "[encoded data removed]",
      "text/plain": [
       "<Figure size 432x288 with 1 Axes>"
      ]
     },
     "metadata": {
      "needs_background": "light"
     },
     "output_type": "display_data"
    }
   ],
   "source": [
    "wb = perform_weibull_analysis(synthetic_data)"
   ]
  },
  {
   "cell_type": "code",
   "execution_count": 60,
   "id": "d0d62a72",
   "metadata": {},
   "outputs": [
    {
     "data": {
      "text/plain": [
       "0.281241081856161"
      ]
     },
     "execution_count": 60,
     "metadata": {},
     "output_type": "execute_result"
    }
   ],
   "source": [
    "# Predicting likelihood of survival\n",
    "wb.predict(180)"
   ]
  },
  {
   "cell_type": "code",
   "execution_count": 61,
   "id": "f7bf31c7",
   "metadata": {},
   "outputs": [
    {
     "name": "stdout",
     "output_type": "stream",
     "text": [
      "Optimization terminated successfully    (Exit mode 0)\n",
      "            Current function value: 2.3168257320079504\n",
      "            Iterations: 16\n",
      "            Function evaluations: 24\n",
      "            Gradient evaluations: 16\n",
      "     fun: 2.3168257320079504\n",
      "     jac: array([-1.72783934e-06,  2.70876988e-06,  5.54020993e-06,  2.31177199e-06,\n",
      "        1.63782284e-06,  3.12004166e-07])\n",
      " message: 'Optimization terminated successfully'\n",
      "    nfev: 24\n",
      "     nit: 16\n",
      "    njev: 16\n",
      "  status: 0\n",
      " success: True\n",
      "       x: array([-5.48638664e-01,  4.48366272e-01, -4.64670018e-04, -4.30871746e-03,\n",
      "        4.89281230e+00,  9.45503403e-01])\n"
     ]
    },
    {
     "data": {
      "text/html": [
       "<div>\n",
       "<style scoped>\n",
       "    .dataframe tbody tr th:only-of-type {\n",
       "        vertical-align: middle;\n",
       "    }\n",
       "\n",
       "    .dataframe tbody tr th {\n",
       "        vertical-align: top;\n",
       "    }\n",
       "\n",
       "    .dataframe thead th {\n",
       "        text-align: right;\n",
       "    }\n",
       "</style>\n",
       "<table border=\"1\" class=\"dataframe\">\n",
       "  <tbody>\n",
       "    <tr>\n",
       "      <th>model</th>\n",
       "      <td>lifelines.WeibullAFTFitter</td>\n",
       "    </tr>\n",
       "    <tr>\n",
       "      <th>duration col</th>\n",
       "      <td>'Time_to_Remediate'</td>\n",
       "    </tr>\n",
       "    <tr>\n",
       "      <th>event col</th>\n",
       "      <td>'Remediated'</td>\n",
       "    </tr>\n",
       "    <tr>\n",
       "      <th>number of observations</th>\n",
       "      <td>10000</td>\n",
       "    </tr>\n",
       "    <tr>\n",
       "      <th>number of events observed</th>\n",
       "      <td>4736</td>\n",
       "    </tr>\n",
       "    <tr>\n",
       "      <th>log-likelihood</th>\n",
       "      <td>-23168.26</td>\n",
       "    </tr>\n",
       "    <tr>\n",
       "      <th>time fit was run</th>\n",
       "      <td>2023-12-15 21:28:36 UTC</td>\n",
       "    </tr>\n",
       "  </tbody>\n",
       "</table>\n",
       "</div><table border=\"1\" class=\"dataframe\">\n",
       "  <thead>\n",
       "    <tr style=\"text-align: right;\">\n",
       "      <th style=\"min-width: 12px;\"></th>\n",
       "      <th style=\"min-width: 12px;\"></th>\n",
       "      <th style=\"min-width: 12px;\">coef</th>\n",
       "      <th style=\"min-width: 12px;\">exp(coef)</th>\n",
       "      <th style=\"min-width: 12px;\">se(coef)</th>\n",
       "      <th style=\"min-width: 12px;\">coef lower 95%</th>\n",
       "      <th style=\"min-width: 12px;\">coef upper 95%</th>\n",
       "      <th style=\"min-width: 12px;\">exp(coef) lower 95%</th>\n",
       "      <th style=\"min-width: 12px;\">exp(coef) upper 95%</th>\n",
       "      <th style=\"min-width: 12px;\">cmp to</th>\n",
       "      <th style=\"min-width: 12px;\">z</th>\n",
       "      <th style=\"min-width: 12px;\">p</th>\n",
       "      <th style=\"min-width: 12px;\">-log2(p)</th>\n",
       "    </tr>\n",
       "  </thead>\n",
       "  <tbody>\n",
       "    <tr>\n",
       "      <th rowspan=\"5\" valign=\"top\">lambda_</th>\n",
       "      <th>CVSS_Score</th>\n",
       "      <td>-0.22</td>\n",
       "      <td>0.80</td>\n",
       "      <td>0.00</td>\n",
       "      <td>-0.22</td>\n",
       "      <td>-0.21</td>\n",
       "      <td>0.80</td>\n",
       "      <td>0.81</td>\n",
       "      <td>0.00</td>\n",
       "      <td>-72.38</td>\n",
       "      <td>&lt;0.005</td>\n",
       "      <td>inf</td>\n",
       "    </tr>\n",
       "    <tr>\n",
       "      <th>Criticality</th>\n",
       "      <td>0.57</td>\n",
       "      <td>1.76</td>\n",
       "      <td>0.02</td>\n",
       "      <td>0.54</td>\n",
       "      <td>0.60</td>\n",
       "      <td>1.71</td>\n",
       "      <td>1.81</td>\n",
       "      <td>0.00</td>\n",
       "      <td>37.71</td>\n",
       "      <td>&lt;0.005</td>\n",
       "      <td>1031.38</td>\n",
       "    </tr>\n",
       "    <tr>\n",
       "      <th>Exploitability</th>\n",
       "      <td>-0.00</td>\n",
       "      <td>1.00</td>\n",
       "      <td>0.05</td>\n",
       "      <td>-0.10</td>\n",
       "      <td>0.10</td>\n",
       "      <td>0.90</td>\n",
       "      <td>1.10</td>\n",
       "      <td>0.00</td>\n",
       "      <td>-0.08</td>\n",
       "      <td>0.94</td>\n",
       "      <td>0.09</td>\n",
       "    </tr>\n",
       "    <tr>\n",
       "      <th>Known_Exploit</th>\n",
       "      <td>-0.02</td>\n",
       "      <td>0.98</td>\n",
       "      <td>0.02</td>\n",
       "      <td>-0.07</td>\n",
       "      <td>0.03</td>\n",
       "      <td>0.94</td>\n",
       "      <td>1.03</td>\n",
       "      <td>0.00</td>\n",
       "      <td>-0.74</td>\n",
       "      <td>0.46</td>\n",
       "      <td>1.13</td>\n",
       "    </tr>\n",
       "    <tr>\n",
       "      <th>Intercept</th>\n",
       "      <td>4.89</td>\n",
       "      <td>133.33</td>\n",
       "      <td>0.04</td>\n",
       "      <td>4.82</td>\n",
       "      <td>4.97</td>\n",
       "      <td>124.02</td>\n",
       "      <td>143.34</td>\n",
       "      <td>0.00</td>\n",
       "      <td>132.46</td>\n",
       "      <td>&lt;0.005</td>\n",
       "      <td>inf</td>\n",
       "    </tr>\n",
       "    <tr>\n",
       "      <th>rho_</th>\n",
       "      <th>Intercept</th>\n",
       "      <td>0.95</td>\n",
       "      <td>2.57</td>\n",
       "      <td>0.01</td>\n",
       "      <td>0.92</td>\n",
       "      <td>0.97</td>\n",
       "      <td>2.52</td>\n",
       "      <td>2.63</td>\n",
       "      <td>0.00</td>\n",
       "      <td>85.36</td>\n",
       "      <td>&lt;0.005</td>\n",
       "      <td>inf</td>\n",
       "    </tr>\n",
       "  </tbody>\n",
       "</table><br><div>\n",
       "<style scoped>\n",
       "    .dataframe tbody tr th:only-of-type {\n",
       "        vertical-align: middle;\n",
       "    }\n",
       "\n",
       "    .dataframe tbody tr th {\n",
       "        vertical-align: top;\n",
       "    }\n",
       "\n",
       "    .dataframe thead th {\n",
       "        text-align: right;\n",
       "    }\n",
       "</style>\n",
       "<table border=\"1\" class=\"dataframe\">\n",
       "  <tbody>\n",
       "    <tr>\n",
       "      <th>Concordance</th>\n",
       "      <td>0.74</td>\n",
       "    </tr>\n",
       "    <tr>\n",
       "      <th>AIC</th>\n",
       "      <td>46348.51</td>\n",
       "    </tr>\n",
       "    <tr>\n",
       "      <th>log-likelihood ratio test</th>\n",
       "      <td>9560.53 on 4 df</td>\n",
       "    </tr>\n",
       "    <tr>\n",
       "      <th>-log2(p) of ll-ratio test</th>\n",
       "      <td>inf</td>\n",
       "    </tr>\n",
       "  </tbody>\n",
       "</table>\n",
       "</div>"
      ],
      "text/latex": [
       "\\begin{tabular}{llrrrrrrrrrrr}\n",
       " &  & coef & exp(coef) & se(coef) & coef lower 95% & coef upper 95% & exp(coef) lower 95% & exp(coef) upper 95% & cmp to & z & p & -log2(p) \\\\\n",
       "param & covariate &  &  &  &  &  &  &  &  &  &  &  \\\\\n",
       "\\multirow[c]{5}{*}{lambda_} & CVSS_Score & -0.22 & 0.80 & 0.00 & -0.22 & -0.21 & 0.80 & 0.81 & 0.00 & -72.38 & 0.00 & inf \\\\\n",
       " & Criticality & 0.57 & 1.76 & 0.02 & 0.54 & 0.60 & 1.71 & 1.81 & 0.00 & 37.71 & 0.00 & 1031.38 \\\\\n",
       " & Exploitability & -0.00 & 1.00 & 0.05 & -0.10 & 0.10 & 0.90 & 1.10 & 0.00 & -0.08 & 0.94 & 0.09 \\\\\n",
       " & Known_Exploit & -0.02 & 0.98 & 0.02 & -0.07 & 0.03 & 0.94 & 1.03 & 0.00 & -0.74 & 0.46 & 1.13 \\\\\n",
       " & Intercept & 4.89 & 133.33 & 0.04 & 4.82 & 4.97 & 124.02 & 143.34 & 0.00 & 132.46 & 0.00 & inf \\\\\n",
       "rho_ & Intercept & 0.95 & 2.57 & 0.01 & 0.92 & 0.97 & 2.52 & 2.63 & 0.00 & 85.36 & 0.00 & inf \\\\\n",
       "\\end{tabular}\n"
      ],
      "text/plain": [
       "<lifelines.WeibullAFTFitter: fitted with 10000 total observations, 5264 right-censored observations>\n",
       "             duration col = 'Time_to_Remediate'\n",
       "                event col = 'Remediated'\n",
       "   number of observations = 10000\n",
       "number of events observed = 4736\n",
       "           log-likelihood = -23168.26\n",
       "         time fit was run = 2023-12-15 21:28:36 UTC\n",
       "\n",
       "---\n",
       "                         coef  exp(coef)   se(coef)   coef lower 95%   coef upper 95%  exp(coef) lower 95%  exp(coef) upper 95%\n",
       "param   covariate                                                                                                              \n",
       "lambda_ CVSS_Score      -0.22       0.80       0.00            -0.22            -0.21                 0.80                 0.81\n",
       "        Criticality      0.57       1.76       0.02             0.54             0.60                 1.71                 1.81\n",
       "        Exploitability  -0.00       1.00       0.05            -0.10             0.10                 0.90                 1.10\n",
       "        Known_Exploit   -0.02       0.98       0.02            -0.07             0.03                 0.94                 1.03\n",
       "        Intercept        4.89     133.33       0.04             4.82             4.97               124.02               143.34\n",
       "rho_    Intercept        0.95       2.57       0.01             0.92             0.97                 2.52                 2.63\n",
       "\n",
       "                         cmp to      z      p   -log2(p)\n",
       "param   covariate                                       \n",
       "lambda_ CVSS_Score         0.00 -72.38 <0.005        inf\n",
       "        Criticality        0.00  37.71 <0.005    1031.38\n",
       "        Exploitability     0.00  -0.08   0.94       0.09\n",
       "        Known_Exploit      0.00  -0.74   0.46       1.13\n",
       "        Intercept          0.00 132.46 <0.005        inf\n",
       "rho_    Intercept          0.00  85.36 <0.005        inf\n",
       "---\n",
       "Concordance = 0.74\n",
       "AIC = 46348.51\n",
       "log-likelihood ratio test = 9560.53 on 4 df\n",
       "-log2(p) of ll-ratio test = inf"
      ]
     },
     "metadata": {},
     "output_type": "display_data"
    },
    {
     "data": {
      "image/png": "[encoded data removed]",
      "text/plain": [
       "<Figure size 432x288 with 1 Axes>"
      ]
     },
     "metadata": {
      "needs_background": "light"
     },
     "output_type": "display_data"
    },
    {
     "data": {
      "image/png": "[encoded data removed]",
      "text/plain": [
       "<Figure size 432x288 with 1 Axes>"
      ]
     },
     "metadata": {
      "needs_background": "light"
     },
     "output_type": "display_data"
    }
   ],
   "source": [
    "# Perform Weibull AFT analysis\n",
    "perform_weibull_aft_analysis(synthetic_data)"
   ]
  },
  {
   "cell_type": "markdown",
   "id": "b7932f5e",
   "metadata": {},
   "source": [
    "Let's interpret each part of the results:\n",
    "\n",
    "**Coefficients (coef):**\n",
    "- **CVSS_Score:** The coefficient is -0.22, suggesting that higher CVSS scores are associated with a reduction in the expected time until the event occurs (e.g., remediation of a vulnerability). Since exp(coef) is 0.80, for each one-unit increase in CVSS Score, the time to remediate is multiplied by 0.80, indicating a 20% decrease, assuming all other variables are held constant. This is highly statistically significant, as shown by the p-value and the Z-score.\n",
    "- **Criticality:** With a coefficient of 0.56 and exp(coef) of 1.74, this implies that as the criticality level increases by one unit, the expected time to remediation is 1.74 times longer, or there's a 74% increase in the time to remediation. This effect is statistically significant.\n",
    "- **Exploitability:** The coefficient of -0.09 and exp(coef) of 0.92 indicate a slight reduction in the time to remediation as exploitability increases, but this is not statistically significant, as indicated by the p-value of 0.07.\n",
    "- **Known_Exploit:** The coefficient of 0.02 and exp(coef) of 1.02 suggest a slight increase in the time to remediation when a known exploit is present, but this is not statistically significant (p = 0.34).\n",
    "\n",
    "**Intercept:**\n",
    "\n",
    "The intercept for lambda_ is significant with a coefficient of 4.91, and for rho_ it is 0.96. Both are statistically significant and have a large impact on the model. The lambda_ intercept affects the scale of the survival curve, while the rho_ intercept affects its shape. The positive rho_ intercept indicates the hazard rate increases over time.\n",
    "\n",
    "**Concordance:**\n",
    "\n",
    "A concordance index of 0.74 indicates good predictive ability of the model. A value of 1.0 would be perfect prediction, 0.5 is no better than random chance, and 0.74 is substantially better than a coin flip.\n",
    "\n",
    "**Akaike Information Criterion (AIC):**\n",
    "An AIC of 47058.81 provides a measure of the relative quality of the model. It considers the complexity of the model (number of predictors) and the goodness of fit.\n",
    "\n",
    "**Log-likelihood Ratio Test:**\n",
    "The test statistic of 9974.10 on 4 degrees of freedom is extremely high, indicating that the model provides a significantly better fit to the data than the null model (a model with no predictors). The -log2(p) value is infinite, which underscores the strong significance of the model.\n"
   ]
  },
  {
   "cell_type": "markdown",
   "id": "c960f1f3",
   "metadata": {},
   "source": [
    "***\n",
    "The results suggest that CVSS_Score and Criticality are significant predictors of the time to remediation in your model, with CVSS_Score decreasing the expected time and Criticality increasing it. The model has good predictive power as indicated by the concordance index, and it significantly improves upon the null model.\n",
    "\n",
    "This is of course normal in this example, and reflects the assumptions behind the synthetically generated data."
   ]
  },
  {
   "cell_type": "markdown",
   "id": "da3cab3b",
   "metadata": {},
   "source": [
    "***\n",
    "### Survival by Criticality Level\n",
    "***"
   ]
  },
  {
   "cell_type": "code",
   "execution_count": 62,
   "id": "f9df5ded",
   "metadata": {},
   "outputs": [],
   "source": [
    "# Function to perform survival analysis and plot survival and hazard functions\n",
    "def perform_survival_analysis(data, criticality_level):\n",
    "    kmf = KaplanMeierFitter()\n",
    "\n",
    "    # Filter data for the specified criticality level\n",
    "    subset_data = data[data['Criticality'] == criticality_level]\n",
    "\n",
    "    # Identify events (1) and censored observations (0)\n",
    "    event_observed = np.where(subset_data['Remediated'] == 1, 1, 0)\n",
    "\n",
    "    # Fit the Kaplan-Meier estimator\n",
    "    kmf.fit(durations=subset_data['Time_to_Remediate'], event_observed=event_observed)\n",
    "\n",
    "    # Check if there is variation in survival probabilities\n",
    "    if len(np.unique(kmf.survival_function_.values)) > 1:\n",
    "        # Plot the survival curve\n",
    "        kmf.plot_survival_function()\n",
    "\n",
    "         # Add censoring indicators\n",
    "        censored = subset_data.loc[subset_data['Remediated'] == 0]\n",
    "        plt.scatter(censored['Time_to_Remediate'], kmf.survival_function_.loc[censored['Time_to_Remediate']].values, \n",
    "                    alpha=0.5, c='red', marker='+')\n",
    "       # Add labels and title\n",
    "        plt.title(f\"Survival Analysis for {criticality_level} Criticality\")\n",
    "        plt.xlabel(\"Time to Remediate (days)\")\n",
    "        plt.ylabel(\"Survival Probability\")\n",
    "\n",
    "        # Display the survival plot\n",
    "        plt.show()\n",
    "\n",
    "        kmf.plot_cumulative_density()\n",
    "        # Add labels and title\n",
    "        plt.title(f\"Cumulative Survival Curve for {criticality_level} Criticality\")\n",
    "        plt.xlabel(\"Time to Remediate (days)\")\n",
    "        plt.ylabel(\"Hazard Function (proportional)\")\n",
    "        \n",
    "\n",
    "        # Display the hazard plot\n",
    "        plt.show()\n",
    "    else:\n",
    "        print(f\"No variation in survival probabilities for {criticality_level} Criticality. Hazard plot not generated.\")\n",
    "    return kmf"
   ]
  },
  {
   "cell_type": "markdown",
   "id": "326e21e5",
   "metadata": {},
   "source": [
    "In the context of survival analysis, especially when analyzing time-to-event data like time-to-remediation of vulnerabilities, the term \"half-life\" has a specific interpretation. It refers to the median survival time, which is the time at which half of the studied subjects (in this case, vulnerabilities) have experienced the event of interest (here, remediation).\n",
    "\n",
    "Here's what half-life signifies in our context and how we can use it:\n",
    "\n",
    "- **Median Time to Remediation**: The half-life is the point in time by which 50% of the vulnerabilities have been remediated. It represents a median experience in your dataset — half of the vulnerabilities are remediated faster than this time, and half take longer.\n",
    "- **Indicator of Response Speed**: A shorter half-life indicates that vulnerabilities are being addressed relatively quickly. Conversely, a longer half-life suggests slower remediation processes.\n",
    "- **Benchmark for Comparison**: It can be used as a benchmark to compare different groups or categories within your data. For example, you might find that 'Critical' vulnerabilities have a shorter half-life compared to 'Low' vulnerabilities, indicating quicker remediation."
   ]
  },
  {
   "cell_type": "code",
   "execution_count": 63,
   "id": "c67ec27d",
   "metadata": {},
   "outputs": [
    {
     "data": {
      "image/png": "[encoded data removed]",
      "text/plain": [
       "<Figure size 432x288 with 1 Axes>"
      ]
     },
     "metadata": {
      "needs_background": "light"
     },
     "output_type": "display_data"
    },
    {
     "data": {
      "image/png": "[encoded data removed]",
      "text/plain": [
       "<Figure size 432x288 with 1 Axes>"
      ]
     },
     "metadata": {
      "needs_background": "light"
     },
     "output_type": "display_data"
    }
   ],
   "source": [
    "kmf = perform_survival_analysis(synthetic_data, 'Critical')"
   ]
  },
  {
   "cell_type": "markdown",
   "id": "7d2dce13",
   "metadata": {},
   "source": [
    "In survival analysis, the median survival time is the time at which the survival probability drops to 0.5 (or 50%). It is the point in time by which half of the observed cases have experienced the event of interest (in this context, it could be the remediation of a vulnerability). The output will give you the estimated time (in the same units as your input data, days) at which you can expect half of the \"Critical/High/Medium/Low\" vulnerabilities to be remediated."
   ]
  },
  {
   "cell_type": "code",
   "execution_count": 64,
   "id": "20970ec3",
   "metadata": {},
   "outputs": [
    {
     "name": "stdout",
     "output_type": "stream",
     "text": [
      "Half life of Critical vulnerabilities:\n",
      " 5.424122925390388\n"
     ]
    }
   ],
   "source": [
    "median_ = kmf.median_survival_time_\n",
    "print(\"The median survival duration of Critical vulnerabilities:\\n\", median_)"
   ]
  },
  {
   "cell_type": "code",
   "execution_count": 65,
   "id": "037c5f2f",
   "metadata": {},
   "outputs": [
    {
     "name": "stdout",
     "output_type": "stream",
     "text": [
      "The median survival duration of Critical vulnerabilities:\n",
      "      KM_estimate_lower_0.95  KM_estimate_upper_0.95\n",
      "0.5                5.278997                 5.50548\n"
     ]
    },
    {
     "data": {
      "text/html": [
       "<div>\n",
       "<style scoped>\n",
       "    .dataframe tbody tr th:only-of-type {\n",
       "        vertical-align: middle;\n",
       "    }\n",
       "\n",
       "    .dataframe tbody tr th {\n",
       "        vertical-align: top;\n",
       "    }\n",
       "\n",
       "    .dataframe thead th {\n",
       "        text-align: right;\n",
       "    }\n",
       "</style>\n",
       "<table border=\"1\" class=\"dataframe\">\n",
       "  <thead>\n",
       "    <tr style=\"text-align: right;\">\n",
       "      <th></th>\n",
       "      <th>KM_estimate</th>\n",
       "    </tr>\n",
       "    <tr>\n",
       "      <th>timeline</th>\n",
       "      <th></th>\n",
       "    </tr>\n",
       "  </thead>\n",
       "  <tbody>\n",
       "    <tr>\n",
       "      <th>7.288341</th>\n",
       "      <td>0.035713</td>\n",
       "    </tr>\n",
       "    <tr>\n",
       "      <th>7.308533</th>\n",
       "      <td>0.035713</td>\n",
       "    </tr>\n",
       "    <tr>\n",
       "      <th>7.324870</th>\n",
       "      <td>0.023809</td>\n",
       "    </tr>\n",
       "    <tr>\n",
       "      <th>7.400190</th>\n",
       "      <td>0.011904</td>\n",
       "    </tr>\n",
       "    <tr>\n",
       "      <th>7.884721</th>\n",
       "      <td>0.000000</td>\n",
       "    </tr>\n",
       "  </tbody>\n",
       "</table>\n",
       "</div>"
      ],
      "text/plain": [
       "          KM_estimate\n",
       "timeline             \n",
       "7.288341     0.035713\n",
       "7.308533     0.035713\n",
       "7.324870     0.023809\n",
       "7.400190     0.011904\n",
       "7.884721     0.000000"
      ]
     },
     "execution_count": 65,
     "metadata": {},
     "output_type": "execute_result"
    }
   ],
   "source": [
    "median_confidence_interval_ = median_survival_times(kmf.confidence_interval_)\n",
    "print(\"The median survival duration of Critical vulnerabilities:\\n\", median_confidence_interval_)\n",
    "kmf.survival_function_.tail()"
   ]
  },
  {
   "cell_type": "code",
   "execution_count": 66,
   "id": "7c42f783",
   "metadata": {},
   "outputs": [
    {
     "data": {
      "image/png": "[encoded data removed]",
      "text/plain": [
       "<Figure size 432x288 with 1 Axes>"
      ]
     },
     "metadata": {
      "needs_background": "light"
     },
     "output_type": "display_data"
    },
    {
     "data": {
      "image/png": "[encoded data removed]",
      "text/plain": [
       "<Figure size 432x288 with 1 Axes>"
      ]
     },
     "metadata": {
      "needs_background": "light"
     },
     "output_type": "display_data"
    }
   ],
   "source": [
    "kmf = perform_survival_analysis(synthetic_data, 'High')"
   ]
  },
  {
   "cell_type": "code",
   "execution_count": 67,
   "id": "4f76c70c",
   "metadata": {},
   "outputs": [
    {
     "name": "stdout",
     "output_type": "stream",
     "text": [
      "Half life of High vulnerabilities:\n",
      " 36.8010068334293\n"
     ]
    }
   ],
   "source": [
    "median_ = kmf.median_survival_time_\n",
    "print(\"The median survival durationof High vulnerabilities:\\n\", median_)"
   ]
  },
  {
   "cell_type": "code",
   "execution_count": 68,
   "id": "0981ac8b",
   "metadata": {},
   "outputs": [
    {
     "name": "stdout",
     "output_type": "stream",
     "text": [
      "The median survival duration of High vulnerabilities:\n",
      "      KM_estimate_lower_0.95  KM_estimate_upper_0.95\n",
      "0.5               36.404856               37.233996\n"
     ]
    },
    {
     "data": {
      "text/html": [
       "<div>\n",
       "<style scoped>\n",
       "    .dataframe tbody tr th:only-of-type {\n",
       "        vertical-align: middle;\n",
       "    }\n",
       "\n",
       "    .dataframe tbody tr th {\n",
       "        vertical-align: top;\n",
       "    }\n",
       "\n",
       "    .dataframe thead th {\n",
       "        text-align: right;\n",
       "    }\n",
       "</style>\n",
       "<table border=\"1\" class=\"dataframe\">\n",
       "  <thead>\n",
       "    <tr style=\"text-align: right;\">\n",
       "      <th></th>\n",
       "      <th>KM_estimate</th>\n",
       "    </tr>\n",
       "    <tr>\n",
       "      <th>timeline</th>\n",
       "      <th></th>\n",
       "    </tr>\n",
       "  </thead>\n",
       "  <tbody>\n",
       "    <tr>\n",
       "      <th>61.589418</th>\n",
       "      <td>0.035508</td>\n",
       "    </tr>\n",
       "    <tr>\n",
       "      <th>62.153742</th>\n",
       "      <td>0.026631</td>\n",
       "    </tr>\n",
       "    <tr>\n",
       "      <th>63.482072</th>\n",
       "      <td>0.017754</td>\n",
       "    </tr>\n",
       "    <tr>\n",
       "      <th>63.545734</th>\n",
       "      <td>0.017754</td>\n",
       "    </tr>\n",
       "    <tr>\n",
       "      <th>66.916245</th>\n",
       "      <td>0.000000</td>\n",
       "    </tr>\n",
       "  </tbody>\n",
       "</table>\n",
       "</div>"
      ],
      "text/plain": [
       "           KM_estimate\n",
       "timeline              \n",
       "61.589418     0.035508\n",
       "62.153742     0.026631\n",
       "63.482072     0.017754\n",
       "63.545734     0.017754\n",
       "66.916245     0.000000"
      ]
     },
     "execution_count": 68,
     "metadata": {},
     "output_type": "execute_result"
    }
   ],
   "source": [
    "median_confidence_interval_ = median_survival_times(kmf.confidence_interval_)\n",
    "print(\"The median survival duration of High vulnerabilities:\\n\", median_confidence_interval_)\n",
    "kmf.survival_function_.tail()"
   ]
  },
  {
   "cell_type": "code",
   "execution_count": 69,
   "id": "82ff7d03",
   "metadata": {},
   "outputs": [
    {
     "data": {
      "image/png": "[encoded data removed]",
      "text/plain": [
       "<Figure size 432x288 with 1 Axes>"
      ]
     },
     "metadata": {
      "needs_background": "light"
     },
     "output_type": "display_data"
    },
    {
     "data": {
      "image/png": "[encoded data removed]",
      "text/plain": [
       "<Figure size 432x288 with 1 Axes>"
      ]
     },
     "metadata": {
      "needs_background": "light"
     },
     "output_type": "display_data"
    }
   ],
   "source": [
    "kmf = perform_survival_analysis(synthetic_data, 'Medium')"
   ]
  },
  {
   "cell_type": "code",
   "execution_count": 70,
   "id": "46dad342",
   "metadata": {},
   "outputs": [
    {
     "name": "stdout",
     "output_type": "stream",
     "text": [
      "Half life of Medium vulnerabilities:\n",
      " 127.61574958543234\n"
     ]
    }
   ],
   "source": [
    "median_ = kmf.median_survival_time_\n",
    "print(\"The median survival duration of Medium vulnerabilities:\\n\", median_)"
   ]
  },
  {
   "cell_type": "code",
   "execution_count": 71,
   "id": "7e5ff3b8",
   "metadata": {},
   "outputs": [
    {
     "name": "stdout",
     "output_type": "stream",
     "text": [
      "The median survival duration of Medium vulnerabilities:\n",
      "      KM_estimate_lower_0.95  KM_estimate_upper_0.95\n",
      "0.5              125.302066              133.356052\n"
     ]
    },
    {
     "data": {
      "text/html": [
       "<div>\n",
       "<style scoped>\n",
       "    .dataframe tbody tr th:only-of-type {\n",
       "        vertical-align: middle;\n",
       "    }\n",
       "\n",
       "    .dataframe tbody tr th {\n",
       "        vertical-align: top;\n",
       "    }\n",
       "\n",
       "    .dataframe thead th {\n",
       "        text-align: right;\n",
       "    }\n",
       "</style>\n",
       "<table border=\"1\" class=\"dataframe\">\n",
       "  <thead>\n",
       "    <tr style=\"text-align: right;\">\n",
       "      <th></th>\n",
       "      <th>KM_estimate</th>\n",
       "    </tr>\n",
       "    <tr>\n",
       "      <th>timeline</th>\n",
       "      <th></th>\n",
       "    </tr>\n",
       "  </thead>\n",
       "  <tbody>\n",
       "    <tr>\n",
       "      <th>169.179638</th>\n",
       "      <td>0.234791</td>\n",
       "    </tr>\n",
       "    <tr>\n",
       "      <th>171.597364</th>\n",
       "      <td>0.176093</td>\n",
       "    </tr>\n",
       "    <tr>\n",
       "      <th>175.640493</th>\n",
       "      <td>0.176093</td>\n",
       "    </tr>\n",
       "    <tr>\n",
       "      <th>180.339618</th>\n",
       "      <td>0.176093</td>\n",
       "    </tr>\n",
       "    <tr>\n",
       "      <th>183.442470</th>\n",
       "      <td>0.176093</td>\n",
       "    </tr>\n",
       "  </tbody>\n",
       "</table>\n",
       "</div>"
      ],
      "text/plain": [
       "            KM_estimate\n",
       "timeline               \n",
       "169.179638     0.234791\n",
       "171.597364     0.176093\n",
       "175.640493     0.176093\n",
       "180.339618     0.176093\n",
       "183.442470     0.176093"
      ]
     },
     "execution_count": 71,
     "metadata": {},
     "output_type": "execute_result"
    }
   ],
   "source": [
    "median_confidence_interval_ = median_survival_times(kmf.confidence_interval_)\n",
    "print(\"The median survival duration of Medium vulnerabilities:\\n\", median_confidence_interval_)\n",
    "kmf.survival_function_.tail()"
   ]
  },
  {
   "cell_type": "code",
   "execution_count": 72,
   "id": "5a96304a",
   "metadata": {},
   "outputs": [
    {
     "data": {
      "image/png": "[encoded data removed]",
      "text/plain": [
       "<Figure size 432x288 with 1 Axes>"
      ]
     },
     "metadata": {
      "needs_background": "light"
     },
     "output_type": "display_data"
    },
    {
     "data": {
      "image/png": "[encoded data removed]",
      "text/plain": [
       "<Figure size 432x288 with 1 Axes>"
      ]
     },
     "metadata": {
      "needs_background": "light"
     },
     "output_type": "display_data"
    }
   ],
   "source": [
    "kmf = perform_survival_analysis(synthetic_data, 'Low')"
   ]
  },
  {
   "cell_type": "code",
   "execution_count": 73,
   "id": "f370a257",
   "metadata": {},
   "outputs": [
    {
     "name": "stdout",
     "output_type": "stream",
     "text": [
      "Half life of Low vulnerabilities:\n",
      " 367.30681090928704\n"
     ]
    }
   ],
   "source": [
    "median_ = kmf.median_survival_time_\n",
    "print(\"The median survival duration of Low vulnerabilities:\\n\", median_)"
   ]
  },
  {
   "cell_type": "code",
   "execution_count": 74,
   "id": "293e498c",
   "metadata": {},
   "outputs": [
    {
     "name": "stdout",
     "output_type": "stream",
     "text": [
      "The median survival duration of Low vulnerabilities:\n",
      "      KM_estimate_lower_0.95  KM_estimate_upper_0.95\n",
      "0.5              351.908653              380.076066\n"
     ]
    },
    {
     "data": {
      "text/html": [
       "<div>\n",
       "<style scoped>\n",
       "    .dataframe tbody tr th:only-of-type {\n",
       "        vertical-align: middle;\n",
       "    }\n",
       "\n",
       "    .dataframe tbody tr th {\n",
       "        vertical-align: top;\n",
       "    }\n",
       "\n",
       "    .dataframe thead th {\n",
       "        text-align: right;\n",
       "    }\n",
       "</style>\n",
       "<table border=\"1\" class=\"dataframe\">\n",
       "  <thead>\n",
       "    <tr style=\"text-align: right;\">\n",
       "      <th></th>\n",
       "      <th>KM_estimate</th>\n",
       "    </tr>\n",
       "    <tr>\n",
       "      <th>timeline</th>\n",
       "      <th></th>\n",
       "    </tr>\n",
       "  </thead>\n",
       "  <tbody>\n",
       "    <tr>\n",
       "      <th>586.067526</th>\n",
       "      <td>0.058451</td>\n",
       "    </tr>\n",
       "    <tr>\n",
       "      <th>589.043270</th>\n",
       "      <td>0.058451</td>\n",
       "    </tr>\n",
       "    <tr>\n",
       "      <th>598.833351</th>\n",
       "      <td>0.058451</td>\n",
       "    </tr>\n",
       "    <tr>\n",
       "      <th>616.070211</th>\n",
       "      <td>0.058451</td>\n",
       "    </tr>\n",
       "    <tr>\n",
       "      <th>651.219590</th>\n",
       "      <td>0.000000</td>\n",
       "    </tr>\n",
       "  </tbody>\n",
       "</table>\n",
       "</div>"
      ],
      "text/plain": [
       "            KM_estimate\n",
       "timeline               \n",
       "586.067526     0.058451\n",
       "589.043270     0.058451\n",
       "598.833351     0.058451\n",
       "616.070211     0.058451\n",
       "651.219590     0.000000"
      ]
     },
     "execution_count": 74,
     "metadata": {},
     "output_type": "execute_result"
    }
   ],
   "source": [
    "median_confidence_interval_ = median_survival_times(kmf.confidence_interval_)\n",
    "print(\"The median survival duration of Low vulnerabilities:\\n\", median_confidence_interval_)\n",
    "kmf.survival_function_.tail()"
   ]
  },
  {
   "cell_type": "markdown",
   "id": "1792b3ed",
   "metadata": {},
   "source": [
    "***\n",
    "### CoxPH Fitter\n",
    "***\n",
    "\n",
    "The proportional hazards assumption: all individuals' hazards are proportional to one another."
   ]
  },
  {
   "cell_type": "code",
   "execution_count": 76,
   "id": "239f72fa",
   "metadata": {},
   "outputs": [],
   "source": [
    "# Function to perform Cox Proportional Hazard analysis and plot coefficients\n",
    "def perform_cox_proportional_hazard(data):\n",
    "    # Check if 'CVE_ID' column exists in the DataFrame\n",
    "    if 'CVE_ID' in data.columns:\n",
    "        data = data.drop(columns=['CVE_ID'])\n",
    "    if 'Observed_Date' in data.columns:\n",
    "        data = data.drop(columns=['Observed_Date'])\n",
    "    # Encode categorical variables to numerical values\n",
    "    label_encoder = LabelEncoder()\n",
    "    data['Criticality'] = label_encoder.fit_transform(data['Criticality'])\n",
    "\n",
    "    cph = CoxPHFitter()\n",
    "\n",
    "    # Fit the Cox Proportional Hazard model\n",
    "    cph.fit(data, duration_col='Time_to_Remediate', event_col='Remediated', show_progress=True)\n",
    "\n",
    "    # Print the summary\n",
    "    cph.print_summary()\n",
    "\n",
    "    # Plot the coefficients\n",
    "    cph.plot_covariate_groups('Criticality', values=np.unique(data['Criticality']), cmap='coolwarm')\n",
    "\n",
    "    # Display the plot\n",
    "    plt.show()\n",
    "\n",
    "    # Plot the coefficients\n",
    "    cph.plot_covariate_groups('Exploitability', values=np.unique(data['Exploitability']), cmap='coolwarm')\n",
    "    # Hide the legend\n",
    "    plt.legend().set_visible(False)\n",
    "    # Display the plot\n",
    "    plt.show()\n",
    "    return cph"
   ]
  },
  {
   "cell_type": "code",
   "execution_count": 77,
   "id": "750a6925",
   "metadata": {},
   "outputs": [
    {
     "name": "stdout",
     "output_type": "stream",
     "text": [
      "Iteration 1: norm_delta = 8.40e-01, step_size = 0.9500, log_lik = -39231.42187, newton_decrement = 2.17e+03, seconds_since_start = 0.2\n",
      "Iteration 2: norm_delta = 5.92e-01, step_size = 0.9500, log_lik = -36740.27076, newton_decrement = 4.80e+02, seconds_since_start = 0.4\n",
      "Iteration 3: norm_delta = 4.70e-01, step_size = 0.9500, log_lik = -36163.02787, newton_decrement = 1.34e+02, seconds_since_start = 0.6\n",
      "Iteration 4: norm_delta = 2.10e-01, step_size = 1.0000, log_lik = -36007.00963, newton_decrement = 1.38e+01, seconds_since_start = 0.8\n",
      "Iteration 5: norm_delta = 2.59e-02, step_size = 1.0000, log_lik = -35992.26922, newton_decrement = 1.62e-01, seconds_since_start = 0.9\n",
      "Iteration 6: norm_delta = 2.86e-04, step_size = 1.0000, log_lik = -35992.10609, newton_decrement = 1.93e-05, seconds_since_start = 1.1\n",
      "Iteration 7: norm_delta = 3.36e-08, step_size = 1.0000, log_lik = -35992.10607, newton_decrement = 2.65e-13, seconds_since_start = 1.3\n",
      "Convergence success after 7 iterations.\n"
     ]
    },
    {
     "data": {
      "text/html": [
       "<div>\n",
       "<style scoped>\n",
       "    .dataframe tbody tr th:only-of-type {\n",
       "        vertical-align: middle;\n",
       "    }\n",
       "\n",
       "    .dataframe tbody tr th {\n",
       "        vertical-align: top;\n",
       "    }\n",
       "\n",
       "    .dataframe thead th {\n",
       "        text-align: right;\n",
       "    }\n",
       "</style>\n",
       "<table border=\"1\" class=\"dataframe\">\n",
       "  <tbody>\n",
       "    <tr>\n",
       "      <th>model</th>\n",
       "      <td>lifelines.CoxPHFitter</td>\n",
       "    </tr>\n",
       "    <tr>\n",
       "      <th>duration col</th>\n",
       "      <td>'Time_to_Remediate'</td>\n",
       "    </tr>\n",
       "    <tr>\n",
       "      <th>event col</th>\n",
       "      <td>'Remediated'</td>\n",
       "    </tr>\n",
       "    <tr>\n",
       "      <th>baseline estimation</th>\n",
       "      <td>breslow</td>\n",
       "    </tr>\n",
       "    <tr>\n",
       "      <th>number of observations</th>\n",
       "      <td>10000</td>\n",
       "    </tr>\n",
       "    <tr>\n",
       "      <th>number of events observed</th>\n",
       "      <td>4736</td>\n",
       "    </tr>\n",
       "    <tr>\n",
       "      <th>partial log-likelihood</th>\n",
       "      <td>-35992.11</td>\n",
       "    </tr>\n",
       "    <tr>\n",
       "      <th>time fit was run</th>\n",
       "      <td>2023-12-15 21:28:42 UTC</td>\n",
       "    </tr>\n",
       "  </tbody>\n",
       "</table>\n",
       "</div><table border=\"1\" class=\"dataframe\">\n",
       "  <thead>\n",
       "    <tr style=\"text-align: right;\">\n",
       "      <th style=\"min-width: 12px;\"></th>\n",
       "      <th style=\"min-width: 12px;\">coef</th>\n",
       "      <th style=\"min-width: 12px;\">exp(coef)</th>\n",
       "      <th style=\"min-width: 12px;\">se(coef)</th>\n",
       "      <th style=\"min-width: 12px;\">coef lower 95%</th>\n",
       "      <th style=\"min-width: 12px;\">coef upper 95%</th>\n",
       "      <th style=\"min-width: 12px;\">exp(coef) lower 95%</th>\n",
       "      <th style=\"min-width: 12px;\">exp(coef) upper 95%</th>\n",
       "      <th style=\"min-width: 12px;\">cmp to</th>\n",
       "      <th style=\"min-width: 12px;\">z</th>\n",
       "      <th style=\"min-width: 12px;\">p</th>\n",
       "      <th style=\"min-width: 12px;\">-log2(p)</th>\n",
       "    </tr>\n",
       "  </thead>\n",
       "  <tbody>\n",
       "    <tr>\n",
       "      <th>Criticality</th>\n",
       "      <td>-1.92</td>\n",
       "      <td>0.15</td>\n",
       "      <td>0.06</td>\n",
       "      <td>-2.03</td>\n",
       "      <td>-1.81</td>\n",
       "      <td>0.13</td>\n",
       "      <td>0.16</td>\n",
       "      <td>0.00</td>\n",
       "      <td>-32.88</td>\n",
       "      <td>&lt;0.005</td>\n",
       "      <td>785.23</td>\n",
       "    </tr>\n",
       "    <tr>\n",
       "      <th>CVSS_Score</th>\n",
       "      <td>0.55</td>\n",
       "      <td>1.73</td>\n",
       "      <td>0.01</td>\n",
       "      <td>0.52</td>\n",
       "      <td>0.57</td>\n",
       "      <td>1.68</td>\n",
       "      <td>1.77</td>\n",
       "      <td>0.00</td>\n",
       "      <td>40.39</td>\n",
       "      <td>&lt;0.005</td>\n",
       "      <td>inf</td>\n",
       "    </tr>\n",
       "    <tr>\n",
       "      <th>Exploitability</th>\n",
       "      <td>0.02</td>\n",
       "      <td>1.02</td>\n",
       "      <td>0.13</td>\n",
       "      <td>-0.24</td>\n",
       "      <td>0.27</td>\n",
       "      <td>0.79</td>\n",
       "      <td>1.31</td>\n",
       "      <td>0.00</td>\n",
       "      <td>0.13</td>\n",
       "      <td>0.90</td>\n",
       "      <td>0.15</td>\n",
       "    </tr>\n",
       "    <tr>\n",
       "      <th>Known_Exploit</th>\n",
       "      <td>0.05</td>\n",
       "      <td>1.05</td>\n",
       "      <td>0.06</td>\n",
       "      <td>-0.08</td>\n",
       "      <td>0.17</td>\n",
       "      <td>0.93</td>\n",
       "      <td>1.18</td>\n",
       "      <td>0.00</td>\n",
       "      <td>0.74</td>\n",
       "      <td>0.46</td>\n",
       "      <td>1.12</td>\n",
       "    </tr>\n",
       "  </tbody>\n",
       "</table><br><div>\n",
       "<style scoped>\n",
       "    .dataframe tbody tr th:only-of-type {\n",
       "        vertical-align: middle;\n",
       "    }\n",
       "\n",
       "    .dataframe tbody tr th {\n",
       "        vertical-align: top;\n",
       "    }\n",
       "\n",
       "    .dataframe thead th {\n",
       "        text-align: right;\n",
       "    }\n",
       "</style>\n",
       "<table border=\"1\" class=\"dataframe\">\n",
       "  <tbody>\n",
       "    <tr>\n",
       "      <th>Concordance</th>\n",
       "      <td>0.74</td>\n",
       "    </tr>\n",
       "    <tr>\n",
       "      <th>Partial AIC</th>\n",
       "      <td>71992.21</td>\n",
       "    </tr>\n",
       "    <tr>\n",
       "      <th>log-likelihood ratio test</th>\n",
       "      <td>6478.63 on 4 df</td>\n",
       "    </tr>\n",
       "    <tr>\n",
       "      <th>-log2(p) of ll-ratio test</th>\n",
       "      <td>inf</td>\n",
       "    </tr>\n",
       "  </tbody>\n",
       "</table>\n",
       "</div>"
      ],
      "text/latex": [
       "\\begin{tabular}{lrrrrrrrrrrr}\n",
       " & coef & exp(coef) & se(coef) & coef lower 95% & coef upper 95% & exp(coef) lower 95% & exp(coef) upper 95% & cmp to & z & p & -log2(p) \\\\\n",
       "covariate &  &  &  &  &  &  &  &  &  &  &  \\\\\n",
       "Criticality & -1.92 & 0.15 & 0.06 & -2.03 & -1.81 & 0.13 & 0.16 & 0.00 & -32.88 & 0.00 & 785.23 \\\\\n",
       "CVSS_Score & 0.55 & 1.73 & 0.01 & 0.52 & 0.57 & 1.68 & 1.77 & 0.00 & 40.39 & 0.00 & inf \\\\\n",
       "Exploitability & 0.02 & 1.02 & 0.13 & -0.24 & 0.27 & 0.79 & 1.31 & 0.00 & 0.13 & 0.90 & 0.15 \\\\\n",
       "Known_Exploit & 0.05 & 1.05 & 0.06 & -0.08 & 0.17 & 0.93 & 1.18 & 0.00 & 0.74 & 0.46 & 1.12 \\\\\n",
       "\\end{tabular}\n"
      ],
      "text/plain": [
       "<lifelines.CoxPHFitter: fitted with 10000 total observations, 5264 right-censored observations>\n",
       "             duration col = 'Time_to_Remediate'\n",
       "                event col = 'Remediated'\n",
       "      baseline estimation = breslow\n",
       "   number of observations = 10000\n",
       "number of events observed = 4736\n",
       "   partial log-likelihood = -35992.11\n",
       "         time fit was run = 2023-12-15 21:28:42 UTC\n",
       "\n",
       "---\n",
       "                 coef  exp(coef)   se(coef)   coef lower 95%   coef upper 95%  exp(coef) lower 95%  exp(coef) upper 95%\n",
       "covariate                                                                                                              \n",
       "Criticality     -1.92       0.15       0.06            -2.03            -1.81                 0.13                 0.16\n",
       "CVSS_Score       0.55       1.73       0.01             0.52             0.57                 1.68                 1.77\n",
       "Exploitability   0.02       1.02       0.13            -0.24             0.27                 0.79                 1.31\n",
       "Known_Exploit    0.05       1.05       0.06            -0.08             0.17                 0.93                 1.18\n",
       "\n",
       "                 cmp to      z      p   -log2(p)\n",
       "covariate                                       \n",
       "Criticality        0.00 -32.88 <0.005     785.23\n",
       "CVSS_Score         0.00  40.39 <0.005        inf\n",
       "Exploitability     0.00   0.13   0.90       0.15\n",
       "Known_Exploit      0.00   0.74   0.46       1.12\n",
       "---\n",
       "Concordance = 0.74\n",
       "Partial AIC = 71992.21\n",
       "log-likelihood ratio test = 6478.63 on 4 df\n",
       "-log2(p) of ll-ratio test = inf"
      ]
     },
     "metadata": {},
     "output_type": "display_data"
    },
    {
     "data": {
      "image/png": "[encoded data removed]",
      "text/plain": [
       "<Figure size 432x288 with 1 Axes>"
      ]
     },
     "metadata": {
      "needs_background": "light"
     },
     "output_type": "display_data"
    },
    {
     "data": {
      "image/png": "[encoded data removed]",
      "text/plain": [
       "<Figure size 432x288 with 1 Axes>"
      ]
     },
     "metadata": {
      "needs_background": "light"
     },
     "output_type": "display_data"
    }
   ],
   "source": [
    "# Perform Cox Proportional Hazard analysis\n",
    "cph = perform_cox_proportional_hazard(synthetic_data)"
   ]
  },
  {
   "cell_type": "code",
   "execution_count": 78,
   "id": "acdc4398",
   "metadata": {},
   "outputs": [
    {
     "data": {
      "text/html": [
       "<div>\n",
       "<style scoped>\n",
       "    .dataframe tbody tr th:only-of-type {\n",
       "        vertical-align: middle;\n",
       "    }\n",
       "\n",
       "    .dataframe tbody tr th {\n",
       "        vertical-align: top;\n",
       "    }\n",
       "\n",
       "    .dataframe thead th {\n",
       "        text-align: right;\n",
       "    }\n",
       "</style>\n",
       "<table border=\"1\" class=\"dataframe\">\n",
       "  <thead>\n",
       "    <tr style=\"text-align: right;\">\n",
       "      <th></th>\n",
       "      <th>coef</th>\n",
       "      <th>exp(coef)</th>\n",
       "      <th>se(coef)</th>\n",
       "      <th>coef lower 95%</th>\n",
       "      <th>coef upper 95%</th>\n",
       "      <th>exp(coef) lower 95%</th>\n",
       "      <th>exp(coef) upper 95%</th>\n",
       "      <th>cmp to</th>\n",
       "      <th>z</th>\n",
       "      <th>p</th>\n",
       "      <th>-log2(p)</th>\n",
       "    </tr>\n",
       "    <tr>\n",
       "      <th>covariate</th>\n",
       "      <th></th>\n",
       "      <th></th>\n",
       "      <th></th>\n",
       "      <th></th>\n",
       "      <th></th>\n",
       "      <th></th>\n",
       "      <th></th>\n",
       "      <th></th>\n",
       "      <th></th>\n",
       "      <th></th>\n",
       "      <th></th>\n",
       "    </tr>\n",
       "  </thead>\n",
       "  <tbody>\n",
       "    <tr>\n",
       "      <th>Criticality</th>\n",
       "      <td>-1.919561</td>\n",
       "      <td>0.146671</td>\n",
       "      <td>0.058380</td>\n",
       "      <td>-2.033984</td>\n",
       "      <td>-1.805138</td>\n",
       "      <td>0.130813</td>\n",
       "      <td>0.164452</td>\n",
       "      <td>0.0</td>\n",
       "      <td>-32.880360</td>\n",
       "      <td>4.195599e-237</td>\n",
       "      <td>785.228082</td>\n",
       "    </tr>\n",
       "    <tr>\n",
       "      <th>CVSS_Score</th>\n",
       "      <td>0.545841</td>\n",
       "      <td>1.726060</td>\n",
       "      <td>0.013513</td>\n",
       "      <td>0.519357</td>\n",
       "      <td>0.572326</td>\n",
       "      <td>1.680946</td>\n",
       "      <td>1.772385</td>\n",
       "      <td>0.0</td>\n",
       "      <td>40.393961</td>\n",
       "      <td>0.000000e+00</td>\n",
       "      <td>inf</td>\n",
       "    </tr>\n",
       "    <tr>\n",
       "      <th>Exploitability</th>\n",
       "      <td>0.016416</td>\n",
       "      <td>1.016552</td>\n",
       "      <td>0.130737</td>\n",
       "      <td>-0.239824</td>\n",
       "      <td>0.272656</td>\n",
       "      <td>0.786767</td>\n",
       "      <td>1.313448</td>\n",
       "      <td>0.0</td>\n",
       "      <td>0.125567</td>\n",
       "      <td>9.000750e-01</td>\n",
       "      <td>0.151883</td>\n",
       "    </tr>\n",
       "    <tr>\n",
       "      <th>Known_Exploit</th>\n",
       "      <td>0.046206</td>\n",
       "      <td>1.047290</td>\n",
       "      <td>0.062763</td>\n",
       "      <td>-0.076807</td>\n",
       "      <td>0.169219</td>\n",
       "      <td>0.926069</td>\n",
       "      <td>1.184380</td>\n",
       "      <td>0.0</td>\n",
       "      <td>0.736204</td>\n",
       "      <td>4.616064e-01</td>\n",
       "      <td>1.115265</td>\n",
       "    </tr>\n",
       "  </tbody>\n",
       "</table>\n",
       "</div>"
      ],
      "text/plain": [
       "                    coef  exp(coef)  se(coef)  coef lower 95%  coef upper 95%  \\\n",
       "covariate                                                                       \n",
       "Criticality    -1.919561   0.146671  0.058380       -2.033984       -1.805138   \n",
       "CVSS_Score      0.545841   1.726060  0.013513        0.519357        0.572326   \n",
       "Exploitability  0.016416   1.016552  0.130737       -0.239824        0.272656   \n",
       "Known_Exploit   0.046206   1.047290  0.062763       -0.076807        0.169219   \n",
       "\n",
       "                exp(coef) lower 95%  exp(coef) upper 95%  cmp to          z  \\\n",
       "covariate                                                                     \n",
       "Criticality                0.130813             0.164452     0.0 -32.880360   \n",
       "CVSS_Score                 1.680946             1.772385     0.0  40.393961   \n",
       "Exploitability             0.786767             1.313448     0.0   0.125567   \n",
       "Known_Exploit              0.926069             1.184380     0.0   0.736204   \n",
       "\n",
       "                            p    -log2(p)  \n",
       "covariate                                  \n",
       "Criticality     4.195599e-237  785.228082  \n",
       "CVSS_Score       0.000000e+00         inf  \n",
       "Exploitability   9.000750e-01    0.151883  \n",
       "Known_Exploit    4.616064e-01    1.115265  "
      ]
     },
     "execution_count": 78,
     "metadata": {},
     "output_type": "execute_result"
    }
   ],
   "source": [
    "# Print model summary\n",
    "cph.summary"
   ]
  },
  {
   "cell_type": "code",
   "execution_count": 79,
   "id": "605a22a9",
   "metadata": {},
   "outputs": [
    {
     "data": {
      "text/plain": [
       "<Axes: xlabel='log(HR) (95% CI)'>"
      ]
     },
     "execution_count": 79,
     "metadata": {},
     "output_type": "execute_result"
    },
    {
     "data": {
      "image/png": "[encoded data removed]",
      "text/plain": [
       "<Figure size 432x288 with 1 Axes>"
      ]
     },
     "metadata": {
      "needs_background": "light"
     },
     "output_type": "display_data"
    }
   ],
   "source": [
    "cph.plot()"
   ]
  },
  {
   "cell_type": "markdown",
   "id": "3975113e",
   "metadata": {},
   "source": [
    "In the context of survival analysis, particularly when using a Cox proportional hazards model, a forest plot displays the hazard ratios (HRs) for different variables along with their confidence intervals (CIs). Here's how you would interpret the results:\n",
    "\n",
    "- **Exploitability**:\n",
    "The point estimate is around -0.25 on the log(HR) scale, which indicates a moderate decrease in the hazard as exploitability increases. The confidence interval for exploitability is narrow and does not cross 0, suggesting that the effect is statistically significant.\n",
    "- **CVSS Score**:\n",
    "The point estimate is far to the left, indicating a negative log(Hazard Ratio), which suggests that higher CVSS scores are associated with a decreased hazard (or reduced risk of the event occurring within the study period). The confidence interval does not cross the vertical line at 0, which implies that this variable is statistically significant.\n",
    "\n",
    "Interpreting the Hazard Ratios (HR):\n",
    "\n",
    "- A hazard ratio less than 1 suggests that as the predictor variable increases, the event hazard decreases (the event being less likely to happen at any point in time).\n",
    "- A hazard ratio greater than 1 suggests that as the predictor variable increases, the event hazard increases (the event being more likely to happen at any point in time).\n",
    "- A hazard ratio close to 1 suggests there is no effect.\n",
    "\n",
    "It's important to consider the confidence intervals when interpreting these results. If the confidence interval for a hazard ratio crosses 1 (or 0 when log-transformed), it suggests that the effect is not statistically significant at the 95% confidence level, meaning we cannot be confident that there is a true effect in the population from which the sample was drawn.\n",
    "\n",
    "The `log(HR)` scale is used for better visualization, especially when hazard ratios are close to 1. The '0' point on the x-axis represents a hazard ratio of 1, which indicates no effect.\n",
    "\n",
    "Since this is synthetically generated data this is not necessarily signficant in any way, but this how the results would be interpreted in a realistic scenario."
   ]
  },
  {
   "cell_type": "code",
   "execution_count": null,
   "id": "16899859",
   "metadata": {},
   "outputs": [],
   "source": []
  }
 ],
 "metadata": {
  "kernelspec": {
   "display_name": "Python 3 (ipykernel)",
   "language": "python",
   "name": "python3"
  },
  "language_info": {
   "codemirror_mode": {
    "name": "ipython",
    "version": 3
   },
   "file_extension": ".py",
   "mimetype": "text/x-python",
   "name": "python",
   "nbconvert_exporter": "python",
   "pygments_lexer": "ipython3",
   "version": "3.9.12"
  }
 },
 "nbformat": 4,
 "nbformat_minor": 5
}
