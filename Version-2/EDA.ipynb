{
 "cells": [
  {
   "cell_type": "code",
   "execution_count": 1,
   "id": "99091002",
   "metadata": {},
   "outputs": [],
   "source": [
    "import numpy as np\n",
    "import pandas as pd\n",
    "\n",
    "import missingno as msno \n",
    "import string \n",
    "import seaborn as sns \n",
    "import matplotlib.pyplot as plt\n",
    "\n",
    "import scipy.optimize as opt\n",
    "import plotly.graph_objects as go\n",
    "from plotly.subplots import make_subplots\n",
    "from datetime import timedelta\n",
    "import scipy.stats as sps\n",
    "from matplotlib_venn import venn3\n",
    "from supervenn import supervenn\n",
    "import json\n",
    "import csv\n",
    "\n",
    "import re    # for regular expressions \n",
    "import string\n",
    "\n",
    "import glob, os\n",
    "from epss_api import EPSS"
   ]
  },
  {
   "cell_type": "code",
   "execution_count": 2,
   "id": "3c87debf",
   "metadata": {},
   "outputs": [],
   "source": [
    "csv.field_size_limit(100000000)\n",
    "import warnings\n",
    "warnings.simplefilter(action='ignore', category=FutureWarning)"
   ]
  },
  {
   "cell_type": "code",
   "execution_count": 3,
   "id": "bb854d5f",
   "metadata": {},
   "outputs": [],
   "source": [
    "kev = pd.read_csv('kev.csv', encoding = 'utf-8-sig', engine = 'python')"
   ]
  },
  {
   "cell_type": "code",
   "execution_count": 4,
   "id": "8bf0ccb1",
   "metadata": {},
   "outputs": [
    {
     "data": {
      "text/html": [
       "<div>\n",
       "<style scoped>\n",
       "    .dataframe tbody tr th:only-of-type {\n",
       "        vertical-align: middle;\n",
       "    }\n",
       "\n",
       "    .dataframe tbody tr th {\n",
       "        vertical-align: top;\n",
       "    }\n",
       "\n",
       "    .dataframe thead th {\n",
       "        text-align: right;\n",
       "    }\n",
       "</style>\n",
       "<table border=\"1\" class=\"dataframe\">\n",
       "  <thead>\n",
       "    <tr style=\"text-align: right;\">\n",
       "      <th></th>\n",
       "      <th>cveID</th>\n",
       "      <th>vendorProject</th>\n",
       "      <th>product</th>\n",
       "      <th>vulnerabilityName</th>\n",
       "      <th>dateAdded</th>\n",
       "      <th>shortDescription</th>\n",
       "      <th>requiredAction</th>\n",
       "      <th>dueDate</th>\n",
       "      <th>knownRansomwareCampaignUse</th>\n",
       "      <th>notes</th>\n",
       "    </tr>\n",
       "  </thead>\n",
       "  <tbody>\n",
       "    <tr>\n",
       "      <th>0</th>\n",
       "      <td>CVE-2021-27104</td>\n",
       "      <td>Accellion</td>\n",
       "      <td>FTA</td>\n",
       "      <td>Accellion FTA OS Command Injection Vulnerability</td>\n",
       "      <td>2021-11-03</td>\n",
       "      <td>Accellion FTA contains an OS command injection...</td>\n",
       "      <td>Apply updates per vendor instructions.</td>\n",
       "      <td>2021-11-17</td>\n",
       "      <td>Known</td>\n",
       "      <td>NaN</td>\n",
       "    </tr>\n",
       "  </tbody>\n",
       "</table>\n",
       "</div>"
      ],
      "text/plain": [
       "            cveID vendorProject product  \\\n",
       "0  CVE-2021-27104     Accellion     FTA   \n",
       "\n",
       "                                  vulnerabilityName   dateAdded  \\\n",
       "0  Accellion FTA OS Command Injection Vulnerability  2021-11-03   \n",
       "\n",
       "                                    shortDescription  \\\n",
       "0  Accellion FTA contains an OS command injection...   \n",
       "\n",
       "                           requiredAction     dueDate  \\\n",
       "0  Apply updates per vendor instructions.  2021-11-17   \n",
       "\n",
       "  knownRansomwareCampaignUse notes  \n",
       "0                      Known   NaN  "
      ]
     },
     "execution_count": 4,
     "metadata": {},
     "output_type": "execute_result"
    }
   ],
   "source": [
    "kev.head(1)"
   ]
  },
  {
   "cell_type": "code",
   "execution_count": 5,
   "id": "01467de8",
   "metadata": {},
   "outputs": [],
   "source": [
    "kev['hasKEV'] = kev['cveID'].apply(lambda x : 1)"
   ]
  },
  {
   "cell_type": "code",
   "execution_count": 6,
   "id": "bb39dcdc",
   "metadata": {},
   "outputs": [
    {
     "name": "stdout",
     "output_type": "stream",
     "text": [
      "<class 'pandas.core.frame.DataFrame'>\n",
      "RangeIndex: 1025 entries, 0 to 1024\n",
      "Data columns (total 11 columns):\n",
      " #   Column                      Non-Null Count  Dtype \n",
      "---  ------                      --------------  ----- \n",
      " 0   cveID                       1025 non-null   object\n",
      " 1   vendorProject               1025 non-null   object\n",
      " 2   product                     1024 non-null   object\n",
      " 3   vulnerabilityName           1025 non-null   object\n",
      " 4   dateAdded                   1025 non-null   object\n",
      " 5   shortDescription            1025 non-null   object\n",
      " 6   requiredAction              1025 non-null   object\n",
      " 7   dueDate                     1025 non-null   object\n",
      " 8   knownRansomwareCampaignUse  1025 non-null   object\n",
      " 9   notes                       258 non-null    object\n",
      " 10  hasKEV                      1025 non-null   int64 \n",
      "dtypes: int64(1), object(10)\n",
      "memory usage: 88.2+ KB\n"
     ]
    }
   ],
   "source": [
    "kev.info()"
   ]
  },
  {
   "cell_type": "code",
   "execution_count": 7,
   "id": "bf45c58b",
   "metadata": {},
   "outputs": [],
   "source": [
    "client = EPSS()\n",
    "values = client.scores()"
   ]
  },
  {
   "cell_type": "code",
   "execution_count": 8,
   "id": "0930c83b",
   "metadata": {},
   "outputs": [],
   "source": [
    "cve = pd.read_csv('allitems.csv', encoding = 'utf-8-sig', engine = 'python')"
   ]
  },
  {
   "cell_type": "code",
   "execution_count": 9,
   "id": "5aa0575f",
   "metadata": {},
   "outputs": [
    {
     "data": {
      "text/html": [
       "<div>\n",
       "<style scoped>\n",
       "    .dataframe tbody tr th:only-of-type {\n",
       "        vertical-align: middle;\n",
       "    }\n",
       "\n",
       "    .dataframe tbody tr th {\n",
       "        vertical-align: top;\n",
       "    }\n",
       "\n",
       "    .dataframe thead th {\n",
       "        text-align: right;\n",
       "    }\n",
       "</style>\n",
       "<table border=\"1\" class=\"dataframe\">\n",
       "  <thead>\n",
       "    <tr style=\"text-align: right;\">\n",
       "      <th></th>\n",
       "      <th>Name</th>\n",
       "      <th>Status</th>\n",
       "      <th>Description</th>\n",
       "      <th>References</th>\n",
       "      <th>Phase</th>\n",
       "      <th>Votes</th>\n",
       "      <th>Comments</th>\n",
       "    </tr>\n",
       "  </thead>\n",
       "  <tbody>\n",
       "    <tr>\n",
       "      <th>0</th>\n",
       "      <td>CVE-1999-0001</td>\n",
       "      <td>Candidate</td>\n",
       "      <td>ip_input.c in BSD-derived TCP/IP implementatio...</td>\n",
       "      <td>BUGTRAQ:19981223 Re: CERT Advisory CA-98.13 - ...</td>\n",
       "      <td>Modified (20051217)</td>\n",
       "      <td>MODIFY(1) Frech  |     NOOP(2) Northcutt, Wall...</td>\n",
       "      <td>Christey&gt; A Bugtraq posting indicates that the...</td>\n",
       "    </tr>\n",
       "    <tr>\n",
       "      <th>1</th>\n",
       "      <td>CVE-1999-0002</td>\n",
       "      <td>Entry</td>\n",
       "      <td>Buffer overflow in NFS mountd gives root acces...</td>\n",
       "      <td>BID:121   |   URL:http://www.securityfocus.com...</td>\n",
       "      <td>NaN</td>\n",
       "      <td>NaN</td>\n",
       "      <td>NaN</td>\n",
       "    </tr>\n",
       "    <tr>\n",
       "      <th>2</th>\n",
       "      <td>CVE-1999-0003</td>\n",
       "      <td>Entry</td>\n",
       "      <td>Execute commands as root via buffer overflow i...</td>\n",
       "      <td>BID:122   |   URL:http://www.securityfocus.com...</td>\n",
       "      <td>NaN</td>\n",
       "      <td>NaN</td>\n",
       "      <td>NaN</td>\n",
       "    </tr>\n",
       "    <tr>\n",
       "      <th>3</th>\n",
       "      <td>CVE-1999-0004</td>\n",
       "      <td>Candidate</td>\n",
       "      <td>MIME buffer overflow in email clients, e.g. So...</td>\n",
       "      <td>CERT:CA-98.10.mime_buffer_overflows   |   MS:M...</td>\n",
       "      <td>Modified (19990621)</td>\n",
       "      <td>ACCEPT(8) Baker, Cole, Collins, Dik, Landfield...</td>\n",
       "      <td>Frech&gt; Extremely minor, but I believe e-mail i...</td>\n",
       "    </tr>\n",
       "    <tr>\n",
       "      <th>4</th>\n",
       "      <td>CVE-1999-0005</td>\n",
       "      <td>Entry</td>\n",
       "      <td>Arbitrary command execution via IMAP buffer ov...</td>\n",
       "      <td>BID:130   |   URL:http://www.securityfocus.com...</td>\n",
       "      <td>NaN</td>\n",
       "      <td>NaN</td>\n",
       "      <td>NaN</td>\n",
       "    </tr>\n",
       "  </tbody>\n",
       "</table>\n",
       "</div>"
      ],
      "text/plain": [
       "            Name     Status  \\\n",
       "0  CVE-1999-0001  Candidate   \n",
       "1  CVE-1999-0002      Entry   \n",
       "2  CVE-1999-0003      Entry   \n",
       "3  CVE-1999-0004  Candidate   \n",
       "4  CVE-1999-0005      Entry   \n",
       "\n",
       "                                         Description  \\\n",
       "0  ip_input.c in BSD-derived TCP/IP implementatio...   \n",
       "1  Buffer overflow in NFS mountd gives root acces...   \n",
       "2  Execute commands as root via buffer overflow i...   \n",
       "3  MIME buffer overflow in email clients, e.g. So...   \n",
       "4  Arbitrary command execution via IMAP buffer ov...   \n",
       "\n",
       "                                          References                Phase  \\\n",
       "0  BUGTRAQ:19981223 Re: CERT Advisory CA-98.13 - ...  Modified (20051217)   \n",
       "1  BID:121   |   URL:http://www.securityfocus.com...                  NaN   \n",
       "2  BID:122   |   URL:http://www.securityfocus.com...                  NaN   \n",
       "3  CERT:CA-98.10.mime_buffer_overflows   |   MS:M...  Modified (19990621)   \n",
       "4  BID:130   |   URL:http://www.securityfocus.com...                  NaN   \n",
       "\n",
       "                                               Votes  \\\n",
       "0  MODIFY(1) Frech  |     NOOP(2) Northcutt, Wall...   \n",
       "1                                                NaN   \n",
       "2                                                NaN   \n",
       "3  ACCEPT(8) Baker, Cole, Collins, Dik, Landfield...   \n",
       "4                                                NaN   \n",
       "\n",
       "                                            Comments  \n",
       "0  Christey> A Bugtraq posting indicates that the...  \n",
       "1                                                NaN  \n",
       "2                                                NaN  \n",
       "3  Frech> Extremely minor, but I believe e-mail i...  \n",
       "4                                                NaN  "
      ]
     },
     "execution_count": 9,
     "metadata": {},
     "output_type": "execute_result"
    }
   ],
   "source": [
    "cve.head()"
   ]
  },
  {
   "cell_type": "code",
   "execution_count": 10,
   "id": "3980a38e",
   "metadata": {},
   "outputs": [],
   "source": [
    "candidates = cve[cve.Status == 'Candidate']"
   ]
  },
  {
   "cell_type": "code",
   "execution_count": 11,
   "id": "f4f956a9",
   "metadata": {},
   "outputs": [],
   "source": [
    "# remove candidates\n",
    "cve = cve[cve.Status == 'Entry']"
   ]
  },
  {
   "cell_type": "code",
   "execution_count": 12,
   "id": "98c4d524",
   "metadata": {},
   "outputs": [],
   "source": [
    "# df['epssScore'] = df['cveID'].apply(lambda x : client.score(cve_id=x))\n",
    "epss = pd.read_csv('latest-epss-scores.csv', encoding = 'utf-8-sig', engine = 'python')"
   ]
  },
  {
   "cell_type": "code",
   "execution_count": 13,
   "id": "377d78df",
   "metadata": {},
   "outputs": [
    {
     "data": {
      "text/html": [
       "<div>\n",
       "<style scoped>\n",
       "    .dataframe tbody tr th:only-of-type {\n",
       "        vertical-align: middle;\n",
       "    }\n",
       "\n",
       "    .dataframe tbody tr th {\n",
       "        vertical-align: top;\n",
       "    }\n",
       "\n",
       "    .dataframe thead th {\n",
       "        text-align: right;\n",
       "    }\n",
       "</style>\n",
       "<table border=\"1\" class=\"dataframe\">\n",
       "  <thead>\n",
       "    <tr style=\"text-align: right;\">\n",
       "      <th></th>\n",
       "      <th>cve</th>\n",
       "      <th>epss</th>\n",
       "      <th>percentile</th>\n",
       "    </tr>\n",
       "  </thead>\n",
       "  <tbody>\n",
       "    <tr>\n",
       "      <th>0</th>\n",
       "      <td>CVE-2014-0160</td>\n",
       "      <td>0.97588</td>\n",
       "      <td>1.0</td>\n",
       "    </tr>\n",
       "  </tbody>\n",
       "</table>\n",
       "</div>"
      ],
      "text/plain": [
       "             cve     epss  percentile\n",
       "0  CVE-2014-0160  0.97588         1.0"
      ]
     },
     "execution_count": 13,
     "metadata": {},
     "output_type": "execute_result"
    }
   ],
   "source": [
    "epss.head(1)"
   ]
  },
  {
   "cell_type": "code",
   "execution_count": null,
   "id": "921f744c",
   "metadata": {},
   "outputs": [],
   "source": []
  },
  {
   "cell_type": "code",
   "execution_count": 14,
   "id": "d44dd7e8",
   "metadata": {},
   "outputs": [],
   "source": [
    "def get_files_from_path(path: str='.', extension: str=None) -> list:\n",
    "    \"\"\"return list of files from path\"\"\"\n",
    "    # https://stackoverflow.com/a/41447012/9267296\n",
    "    result = []\n",
    "    for subdir, dirs, files in os.walk(path):\n",
    "        for filename in files:\n",
    "            filepath = subdir + os.sep + filename\n",
    "            if extension == None:\n",
    "                result.append(filepath)\n",
    "            elif filename.lower().endswith(extension.lower()):\n",
    "                result.append(filepath)\n",
    "    return result"
   ]
  },
  {
   "cell_type": "code",
   "execution_count": 15,
   "id": "264d4651",
   "metadata": {},
   "outputs": [],
   "source": [
    "cvss = pd.DataFrame()"
   ]
  },
  {
   "cell_type": "code",
   "execution_count": 16,
   "id": "4fa7b578",
   "metadata": {},
   "outputs": [],
   "source": [
    "filelist = get_files_from_path(extension='.json')\n",
    "alldata = []\n",
    "for filepath in filelist:\n",
    "    with open(filepath) as infile:\n",
    "#         jsonlist.append(json.load(infile))\n",
    "        data = json.load(infile)\n",
    "#         alldata.append(data)\n",
    "        df = pd.DataFrame(data)\n",
    "        df = pd.json_normalize(df[\"CVE_Items\"])\n",
    "        cvss = cvss.append(df,ignore_index=True)"
   ]
  },
  {
   "cell_type": "code",
   "execution_count": null,
   "id": "f9ca02f7",
   "metadata": {},
   "outputs": [],
   "source": []
  },
  {
   "cell_type": "code",
   "execution_count": 19,
   "id": "0ebe84d9",
   "metadata": {},
   "outputs": [
    {
     "data": {
      "text/html": [
       "<div>\n",
       "<style scoped>\n",
       "    .dataframe tbody tr th:only-of-type {\n",
       "        vertical-align: middle;\n",
       "    }\n",
       "\n",
       "    .dataframe tbody tr th {\n",
       "        vertical-align: top;\n",
       "    }\n",
       "\n",
       "    .dataframe thead th {\n",
       "        text-align: right;\n",
       "    }\n",
       "</style>\n",
       "<table border=\"1\" class=\"dataframe\">\n",
       "  <thead>\n",
       "    <tr style=\"text-align: right;\">\n",
       "      <th></th>\n",
       "      <th>publishedDate</th>\n",
       "      <th>lastModifiedDate</th>\n",
       "      <th>cve.data_type</th>\n",
       "      <th>cve.data_format</th>\n",
       "      <th>cve.data_version</th>\n",
       "      <th>cve.CVE_data_meta.ID</th>\n",
       "      <th>cve.CVE_data_meta.ASSIGNER</th>\n",
       "      <th>cve.problemtype.problemtype_data</th>\n",
       "      <th>cve.references.reference_data</th>\n",
       "      <th>cve.description.description_data</th>\n",
       "      <th>...</th>\n",
       "      <th>impact.baseMetricV2.cvssV2.availabilityImpact</th>\n",
       "      <th>impact.baseMetricV2.cvssV2.baseScore</th>\n",
       "      <th>impact.baseMetricV2.severity</th>\n",
       "      <th>impact.baseMetricV2.exploitabilityScore</th>\n",
       "      <th>impact.baseMetricV2.impactScore</th>\n",
       "      <th>impact.baseMetricV2.acInsufInfo</th>\n",
       "      <th>impact.baseMetricV2.obtainAllPrivilege</th>\n",
       "      <th>impact.baseMetricV2.obtainUserPrivilege</th>\n",
       "      <th>impact.baseMetricV2.obtainOtherPrivilege</th>\n",
       "      <th>impact.baseMetricV2.userInteractionRequired</th>\n",
       "    </tr>\n",
       "  </thead>\n",
       "  <tbody>\n",
       "    <tr>\n",
       "      <th>229443</th>\n",
       "      <td>2023-05-22T22:15Z</td>\n",
       "      <td>2023-05-30T18:05Z</td>\n",
       "      <td>CVE</td>\n",
       "      <td>MITRE</td>\n",
       "      <td>4.0</td>\n",
       "      <td>CVE-2022-4945</td>\n",
       "      <td>ics-cert@hq.dhs.gov</td>\n",
       "      <td>[{'description': [{'lang': 'en', 'value': 'CWE...</td>\n",
       "      <td>[{'url': 'https://dataprobe.com/support/iboot-...</td>\n",
       "      <td>[{'lang': 'en', 'value': 'The Dataprobe cloud ...</td>\n",
       "      <td>...</td>\n",
       "      <td>NaN</td>\n",
       "      <td>NaN</td>\n",
       "      <td>NaN</td>\n",
       "      <td>NaN</td>\n",
       "      <td>NaN</td>\n",
       "      <td>NaN</td>\n",
       "      <td>NaN</td>\n",
       "      <td>NaN</td>\n",
       "      <td>NaN</td>\n",
       "      <td>NaN</td>\n",
       "    </tr>\n",
       "    <tr>\n",
       "      <th>229444</th>\n",
       "      <td>2023-06-05T14:15Z</td>\n",
       "      <td>2023-06-13T13:53Z</td>\n",
       "      <td>CVE</td>\n",
       "      <td>MITRE</td>\n",
       "      <td>4.0</td>\n",
       "      <td>CVE-2022-4946</td>\n",
       "      <td>contact@wpscan.com</td>\n",
       "      <td>[{'description': [{'lang': 'en', 'value': 'CWE...</td>\n",
       "      <td>[{'url': 'https://wpscan.com/vulnerability/6e2...</td>\n",
       "      <td>[{'lang': 'en', 'value': 'The Frontend Post Wo...</td>\n",
       "      <td>...</td>\n",
       "      <td>NaN</td>\n",
       "      <td>NaN</td>\n",
       "      <td>NaN</td>\n",
       "      <td>NaN</td>\n",
       "      <td>NaN</td>\n",
       "      <td>NaN</td>\n",
       "      <td>NaN</td>\n",
       "      <td>NaN</td>\n",
       "      <td>NaN</td>\n",
       "      <td>NaN</td>\n",
       "    </tr>\n",
       "    <tr>\n",
       "      <th>229445</th>\n",
       "      <td>2023-06-07T02:15Z</td>\n",
       "      <td>2023-06-13T18:38Z</td>\n",
       "      <td>CVE</td>\n",
       "      <td>MITRE</td>\n",
       "      <td>4.0</td>\n",
       "      <td>CVE-2022-4948</td>\n",
       "      <td>cve-request@wordfence.com</td>\n",
       "      <td>[{'description': [{'lang': 'en', 'value': 'CWE...</td>\n",
       "      <td>[{'url': 'https://www.wordfence.com/threat-int...</td>\n",
       "      <td>[{'lang': 'en', 'value': 'The FlyingPress plug...</td>\n",
       "      <td>...</td>\n",
       "      <td>NaN</td>\n",
       "      <td>NaN</td>\n",
       "      <td>NaN</td>\n",
       "      <td>NaN</td>\n",
       "      <td>NaN</td>\n",
       "      <td>NaN</td>\n",
       "      <td>NaN</td>\n",
       "      <td>NaN</td>\n",
       "      <td>NaN</td>\n",
       "      <td>NaN</td>\n",
       "    </tr>\n",
       "    <tr>\n",
       "      <th>229446</th>\n",
       "      <td>2023-06-07T02:15Z</td>\n",
       "      <td>2023-06-13T18:40Z</td>\n",
       "      <td>CVE</td>\n",
       "      <td>MITRE</td>\n",
       "      <td>4.0</td>\n",
       "      <td>CVE-2022-4949</td>\n",
       "      <td>cve-request@wordfence.com</td>\n",
       "      <td>[{'description': [{'lang': 'en', 'value': 'CWE...</td>\n",
       "      <td>[{'url': 'https://blog.nintechnet.com/critical...</td>\n",
       "      <td>[{'lang': 'en', 'value': 'The AdSanity plugin ...</td>\n",
       "      <td>...</td>\n",
       "      <td>NaN</td>\n",
       "      <td>NaN</td>\n",
       "      <td>NaN</td>\n",
       "      <td>NaN</td>\n",
       "      <td>NaN</td>\n",
       "      <td>NaN</td>\n",
       "      <td>NaN</td>\n",
       "      <td>NaN</td>\n",
       "      <td>NaN</td>\n",
       "      <td>NaN</td>\n",
       "    </tr>\n",
       "    <tr>\n",
       "      <th>229447</th>\n",
       "      <td>2023-06-07T02:15Z</td>\n",
       "      <td>2023-06-13T18:42Z</td>\n",
       "      <td>CVE</td>\n",
       "      <td>MITRE</td>\n",
       "      <td>4.0</td>\n",
       "      <td>CVE-2022-4950</td>\n",
       "      <td>cve-request@wordfence.com</td>\n",
       "      <td>[{'description': [{'lang': 'en', 'value': 'CWE...</td>\n",
       "      <td>[{'url': 'https://www.wordfence.com/threat-int...</td>\n",
       "      <td>[{'lang': 'en', 'value': 'Several WordPress pl...</td>\n",
       "      <td>...</td>\n",
       "      <td>NaN</td>\n",
       "      <td>NaN</td>\n",
       "      <td>NaN</td>\n",
       "      <td>NaN</td>\n",
       "      <td>NaN</td>\n",
       "      <td>NaN</td>\n",
       "      <td>NaN</td>\n",
       "      <td>NaN</td>\n",
       "      <td>NaN</td>\n",
       "      <td>NaN</td>\n",
       "    </tr>\n",
       "    <tr>\n",
       "      <th>229448</th>\n",
       "      <td>2023-07-17T02:15Z</td>\n",
       "      <td>2023-07-27T04:07Z</td>\n",
       "      <td>CVE</td>\n",
       "      <td>MITRE</td>\n",
       "      <td>4.0</td>\n",
       "      <td>CVE-2022-4952</td>\n",
       "      <td>cna@vuldb.com</td>\n",
       "      <td>[{'description': [{'lang': 'en', 'value': 'NVD...</td>\n",
       "      <td>[{'url': 'https://github.com/OmniSharp/csharp-...</td>\n",
       "      <td>[{'lang': 'en', 'value': 'A vulnerability has ...</td>\n",
       "      <td>...</td>\n",
       "      <td>NaN</td>\n",
       "      <td>NaN</td>\n",
       "      <td>NaN</td>\n",
       "      <td>NaN</td>\n",
       "      <td>NaN</td>\n",
       "      <td>NaN</td>\n",
       "      <td>NaN</td>\n",
       "      <td>NaN</td>\n",
       "      <td>NaN</td>\n",
       "      <td>NaN</td>\n",
       "    </tr>\n",
       "    <tr>\n",
       "      <th>229449</th>\n",
       "      <td>2023-08-14T20:15Z</td>\n",
       "      <td>2023-09-08T23:15Z</td>\n",
       "      <td>CVE</td>\n",
       "      <td>MITRE</td>\n",
       "      <td>4.0</td>\n",
       "      <td>CVE-2022-4953</td>\n",
       "      <td>contact@wpscan.com</td>\n",
       "      <td>[{'description': [{'lang': 'en', 'value': 'CWE...</td>\n",
       "      <td>[{'url': 'https://wpscan.com/vulnerability/827...</td>\n",
       "      <td>[{'lang': 'en', 'value': 'The Elementor Websit...</td>\n",
       "      <td>...</td>\n",
       "      <td>NaN</td>\n",
       "      <td>NaN</td>\n",
       "      <td>NaN</td>\n",
       "      <td>NaN</td>\n",
       "      <td>NaN</td>\n",
       "      <td>NaN</td>\n",
       "      <td>NaN</td>\n",
       "      <td>NaN</td>\n",
       "      <td>NaN</td>\n",
       "      <td>NaN</td>\n",
       "    </tr>\n",
       "    <tr>\n",
       "      <th>229450</th>\n",
       "      <td>2023-10-20T07:15Z</td>\n",
       "      <td>2023-10-26T17:28Z</td>\n",
       "      <td>CVE</td>\n",
       "      <td>MITRE</td>\n",
       "      <td>4.0</td>\n",
       "      <td>CVE-2022-4954</td>\n",
       "      <td>cve-request@wordfence.com</td>\n",
       "      <td>[{'description': [{'lang': 'en', 'value': 'CWE...</td>\n",
       "      <td>[{'url': 'https://www.wordfence.com/threat-int...</td>\n",
       "      <td>[{'lang': 'en', 'value': 'The Waiting: One-cli...</td>\n",
       "      <td>...</td>\n",
       "      <td>NaN</td>\n",
       "      <td>NaN</td>\n",
       "      <td>NaN</td>\n",
       "      <td>NaN</td>\n",
       "      <td>NaN</td>\n",
       "      <td>NaN</td>\n",
       "      <td>NaN</td>\n",
       "      <td>NaN</td>\n",
       "      <td>NaN</td>\n",
       "      <td>NaN</td>\n",
       "    </tr>\n",
       "    <tr>\n",
       "      <th>229451</th>\n",
       "      <td>2023-08-04T20:15Z</td>\n",
       "      <td>2023-08-09T17:19Z</td>\n",
       "      <td>CVE</td>\n",
       "      <td>MITRE</td>\n",
       "      <td>4.0</td>\n",
       "      <td>CVE-2022-4955</td>\n",
       "      <td>chrome-cve-admin@google.com</td>\n",
       "      <td>[{'description': [{'lang': 'en', 'value': 'NVD...</td>\n",
       "      <td>[{'url': 'https://chromereleases.googleblog.co...</td>\n",
       "      <td>[{'lang': 'en', 'value': 'Inappropriate implem...</td>\n",
       "      <td>...</td>\n",
       "      <td>NaN</td>\n",
       "      <td>NaN</td>\n",
       "      <td>NaN</td>\n",
       "      <td>NaN</td>\n",
       "      <td>NaN</td>\n",
       "      <td>NaN</td>\n",
       "      <td>NaN</td>\n",
       "      <td>NaN</td>\n",
       "      <td>NaN</td>\n",
       "      <td>NaN</td>\n",
       "    </tr>\n",
       "    <tr>\n",
       "      <th>229452</th>\n",
       "      <td>2023-09-30T17:15Z</td>\n",
       "      <td>2023-10-03T20:58Z</td>\n",
       "      <td>CVE</td>\n",
       "      <td>MITRE</td>\n",
       "      <td>4.0</td>\n",
       "      <td>CVE-2022-4956</td>\n",
       "      <td>cna@vuldb.com</td>\n",
       "      <td>[{'description': [{'lang': 'en', 'value': 'CWE...</td>\n",
       "      <td>[{'url': 'https://vuldb.com/?id.240903', 'name...</td>\n",
       "      <td>[{'lang': 'en', 'value': 'A vulnerability clas...</td>\n",
       "      <td>...</td>\n",
       "      <td>NaN</td>\n",
       "      <td>NaN</td>\n",
       "      <td>NaN</td>\n",
       "      <td>NaN</td>\n",
       "      <td>NaN</td>\n",
       "      <td>NaN</td>\n",
       "      <td>NaN</td>\n",
       "      <td>NaN</td>\n",
       "      <td>NaN</td>\n",
       "      <td>NaN</td>\n",
       "    </tr>\n",
       "  </tbody>\n",
       "</table>\n",
       "<p>10 rows × 43 columns</p>\n",
       "</div>"
      ],
      "text/plain": [
       "            publishedDate   lastModifiedDate cve.data_type cve.data_format  \\\n",
       "229443  2023-05-22T22:15Z  2023-05-30T18:05Z           CVE           MITRE   \n",
       "229444  2023-06-05T14:15Z  2023-06-13T13:53Z           CVE           MITRE   \n",
       "229445  2023-06-07T02:15Z  2023-06-13T18:38Z           CVE           MITRE   \n",
       "229446  2023-06-07T02:15Z  2023-06-13T18:40Z           CVE           MITRE   \n",
       "229447  2023-06-07T02:15Z  2023-06-13T18:42Z           CVE           MITRE   \n",
       "229448  2023-07-17T02:15Z  2023-07-27T04:07Z           CVE           MITRE   \n",
       "229449  2023-08-14T20:15Z  2023-09-08T23:15Z           CVE           MITRE   \n",
       "229450  2023-10-20T07:15Z  2023-10-26T17:28Z           CVE           MITRE   \n",
       "229451  2023-08-04T20:15Z  2023-08-09T17:19Z           CVE           MITRE   \n",
       "229452  2023-09-30T17:15Z  2023-10-03T20:58Z           CVE           MITRE   \n",
       "\n",
       "       cve.data_version cve.CVE_data_meta.ID   cve.CVE_data_meta.ASSIGNER  \\\n",
       "229443              4.0        CVE-2022-4945          ics-cert@hq.dhs.gov   \n",
       "229444              4.0        CVE-2022-4946           contact@wpscan.com   \n",
       "229445              4.0        CVE-2022-4948    cve-request@wordfence.com   \n",
       "229446              4.0        CVE-2022-4949    cve-request@wordfence.com   \n",
       "229447              4.0        CVE-2022-4950    cve-request@wordfence.com   \n",
       "229448              4.0        CVE-2022-4952                cna@vuldb.com   \n",
       "229449              4.0        CVE-2022-4953           contact@wpscan.com   \n",
       "229450              4.0        CVE-2022-4954    cve-request@wordfence.com   \n",
       "229451              4.0        CVE-2022-4955  chrome-cve-admin@google.com   \n",
       "229452              4.0        CVE-2022-4956                cna@vuldb.com   \n",
       "\n",
       "                         cve.problemtype.problemtype_data  \\\n",
       "229443  [{'description': [{'lang': 'en', 'value': 'CWE...   \n",
       "229444  [{'description': [{'lang': 'en', 'value': 'CWE...   \n",
       "229445  [{'description': [{'lang': 'en', 'value': 'CWE...   \n",
       "229446  [{'description': [{'lang': 'en', 'value': 'CWE...   \n",
       "229447  [{'description': [{'lang': 'en', 'value': 'CWE...   \n",
       "229448  [{'description': [{'lang': 'en', 'value': 'NVD...   \n",
       "229449  [{'description': [{'lang': 'en', 'value': 'CWE...   \n",
       "229450  [{'description': [{'lang': 'en', 'value': 'CWE...   \n",
       "229451  [{'description': [{'lang': 'en', 'value': 'NVD...   \n",
       "229452  [{'description': [{'lang': 'en', 'value': 'CWE...   \n",
       "\n",
       "                            cve.references.reference_data  \\\n",
       "229443  [{'url': 'https://dataprobe.com/support/iboot-...   \n",
       "229444  [{'url': 'https://wpscan.com/vulnerability/6e2...   \n",
       "229445  [{'url': 'https://www.wordfence.com/threat-int...   \n",
       "229446  [{'url': 'https://blog.nintechnet.com/critical...   \n",
       "229447  [{'url': 'https://www.wordfence.com/threat-int...   \n",
       "229448  [{'url': 'https://github.com/OmniSharp/csharp-...   \n",
       "229449  [{'url': 'https://wpscan.com/vulnerability/827...   \n",
       "229450  [{'url': 'https://www.wordfence.com/threat-int...   \n",
       "229451  [{'url': 'https://chromereleases.googleblog.co...   \n",
       "229452  [{'url': 'https://vuldb.com/?id.240903', 'name...   \n",
       "\n",
       "                         cve.description.description_data  ...  \\\n",
       "229443  [{'lang': 'en', 'value': 'The Dataprobe cloud ...  ...   \n",
       "229444  [{'lang': 'en', 'value': 'The Frontend Post Wo...  ...   \n",
       "229445  [{'lang': 'en', 'value': 'The FlyingPress plug...  ...   \n",
       "229446  [{'lang': 'en', 'value': 'The AdSanity plugin ...  ...   \n",
       "229447  [{'lang': 'en', 'value': 'Several WordPress pl...  ...   \n",
       "229448  [{'lang': 'en', 'value': 'A vulnerability has ...  ...   \n",
       "229449  [{'lang': 'en', 'value': 'The Elementor Websit...  ...   \n",
       "229450  [{'lang': 'en', 'value': 'The Waiting: One-cli...  ...   \n",
       "229451  [{'lang': 'en', 'value': 'Inappropriate implem...  ...   \n",
       "229452  [{'lang': 'en', 'value': 'A vulnerability clas...  ...   \n",
       "\n",
       "       impact.baseMetricV2.cvssV2.availabilityImpact  \\\n",
       "229443                                           NaN   \n",
       "229444                                           NaN   \n",
       "229445                                           NaN   \n",
       "229446                                           NaN   \n",
       "229447                                           NaN   \n",
       "229448                                           NaN   \n",
       "229449                                           NaN   \n",
       "229450                                           NaN   \n",
       "229451                                           NaN   \n",
       "229452                                           NaN   \n",
       "\n",
       "       impact.baseMetricV2.cvssV2.baseScore impact.baseMetricV2.severity  \\\n",
       "229443                                  NaN                          NaN   \n",
       "229444                                  NaN                          NaN   \n",
       "229445                                  NaN                          NaN   \n",
       "229446                                  NaN                          NaN   \n",
       "229447                                  NaN                          NaN   \n",
       "229448                                  NaN                          NaN   \n",
       "229449                                  NaN                          NaN   \n",
       "229450                                  NaN                          NaN   \n",
       "229451                                  NaN                          NaN   \n",
       "229452                                  NaN                          NaN   \n",
       "\n",
       "       impact.baseMetricV2.exploitabilityScore  \\\n",
       "229443                                     NaN   \n",
       "229444                                     NaN   \n",
       "229445                                     NaN   \n",
       "229446                                     NaN   \n",
       "229447                                     NaN   \n",
       "229448                                     NaN   \n",
       "229449                                     NaN   \n",
       "229450                                     NaN   \n",
       "229451                                     NaN   \n",
       "229452                                     NaN   \n",
       "\n",
       "       impact.baseMetricV2.impactScore impact.baseMetricV2.acInsufInfo  \\\n",
       "229443                             NaN                             NaN   \n",
       "229444                             NaN                             NaN   \n",
       "229445                             NaN                             NaN   \n",
       "229446                             NaN                             NaN   \n",
       "229447                             NaN                             NaN   \n",
       "229448                             NaN                             NaN   \n",
       "229449                             NaN                             NaN   \n",
       "229450                             NaN                             NaN   \n",
       "229451                             NaN                             NaN   \n",
       "229452                             NaN                             NaN   \n",
       "\n",
       "       impact.baseMetricV2.obtainAllPrivilege  \\\n",
       "229443                                    NaN   \n",
       "229444                                    NaN   \n",
       "229445                                    NaN   \n",
       "229446                                    NaN   \n",
       "229447                                    NaN   \n",
       "229448                                    NaN   \n",
       "229449                                    NaN   \n",
       "229450                                    NaN   \n",
       "229451                                    NaN   \n",
       "229452                                    NaN   \n",
       "\n",
       "       impact.baseMetricV2.obtainUserPrivilege  \\\n",
       "229443                                     NaN   \n",
       "229444                                     NaN   \n",
       "229445                                     NaN   \n",
       "229446                                     NaN   \n",
       "229447                                     NaN   \n",
       "229448                                     NaN   \n",
       "229449                                     NaN   \n",
       "229450                                     NaN   \n",
       "229451                                     NaN   \n",
       "229452                                     NaN   \n",
       "\n",
       "       impact.baseMetricV2.obtainOtherPrivilege  \\\n",
       "229443                                      NaN   \n",
       "229444                                      NaN   \n",
       "229445                                      NaN   \n",
       "229446                                      NaN   \n",
       "229447                                      NaN   \n",
       "229448                                      NaN   \n",
       "229449                                      NaN   \n",
       "229450                                      NaN   \n",
       "229451                                      NaN   \n",
       "229452                                      NaN   \n",
       "\n",
       "       impact.baseMetricV2.userInteractionRequired  \n",
       "229443                                         NaN  \n",
       "229444                                         NaN  \n",
       "229445                                         NaN  \n",
       "229446                                         NaN  \n",
       "229447                                         NaN  \n",
       "229448                                         NaN  \n",
       "229449                                         NaN  \n",
       "229450                                         NaN  \n",
       "229451                                         NaN  \n",
       "229452                                         NaN  \n",
       "\n",
       "[10 rows x 43 columns]"
      ]
     },
     "execution_count": 19,
     "metadata": {},
     "output_type": "execute_result"
    }
   ],
   "source": [
    "cvss.tail(10)"
   ]
  },
  {
   "cell_type": "code",
   "execution_count": null,
   "id": "ccb97123",
   "metadata": {},
   "outputs": [],
   "source": []
  },
  {
   "cell_type": "code",
   "execution_count": 20,
   "id": "35b32398",
   "metadata": {},
   "outputs": [
    {
     "data": {
      "text/html": [
       "<div>\n",
       "<style scoped>\n",
       "    .dataframe tbody tr th:only-of-type {\n",
       "        vertical-align: middle;\n",
       "    }\n",
       "\n",
       "    .dataframe tbody tr th {\n",
       "        vertical-align: top;\n",
       "    }\n",
       "\n",
       "    .dataframe thead th {\n",
       "        text-align: right;\n",
       "    }\n",
       "</style>\n",
       "<table border=\"1\" class=\"dataframe\">\n",
       "  <thead>\n",
       "    <tr style=\"text-align: right;\">\n",
       "      <th></th>\n",
       "      <th>publishedDate</th>\n",
       "      <th>lastModifiedDate</th>\n",
       "      <th>cve.data_type</th>\n",
       "      <th>cve.data_format</th>\n",
       "      <th>cve.data_version</th>\n",
       "      <th>cve.CVE_data_meta.ID</th>\n",
       "      <th>cve.CVE_data_meta.ASSIGNER</th>\n",
       "      <th>cve.problemtype.problemtype_data</th>\n",
       "      <th>cve.references.reference_data</th>\n",
       "      <th>cve.description.description_data</th>\n",
       "      <th>...</th>\n",
       "      <th>impact.baseMetricV2.cvssV2.availabilityImpact</th>\n",
       "      <th>impact.baseMetricV2.cvssV2.baseScore</th>\n",
       "      <th>impact.baseMetricV2.severity</th>\n",
       "      <th>impact.baseMetricV2.exploitabilityScore</th>\n",
       "      <th>impact.baseMetricV2.impactScore</th>\n",
       "      <th>impact.baseMetricV2.acInsufInfo</th>\n",
       "      <th>impact.baseMetricV2.obtainAllPrivilege</th>\n",
       "      <th>impact.baseMetricV2.obtainUserPrivilege</th>\n",
       "      <th>impact.baseMetricV2.obtainOtherPrivilege</th>\n",
       "      <th>impact.baseMetricV2.userInteractionRequired</th>\n",
       "    </tr>\n",
       "  </thead>\n",
       "  <tbody>\n",
       "    <tr>\n",
       "      <th>0</th>\n",
       "      <td>2021-06-09T20:15Z</td>\n",
       "      <td>2021-06-28T18:03Z</td>\n",
       "      <td>CVE</td>\n",
       "      <td>MITRE</td>\n",
       "      <td>4.0</td>\n",
       "      <td>CVE-2021-0001</td>\n",
       "      <td>secure@intel.com</td>\n",
       "      <td>[{'description': [{'lang': 'en', 'value': 'CWE...</td>\n",
       "      <td>[{'url': 'https://www.intel.com/content/www/us...</td>\n",
       "      <td>[{'lang': 'en', 'value': 'Observable timing di...</td>\n",
       "      <td>...</td>\n",
       "      <td>NONE</td>\n",
       "      <td>2.1</td>\n",
       "      <td>LOW</td>\n",
       "      <td>3.9</td>\n",
       "      <td>2.9</td>\n",
       "      <td>False</td>\n",
       "      <td>False</td>\n",
       "      <td>False</td>\n",
       "      <td>False</td>\n",
       "      <td>False</td>\n",
       "    </tr>\n",
       "    <tr>\n",
       "      <th>1</th>\n",
       "      <td>2021-08-11T13:15Z</td>\n",
       "      <td>2021-11-30T19:43Z</td>\n",
       "      <td>CVE</td>\n",
       "      <td>MITRE</td>\n",
       "      <td>4.0</td>\n",
       "      <td>CVE-2021-0002</td>\n",
       "      <td>secure@intel.com</td>\n",
       "      <td>[{'description': [{'lang': 'en', 'value': 'CWE...</td>\n",
       "      <td>[{'url': 'https://www.intel.com/content/www/us...</td>\n",
       "      <td>[{'lang': 'en', 'value': 'Improper conditions ...</td>\n",
       "      <td>...</td>\n",
       "      <td>PARTIAL</td>\n",
       "      <td>3.6</td>\n",
       "      <td>LOW</td>\n",
       "      <td>3.9</td>\n",
       "      <td>4.9</td>\n",
       "      <td>False</td>\n",
       "      <td>False</td>\n",
       "      <td>False</td>\n",
       "      <td>False</td>\n",
       "      <td>False</td>\n",
       "    </tr>\n",
       "    <tr>\n",
       "      <th>2</th>\n",
       "      <td>2021-08-11T13:15Z</td>\n",
       "      <td>2021-09-14T18:36Z</td>\n",
       "      <td>CVE</td>\n",
       "      <td>MITRE</td>\n",
       "      <td>4.0</td>\n",
       "      <td>CVE-2021-0003</td>\n",
       "      <td>secure@intel.com</td>\n",
       "      <td>[{'description': [{'lang': 'en', 'value': 'CWE...</td>\n",
       "      <td>[{'url': 'https://www.intel.com/content/www/us...</td>\n",
       "      <td>[{'lang': 'en', 'value': 'Improper conditions ...</td>\n",
       "      <td>...</td>\n",
       "      <td>NONE</td>\n",
       "      <td>2.1</td>\n",
       "      <td>LOW</td>\n",
       "      <td>3.9</td>\n",
       "      <td>2.9</td>\n",
       "      <td>False</td>\n",
       "      <td>False</td>\n",
       "      <td>False</td>\n",
       "      <td>False</td>\n",
       "      <td>False</td>\n",
       "    </tr>\n",
       "    <tr>\n",
       "      <th>3</th>\n",
       "      <td>2021-08-11T13:15Z</td>\n",
       "      <td>2022-03-31T19:45Z</td>\n",
       "      <td>CVE</td>\n",
       "      <td>MITRE</td>\n",
       "      <td>4.0</td>\n",
       "      <td>CVE-2021-0004</td>\n",
       "      <td>secure@intel.com</td>\n",
       "      <td>[{'description': [{'lang': 'en', 'value': 'CWE...</td>\n",
       "      <td>[{'url': 'https://www.intel.com/content/www/us...</td>\n",
       "      <td>[{'lang': 'en', 'value': 'Improper buffer rest...</td>\n",
       "      <td>...</td>\n",
       "      <td>PARTIAL</td>\n",
       "      <td>2.1</td>\n",
       "      <td>LOW</td>\n",
       "      <td>3.9</td>\n",
       "      <td>2.9</td>\n",
       "      <td>False</td>\n",
       "      <td>False</td>\n",
       "      <td>False</td>\n",
       "      <td>False</td>\n",
       "      <td>False</td>\n",
       "    </tr>\n",
       "    <tr>\n",
       "      <th>4</th>\n",
       "      <td>2021-08-11T13:15Z</td>\n",
       "      <td>2021-09-14T18:36Z</td>\n",
       "      <td>CVE</td>\n",
       "      <td>MITRE</td>\n",
       "      <td>4.0</td>\n",
       "      <td>CVE-2021-0005</td>\n",
       "      <td>secure@intel.com</td>\n",
       "      <td>[{'description': [{'lang': 'en', 'value': 'CWE...</td>\n",
       "      <td>[{'url': 'https://www.intel.com/content/www/us...</td>\n",
       "      <td>[{'lang': 'en', 'value': 'Uncaught exception i...</td>\n",
       "      <td>...</td>\n",
       "      <td>PARTIAL</td>\n",
       "      <td>2.1</td>\n",
       "      <td>LOW</td>\n",
       "      <td>3.9</td>\n",
       "      <td>2.9</td>\n",
       "      <td>False</td>\n",
       "      <td>False</td>\n",
       "      <td>False</td>\n",
       "      <td>False</td>\n",
       "      <td>False</td>\n",
       "    </tr>\n",
       "    <tr>\n",
       "      <th>5</th>\n",
       "      <td>2021-08-11T13:15Z</td>\n",
       "      <td>2021-09-14T18:35Z</td>\n",
       "      <td>CVE</td>\n",
       "      <td>MITRE</td>\n",
       "      <td>4.0</td>\n",
       "      <td>CVE-2021-0006</td>\n",
       "      <td>secure@intel.com</td>\n",
       "      <td>[{'description': [{'lang': 'en', 'value': 'CWE...</td>\n",
       "      <td>[{'url': 'https://www.intel.com/content/www/us...</td>\n",
       "      <td>[{'lang': 'en', 'value': 'Improper conditions ...</td>\n",
       "      <td>...</td>\n",
       "      <td>PARTIAL</td>\n",
       "      <td>2.1</td>\n",
       "      <td>LOW</td>\n",
       "      <td>3.9</td>\n",
       "      <td>2.9</td>\n",
       "      <td>False</td>\n",
       "      <td>False</td>\n",
       "      <td>False</td>\n",
       "      <td>False</td>\n",
       "      <td>False</td>\n",
       "    </tr>\n",
       "    <tr>\n",
       "      <th>6</th>\n",
       "      <td>2021-08-11T13:15Z</td>\n",
       "      <td>2021-09-14T18:35Z</td>\n",
       "      <td>CVE</td>\n",
       "      <td>MITRE</td>\n",
       "      <td>4.0</td>\n",
       "      <td>CVE-2021-0007</td>\n",
       "      <td>secure@intel.com</td>\n",
       "      <td>[{'description': [{'lang': 'en', 'value': 'CWE...</td>\n",
       "      <td>[{'url': 'https://www.intel.com/content/www/us...</td>\n",
       "      <td>[{'lang': 'en', 'value': 'Uncaught exception i...</td>\n",
       "      <td>...</td>\n",
       "      <td>PARTIAL</td>\n",
       "      <td>2.1</td>\n",
       "      <td>LOW</td>\n",
       "      <td>3.9</td>\n",
       "      <td>2.9</td>\n",
       "      <td>False</td>\n",
       "      <td>False</td>\n",
       "      <td>False</td>\n",
       "      <td>False</td>\n",
       "      <td>False</td>\n",
       "    </tr>\n",
       "    <tr>\n",
       "      <th>7</th>\n",
       "      <td>2021-08-11T13:15Z</td>\n",
       "      <td>2021-09-14T18:34Z</td>\n",
       "      <td>CVE</td>\n",
       "      <td>MITRE</td>\n",
       "      <td>4.0</td>\n",
       "      <td>CVE-2021-0008</td>\n",
       "      <td>secure@intel.com</td>\n",
       "      <td>[{'description': [{'lang': 'en', 'value': 'CWE...</td>\n",
       "      <td>[{'url': 'https://www.intel.com/content/www/us...</td>\n",
       "      <td>[{'lang': 'en', 'value': 'Uncontrolled resourc...</td>\n",
       "      <td>...</td>\n",
       "      <td>PARTIAL</td>\n",
       "      <td>2.1</td>\n",
       "      <td>LOW</td>\n",
       "      <td>3.9</td>\n",
       "      <td>2.9</td>\n",
       "      <td>False</td>\n",
       "      <td>False</td>\n",
       "      <td>False</td>\n",
       "      <td>False</td>\n",
       "      <td>False</td>\n",
       "    </tr>\n",
       "    <tr>\n",
       "      <th>8</th>\n",
       "      <td>2021-08-11T13:15Z</td>\n",
       "      <td>2021-09-14T18:34Z</td>\n",
       "      <td>CVE</td>\n",
       "      <td>MITRE</td>\n",
       "      <td>4.0</td>\n",
       "      <td>CVE-2021-0009</td>\n",
       "      <td>secure@intel.com</td>\n",
       "      <td>[{'description': [{'lang': 'en', 'value': 'CWE...</td>\n",
       "      <td>[{'url': 'https://www.intel.com/content/www/us...</td>\n",
       "      <td>[{'lang': 'en', 'value': 'Out-of-bounds read i...</td>\n",
       "      <td>...</td>\n",
       "      <td>NONE</td>\n",
       "      <td>3.3</td>\n",
       "      <td>LOW</td>\n",
       "      <td>6.5</td>\n",
       "      <td>2.9</td>\n",
       "      <td>False</td>\n",
       "      <td>False</td>\n",
       "      <td>False</td>\n",
       "      <td>False</td>\n",
       "      <td>False</td>\n",
       "    </tr>\n",
       "    <tr>\n",
       "      <th>9</th>\n",
       "      <td>2023-05-16T22:15Z</td>\n",
       "      <td>2023-05-16T22:15Z</td>\n",
       "      <td>CVE</td>\n",
       "      <td>MITRE</td>\n",
       "      <td>4.0</td>\n",
       "      <td>CVE-2021-0010</td>\n",
       "      <td>cve@mitre.org</td>\n",
       "      <td>[{'description': []}]</td>\n",
       "      <td>[]</td>\n",
       "      <td>[{'lang': 'en', 'value': '** REJECT ** DO NOT ...</td>\n",
       "      <td>...</td>\n",
       "      <td>NaN</td>\n",
       "      <td>NaN</td>\n",
       "      <td>NaN</td>\n",
       "      <td>NaN</td>\n",
       "      <td>NaN</td>\n",
       "      <td>NaN</td>\n",
       "      <td>NaN</td>\n",
       "      <td>NaN</td>\n",
       "      <td>NaN</td>\n",
       "      <td>NaN</td>\n",
       "    </tr>\n",
       "  </tbody>\n",
       "</table>\n",
       "<p>10 rows × 43 columns</p>\n",
       "</div>"
      ],
      "text/plain": [
       "       publishedDate   lastModifiedDate cve.data_type cve.data_format  \\\n",
       "0  2021-06-09T20:15Z  2021-06-28T18:03Z           CVE           MITRE   \n",
       "1  2021-08-11T13:15Z  2021-11-30T19:43Z           CVE           MITRE   \n",
       "2  2021-08-11T13:15Z  2021-09-14T18:36Z           CVE           MITRE   \n",
       "3  2021-08-11T13:15Z  2022-03-31T19:45Z           CVE           MITRE   \n",
       "4  2021-08-11T13:15Z  2021-09-14T18:36Z           CVE           MITRE   \n",
       "5  2021-08-11T13:15Z  2021-09-14T18:35Z           CVE           MITRE   \n",
       "6  2021-08-11T13:15Z  2021-09-14T18:35Z           CVE           MITRE   \n",
       "7  2021-08-11T13:15Z  2021-09-14T18:34Z           CVE           MITRE   \n",
       "8  2021-08-11T13:15Z  2021-09-14T18:34Z           CVE           MITRE   \n",
       "9  2023-05-16T22:15Z  2023-05-16T22:15Z           CVE           MITRE   \n",
       "\n",
       "  cve.data_version cve.CVE_data_meta.ID cve.CVE_data_meta.ASSIGNER  \\\n",
       "0              4.0        CVE-2021-0001           secure@intel.com   \n",
       "1              4.0        CVE-2021-0002           secure@intel.com   \n",
       "2              4.0        CVE-2021-0003           secure@intel.com   \n",
       "3              4.0        CVE-2021-0004           secure@intel.com   \n",
       "4              4.0        CVE-2021-0005           secure@intel.com   \n",
       "5              4.0        CVE-2021-0006           secure@intel.com   \n",
       "6              4.0        CVE-2021-0007           secure@intel.com   \n",
       "7              4.0        CVE-2021-0008           secure@intel.com   \n",
       "8              4.0        CVE-2021-0009           secure@intel.com   \n",
       "9              4.0        CVE-2021-0010              cve@mitre.org   \n",
       "\n",
       "                    cve.problemtype.problemtype_data  \\\n",
       "0  [{'description': [{'lang': 'en', 'value': 'CWE...   \n",
       "1  [{'description': [{'lang': 'en', 'value': 'CWE...   \n",
       "2  [{'description': [{'lang': 'en', 'value': 'CWE...   \n",
       "3  [{'description': [{'lang': 'en', 'value': 'CWE...   \n",
       "4  [{'description': [{'lang': 'en', 'value': 'CWE...   \n",
       "5  [{'description': [{'lang': 'en', 'value': 'CWE...   \n",
       "6  [{'description': [{'lang': 'en', 'value': 'CWE...   \n",
       "7  [{'description': [{'lang': 'en', 'value': 'CWE...   \n",
       "8  [{'description': [{'lang': 'en', 'value': 'CWE...   \n",
       "9                              [{'description': []}]   \n",
       "\n",
       "                       cve.references.reference_data  \\\n",
       "0  [{'url': 'https://www.intel.com/content/www/us...   \n",
       "1  [{'url': 'https://www.intel.com/content/www/us...   \n",
       "2  [{'url': 'https://www.intel.com/content/www/us...   \n",
       "3  [{'url': 'https://www.intel.com/content/www/us...   \n",
       "4  [{'url': 'https://www.intel.com/content/www/us...   \n",
       "5  [{'url': 'https://www.intel.com/content/www/us...   \n",
       "6  [{'url': 'https://www.intel.com/content/www/us...   \n",
       "7  [{'url': 'https://www.intel.com/content/www/us...   \n",
       "8  [{'url': 'https://www.intel.com/content/www/us...   \n",
       "9                                                 []   \n",
       "\n",
       "                    cve.description.description_data  ...  \\\n",
       "0  [{'lang': 'en', 'value': 'Observable timing di...  ...   \n",
       "1  [{'lang': 'en', 'value': 'Improper conditions ...  ...   \n",
       "2  [{'lang': 'en', 'value': 'Improper conditions ...  ...   \n",
       "3  [{'lang': 'en', 'value': 'Improper buffer rest...  ...   \n",
       "4  [{'lang': 'en', 'value': 'Uncaught exception i...  ...   \n",
       "5  [{'lang': 'en', 'value': 'Improper conditions ...  ...   \n",
       "6  [{'lang': 'en', 'value': 'Uncaught exception i...  ...   \n",
       "7  [{'lang': 'en', 'value': 'Uncontrolled resourc...  ...   \n",
       "8  [{'lang': 'en', 'value': 'Out-of-bounds read i...  ...   \n",
       "9  [{'lang': 'en', 'value': '** REJECT ** DO NOT ...  ...   \n",
       "\n",
       "  impact.baseMetricV2.cvssV2.availabilityImpact  \\\n",
       "0                                          NONE   \n",
       "1                                       PARTIAL   \n",
       "2                                          NONE   \n",
       "3                                       PARTIAL   \n",
       "4                                       PARTIAL   \n",
       "5                                       PARTIAL   \n",
       "6                                       PARTIAL   \n",
       "7                                       PARTIAL   \n",
       "8                                          NONE   \n",
       "9                                           NaN   \n",
       "\n",
       "  impact.baseMetricV2.cvssV2.baseScore impact.baseMetricV2.severity  \\\n",
       "0                                  2.1                          LOW   \n",
       "1                                  3.6                          LOW   \n",
       "2                                  2.1                          LOW   \n",
       "3                                  2.1                          LOW   \n",
       "4                                  2.1                          LOW   \n",
       "5                                  2.1                          LOW   \n",
       "6                                  2.1                          LOW   \n",
       "7                                  2.1                          LOW   \n",
       "8                                  3.3                          LOW   \n",
       "9                                  NaN                          NaN   \n",
       "\n",
       "  impact.baseMetricV2.exploitabilityScore impact.baseMetricV2.impactScore  \\\n",
       "0                                     3.9                             2.9   \n",
       "1                                     3.9                             4.9   \n",
       "2                                     3.9                             2.9   \n",
       "3                                     3.9                             2.9   \n",
       "4                                     3.9                             2.9   \n",
       "5                                     3.9                             2.9   \n",
       "6                                     3.9                             2.9   \n",
       "7                                     3.9                             2.9   \n",
       "8                                     6.5                             2.9   \n",
       "9                                     NaN                             NaN   \n",
       "\n",
       "  impact.baseMetricV2.acInsufInfo impact.baseMetricV2.obtainAllPrivilege  \\\n",
       "0                           False                                  False   \n",
       "1                           False                                  False   \n",
       "2                           False                                  False   \n",
       "3                           False                                  False   \n",
       "4                           False                                  False   \n",
       "5                           False                                  False   \n",
       "6                           False                                  False   \n",
       "7                           False                                  False   \n",
       "8                           False                                  False   \n",
       "9                             NaN                                    NaN   \n",
       "\n",
       "  impact.baseMetricV2.obtainUserPrivilege  \\\n",
       "0                                   False   \n",
       "1                                   False   \n",
       "2                                   False   \n",
       "3                                   False   \n",
       "4                                   False   \n",
       "5                                   False   \n",
       "6                                   False   \n",
       "7                                   False   \n",
       "8                                   False   \n",
       "9                                     NaN   \n",
       "\n",
       "  impact.baseMetricV2.obtainOtherPrivilege  \\\n",
       "0                                    False   \n",
       "1                                    False   \n",
       "2                                    False   \n",
       "3                                    False   \n",
       "4                                    False   \n",
       "5                                    False   \n",
       "6                                    False   \n",
       "7                                    False   \n",
       "8                                    False   \n",
       "9                                      NaN   \n",
       "\n",
       "  impact.baseMetricV2.userInteractionRequired  \n",
       "0                                       False  \n",
       "1                                       False  \n",
       "2                                       False  \n",
       "3                                       False  \n",
       "4                                       False  \n",
       "5                                       False  \n",
       "6                                       False  \n",
       "7                                       False  \n",
       "8                                       False  \n",
       "9                                         NaN  \n",
       "\n",
       "[10 rows x 43 columns]"
      ]
     },
     "execution_count": 20,
     "metadata": {},
     "output_type": "execute_result"
    }
   ],
   "source": [
    "cvss.head(10)"
   ]
  },
  {
   "cell_type": "code",
   "execution_count": 21,
   "id": "ab3e9dde",
   "metadata": {},
   "outputs": [],
   "source": [
    "cvss = cvss.infer_objects()"
   ]
  },
  {
   "cell_type": "code",
   "execution_count": 22,
   "id": "bcdd34de",
   "metadata": {},
   "outputs": [],
   "source": [
    "cvss.lastModifiedDate = pd.to_datetime(cvss.lastModifiedDate)\n",
    "cvss.publishedDate = pd.to_datetime(cvss.publishedDate)"
   ]
  },
  {
   "cell_type": "code",
   "execution_count": 23,
   "id": "a4f2c718",
   "metadata": {},
   "outputs": [],
   "source": [
    "# remove columns with high cardinality \n",
    "drop_these = ['cve.data_version', 'cve.data_type', 'cve.data_format', 'cve.references.reference_data', 'cve.problemtype.problemtype_data', 'cve.description.description_data', 'configurations.CVE_data_version']\n",
    "cvss = cvss.drop(columns=drop_these)"
   ]
  },
  {
   "cell_type": "code",
   "execution_count": 24,
   "id": "54eaedd2",
   "metadata": {},
   "outputs": [
    {
     "data": {
      "text/html": [
       "<div>\n",
       "<style scoped>\n",
       "    .dataframe tbody tr th:only-of-type {\n",
       "        vertical-align: middle;\n",
       "    }\n",
       "\n",
       "    .dataframe tbody tr th {\n",
       "        vertical-align: top;\n",
       "    }\n",
       "\n",
       "    .dataframe thead th {\n",
       "        text-align: right;\n",
       "    }\n",
       "</style>\n",
       "<table border=\"1\" class=\"dataframe\">\n",
       "  <thead>\n",
       "    <tr style=\"text-align: right;\">\n",
       "      <th></th>\n",
       "      <th>publishedDate</th>\n",
       "      <th>lastModifiedDate</th>\n",
       "      <th>cve.CVE_data_meta.ID</th>\n",
       "      <th>cve.CVE_data_meta.ASSIGNER</th>\n",
       "      <th>configurations.nodes</th>\n",
       "      <th>impact.baseMetricV3.cvssV3.version</th>\n",
       "      <th>impact.baseMetricV3.cvssV3.vectorString</th>\n",
       "      <th>impact.baseMetricV3.cvssV3.attackVector</th>\n",
       "      <th>impact.baseMetricV3.cvssV3.attackComplexity</th>\n",
       "      <th>impact.baseMetricV3.cvssV3.privilegesRequired</th>\n",
       "      <th>...</th>\n",
       "      <th>impact.baseMetricV2.cvssV2.availabilityImpact</th>\n",
       "      <th>impact.baseMetricV2.cvssV2.baseScore</th>\n",
       "      <th>impact.baseMetricV2.severity</th>\n",
       "      <th>impact.baseMetricV2.exploitabilityScore</th>\n",
       "      <th>impact.baseMetricV2.impactScore</th>\n",
       "      <th>impact.baseMetricV2.acInsufInfo</th>\n",
       "      <th>impact.baseMetricV2.obtainAllPrivilege</th>\n",
       "      <th>impact.baseMetricV2.obtainUserPrivilege</th>\n",
       "      <th>impact.baseMetricV2.obtainOtherPrivilege</th>\n",
       "      <th>impact.baseMetricV2.userInteractionRequired</th>\n",
       "    </tr>\n",
       "  </thead>\n",
       "  <tbody>\n",
       "    <tr>\n",
       "      <th>229443</th>\n",
       "      <td>2023-05-22 22:15:00+00:00</td>\n",
       "      <td>2023-05-30 18:05:00+00:00</td>\n",
       "      <td>CVE-2022-4945</td>\n",
       "      <td>ics-cert@hq.dhs.gov</td>\n",
       "      <td>[{'operator': 'AND', 'children': [{'operator':...</td>\n",
       "      <td>3.1</td>\n",
       "      <td>CVSS:3.1/AV:L/AC:L/PR:L/UI:N/S:C/C:H/I:N/A:N</td>\n",
       "      <td>LOCAL</td>\n",
       "      <td>LOW</td>\n",
       "      <td>LOW</td>\n",
       "      <td>...</td>\n",
       "      <td>NaN</td>\n",
       "      <td>NaN</td>\n",
       "      <td>NaN</td>\n",
       "      <td>NaN</td>\n",
       "      <td>NaN</td>\n",
       "      <td>NaN</td>\n",
       "      <td>NaN</td>\n",
       "      <td>NaN</td>\n",
       "      <td>NaN</td>\n",
       "      <td>NaN</td>\n",
       "    </tr>\n",
       "    <tr>\n",
       "      <th>229444</th>\n",
       "      <td>2023-06-05 14:15:00+00:00</td>\n",
       "      <td>2023-06-13 13:53:00+00:00</td>\n",
       "      <td>CVE-2022-4946</td>\n",
       "      <td>contact@wpscan.com</td>\n",
       "      <td>[{'operator': 'OR', 'children': [], 'cpe_match...</td>\n",
       "      <td>3.1</td>\n",
       "      <td>CVSS:3.1/AV:N/AC:L/PR:L/UI:R/S:C/C:L/I:L/A:N</td>\n",
       "      <td>NETWORK</td>\n",
       "      <td>LOW</td>\n",
       "      <td>LOW</td>\n",
       "      <td>...</td>\n",
       "      <td>NaN</td>\n",
       "      <td>NaN</td>\n",
       "      <td>NaN</td>\n",
       "      <td>NaN</td>\n",
       "      <td>NaN</td>\n",
       "      <td>NaN</td>\n",
       "      <td>NaN</td>\n",
       "      <td>NaN</td>\n",
       "      <td>NaN</td>\n",
       "      <td>NaN</td>\n",
       "    </tr>\n",
       "    <tr>\n",
       "      <th>229445</th>\n",
       "      <td>2023-06-07 02:15:00+00:00</td>\n",
       "      <td>2023-06-13 18:38:00+00:00</td>\n",
       "      <td>CVE-2022-4948</td>\n",
       "      <td>cve-request@wordfence.com</td>\n",
       "      <td>[{'operator': 'OR', 'children': [], 'cpe_match...</td>\n",
       "      <td>3.1</td>\n",
       "      <td>CVSS:3.1/AV:N/AC:L/PR:L/UI:N/S:U/C:N/I:L/A:N</td>\n",
       "      <td>NETWORK</td>\n",
       "      <td>LOW</td>\n",
       "      <td>LOW</td>\n",
       "      <td>...</td>\n",
       "      <td>NaN</td>\n",
       "      <td>NaN</td>\n",
       "      <td>NaN</td>\n",
       "      <td>NaN</td>\n",
       "      <td>NaN</td>\n",
       "      <td>NaN</td>\n",
       "      <td>NaN</td>\n",
       "      <td>NaN</td>\n",
       "      <td>NaN</td>\n",
       "      <td>NaN</td>\n",
       "    </tr>\n",
       "    <tr>\n",
       "      <th>229446</th>\n",
       "      <td>2023-06-07 02:15:00+00:00</td>\n",
       "      <td>2023-06-13 18:40:00+00:00</td>\n",
       "      <td>CVE-2022-4949</td>\n",
       "      <td>cve-request@wordfence.com</td>\n",
       "      <td>[{'operator': 'OR', 'children': [], 'cpe_match...</td>\n",
       "      <td>3.1</td>\n",
       "      <td>CVSS:3.1/AV:N/AC:L/PR:L/UI:N/S:U/C:H/I:H/A:H</td>\n",
       "      <td>NETWORK</td>\n",
       "      <td>LOW</td>\n",
       "      <td>LOW</td>\n",
       "      <td>...</td>\n",
       "      <td>NaN</td>\n",
       "      <td>NaN</td>\n",
       "      <td>NaN</td>\n",
       "      <td>NaN</td>\n",
       "      <td>NaN</td>\n",
       "      <td>NaN</td>\n",
       "      <td>NaN</td>\n",
       "      <td>NaN</td>\n",
       "      <td>NaN</td>\n",
       "      <td>NaN</td>\n",
       "    </tr>\n",
       "    <tr>\n",
       "      <th>229447</th>\n",
       "      <td>2023-06-07 02:15:00+00:00</td>\n",
       "      <td>2023-06-13 18:42:00+00:00</td>\n",
       "      <td>CVE-2022-4950</td>\n",
       "      <td>cve-request@wordfence.com</td>\n",
       "      <td>[{'operator': 'OR', 'children': [], 'cpe_match...</td>\n",
       "      <td>3.1</td>\n",
       "      <td>CVSS:3.1/AV:N/AC:L/PR:L/UI:N/S:U/C:H/I:H/A:H</td>\n",
       "      <td>NETWORK</td>\n",
       "      <td>LOW</td>\n",
       "      <td>LOW</td>\n",
       "      <td>...</td>\n",
       "      <td>NaN</td>\n",
       "      <td>NaN</td>\n",
       "      <td>NaN</td>\n",
       "      <td>NaN</td>\n",
       "      <td>NaN</td>\n",
       "      <td>NaN</td>\n",
       "      <td>NaN</td>\n",
       "      <td>NaN</td>\n",
       "      <td>NaN</td>\n",
       "      <td>NaN</td>\n",
       "    </tr>\n",
       "    <tr>\n",
       "      <th>229448</th>\n",
       "      <td>2023-07-17 02:15:00+00:00</td>\n",
       "      <td>2023-07-27 04:07:00+00:00</td>\n",
       "      <td>CVE-2022-4952</td>\n",
       "      <td>cna@vuldb.com</td>\n",
       "      <td>[{'operator': 'OR', 'children': [], 'cpe_match...</td>\n",
       "      <td>3.1</td>\n",
       "      <td>CVSS:3.1/AV:N/AC:L/PR:N/UI:N/S:U/C:N/I:N/A:H</td>\n",
       "      <td>NETWORK</td>\n",
       "      <td>LOW</td>\n",
       "      <td>NONE</td>\n",
       "      <td>...</td>\n",
       "      <td>NaN</td>\n",
       "      <td>NaN</td>\n",
       "      <td>NaN</td>\n",
       "      <td>NaN</td>\n",
       "      <td>NaN</td>\n",
       "      <td>NaN</td>\n",
       "      <td>NaN</td>\n",
       "      <td>NaN</td>\n",
       "      <td>NaN</td>\n",
       "      <td>NaN</td>\n",
       "    </tr>\n",
       "    <tr>\n",
       "      <th>229449</th>\n",
       "      <td>2023-08-14 20:15:00+00:00</td>\n",
       "      <td>2023-09-08 23:15:00+00:00</td>\n",
       "      <td>CVE-2022-4953</td>\n",
       "      <td>contact@wpscan.com</td>\n",
       "      <td>[{'operator': 'OR', 'children': [], 'cpe_match...</td>\n",
       "      <td>3.1</td>\n",
       "      <td>CVSS:3.1/AV:N/AC:L/PR:N/UI:R/S:C/C:L/I:L/A:N</td>\n",
       "      <td>NETWORK</td>\n",
       "      <td>LOW</td>\n",
       "      <td>NONE</td>\n",
       "      <td>...</td>\n",
       "      <td>NaN</td>\n",
       "      <td>NaN</td>\n",
       "      <td>NaN</td>\n",
       "      <td>NaN</td>\n",
       "      <td>NaN</td>\n",
       "      <td>NaN</td>\n",
       "      <td>NaN</td>\n",
       "      <td>NaN</td>\n",
       "      <td>NaN</td>\n",
       "      <td>NaN</td>\n",
       "    </tr>\n",
       "    <tr>\n",
       "      <th>229450</th>\n",
       "      <td>2023-10-20 07:15:00+00:00</td>\n",
       "      <td>2023-10-26 17:28:00+00:00</td>\n",
       "      <td>CVE-2022-4954</td>\n",
       "      <td>cve-request@wordfence.com</td>\n",
       "      <td>[{'operator': 'OR', 'children': [], 'cpe_match...</td>\n",
       "      <td>3.1</td>\n",
       "      <td>CVSS:3.1/AV:N/AC:L/PR:H/UI:R/S:C/C:L/I:L/A:N</td>\n",
       "      <td>NETWORK</td>\n",
       "      <td>LOW</td>\n",
       "      <td>HIGH</td>\n",
       "      <td>...</td>\n",
       "      <td>NaN</td>\n",
       "      <td>NaN</td>\n",
       "      <td>NaN</td>\n",
       "      <td>NaN</td>\n",
       "      <td>NaN</td>\n",
       "      <td>NaN</td>\n",
       "      <td>NaN</td>\n",
       "      <td>NaN</td>\n",
       "      <td>NaN</td>\n",
       "      <td>NaN</td>\n",
       "    </tr>\n",
       "    <tr>\n",
       "      <th>229451</th>\n",
       "      <td>2023-08-04 20:15:00+00:00</td>\n",
       "      <td>2023-08-09 17:19:00+00:00</td>\n",
       "      <td>CVE-2022-4955</td>\n",
       "      <td>chrome-cve-admin@google.com</td>\n",
       "      <td>[{'operator': 'OR', 'children': [], 'cpe_match...</td>\n",
       "      <td>3.1</td>\n",
       "      <td>CVSS:3.1/AV:N/AC:L/PR:N/UI:R/S:U/C:N/I:H/A:N</td>\n",
       "      <td>NETWORK</td>\n",
       "      <td>LOW</td>\n",
       "      <td>NONE</td>\n",
       "      <td>...</td>\n",
       "      <td>NaN</td>\n",
       "      <td>NaN</td>\n",
       "      <td>NaN</td>\n",
       "      <td>NaN</td>\n",
       "      <td>NaN</td>\n",
       "      <td>NaN</td>\n",
       "      <td>NaN</td>\n",
       "      <td>NaN</td>\n",
       "      <td>NaN</td>\n",
       "      <td>NaN</td>\n",
       "    </tr>\n",
       "    <tr>\n",
       "      <th>229452</th>\n",
       "      <td>2023-09-30 17:15:00+00:00</td>\n",
       "      <td>2023-10-03 20:58:00+00:00</td>\n",
       "      <td>CVE-2022-4956</td>\n",
       "      <td>cna@vuldb.com</td>\n",
       "      <td>[{'operator': 'OR', 'children': [], 'cpe_match...</td>\n",
       "      <td>3.1</td>\n",
       "      <td>CVSS:3.1/AV:L/AC:L/PR:L/UI:N/S:U/C:H/I:H/A:H</td>\n",
       "      <td>LOCAL</td>\n",
       "      <td>LOW</td>\n",
       "      <td>LOW</td>\n",
       "      <td>...</td>\n",
       "      <td>NaN</td>\n",
       "      <td>NaN</td>\n",
       "      <td>NaN</td>\n",
       "      <td>NaN</td>\n",
       "      <td>NaN</td>\n",
       "      <td>NaN</td>\n",
       "      <td>NaN</td>\n",
       "      <td>NaN</td>\n",
       "      <td>NaN</td>\n",
       "      <td>NaN</td>\n",
       "    </tr>\n",
       "  </tbody>\n",
       "</table>\n",
       "<p>10 rows × 36 columns</p>\n",
       "</div>"
      ],
      "text/plain": [
       "                   publishedDate          lastModifiedDate  \\\n",
       "229443 2023-05-22 22:15:00+00:00 2023-05-30 18:05:00+00:00   \n",
       "229444 2023-06-05 14:15:00+00:00 2023-06-13 13:53:00+00:00   \n",
       "229445 2023-06-07 02:15:00+00:00 2023-06-13 18:38:00+00:00   \n",
       "229446 2023-06-07 02:15:00+00:00 2023-06-13 18:40:00+00:00   \n",
       "229447 2023-06-07 02:15:00+00:00 2023-06-13 18:42:00+00:00   \n",
       "229448 2023-07-17 02:15:00+00:00 2023-07-27 04:07:00+00:00   \n",
       "229449 2023-08-14 20:15:00+00:00 2023-09-08 23:15:00+00:00   \n",
       "229450 2023-10-20 07:15:00+00:00 2023-10-26 17:28:00+00:00   \n",
       "229451 2023-08-04 20:15:00+00:00 2023-08-09 17:19:00+00:00   \n",
       "229452 2023-09-30 17:15:00+00:00 2023-10-03 20:58:00+00:00   \n",
       "\n",
       "       cve.CVE_data_meta.ID   cve.CVE_data_meta.ASSIGNER  \\\n",
       "229443        CVE-2022-4945          ics-cert@hq.dhs.gov   \n",
       "229444        CVE-2022-4946           contact@wpscan.com   \n",
       "229445        CVE-2022-4948    cve-request@wordfence.com   \n",
       "229446        CVE-2022-4949    cve-request@wordfence.com   \n",
       "229447        CVE-2022-4950    cve-request@wordfence.com   \n",
       "229448        CVE-2022-4952                cna@vuldb.com   \n",
       "229449        CVE-2022-4953           contact@wpscan.com   \n",
       "229450        CVE-2022-4954    cve-request@wordfence.com   \n",
       "229451        CVE-2022-4955  chrome-cve-admin@google.com   \n",
       "229452        CVE-2022-4956                cna@vuldb.com   \n",
       "\n",
       "                                     configurations.nodes  \\\n",
       "229443  [{'operator': 'AND', 'children': [{'operator':...   \n",
       "229444  [{'operator': 'OR', 'children': [], 'cpe_match...   \n",
       "229445  [{'operator': 'OR', 'children': [], 'cpe_match...   \n",
       "229446  [{'operator': 'OR', 'children': [], 'cpe_match...   \n",
       "229447  [{'operator': 'OR', 'children': [], 'cpe_match...   \n",
       "229448  [{'operator': 'OR', 'children': [], 'cpe_match...   \n",
       "229449  [{'operator': 'OR', 'children': [], 'cpe_match...   \n",
       "229450  [{'operator': 'OR', 'children': [], 'cpe_match...   \n",
       "229451  [{'operator': 'OR', 'children': [], 'cpe_match...   \n",
       "229452  [{'operator': 'OR', 'children': [], 'cpe_match...   \n",
       "\n",
       "       impact.baseMetricV3.cvssV3.version  \\\n",
       "229443                                3.1   \n",
       "229444                                3.1   \n",
       "229445                                3.1   \n",
       "229446                                3.1   \n",
       "229447                                3.1   \n",
       "229448                                3.1   \n",
       "229449                                3.1   \n",
       "229450                                3.1   \n",
       "229451                                3.1   \n",
       "229452                                3.1   \n",
       "\n",
       "             impact.baseMetricV3.cvssV3.vectorString  \\\n",
       "229443  CVSS:3.1/AV:L/AC:L/PR:L/UI:N/S:C/C:H/I:N/A:N   \n",
       "229444  CVSS:3.1/AV:N/AC:L/PR:L/UI:R/S:C/C:L/I:L/A:N   \n",
       "229445  CVSS:3.1/AV:N/AC:L/PR:L/UI:N/S:U/C:N/I:L/A:N   \n",
       "229446  CVSS:3.1/AV:N/AC:L/PR:L/UI:N/S:U/C:H/I:H/A:H   \n",
       "229447  CVSS:3.1/AV:N/AC:L/PR:L/UI:N/S:U/C:H/I:H/A:H   \n",
       "229448  CVSS:3.1/AV:N/AC:L/PR:N/UI:N/S:U/C:N/I:N/A:H   \n",
       "229449  CVSS:3.1/AV:N/AC:L/PR:N/UI:R/S:C/C:L/I:L/A:N   \n",
       "229450  CVSS:3.1/AV:N/AC:L/PR:H/UI:R/S:C/C:L/I:L/A:N   \n",
       "229451  CVSS:3.1/AV:N/AC:L/PR:N/UI:R/S:U/C:N/I:H/A:N   \n",
       "229452  CVSS:3.1/AV:L/AC:L/PR:L/UI:N/S:U/C:H/I:H/A:H   \n",
       "\n",
       "       impact.baseMetricV3.cvssV3.attackVector  \\\n",
       "229443                                   LOCAL   \n",
       "229444                                 NETWORK   \n",
       "229445                                 NETWORK   \n",
       "229446                                 NETWORK   \n",
       "229447                                 NETWORK   \n",
       "229448                                 NETWORK   \n",
       "229449                                 NETWORK   \n",
       "229450                                 NETWORK   \n",
       "229451                                 NETWORK   \n",
       "229452                                   LOCAL   \n",
       "\n",
       "       impact.baseMetricV3.cvssV3.attackComplexity  \\\n",
       "229443                                         LOW   \n",
       "229444                                         LOW   \n",
       "229445                                         LOW   \n",
       "229446                                         LOW   \n",
       "229447                                         LOW   \n",
       "229448                                         LOW   \n",
       "229449                                         LOW   \n",
       "229450                                         LOW   \n",
       "229451                                         LOW   \n",
       "229452                                         LOW   \n",
       "\n",
       "       impact.baseMetricV3.cvssV3.privilegesRequired  ...  \\\n",
       "229443                                           LOW  ...   \n",
       "229444                                           LOW  ...   \n",
       "229445                                           LOW  ...   \n",
       "229446                                           LOW  ...   \n",
       "229447                                           LOW  ...   \n",
       "229448                                          NONE  ...   \n",
       "229449                                          NONE  ...   \n",
       "229450                                          HIGH  ...   \n",
       "229451                                          NONE  ...   \n",
       "229452                                           LOW  ...   \n",
       "\n",
       "       impact.baseMetricV2.cvssV2.availabilityImpact  \\\n",
       "229443                                           NaN   \n",
       "229444                                           NaN   \n",
       "229445                                           NaN   \n",
       "229446                                           NaN   \n",
       "229447                                           NaN   \n",
       "229448                                           NaN   \n",
       "229449                                           NaN   \n",
       "229450                                           NaN   \n",
       "229451                                           NaN   \n",
       "229452                                           NaN   \n",
       "\n",
       "       impact.baseMetricV2.cvssV2.baseScore impact.baseMetricV2.severity  \\\n",
       "229443                                  NaN                          NaN   \n",
       "229444                                  NaN                          NaN   \n",
       "229445                                  NaN                          NaN   \n",
       "229446                                  NaN                          NaN   \n",
       "229447                                  NaN                          NaN   \n",
       "229448                                  NaN                          NaN   \n",
       "229449                                  NaN                          NaN   \n",
       "229450                                  NaN                          NaN   \n",
       "229451                                  NaN                          NaN   \n",
       "229452                                  NaN                          NaN   \n",
       "\n",
       "       impact.baseMetricV2.exploitabilityScore  \\\n",
       "229443                                     NaN   \n",
       "229444                                     NaN   \n",
       "229445                                     NaN   \n",
       "229446                                     NaN   \n",
       "229447                                     NaN   \n",
       "229448                                     NaN   \n",
       "229449                                     NaN   \n",
       "229450                                     NaN   \n",
       "229451                                     NaN   \n",
       "229452                                     NaN   \n",
       "\n",
       "       impact.baseMetricV2.impactScore  impact.baseMetricV2.acInsufInfo  \\\n",
       "229443                             NaN                              NaN   \n",
       "229444                             NaN                              NaN   \n",
       "229445                             NaN                              NaN   \n",
       "229446                             NaN                              NaN   \n",
       "229447                             NaN                              NaN   \n",
       "229448                             NaN                              NaN   \n",
       "229449                             NaN                              NaN   \n",
       "229450                             NaN                              NaN   \n",
       "229451                             NaN                              NaN   \n",
       "229452                             NaN                              NaN   \n",
       "\n",
       "       impact.baseMetricV2.obtainAllPrivilege  \\\n",
       "229443                                    NaN   \n",
       "229444                                    NaN   \n",
       "229445                                    NaN   \n",
       "229446                                    NaN   \n",
       "229447                                    NaN   \n",
       "229448                                    NaN   \n",
       "229449                                    NaN   \n",
       "229450                                    NaN   \n",
       "229451                                    NaN   \n",
       "229452                                    NaN   \n",
       "\n",
       "        impact.baseMetricV2.obtainUserPrivilege  \\\n",
       "229443                                      NaN   \n",
       "229444                                      NaN   \n",
       "229445                                      NaN   \n",
       "229446                                      NaN   \n",
       "229447                                      NaN   \n",
       "229448                                      NaN   \n",
       "229449                                      NaN   \n",
       "229450                                      NaN   \n",
       "229451                                      NaN   \n",
       "229452                                      NaN   \n",
       "\n",
       "        impact.baseMetricV2.obtainOtherPrivilege  \\\n",
       "229443                                       NaN   \n",
       "229444                                       NaN   \n",
       "229445                                       NaN   \n",
       "229446                                       NaN   \n",
       "229447                                       NaN   \n",
       "229448                                       NaN   \n",
       "229449                                       NaN   \n",
       "229450                                       NaN   \n",
       "229451                                       NaN   \n",
       "229452                                       NaN   \n",
       "\n",
       "       impact.baseMetricV2.userInteractionRequired  \n",
       "229443                                         NaN  \n",
       "229444                                         NaN  \n",
       "229445                                         NaN  \n",
       "229446                                         NaN  \n",
       "229447                                         NaN  \n",
       "229448                                         NaN  \n",
       "229449                                         NaN  \n",
       "229450                                         NaN  \n",
       "229451                                         NaN  \n",
       "229452                                         NaN  \n",
       "\n",
       "[10 rows x 36 columns]"
      ]
     },
     "execution_count": 24,
     "metadata": {},
     "output_type": "execute_result"
    }
   ],
   "source": [
    "cvss.tail(10)"
   ]
  },
  {
   "cell_type": "code",
   "execution_count": 25,
   "id": "7a9ee9a3",
   "metadata": {},
   "outputs": [],
   "source": [
    "# might have to remove them later on though\n",
    "cvss['impact.baseMetricV3.cvssV3.baseScore'].fillna(0, inplace=True)\n",
    "cvss['impact.baseMetricV2.cvssV2.baseScore'].fillna(0, inplace=True)"
   ]
  },
  {
   "cell_type": "code",
   "execution_count": 26,
   "id": "2df77e63",
   "metadata": {},
   "outputs": [
    {
     "data": {
      "text/html": [
       "<div>\n",
       "<style scoped>\n",
       "    .dataframe tbody tr th:only-of-type {\n",
       "        vertical-align: middle;\n",
       "    }\n",
       "\n",
       "    .dataframe tbody tr th {\n",
       "        vertical-align: top;\n",
       "    }\n",
       "\n",
       "    .dataframe thead th {\n",
       "        text-align: right;\n",
       "    }\n",
       "</style>\n",
       "<table border=\"1\" class=\"dataframe\">\n",
       "  <thead>\n",
       "    <tr style=\"text-align: right;\">\n",
       "      <th></th>\n",
       "      <th>publishedDate</th>\n",
       "      <th>lastModifiedDate</th>\n",
       "      <th>cve.CVE_data_meta.ID</th>\n",
       "      <th>cve.CVE_data_meta.ASSIGNER</th>\n",
       "      <th>configurations.nodes</th>\n",
       "      <th>impact.baseMetricV3.cvssV3.version</th>\n",
       "      <th>impact.baseMetricV3.cvssV3.vectorString</th>\n",
       "      <th>impact.baseMetricV3.cvssV3.attackVector</th>\n",
       "      <th>impact.baseMetricV3.cvssV3.attackComplexity</th>\n",
       "      <th>impact.baseMetricV3.cvssV3.privilegesRequired</th>\n",
       "      <th>...</th>\n",
       "      <th>impact.baseMetricV2.cvssV2.availabilityImpact</th>\n",
       "      <th>impact.baseMetricV2.cvssV2.baseScore</th>\n",
       "      <th>impact.baseMetricV2.severity</th>\n",
       "      <th>impact.baseMetricV2.exploitabilityScore</th>\n",
       "      <th>impact.baseMetricV2.impactScore</th>\n",
       "      <th>impact.baseMetricV2.acInsufInfo</th>\n",
       "      <th>impact.baseMetricV2.obtainAllPrivilege</th>\n",
       "      <th>impact.baseMetricV2.obtainUserPrivilege</th>\n",
       "      <th>impact.baseMetricV2.obtainOtherPrivilege</th>\n",
       "      <th>impact.baseMetricV2.userInteractionRequired</th>\n",
       "    </tr>\n",
       "  </thead>\n",
       "  <tbody>\n",
       "    <tr>\n",
       "      <th>0</th>\n",
       "      <td>2021-06-09 20:15:00+00:00</td>\n",
       "      <td>2021-06-28 18:03:00+00:00</td>\n",
       "      <td>CVE-2021-0001</td>\n",
       "      <td>secure@intel.com</td>\n",
       "      <td>[{'operator': 'OR', 'children': [], 'cpe_match...</td>\n",
       "      <td>3.1</td>\n",
       "      <td>CVSS:3.1/AV:L/AC:H/PR:L/UI:N/S:U/C:H/I:N/A:N</td>\n",
       "      <td>LOCAL</td>\n",
       "      <td>HIGH</td>\n",
       "      <td>LOW</td>\n",
       "      <td>...</td>\n",
       "      <td>NONE</td>\n",
       "      <td>2.1</td>\n",
       "      <td>LOW</td>\n",
       "      <td>3.9</td>\n",
       "      <td>2.9</td>\n",
       "      <td>False</td>\n",
       "      <td>False</td>\n",
       "      <td>False</td>\n",
       "      <td>False</td>\n",
       "      <td>False</td>\n",
       "    </tr>\n",
       "    <tr>\n",
       "      <th>1</th>\n",
       "      <td>2021-08-11 13:15:00+00:00</td>\n",
       "      <td>2021-11-30 19:43:00+00:00</td>\n",
       "      <td>CVE-2021-0002</td>\n",
       "      <td>secure@intel.com</td>\n",
       "      <td>[{'operator': 'AND', 'children': [{'operator':...</td>\n",
       "      <td>3.1</td>\n",
       "      <td>CVSS:3.1/AV:L/AC:L/PR:L/UI:N/S:U/C:H/I:N/A:H</td>\n",
       "      <td>LOCAL</td>\n",
       "      <td>LOW</td>\n",
       "      <td>LOW</td>\n",
       "      <td>...</td>\n",
       "      <td>PARTIAL</td>\n",
       "      <td>3.6</td>\n",
       "      <td>LOW</td>\n",
       "      <td>3.9</td>\n",
       "      <td>4.9</td>\n",
       "      <td>False</td>\n",
       "      <td>False</td>\n",
       "      <td>False</td>\n",
       "      <td>False</td>\n",
       "      <td>False</td>\n",
       "    </tr>\n",
       "    <tr>\n",
       "      <th>2</th>\n",
       "      <td>2021-08-11 13:15:00+00:00</td>\n",
       "      <td>2021-09-14 18:36:00+00:00</td>\n",
       "      <td>CVE-2021-0003</td>\n",
       "      <td>secure@intel.com</td>\n",
       "      <td>[{'operator': 'AND', 'children': [{'operator':...</td>\n",
       "      <td>3.1</td>\n",
       "      <td>CVSS:3.1/AV:L/AC:L/PR:L/UI:N/S:U/C:H/I:N/A:N</td>\n",
       "      <td>LOCAL</td>\n",
       "      <td>LOW</td>\n",
       "      <td>LOW</td>\n",
       "      <td>...</td>\n",
       "      <td>NONE</td>\n",
       "      <td>2.1</td>\n",
       "      <td>LOW</td>\n",
       "      <td>3.9</td>\n",
       "      <td>2.9</td>\n",
       "      <td>False</td>\n",
       "      <td>False</td>\n",
       "      <td>False</td>\n",
       "      <td>False</td>\n",
       "      <td>False</td>\n",
       "    </tr>\n",
       "    <tr>\n",
       "      <th>3</th>\n",
       "      <td>2021-08-11 13:15:00+00:00</td>\n",
       "      <td>2022-03-31 19:45:00+00:00</td>\n",
       "      <td>CVE-2021-0004</td>\n",
       "      <td>secure@intel.com</td>\n",
       "      <td>[{'operator': 'AND', 'children': [{'operator':...</td>\n",
       "      <td>3.1</td>\n",
       "      <td>CVSS:3.1/AV:L/AC:L/PR:H/UI:N/S:U/C:N/I:N/A:H</td>\n",
       "      <td>LOCAL</td>\n",
       "      <td>LOW</td>\n",
       "      <td>HIGH</td>\n",
       "      <td>...</td>\n",
       "      <td>PARTIAL</td>\n",
       "      <td>2.1</td>\n",
       "      <td>LOW</td>\n",
       "      <td>3.9</td>\n",
       "      <td>2.9</td>\n",
       "      <td>False</td>\n",
       "      <td>False</td>\n",
       "      <td>False</td>\n",
       "      <td>False</td>\n",
       "      <td>False</td>\n",
       "    </tr>\n",
       "    <tr>\n",
       "      <th>4</th>\n",
       "      <td>2021-08-11 13:15:00+00:00</td>\n",
       "      <td>2021-09-14 18:36:00+00:00</td>\n",
       "      <td>CVE-2021-0005</td>\n",
       "      <td>secure@intel.com</td>\n",
       "      <td>[{'operator': 'AND', 'children': [{'operator':...</td>\n",
       "      <td>3.1</td>\n",
       "      <td>CVSS:3.1/AV:L/AC:L/PR:H/UI:N/S:U/C:N/I:N/A:H</td>\n",
       "      <td>LOCAL</td>\n",
       "      <td>LOW</td>\n",
       "      <td>HIGH</td>\n",
       "      <td>...</td>\n",
       "      <td>PARTIAL</td>\n",
       "      <td>2.1</td>\n",
       "      <td>LOW</td>\n",
       "      <td>3.9</td>\n",
       "      <td>2.9</td>\n",
       "      <td>False</td>\n",
       "      <td>False</td>\n",
       "      <td>False</td>\n",
       "      <td>False</td>\n",
       "      <td>False</td>\n",
       "    </tr>\n",
       "    <tr>\n",
       "      <th>5</th>\n",
       "      <td>2021-08-11 13:15:00+00:00</td>\n",
       "      <td>2021-09-14 18:35:00+00:00</td>\n",
       "      <td>CVE-2021-0006</td>\n",
       "      <td>secure@intel.com</td>\n",
       "      <td>[{'operator': 'AND', 'children': [{'operator':...</td>\n",
       "      <td>3.1</td>\n",
       "      <td>CVSS:3.1/AV:L/AC:L/PR:H/UI:N/S:U/C:N/I:N/A:H</td>\n",
       "      <td>LOCAL</td>\n",
       "      <td>LOW</td>\n",
       "      <td>HIGH</td>\n",
       "      <td>...</td>\n",
       "      <td>PARTIAL</td>\n",
       "      <td>2.1</td>\n",
       "      <td>LOW</td>\n",
       "      <td>3.9</td>\n",
       "      <td>2.9</td>\n",
       "      <td>False</td>\n",
       "      <td>False</td>\n",
       "      <td>False</td>\n",
       "      <td>False</td>\n",
       "      <td>False</td>\n",
       "    </tr>\n",
       "    <tr>\n",
       "      <th>6</th>\n",
       "      <td>2021-08-11 13:15:00+00:00</td>\n",
       "      <td>2021-09-14 18:35:00+00:00</td>\n",
       "      <td>CVE-2021-0007</td>\n",
       "      <td>secure@intel.com</td>\n",
       "      <td>[{'operator': 'AND', 'children': [{'operator':...</td>\n",
       "      <td>3.1</td>\n",
       "      <td>CVSS:3.1/AV:L/AC:L/PR:H/UI:N/S:U/C:N/I:N/A:H</td>\n",
       "      <td>LOCAL</td>\n",
       "      <td>LOW</td>\n",
       "      <td>HIGH</td>\n",
       "      <td>...</td>\n",
       "      <td>PARTIAL</td>\n",
       "      <td>2.1</td>\n",
       "      <td>LOW</td>\n",
       "      <td>3.9</td>\n",
       "      <td>2.9</td>\n",
       "      <td>False</td>\n",
       "      <td>False</td>\n",
       "      <td>False</td>\n",
       "      <td>False</td>\n",
       "      <td>False</td>\n",
       "    </tr>\n",
       "    <tr>\n",
       "      <th>7</th>\n",
       "      <td>2021-08-11 13:15:00+00:00</td>\n",
       "      <td>2021-09-14 18:34:00+00:00</td>\n",
       "      <td>CVE-2021-0008</td>\n",
       "      <td>secure@intel.com</td>\n",
       "      <td>[{'operator': 'AND', 'children': [{'operator':...</td>\n",
       "      <td>3.1</td>\n",
       "      <td>CVSS:3.1/AV:L/AC:L/PR:H/UI:N/S:U/C:N/I:N/A:H</td>\n",
       "      <td>LOCAL</td>\n",
       "      <td>LOW</td>\n",
       "      <td>HIGH</td>\n",
       "      <td>...</td>\n",
       "      <td>PARTIAL</td>\n",
       "      <td>2.1</td>\n",
       "      <td>LOW</td>\n",
       "      <td>3.9</td>\n",
       "      <td>2.9</td>\n",
       "      <td>False</td>\n",
       "      <td>False</td>\n",
       "      <td>False</td>\n",
       "      <td>False</td>\n",
       "      <td>False</td>\n",
       "    </tr>\n",
       "    <tr>\n",
       "      <th>8</th>\n",
       "      <td>2021-08-11 13:15:00+00:00</td>\n",
       "      <td>2021-09-14 18:34:00+00:00</td>\n",
       "      <td>CVE-2021-0009</td>\n",
       "      <td>secure@intel.com</td>\n",
       "      <td>[{'operator': 'AND', 'children': [{'operator':...</td>\n",
       "      <td>3.1</td>\n",
       "      <td>CVSS:3.1/AV:A/AC:L/PR:N/UI:N/S:U/C:N/I:N/A:H</td>\n",
       "      <td>ADJACENT_NETWORK</td>\n",
       "      <td>LOW</td>\n",
       "      <td>NONE</td>\n",
       "      <td>...</td>\n",
       "      <td>NONE</td>\n",
       "      <td>3.3</td>\n",
       "      <td>LOW</td>\n",
       "      <td>6.5</td>\n",
       "      <td>2.9</td>\n",
       "      <td>False</td>\n",
       "      <td>False</td>\n",
       "      <td>False</td>\n",
       "      <td>False</td>\n",
       "      <td>False</td>\n",
       "    </tr>\n",
       "    <tr>\n",
       "      <th>9</th>\n",
       "      <td>2023-05-16 22:15:00+00:00</td>\n",
       "      <td>2023-05-16 22:15:00+00:00</td>\n",
       "      <td>CVE-2021-0010</td>\n",
       "      <td>cve@mitre.org</td>\n",
       "      <td>[]</td>\n",
       "      <td>NaN</td>\n",
       "      <td>NaN</td>\n",
       "      <td>NaN</td>\n",
       "      <td>NaN</td>\n",
       "      <td>NaN</td>\n",
       "      <td>...</td>\n",
       "      <td>NaN</td>\n",
       "      <td>0.0</td>\n",
       "      <td>NaN</td>\n",
       "      <td>NaN</td>\n",
       "      <td>NaN</td>\n",
       "      <td>NaN</td>\n",
       "      <td>NaN</td>\n",
       "      <td>NaN</td>\n",
       "      <td>NaN</td>\n",
       "      <td>NaN</td>\n",
       "    </tr>\n",
       "  </tbody>\n",
       "</table>\n",
       "<p>10 rows × 36 columns</p>\n",
       "</div>"
      ],
      "text/plain": [
       "              publishedDate          lastModifiedDate cve.CVE_data_meta.ID  \\\n",
       "0 2021-06-09 20:15:00+00:00 2021-06-28 18:03:00+00:00        CVE-2021-0001   \n",
       "1 2021-08-11 13:15:00+00:00 2021-11-30 19:43:00+00:00        CVE-2021-0002   \n",
       "2 2021-08-11 13:15:00+00:00 2021-09-14 18:36:00+00:00        CVE-2021-0003   \n",
       "3 2021-08-11 13:15:00+00:00 2022-03-31 19:45:00+00:00        CVE-2021-0004   \n",
       "4 2021-08-11 13:15:00+00:00 2021-09-14 18:36:00+00:00        CVE-2021-0005   \n",
       "5 2021-08-11 13:15:00+00:00 2021-09-14 18:35:00+00:00        CVE-2021-0006   \n",
       "6 2021-08-11 13:15:00+00:00 2021-09-14 18:35:00+00:00        CVE-2021-0007   \n",
       "7 2021-08-11 13:15:00+00:00 2021-09-14 18:34:00+00:00        CVE-2021-0008   \n",
       "8 2021-08-11 13:15:00+00:00 2021-09-14 18:34:00+00:00        CVE-2021-0009   \n",
       "9 2023-05-16 22:15:00+00:00 2023-05-16 22:15:00+00:00        CVE-2021-0010   \n",
       "\n",
       "  cve.CVE_data_meta.ASSIGNER  \\\n",
       "0           secure@intel.com   \n",
       "1           secure@intel.com   \n",
       "2           secure@intel.com   \n",
       "3           secure@intel.com   \n",
       "4           secure@intel.com   \n",
       "5           secure@intel.com   \n",
       "6           secure@intel.com   \n",
       "7           secure@intel.com   \n",
       "8           secure@intel.com   \n",
       "9              cve@mitre.org   \n",
       "\n",
       "                                configurations.nodes  \\\n",
       "0  [{'operator': 'OR', 'children': [], 'cpe_match...   \n",
       "1  [{'operator': 'AND', 'children': [{'operator':...   \n",
       "2  [{'operator': 'AND', 'children': [{'operator':...   \n",
       "3  [{'operator': 'AND', 'children': [{'operator':...   \n",
       "4  [{'operator': 'AND', 'children': [{'operator':...   \n",
       "5  [{'operator': 'AND', 'children': [{'operator':...   \n",
       "6  [{'operator': 'AND', 'children': [{'operator':...   \n",
       "7  [{'operator': 'AND', 'children': [{'operator':...   \n",
       "8  [{'operator': 'AND', 'children': [{'operator':...   \n",
       "9                                                 []   \n",
       "\n",
       "  impact.baseMetricV3.cvssV3.version  \\\n",
       "0                                3.1   \n",
       "1                                3.1   \n",
       "2                                3.1   \n",
       "3                                3.1   \n",
       "4                                3.1   \n",
       "5                                3.1   \n",
       "6                                3.1   \n",
       "7                                3.1   \n",
       "8                                3.1   \n",
       "9                                NaN   \n",
       "\n",
       "        impact.baseMetricV3.cvssV3.vectorString  \\\n",
       "0  CVSS:3.1/AV:L/AC:H/PR:L/UI:N/S:U/C:H/I:N/A:N   \n",
       "1  CVSS:3.1/AV:L/AC:L/PR:L/UI:N/S:U/C:H/I:N/A:H   \n",
       "2  CVSS:3.1/AV:L/AC:L/PR:L/UI:N/S:U/C:H/I:N/A:N   \n",
       "3  CVSS:3.1/AV:L/AC:L/PR:H/UI:N/S:U/C:N/I:N/A:H   \n",
       "4  CVSS:3.1/AV:L/AC:L/PR:H/UI:N/S:U/C:N/I:N/A:H   \n",
       "5  CVSS:3.1/AV:L/AC:L/PR:H/UI:N/S:U/C:N/I:N/A:H   \n",
       "6  CVSS:3.1/AV:L/AC:L/PR:H/UI:N/S:U/C:N/I:N/A:H   \n",
       "7  CVSS:3.1/AV:L/AC:L/PR:H/UI:N/S:U/C:N/I:N/A:H   \n",
       "8  CVSS:3.1/AV:A/AC:L/PR:N/UI:N/S:U/C:N/I:N/A:H   \n",
       "9                                           NaN   \n",
       "\n",
       "  impact.baseMetricV3.cvssV3.attackVector  \\\n",
       "0                                   LOCAL   \n",
       "1                                   LOCAL   \n",
       "2                                   LOCAL   \n",
       "3                                   LOCAL   \n",
       "4                                   LOCAL   \n",
       "5                                   LOCAL   \n",
       "6                                   LOCAL   \n",
       "7                                   LOCAL   \n",
       "8                        ADJACENT_NETWORK   \n",
       "9                                     NaN   \n",
       "\n",
       "  impact.baseMetricV3.cvssV3.attackComplexity  \\\n",
       "0                                        HIGH   \n",
       "1                                         LOW   \n",
       "2                                         LOW   \n",
       "3                                         LOW   \n",
       "4                                         LOW   \n",
       "5                                         LOW   \n",
       "6                                         LOW   \n",
       "7                                         LOW   \n",
       "8                                         LOW   \n",
       "9                                         NaN   \n",
       "\n",
       "  impact.baseMetricV3.cvssV3.privilegesRequired  ...  \\\n",
       "0                                           LOW  ...   \n",
       "1                                           LOW  ...   \n",
       "2                                           LOW  ...   \n",
       "3                                          HIGH  ...   \n",
       "4                                          HIGH  ...   \n",
       "5                                          HIGH  ...   \n",
       "6                                          HIGH  ...   \n",
       "7                                          HIGH  ...   \n",
       "8                                          NONE  ...   \n",
       "9                                           NaN  ...   \n",
       "\n",
       "  impact.baseMetricV2.cvssV2.availabilityImpact  \\\n",
       "0                                          NONE   \n",
       "1                                       PARTIAL   \n",
       "2                                          NONE   \n",
       "3                                       PARTIAL   \n",
       "4                                       PARTIAL   \n",
       "5                                       PARTIAL   \n",
       "6                                       PARTIAL   \n",
       "7                                       PARTIAL   \n",
       "8                                          NONE   \n",
       "9                                           NaN   \n",
       "\n",
       "  impact.baseMetricV2.cvssV2.baseScore impact.baseMetricV2.severity  \\\n",
       "0                                  2.1                          LOW   \n",
       "1                                  3.6                          LOW   \n",
       "2                                  2.1                          LOW   \n",
       "3                                  2.1                          LOW   \n",
       "4                                  2.1                          LOW   \n",
       "5                                  2.1                          LOW   \n",
       "6                                  2.1                          LOW   \n",
       "7                                  2.1                          LOW   \n",
       "8                                  3.3                          LOW   \n",
       "9                                  0.0                          NaN   \n",
       "\n",
       "  impact.baseMetricV2.exploitabilityScore impact.baseMetricV2.impactScore  \\\n",
       "0                                     3.9                             2.9   \n",
       "1                                     3.9                             4.9   \n",
       "2                                     3.9                             2.9   \n",
       "3                                     3.9                             2.9   \n",
       "4                                     3.9                             2.9   \n",
       "5                                     3.9                             2.9   \n",
       "6                                     3.9                             2.9   \n",
       "7                                     3.9                             2.9   \n",
       "8                                     6.5                             2.9   \n",
       "9                                     NaN                             NaN   \n",
       "\n",
       "   impact.baseMetricV2.acInsufInfo impact.baseMetricV2.obtainAllPrivilege  \\\n",
       "0                            False                                  False   \n",
       "1                            False                                  False   \n",
       "2                            False                                  False   \n",
       "3                            False                                  False   \n",
       "4                            False                                  False   \n",
       "5                            False                                  False   \n",
       "6                            False                                  False   \n",
       "7                            False                                  False   \n",
       "8                            False                                  False   \n",
       "9                              NaN                                    NaN   \n",
       "\n",
       "   impact.baseMetricV2.obtainUserPrivilege  \\\n",
       "0                                    False   \n",
       "1                                    False   \n",
       "2                                    False   \n",
       "3                                    False   \n",
       "4                                    False   \n",
       "5                                    False   \n",
       "6                                    False   \n",
       "7                                    False   \n",
       "8                                    False   \n",
       "9                                      NaN   \n",
       "\n",
       "   impact.baseMetricV2.obtainOtherPrivilege  \\\n",
       "0                                     False   \n",
       "1                                     False   \n",
       "2                                     False   \n",
       "3                                     False   \n",
       "4                                     False   \n",
       "5                                     False   \n",
       "6                                     False   \n",
       "7                                     False   \n",
       "8                                     False   \n",
       "9                                       NaN   \n",
       "\n",
       "  impact.baseMetricV2.userInteractionRequired  \n",
       "0                                       False  \n",
       "1                                       False  \n",
       "2                                       False  \n",
       "3                                       False  \n",
       "4                                       False  \n",
       "5                                       False  \n",
       "6                                       False  \n",
       "7                                       False  \n",
       "8                                       False  \n",
       "9                                         NaN  \n",
       "\n",
       "[10 rows x 36 columns]"
      ]
     },
     "execution_count": 26,
     "metadata": {},
     "output_type": "execute_result"
    }
   ],
   "source": [
    "cvss.head(10)"
   ]
  },
  {
   "cell_type": "code",
   "execution_count": 27,
   "id": "11afa3ba",
   "metadata": {},
   "outputs": [
    {
     "name": "stdout",
     "output_type": "stream",
     "text": [
      "<class 'pandas.core.frame.DataFrame'>\n",
      "RangeIndex: 229453 entries, 0 to 229452\n",
      "Data columns (total 36 columns):\n",
      " #   Column                                            Non-Null Count   Dtype              \n",
      "---  ------                                            --------------   -----              \n",
      " 0   publishedDate                                     229453 non-null  datetime64[ns, UTC]\n",
      " 1   lastModifiedDate                                  229453 non-null  datetime64[ns, UTC]\n",
      " 2   cve.CVE_data_meta.ID                              229453 non-null  object             \n",
      " 3   cve.CVE_data_meta.ASSIGNER                        229453 non-null  object             \n",
      " 4   configurations.nodes                              229453 non-null  object             \n",
      " 5   impact.baseMetricV3.cvssV3.version                141850 non-null  object             \n",
      " 6   impact.baseMetricV3.cvssV3.vectorString           141850 non-null  object             \n",
      " 7   impact.baseMetricV3.cvssV3.attackVector           141850 non-null  object             \n",
      " 8   impact.baseMetricV3.cvssV3.attackComplexity       141850 non-null  object             \n",
      " 9   impact.baseMetricV3.cvssV3.privilegesRequired     141850 non-null  object             \n",
      " 10  impact.baseMetricV3.cvssV3.userInteraction        141850 non-null  object             \n",
      " 11  impact.baseMetricV3.cvssV3.scope                  141850 non-null  object             \n",
      " 12  impact.baseMetricV3.cvssV3.confidentialityImpact  141850 non-null  object             \n",
      " 13  impact.baseMetricV3.cvssV3.integrityImpact        141850 non-null  object             \n",
      " 14  impact.baseMetricV3.cvssV3.availabilityImpact     141850 non-null  object             \n",
      " 15  impact.baseMetricV3.cvssV3.baseScore              229453 non-null  float64            \n",
      " 16  impact.baseMetricV3.cvssV3.baseSeverity           141850 non-null  object             \n",
      " 17  impact.baseMetricV3.exploitabilityScore           141850 non-null  float64            \n",
      " 18  impact.baseMetricV3.impactScore                   141850 non-null  float64            \n",
      " 19  impact.baseMetricV2.cvssV2.version                180085 non-null  object             \n",
      " 20  impact.baseMetricV2.cvssV2.vectorString           180085 non-null  object             \n",
      " 21  impact.baseMetricV2.cvssV2.accessVector           180085 non-null  object             \n",
      " 22  impact.baseMetricV2.cvssV2.accessComplexity       180085 non-null  object             \n",
      " 23  impact.baseMetricV2.cvssV2.authentication         180085 non-null  object             \n",
      " 24  impact.baseMetricV2.cvssV2.confidentialityImpact  180085 non-null  object             \n",
      " 25  impact.baseMetricV2.cvssV2.integrityImpact        180085 non-null  object             \n",
      " 26  impact.baseMetricV2.cvssV2.availabilityImpact     180085 non-null  object             \n",
      " 27  impact.baseMetricV2.cvssV2.baseScore              229453 non-null  float64            \n",
      " 28  impact.baseMetricV2.severity                      180085 non-null  object             \n",
      " 29  impact.baseMetricV2.exploitabilityScore           180085 non-null  float64            \n",
      " 30  impact.baseMetricV2.impactScore                   180085 non-null  float64            \n",
      " 31  impact.baseMetricV2.acInsufInfo                   82902 non-null   object             \n",
      " 32  impact.baseMetricV2.obtainAllPrivilege            180085 non-null  object             \n",
      " 33  impact.baseMetricV2.obtainUserPrivilege           180085 non-null  object             \n",
      " 34  impact.baseMetricV2.obtainOtherPrivilege          180085 non-null  object             \n",
      " 35  impact.baseMetricV2.userInteractionRequired       179112 non-null  object             \n",
      "dtypes: datetime64[ns, UTC](2), float64(6), object(28)\n",
      "memory usage: 63.0+ MB\n"
     ]
    }
   ],
   "source": [
    "cvss.info()"
   ]
  },
  {
   "cell_type": "code",
   "execution_count": 28,
   "id": "79bc48ae",
   "metadata": {},
   "outputs": [],
   "source": [
    "# remove version 2 references and columns, likely superseeded by version 3\n",
    "drop_these = ['impact.baseMetricV2.cvssV2.version', \n",
    "              'impact.baseMetricV2.cvssV2.vectorString',  \n",
    "              'impact.baseMetricV2.cvssV2.accessVector',   \n",
    "              'impact.baseMetricV2.cvssV2.accessComplexity',\n",
    "              'impact.baseMetricV2.cvssV2.authentication',    \n",
    "              'impact.baseMetricV2.cvssV2.confidentialityImpact',  \n",
    "              'impact.baseMetricV2.cvssV2.integrityImpact',       \n",
    "              'impact.baseMetricV2.cvssV2.availabilityImpact',    \n",
    "              'impact.baseMetricV2.cvssV2.baseScore',         \n",
    "              'impact.baseMetricV2.severity',                 \n",
    "              'impact.baseMetricV2.exploitabilityScore', \n",
    "              'impact.baseMetricV2.impactScore', \n",
    "              'impact.baseMetricV2.acInsufInfo',   \n",
    "              'impact.baseMetricV2.obtainAllPrivilege', \n",
    "              'impact.baseMetricV2.obtainUserPrivilege', \n",
    "              'impact.baseMetricV2.obtainOtherPrivilege',\n",
    "              'impact.baseMetricV2.userInteractionRequired'] \n",
    "cvss = cvss.drop(columns=drop_these)"
   ]
  },
  {
   "cell_type": "code",
   "execution_count": 29,
   "id": "8c612fd9",
   "metadata": {},
   "outputs": [
    {
     "data": {
      "text/plain": [
       "(229453, 19)"
      ]
     },
     "execution_count": 29,
     "metadata": {},
     "output_type": "execute_result"
    }
   ],
   "source": [
    "cvss.shape"
   ]
  },
  {
   "cell_type": "code",
   "execution_count": 30,
   "id": "a53693f2",
   "metadata": {},
   "outputs": [
    {
     "data": {
      "text/plain": [
       "(1025, 11)"
      ]
     },
     "execution_count": 30,
     "metadata": {},
     "output_type": "execute_result"
    }
   ],
   "source": [
    "kev.shape"
   ]
  },
  {
   "cell_type": "code",
   "execution_count": 31,
   "id": "2e817f08",
   "metadata": {},
   "outputs": [],
   "source": [
    "cvss = cvss.rename(columns={'cve.CVE_data_meta.ID': 'cveID', 'cve.CVE_data_meta.ASSIGNER': 'assigner', 'impact.baseMetricV3.cvssV3.baseScore' : 'cvssScore'})"
   ]
  },
  {
   "cell_type": "code",
   "execution_count": 32,
   "id": "4870186e",
   "metadata": {},
   "outputs": [
    {
     "data": {
      "text/plain": [
       "Index(['publishedDate', 'lastModifiedDate', 'cveID', 'assigner',\n",
       "       'configurations.nodes', 'cvssV3.version', 'cvssV3.vectorString',\n",
       "       'cvssV3.attackVector', 'cvssV3.attackComplexity',\n",
       "       'cvssV3.privilegesRequired', 'cvssV3.userInteraction', 'cvssV3.scope',\n",
       "       'cvssV3.confidentialityImpact', 'cvssV3.integrityImpact',\n",
       "       'cvssV3.availabilityImpact', 'cvssScore', 'cvssV3.baseSeverity',\n",
       "       'exploitabilityScore', 'impactScore'],\n",
       "      dtype='object')"
      ]
     },
     "execution_count": 32,
     "metadata": {},
     "output_type": "execute_result"
    }
   ],
   "source": [
    "# cvss.rename(columns = lambda x: x.replace('impact.baseMetricV3.$', ''))\n",
    "cvss.columns = cvss.columns.map(lambda x: x.removeprefix('impact.baseMetricV3.')) \n",
    "cvss.columns = cvss.columns.map(lambda x: x.removeprefix('impact.baseMetricV2.')) \n",
    "cvss.columns"
   ]
  },
  {
   "cell_type": "code",
   "execution_count": 33,
   "id": "80a899a9",
   "metadata": {},
   "outputs": [],
   "source": [
    "epss = epss.rename(columns = {'cve' : 'cveID'})"
   ]
  },
  {
   "cell_type": "code",
   "execution_count": 34,
   "id": "7a77196d",
   "metadata": {},
   "outputs": [],
   "source": [
    "df = pd.merge(cvss, kev, on = 'cveID', how = 'left')"
   ]
  },
  {
   "cell_type": "code",
   "execution_count": 35,
   "id": "acd84c4b",
   "metadata": {},
   "outputs": [],
   "source": [
    "df = pd.merge(df, epss, on = 'cveID', how = 'left')"
   ]
  },
  {
   "cell_type": "code",
   "execution_count": 36,
   "id": "524dea77",
   "metadata": {},
   "outputs": [
    {
     "data": {
      "text/plain": [
       "(229453, 31)"
      ]
     },
     "execution_count": 36,
     "metadata": {},
     "output_type": "execute_result"
    }
   ],
   "source": [
    "df.shape"
   ]
  },
  {
   "cell_type": "code",
   "execution_count": 37,
   "id": "b40f0f27",
   "metadata": {},
   "outputs": [
    {
     "data": {
      "text/html": [
       "<div>\n",
       "<style scoped>\n",
       "    .dataframe tbody tr th:only-of-type {\n",
       "        vertical-align: middle;\n",
       "    }\n",
       "\n",
       "    .dataframe tbody tr th {\n",
       "        vertical-align: top;\n",
       "    }\n",
       "\n",
       "    .dataframe thead th {\n",
       "        text-align: right;\n",
       "    }\n",
       "</style>\n",
       "<table border=\"1\" class=\"dataframe\">\n",
       "  <thead>\n",
       "    <tr style=\"text-align: right;\">\n",
       "      <th></th>\n",
       "      <th>cvssScore</th>\n",
       "      <th>exploitabilityScore</th>\n",
       "      <th>impactScore</th>\n",
       "      <th>hasKEV</th>\n",
       "      <th>epss</th>\n",
       "      <th>percentile</th>\n",
       "    </tr>\n",
       "  </thead>\n",
       "  <tbody>\n",
       "    <tr>\n",
       "      <th>count</th>\n",
       "      <td>229453.000000</td>\n",
       "      <td>141850.000000</td>\n",
       "      <td>141850.000000</td>\n",
       "      <td>1025.0</td>\n",
       "      <td>216636.000000</td>\n",
       "      <td>216636.000000</td>\n",
       "    </tr>\n",
       "    <tr>\n",
       "      <th>mean</th>\n",
       "      <td>4.448009</td>\n",
       "      <td>2.690516</td>\n",
       "      <td>4.363618</td>\n",
       "      <td>1.0</td>\n",
       "      <td>0.036216</td>\n",
       "      <td>0.502152</td>\n",
       "    </tr>\n",
       "    <tr>\n",
       "      <th>std</th>\n",
       "      <td>3.735142</td>\n",
       "      <td>0.952359</td>\n",
       "      <td>1.520204</td>\n",
       "      <td>0.0</td>\n",
       "      <td>0.148026</td>\n",
       "      <td>0.285705</td>\n",
       "    </tr>\n",
       "    <tr>\n",
       "      <th>min</th>\n",
       "      <td>0.000000</td>\n",
       "      <td>0.100000</td>\n",
       "      <td>1.400000</td>\n",
       "      <td>1.0</td>\n",
       "      <td>0.000420</td>\n",
       "      <td>0.004490</td>\n",
       "    </tr>\n",
       "    <tr>\n",
       "      <th>25%</th>\n",
       "      <td>0.000000</td>\n",
       "      <td>1.800000</td>\n",
       "      <td>3.600000</td>\n",
       "      <td>1.0</td>\n",
       "      <td>0.000620</td>\n",
       "      <td>0.251550</td>\n",
       "    </tr>\n",
       "    <tr>\n",
       "      <th>50%</th>\n",
       "      <td>5.500000</td>\n",
       "      <td>2.800000</td>\n",
       "      <td>3.600000</td>\n",
       "      <td>1.0</td>\n",
       "      <td>0.001430</td>\n",
       "      <td>0.500295</td>\n",
       "    </tr>\n",
       "    <tr>\n",
       "      <th>75%</th>\n",
       "      <td>7.700000</td>\n",
       "      <td>3.900000</td>\n",
       "      <td>5.900000</td>\n",
       "      <td>1.0</td>\n",
       "      <td>0.005520</td>\n",
       "      <td>0.750150</td>\n",
       "    </tr>\n",
       "    <tr>\n",
       "      <th>max</th>\n",
       "      <td>10.000000</td>\n",
       "      <td>3.900000</td>\n",
       "      <td>6.000000</td>\n",
       "      <td>1.0</td>\n",
       "      <td>0.975880</td>\n",
       "      <td>1.000000</td>\n",
       "    </tr>\n",
       "  </tbody>\n",
       "</table>\n",
       "</div>"
      ],
      "text/plain": [
       "           cvssScore  exploitabilityScore    impactScore  hasKEV  \\\n",
       "count  229453.000000        141850.000000  141850.000000  1025.0   \n",
       "mean        4.448009             2.690516       4.363618     1.0   \n",
       "std         3.735142             0.952359       1.520204     0.0   \n",
       "min         0.000000             0.100000       1.400000     1.0   \n",
       "25%         0.000000             1.800000       3.600000     1.0   \n",
       "50%         5.500000             2.800000       3.600000     1.0   \n",
       "75%         7.700000             3.900000       5.900000     1.0   \n",
       "max        10.000000             3.900000       6.000000     1.0   \n",
       "\n",
       "                epss     percentile  \n",
       "count  216636.000000  216636.000000  \n",
       "mean        0.036216       0.502152  \n",
       "std         0.148026       0.285705  \n",
       "min         0.000420       0.004490  \n",
       "25%         0.000620       0.251550  \n",
       "50%         0.001430       0.500295  \n",
       "75%         0.005520       0.750150  \n",
       "max         0.975880       1.000000  "
      ]
     },
     "execution_count": 37,
     "metadata": {},
     "output_type": "execute_result"
    }
   ],
   "source": [
    "df.describe()"
   ]
  },
  {
   "cell_type": "code",
   "execution_count": 38,
   "id": "5a8fd980",
   "metadata": {},
   "outputs": [
    {
     "data": {
      "image/png": "[encoded data removed]",
      "text/plain": [
       "<Figure size 432x288 with 2 Axes>"
      ]
     },
     "metadata": {
      "needs_background": "light"
     },
     "output_type": "display_data"
    }
   ],
   "source": [
    "sns.heatmap(df.isnull(), cmap=\"RdBu_r\")\n",
    "plt.show()"
   ]
  },
  {
   "cell_type": "code",
   "execution_count": 39,
   "id": "e9bc3dbd",
   "metadata": {},
   "outputs": [
    {
     "data": {
      "text/plain": [
       "Index(['publishedDate', 'lastModifiedDate', 'cveID', 'assigner',\n",
       "       'configurations.nodes', 'version', 'vectorString', 'attackVector',\n",
       "       'attackComplexity', 'privilegesRequired', 'userInteraction', 'scope',\n",
       "       'confidentialityImpact', 'integrityImpact', 'availabilityImpact',\n",
       "       'cvssScore', 'baseSeverity', 'exploitabilityScore', 'impactScore',\n",
       "       'vendorProject', 'product', 'vulnerabilityName', 'dateAdded',\n",
       "       'shortDescription', 'requiredAction', 'dueDate',\n",
       "       'knownRansomwareCampaignUse', 'notes', 'hasKEV', 'epss', 'percentile'],\n",
       "      dtype='object')"
      ]
     },
     "execution_count": 39,
     "metadata": {},
     "output_type": "execute_result"
    }
   ],
   "source": [
    "df.columns = df.columns.map(lambda x: x.removeprefix('cvssV3.')) \n",
    "df.columns"
   ]
  },
  {
   "cell_type": "code",
   "execution_count": 40,
   "id": "91d8e1c3",
   "metadata": {},
   "outputs": [
    {
     "data": {
      "image/png": "[encoded data removed]",
      "text/plain": [
       "<Figure size 432x288 with 2 Axes>"
      ]
     },
     "metadata": {
      "needs_background": "light"
     },
     "output_type": "display_data"
    }
   ],
   "source": [
    "correlation_matrix = df.corr()\n",
    "sns.heatmap(correlation_matrix, annot=True, cmap=\"RdBu_r\")\n",
    "plt.show()"
   ]
  },
  {
   "cell_type": "code",
   "execution_count": 41,
   "id": "077235ef",
   "metadata": {},
   "outputs": [],
   "source": [
    "df.lastModifiedDate = pd.to_datetime(df.lastModifiedDate)\n",
    "df.publishedDate = pd.to_datetime(df.publishedDate)\n",
    "df.dueDate = pd.to_datetime(df.dueDate)"
   ]
  },
  {
   "cell_type": "code",
   "execution_count": 42,
   "id": "9fa1a38c",
   "metadata": {},
   "outputs": [
    {
     "data": {
      "text/plain": [
       "Timestamp('1988-10-01 04:00:00+0000', tz='UTC')"
      ]
     },
     "execution_count": 42,
     "metadata": {},
     "output_type": "execute_result"
    }
   ],
   "source": [
    "least_recent_date = df.publishedDate.min()\n",
    "least_recent_date"
   ]
  },
  {
   "cell_type": "code",
   "execution_count": 43,
   "id": "2c81e414",
   "metadata": {},
   "outputs": [
    {
     "data": {
      "text/plain": [
       "Timestamp('2023-11-02 06:15:00+0000', tz='UTC')"
      ]
     },
     "execution_count": 43,
     "metadata": {},
     "output_type": "execute_result"
    }
   ],
   "source": [
    "most_recent_date = df.publishedDate.max()\n",
    "most_recent_date"
   ]
  },
  {
   "cell_type": "code",
   "execution_count": null,
   "id": "5218340d",
   "metadata": {},
   "outputs": [],
   "source": []
  },
  {
   "cell_type": "code",
   "execution_count": 48,
   "id": "210f09ec",
   "metadata": {},
   "outputs": [],
   "source": [
    "df['publishedYear'] = df['publishedDate'].apply(lambda x : x.year)"
   ]
  },
  {
   "cell_type": "code",
   "execution_count": 49,
   "id": "519e6dd1",
   "metadata": {},
   "outputs": [],
   "source": [
    "df['publishedMonth'] = df['publishedDate'].apply(lambda x : x.month)"
   ]
  },
  {
   "cell_type": "code",
   "execution_count": 50,
   "id": "f30cbfdc",
   "metadata": {},
   "outputs": [],
   "source": [
    "z = df['publishedMonth'].value_counts()\n",
    "\n",
    "z1 = z.to_dict() #converts to dictionary\n",
    "\n",
    "df['count'] = df['publishedMonth'].map(z1)"
   ]
  },
  {
   "cell_type": "code",
   "execution_count": 51,
   "id": "dc682442",
   "metadata": {},
   "outputs": [
    {
     "data": {
      "text/html": [
       "<div>\n",
       "<style scoped>\n",
       "    .dataframe tbody tr th:only-of-type {\n",
       "        vertical-align: middle;\n",
       "    }\n",
       "\n",
       "    .dataframe tbody tr th {\n",
       "        vertical-align: top;\n",
       "    }\n",
       "\n",
       "    .dataframe thead th {\n",
       "        text-align: right;\n",
       "    }\n",
       "</style>\n",
       "<table border=\"1\" class=\"dataframe\">\n",
       "  <thead>\n",
       "    <tr style=\"text-align: right;\">\n",
       "      <th></th>\n",
       "      <th>publishedDate</th>\n",
       "      <th>lastModifiedDate</th>\n",
       "      <th>cveID</th>\n",
       "      <th>assigner</th>\n",
       "      <th>configurations.nodes</th>\n",
       "      <th>version</th>\n",
       "      <th>vectorString</th>\n",
       "      <th>attackVector</th>\n",
       "      <th>attackComplexity</th>\n",
       "      <th>privilegesRequired</th>\n",
       "      <th>...</th>\n",
       "      <th>requiredAction</th>\n",
       "      <th>dueDate</th>\n",
       "      <th>knownRansomwareCampaignUse</th>\n",
       "      <th>notes</th>\n",
       "      <th>hasKEV</th>\n",
       "      <th>epss</th>\n",
       "      <th>percentile</th>\n",
       "      <th>publishedYear</th>\n",
       "      <th>publishedMonth</th>\n",
       "      <th>count</th>\n",
       "    </tr>\n",
       "  </thead>\n",
       "  <tbody>\n",
       "    <tr>\n",
       "      <th>229443</th>\n",
       "      <td>2023-05-22 22:15:00+00:00</td>\n",
       "      <td>2023-05-30 18:05:00+00:00</td>\n",
       "      <td>CVE-2022-4945</td>\n",
       "      <td>ics-cert@hq.dhs.gov</td>\n",
       "      <td>[{'operator': 'AND', 'children': [{'operator':...</td>\n",
       "      <td>3.1</td>\n",
       "      <td>CVSS:3.1/AV:L/AC:L/PR:L/UI:N/S:C/C:H/I:N/A:N</td>\n",
       "      <td>LOCAL</td>\n",
       "      <td>LOW</td>\n",
       "      <td>LOW</td>\n",
       "      <td>...</td>\n",
       "      <td>NaN</td>\n",
       "      <td>NaT</td>\n",
       "      <td>NaN</td>\n",
       "      <td>NaN</td>\n",
       "      <td>NaN</td>\n",
       "      <td>0.00042</td>\n",
       "      <td>0.05852</td>\n",
       "      <td>2023</td>\n",
       "      <td>5</td>\n",
       "      <td>20926</td>\n",
       "    </tr>\n",
       "    <tr>\n",
       "      <th>229444</th>\n",
       "      <td>2023-06-05 14:15:00+00:00</td>\n",
       "      <td>2023-06-13 13:53:00+00:00</td>\n",
       "      <td>CVE-2022-4946</td>\n",
       "      <td>contact@wpscan.com</td>\n",
       "      <td>[{'operator': 'OR', 'children': [], 'cpe_match...</td>\n",
       "      <td>3.1</td>\n",
       "      <td>CVSS:3.1/AV:N/AC:L/PR:L/UI:R/S:C/C:L/I:L/A:N</td>\n",
       "      <td>NETWORK</td>\n",
       "      <td>LOW</td>\n",
       "      <td>LOW</td>\n",
       "      <td>...</td>\n",
       "      <td>NaN</td>\n",
       "      <td>NaT</td>\n",
       "      <td>NaN</td>\n",
       "      <td>NaN</td>\n",
       "      <td>NaN</td>\n",
       "      <td>0.00045</td>\n",
       "      <td>0.12312</td>\n",
       "      <td>2023</td>\n",
       "      <td>6</td>\n",
       "      <td>18705</td>\n",
       "    </tr>\n",
       "    <tr>\n",
       "      <th>229445</th>\n",
       "      <td>2023-06-07 02:15:00+00:00</td>\n",
       "      <td>2023-06-13 18:38:00+00:00</td>\n",
       "      <td>CVE-2022-4948</td>\n",
       "      <td>cve-request@wordfence.com</td>\n",
       "      <td>[{'operator': 'OR', 'children': [], 'cpe_match...</td>\n",
       "      <td>3.1</td>\n",
       "      <td>CVSS:3.1/AV:N/AC:L/PR:L/UI:N/S:U/C:N/I:L/A:N</td>\n",
       "      <td>NETWORK</td>\n",
       "      <td>LOW</td>\n",
       "      <td>LOW</td>\n",
       "      <td>...</td>\n",
       "      <td>NaN</td>\n",
       "      <td>NaT</td>\n",
       "      <td>NaN</td>\n",
       "      <td>NaN</td>\n",
       "      <td>NaN</td>\n",
       "      <td>0.00045</td>\n",
       "      <td>0.12312</td>\n",
       "      <td>2023</td>\n",
       "      <td>6</td>\n",
       "      <td>18705</td>\n",
       "    </tr>\n",
       "    <tr>\n",
       "      <th>229446</th>\n",
       "      <td>2023-06-07 02:15:00+00:00</td>\n",
       "      <td>2023-06-13 18:40:00+00:00</td>\n",
       "      <td>CVE-2022-4949</td>\n",
       "      <td>cve-request@wordfence.com</td>\n",
       "      <td>[{'operator': 'OR', 'children': [], 'cpe_match...</td>\n",
       "      <td>3.1</td>\n",
       "      <td>CVSS:3.1/AV:N/AC:L/PR:L/UI:N/S:U/C:H/I:H/A:H</td>\n",
       "      <td>NETWORK</td>\n",
       "      <td>LOW</td>\n",
       "      <td>LOW</td>\n",
       "      <td>...</td>\n",
       "      <td>NaN</td>\n",
       "      <td>NaT</td>\n",
       "      <td>NaN</td>\n",
       "      <td>NaN</td>\n",
       "      <td>NaN</td>\n",
       "      <td>0.00260</td>\n",
       "      <td>0.63585</td>\n",
       "      <td>2023</td>\n",
       "      <td>6</td>\n",
       "      <td>18705</td>\n",
       "    </tr>\n",
       "    <tr>\n",
       "      <th>229447</th>\n",
       "      <td>2023-06-07 02:15:00+00:00</td>\n",
       "      <td>2023-06-13 18:42:00+00:00</td>\n",
       "      <td>CVE-2022-4950</td>\n",
       "      <td>cve-request@wordfence.com</td>\n",
       "      <td>[{'operator': 'OR', 'children': [], 'cpe_match...</td>\n",
       "      <td>3.1</td>\n",
       "      <td>CVSS:3.1/AV:N/AC:L/PR:L/UI:N/S:U/C:H/I:H/A:H</td>\n",
       "      <td>NETWORK</td>\n",
       "      <td>LOW</td>\n",
       "      <td>LOW</td>\n",
       "      <td>...</td>\n",
       "      <td>NaN</td>\n",
       "      <td>NaT</td>\n",
       "      <td>NaN</td>\n",
       "      <td>NaN</td>\n",
       "      <td>NaN</td>\n",
       "      <td>0.00138</td>\n",
       "      <td>0.49123</td>\n",
       "      <td>2023</td>\n",
       "      <td>6</td>\n",
       "      <td>18705</td>\n",
       "    </tr>\n",
       "    <tr>\n",
       "      <th>229448</th>\n",
       "      <td>2023-07-17 02:15:00+00:00</td>\n",
       "      <td>2023-07-27 04:07:00+00:00</td>\n",
       "      <td>CVE-2022-4952</td>\n",
       "      <td>cna@vuldb.com</td>\n",
       "      <td>[{'operator': 'OR', 'children': [], 'cpe_match...</td>\n",
       "      <td>3.1</td>\n",
       "      <td>CVSS:3.1/AV:N/AC:L/PR:N/UI:N/S:U/C:N/I:N/A:H</td>\n",
       "      <td>NETWORK</td>\n",
       "      <td>LOW</td>\n",
       "      <td>NONE</td>\n",
       "      <td>...</td>\n",
       "      <td>NaN</td>\n",
       "      <td>NaT</td>\n",
       "      <td>NaN</td>\n",
       "      <td>NaN</td>\n",
       "      <td>NaN</td>\n",
       "      <td>0.00052</td>\n",
       "      <td>0.18147</td>\n",
       "      <td>2023</td>\n",
       "      <td>7</td>\n",
       "      <td>19492</td>\n",
       "    </tr>\n",
       "    <tr>\n",
       "      <th>229449</th>\n",
       "      <td>2023-08-14 20:15:00+00:00</td>\n",
       "      <td>2023-09-08 23:15:00+00:00</td>\n",
       "      <td>CVE-2022-4953</td>\n",
       "      <td>contact@wpscan.com</td>\n",
       "      <td>[{'operator': 'OR', 'children': [], 'cpe_match...</td>\n",
       "      <td>3.1</td>\n",
       "      <td>CVSS:3.1/AV:N/AC:L/PR:N/UI:R/S:C/C:L/I:L/A:N</td>\n",
       "      <td>NETWORK</td>\n",
       "      <td>LOW</td>\n",
       "      <td>NONE</td>\n",
       "      <td>...</td>\n",
       "      <td>NaN</td>\n",
       "      <td>NaT</td>\n",
       "      <td>NaN</td>\n",
       "      <td>NaN</td>\n",
       "      <td>NaN</td>\n",
       "      <td>0.00132</td>\n",
       "      <td>0.48078</td>\n",
       "      <td>2023</td>\n",
       "      <td>8</td>\n",
       "      <td>19627</td>\n",
       "    </tr>\n",
       "    <tr>\n",
       "      <th>229450</th>\n",
       "      <td>2023-10-20 07:15:00+00:00</td>\n",
       "      <td>2023-10-26 17:28:00+00:00</td>\n",
       "      <td>CVE-2022-4954</td>\n",
       "      <td>cve-request@wordfence.com</td>\n",
       "      <td>[{'operator': 'OR', 'children': [], 'cpe_match...</td>\n",
       "      <td>3.1</td>\n",
       "      <td>CVSS:3.1/AV:N/AC:L/PR:H/UI:R/S:C/C:L/I:L/A:N</td>\n",
       "      <td>NETWORK</td>\n",
       "      <td>LOW</td>\n",
       "      <td>HIGH</td>\n",
       "      <td>...</td>\n",
       "      <td>NaN</td>\n",
       "      <td>NaT</td>\n",
       "      <td>NaN</td>\n",
       "      <td>NaN</td>\n",
       "      <td>NaN</td>\n",
       "      <td>0.00045</td>\n",
       "      <td>0.12312</td>\n",
       "      <td>2023</td>\n",
       "      <td>10</td>\n",
       "      <td>20703</td>\n",
       "    </tr>\n",
       "    <tr>\n",
       "      <th>229451</th>\n",
       "      <td>2023-08-04 20:15:00+00:00</td>\n",
       "      <td>2023-08-09 17:19:00+00:00</td>\n",
       "      <td>CVE-2022-4955</td>\n",
       "      <td>chrome-cve-admin@google.com</td>\n",
       "      <td>[{'operator': 'OR', 'children': [], 'cpe_match...</td>\n",
       "      <td>3.1</td>\n",
       "      <td>CVSS:3.1/AV:N/AC:L/PR:N/UI:R/S:U/C:N/I:H/A:N</td>\n",
       "      <td>NETWORK</td>\n",
       "      <td>LOW</td>\n",
       "      <td>NONE</td>\n",
       "      <td>...</td>\n",
       "      <td>NaN</td>\n",
       "      <td>NaT</td>\n",
       "      <td>NaN</td>\n",
       "      <td>NaN</td>\n",
       "      <td>NaN</td>\n",
       "      <td>0.00048</td>\n",
       "      <td>0.15153</td>\n",
       "      <td>2023</td>\n",
       "      <td>8</td>\n",
       "      <td>19627</td>\n",
       "    </tr>\n",
       "    <tr>\n",
       "      <th>229452</th>\n",
       "      <td>2023-09-30 17:15:00+00:00</td>\n",
       "      <td>2023-10-03 20:58:00+00:00</td>\n",
       "      <td>CVE-2022-4956</td>\n",
       "      <td>cna@vuldb.com</td>\n",
       "      <td>[{'operator': 'OR', 'children': [], 'cpe_match...</td>\n",
       "      <td>3.1</td>\n",
       "      <td>CVSS:3.1/AV:L/AC:L/PR:L/UI:N/S:U/C:H/I:H/A:H</td>\n",
       "      <td>LOCAL</td>\n",
       "      <td>LOW</td>\n",
       "      <td>LOW</td>\n",
       "      <td>...</td>\n",
       "      <td>NaN</td>\n",
       "      <td>NaT</td>\n",
       "      <td>NaN</td>\n",
       "      <td>NaN</td>\n",
       "      <td>NaN</td>\n",
       "      <td>0.00042</td>\n",
       "      <td>0.05714</td>\n",
       "      <td>2023</td>\n",
       "      <td>9</td>\n",
       "      <td>19525</td>\n",
       "    </tr>\n",
       "  </tbody>\n",
       "</table>\n",
       "<p>10 rows × 34 columns</p>\n",
       "</div>"
      ],
      "text/plain": [
       "                   publishedDate          lastModifiedDate          cveID  \\\n",
       "229443 2023-05-22 22:15:00+00:00 2023-05-30 18:05:00+00:00  CVE-2022-4945   \n",
       "229444 2023-06-05 14:15:00+00:00 2023-06-13 13:53:00+00:00  CVE-2022-4946   \n",
       "229445 2023-06-07 02:15:00+00:00 2023-06-13 18:38:00+00:00  CVE-2022-4948   \n",
       "229446 2023-06-07 02:15:00+00:00 2023-06-13 18:40:00+00:00  CVE-2022-4949   \n",
       "229447 2023-06-07 02:15:00+00:00 2023-06-13 18:42:00+00:00  CVE-2022-4950   \n",
       "229448 2023-07-17 02:15:00+00:00 2023-07-27 04:07:00+00:00  CVE-2022-4952   \n",
       "229449 2023-08-14 20:15:00+00:00 2023-09-08 23:15:00+00:00  CVE-2022-4953   \n",
       "229450 2023-10-20 07:15:00+00:00 2023-10-26 17:28:00+00:00  CVE-2022-4954   \n",
       "229451 2023-08-04 20:15:00+00:00 2023-08-09 17:19:00+00:00  CVE-2022-4955   \n",
       "229452 2023-09-30 17:15:00+00:00 2023-10-03 20:58:00+00:00  CVE-2022-4956   \n",
       "\n",
       "                           assigner  \\\n",
       "229443          ics-cert@hq.dhs.gov   \n",
       "229444           contact@wpscan.com   \n",
       "229445    cve-request@wordfence.com   \n",
       "229446    cve-request@wordfence.com   \n",
       "229447    cve-request@wordfence.com   \n",
       "229448                cna@vuldb.com   \n",
       "229449           contact@wpscan.com   \n",
       "229450    cve-request@wordfence.com   \n",
       "229451  chrome-cve-admin@google.com   \n",
       "229452                cna@vuldb.com   \n",
       "\n",
       "                                     configurations.nodes version  \\\n",
       "229443  [{'operator': 'AND', 'children': [{'operator':...     3.1   \n",
       "229444  [{'operator': 'OR', 'children': [], 'cpe_match...     3.1   \n",
       "229445  [{'operator': 'OR', 'children': [], 'cpe_match...     3.1   \n",
       "229446  [{'operator': 'OR', 'children': [], 'cpe_match...     3.1   \n",
       "229447  [{'operator': 'OR', 'children': [], 'cpe_match...     3.1   \n",
       "229448  [{'operator': 'OR', 'children': [], 'cpe_match...     3.1   \n",
       "229449  [{'operator': 'OR', 'children': [], 'cpe_match...     3.1   \n",
       "229450  [{'operator': 'OR', 'children': [], 'cpe_match...     3.1   \n",
       "229451  [{'operator': 'OR', 'children': [], 'cpe_match...     3.1   \n",
       "229452  [{'operator': 'OR', 'children': [], 'cpe_match...     3.1   \n",
       "\n",
       "                                        vectorString attackVector  \\\n",
       "229443  CVSS:3.1/AV:L/AC:L/PR:L/UI:N/S:C/C:H/I:N/A:N        LOCAL   \n",
       "229444  CVSS:3.1/AV:N/AC:L/PR:L/UI:R/S:C/C:L/I:L/A:N      NETWORK   \n",
       "229445  CVSS:3.1/AV:N/AC:L/PR:L/UI:N/S:U/C:N/I:L/A:N      NETWORK   \n",
       "229446  CVSS:3.1/AV:N/AC:L/PR:L/UI:N/S:U/C:H/I:H/A:H      NETWORK   \n",
       "229447  CVSS:3.1/AV:N/AC:L/PR:L/UI:N/S:U/C:H/I:H/A:H      NETWORK   \n",
       "229448  CVSS:3.1/AV:N/AC:L/PR:N/UI:N/S:U/C:N/I:N/A:H      NETWORK   \n",
       "229449  CVSS:3.1/AV:N/AC:L/PR:N/UI:R/S:C/C:L/I:L/A:N      NETWORK   \n",
       "229450  CVSS:3.1/AV:N/AC:L/PR:H/UI:R/S:C/C:L/I:L/A:N      NETWORK   \n",
       "229451  CVSS:3.1/AV:N/AC:L/PR:N/UI:R/S:U/C:N/I:H/A:N      NETWORK   \n",
       "229452  CVSS:3.1/AV:L/AC:L/PR:L/UI:N/S:U/C:H/I:H/A:H        LOCAL   \n",
       "\n",
       "       attackComplexity privilegesRequired  ... requiredAction dueDate  \\\n",
       "229443              LOW                LOW  ...            NaN     NaT   \n",
       "229444              LOW                LOW  ...            NaN     NaT   \n",
       "229445              LOW                LOW  ...            NaN     NaT   \n",
       "229446              LOW                LOW  ...            NaN     NaT   \n",
       "229447              LOW                LOW  ...            NaN     NaT   \n",
       "229448              LOW               NONE  ...            NaN     NaT   \n",
       "229449              LOW               NONE  ...            NaN     NaT   \n",
       "229450              LOW               HIGH  ...            NaN     NaT   \n",
       "229451              LOW               NONE  ...            NaN     NaT   \n",
       "229452              LOW                LOW  ...            NaN     NaT   \n",
       "\n",
       "       knownRansomwareCampaignUse notes hasKEV     epss percentile  \\\n",
       "229443                        NaN   NaN    NaN  0.00042    0.05852   \n",
       "229444                        NaN   NaN    NaN  0.00045    0.12312   \n",
       "229445                        NaN   NaN    NaN  0.00045    0.12312   \n",
       "229446                        NaN   NaN    NaN  0.00260    0.63585   \n",
       "229447                        NaN   NaN    NaN  0.00138    0.49123   \n",
       "229448                        NaN   NaN    NaN  0.00052    0.18147   \n",
       "229449                        NaN   NaN    NaN  0.00132    0.48078   \n",
       "229450                        NaN   NaN    NaN  0.00045    0.12312   \n",
       "229451                        NaN   NaN    NaN  0.00048    0.15153   \n",
       "229452                        NaN   NaN    NaN  0.00042    0.05714   \n",
       "\n",
       "        publishedYear  publishedMonth  count  \n",
       "229443           2023               5  20926  \n",
       "229444           2023               6  18705  \n",
       "229445           2023               6  18705  \n",
       "229446           2023               6  18705  \n",
       "229447           2023               6  18705  \n",
       "229448           2023               7  19492  \n",
       "229449           2023               8  19627  \n",
       "229450           2023              10  20703  \n",
       "229451           2023               8  19627  \n",
       "229452           2023               9  19525  \n",
       "\n",
       "[10 rows x 34 columns]"
      ]
     },
     "execution_count": 51,
     "metadata": {},
     "output_type": "execute_result"
    }
   ],
   "source": [
    "df.tail(10)"
   ]
  },
  {
   "cell_type": "code",
   "execution_count": 52,
   "id": "b3b997dc",
   "metadata": {},
   "outputs": [],
   "source": [
    "df['epss'].fillna(0, inplace=True)"
   ]
  },
  {
   "cell_type": "code",
   "execution_count": 53,
   "id": "b7a7f503",
   "metadata": {},
   "outputs": [],
   "source": [
    "df['hasKEV'].fillna(0, inplace=True)"
   ]
  },
  {
   "cell_type": "code",
   "execution_count": 54,
   "id": "13cb84d5",
   "metadata": {},
   "outputs": [],
   "source": [
    "# save the dataframe to a new file\n",
    "# df.to_csv('cve_epss_cvss.csv', index = False, encoding='utf-8-sig')"
   ]
  },
  {
   "cell_type": "markdown",
   "id": "b600184d",
   "metadata": {},
   "source": [
    "***\n",
    "**RESTART HERE**\n",
    "***"
   ]
  },
  {
   "cell_type": "code",
   "execution_count": null,
   "id": "7af096e8",
   "metadata": {},
   "outputs": [],
   "source": []
  },
  {
   "cell_type": "code",
   "execution_count": 55,
   "id": "1486d6e0",
   "metadata": {},
   "outputs": [
    {
     "data": {
      "text/plain": [
       "<seaborn.axisgrid.FacetGrid at 0x7fb20c123be0>"
      ]
     },
     "execution_count": 55,
     "metadata": {},
     "output_type": "execute_result"
    },
    {
     "data": {
      "image/png": "[encoded data removed]",
      "text/plain": [
       "<Figure size 360x360 with 1 Axes>"
      ]
     },
     "metadata": {},
     "output_type": "display_data"
    }
   ],
   "source": [
    "#define figure size\n",
    "sns.set(rc={\"figure.figsize\":(20, 5)}) \n",
    "sns.set_style(\"whitegrid\", {'axes.grid' : False})\n",
    "sns.set_palette(\"Spectral\")\n",
    "sns.displot(x= 'publishedYear', data=df, stat='percent')"
   ]
  },
  {
   "cell_type": "code",
   "execution_count": 56,
   "id": "20a820cb",
   "metadata": {
    "scrolled": true
   },
   "outputs": [
    {
     "data": {
      "text/plain": [
       "<Axes: xlabel='publishedYear', ylabel='count'>"
      ]
     },
     "execution_count": 56,
     "metadata": {},
     "output_type": "execute_result"
    },
    {
     "data": {
      "image/png": "[encoded data removed]",
      "text/plain": [
       "<Figure size 1440x360 with 1 Axes>"
      ]
     },
     "metadata": {},
     "output_type": "display_data"
    }
   ],
   "source": [
    "#define figure size\n",
    "sns.set(rc={\"figure.figsize\":(20, 5)}) \n",
    "sns.set_style(\"whitegrid\", {'axes.grid' : False})\n",
    "sns.set_palette(\"Spectral\")\n",
    "sns.lineplot('publishedYear', 'count', data=df)"
   ]
  },
  {
   "cell_type": "code",
   "execution_count": 57,
   "id": "df3821d1",
   "metadata": {},
   "outputs": [],
   "source": [
    "cve_gr = pd.DataFrame({'count' : df.groupby( [ \"publishedYear\", \"publishedMonth\"] ).size()}).reset_index()"
   ]
  },
  {
   "cell_type": "code",
   "execution_count": 58,
   "id": "416733d3",
   "metadata": {},
   "outputs": [],
   "source": [
    "cve_gr['count'] = cve_gr['count'].replace(0, 1)"
   ]
  },
  {
   "cell_type": "code",
   "execution_count": 59,
   "id": "4fba5d74",
   "metadata": {},
   "outputs": [
    {
     "name": "stderr",
     "output_type": "stream",
     "text": [
      "/var/folders/81/jyd7r7j97q36mxrppmmkm7qw0000gn/T/ipykernel_26796/2377251798.py:1: UserWarning: Converting to PeriodArray/Index representation will drop timezone information.\n",
      "  rolling = df.publishedDate.dt.to_period('M').sort_index().value_counts()\n"
     ]
    }
   ],
   "source": [
    "rolling = df.publishedDate.dt.to_period('M').sort_index().value_counts()"
   ]
  },
  {
   "cell_type": "code",
   "execution_count": 60,
   "id": "786ee30d",
   "metadata": {},
   "outputs": [],
   "source": [
    "rolling.index = rolling.index.to_timestamp()\n",
    "rolling = rolling.sort_index()\n",
    "rolling[rolling.index] = np.cumsum(rolling.values)\n",
    "rolling = rolling.rolling(12, axis=0).sum().pct_change(axis=0)"
   ]
  },
  {
   "cell_type": "code",
   "execution_count": 61,
   "id": "a8ebed26",
   "metadata": {},
   "outputs": [
    {
     "data": {
      "text/plain": [
       "<Axes: >"
      ]
     },
     "execution_count": 61,
     "metadata": {},
     "output_type": "execute_result"
    },
    {
     "data": {
      "image/png": "[encoded data removed]",
      "text/plain": [
       "<Figure size 1440x360 with 1 Axes>"
      ]
     },
     "metadata": {},
     "output_type": "display_data"
    }
   ],
   "source": [
    "#define figure size\n",
    "sns.set(rc={\"figure.figsize\":(20, 5)}) \n",
    "sns.set_style(\"whitegrid\", {'axes.grid' : False})\n",
    "sns.set_palette(\"Spectral\")\n",
    "sns.lineplot(x=rolling.index, y=rolling.values)"
   ]
  },
  {
   "cell_type": "code",
   "execution_count": 62,
   "id": "50900e2c",
   "metadata": {},
   "outputs": [],
   "source": [
    "y = df.cvssScore.sort_values().astype('int').value_counts().sort_index()[1:]"
   ]
  },
  {
   "cell_type": "code",
   "execution_count": 63,
   "id": "f3aeda6d",
   "metadata": {
    "scrolled": false
   },
   "outputs": [
    {
     "data": {
      "text/plain": [
       "[Text(0, 0, '0.0%'),\n",
       " Text(0, 0, '0.4%'),\n",
       " Text(0, 0, '1.4%'),\n",
       " Text(0, 0, '7.3%'),\n",
       " Text(0, 0, '16.4%'),\n",
       " Text(0, 0, '17.1%'),\n",
       " Text(0, 0, '28.3%'),\n",
       " Text(0, 0, '13.7%'),\n",
       " Text(0, 0, '15.1%'),\n",
       " Text(0, 0, '0.2%')]"
      ]
     },
     "execution_count": 63,
     "metadata": {},
     "output_type": "execute_result"
    },
    {
     "data": {
      "image/png": "[encoded data removed]",
      "text/plain": [
       "<Figure size 1440x360 with 1 Axes>"
      ]
     },
     "metadata": {},
     "output_type": "display_data"
    }
   ],
   "source": [
    "#define figure size\n",
    "sns.set(rc={\"figure.figsize\":(20, 5)}) \n",
    "sns.set_style(\"whitegrid\", {'axes.grid' : False})\n",
    "sns.set_palette(\"Spectral\")\n",
    "#use orange for bar with max value and grey for all other bars\n",
    "cols = ['grey' if (x < max(y.values)) else 'orange' for x in y.values]\n",
    "\n",
    "ax = sns.barplot(x=y.index.map(lambda x: \"{}-{}\".format(x-1,x)), y=y.values/np.sum(y.values)*100, palette=cols)\n",
    "ax.bar_label(ax.containers[0], fmt='%.1f%%')"
   ]
  },
  {
   "cell_type": "code",
   "execution_count": 64,
   "id": "57f25f4c",
   "metadata": {},
   "outputs": [
    {
     "data": {
      "text/plain": [
       "<seaborn.axisgrid.FacetGrid at 0x7fb38b318bb0>"
      ]
     },
     "execution_count": 64,
     "metadata": {},
     "output_type": "execute_result"
    },
    {
     "data": {
      "image/png": "[encoded data removed]",
      "text/plain": [
       "<Figure size 360x360 with 1 Axes>"
      ]
     },
     "metadata": {},
     "output_type": "display_data"
    }
   ],
   "source": [
    "sns.displot(df, x=\"cvssScore\", kind=\"kde\")"
   ]
  },
  {
   "cell_type": "code",
   "execution_count": 65,
   "id": "4590119c",
   "metadata": {},
   "outputs": [],
   "source": [
    "y = df.epss.sort_values().astype('float').value_counts().sort_index()[1:]"
   ]
  },
  {
   "cell_type": "code",
   "execution_count": 66,
   "id": "c234b701",
   "metadata": {},
   "outputs": [
    {
     "data": {
      "text/plain": [
       "count    229453.000000\n",
       "mean          0.034193\n",
       "std           0.144073\n",
       "min           0.000000\n",
       "25%           0.000540\n",
       "50%           0.001270\n",
       "75%           0.004930\n",
       "max           0.975880\n",
       "Name: epss, dtype: float64"
      ]
     },
     "execution_count": 66,
     "metadata": {},
     "output_type": "execute_result"
    }
   ],
   "source": [
    "df['epss'].describe()"
   ]
  },
  {
   "cell_type": "code",
   "execution_count": 67,
   "id": "7743efb4",
   "metadata": {},
   "outputs": [
    {
     "data": {
      "text/plain": [
       "<seaborn.axisgrid.FacetGrid at 0x7fb24c0aed60>"
      ]
     },
     "execution_count": 67,
     "metadata": {},
     "output_type": "execute_result"
    },
    {
     "data": {
      "image/png": "[encoded data removed]",
      "text/plain": [
       "<Figure size 360x360 with 1 Axes>"
      ]
     },
     "metadata": {},
     "output_type": "display_data"
    }
   ],
   "source": [
    "sns.displot(df, x=\"epss\", kind=\"kde\", bw_adjust=10)"
   ]
  },
  {
   "cell_type": "code",
   "execution_count": 68,
   "id": "e46cbe7e",
   "metadata": {},
   "outputs": [
    {
     "data": {
      "text/plain": [
       "<seaborn.axisgrid.FacetGrid at 0x7fb1f3221f70>"
      ]
     },
     "execution_count": 68,
     "metadata": {},
     "output_type": "execute_result"
    },
    {
     "data": {
      "image/png": "[encoded data removed]",
      "text/plain": [
       "<Figure size 360x360 with 1 Axes>"
      ]
     },
     "metadata": {},
     "output_type": "display_data"
    }
   ],
   "source": [
    "sns.displot(df, x=\"epss\", kind=\"ecdf\")"
   ]
  },
  {
   "cell_type": "code",
   "execution_count": 69,
   "id": "75aa2dd9",
   "metadata": {},
   "outputs": [
    {
     "data": {
      "text/plain": [
       "<seaborn.axisgrid.FacetGrid at 0x7fb1f26e40d0>"
      ]
     },
     "execution_count": 69,
     "metadata": {},
     "output_type": "execute_result"
    },
    {
     "data": {
      "image/png": "[encoded data removed]",
      "text/plain": [
       "<Figure size 360x360 with 1 Axes>"
      ]
     },
     "metadata": {},
     "output_type": "display_data"
    }
   ],
   "source": [
    "sns.displot(df, x=\"epss\", y=\"cvssScore\")"
   ]
  },
  {
   "cell_type": "code",
   "execution_count": 70,
   "id": "79fadf15",
   "metadata": {},
   "outputs": [
    {
     "data": {
      "text/plain": [
       "<seaborn.axisgrid.FacetGrid at 0x7fb38afaf940>"
      ]
     },
     "execution_count": 70,
     "metadata": {},
     "output_type": "execute_result"
    },
    {
     "data": {
      "image/png": "[encoded data removed]",
      "text/plain": [
       "<Figure size 360x360 with 1 Axes>"
      ]
     },
     "metadata": {},
     "output_type": "display_data"
    }
   ],
   "source": [
    "sns.displot(df, x=\"epss\", y=\"cvssScore\", kind=\"kde\")"
   ]
  },
  {
   "cell_type": "code",
   "execution_count": 71,
   "id": "2fcbdd23",
   "metadata": {},
   "outputs": [
    {
     "data": {
      "text/html": [
       "<div>\n",
       "<style scoped>\n",
       "    .dataframe tbody tr th:only-of-type {\n",
       "        vertical-align: middle;\n",
       "    }\n",
       "\n",
       "    .dataframe tbody tr th {\n",
       "        vertical-align: top;\n",
       "    }\n",
       "\n",
       "    .dataframe thead th {\n",
       "        text-align: right;\n",
       "    }\n",
       "</style>\n",
       "<table border=\"1\" class=\"dataframe\">\n",
       "  <thead>\n",
       "    <tr style=\"text-align: right;\">\n",
       "      <th></th>\n",
       "      <th>publishedDate</th>\n",
       "      <th>lastModifiedDate</th>\n",
       "      <th>cveID</th>\n",
       "      <th>assigner</th>\n",
       "      <th>configurations.nodes</th>\n",
       "      <th>version</th>\n",
       "      <th>vectorString</th>\n",
       "      <th>attackVector</th>\n",
       "      <th>attackComplexity</th>\n",
       "      <th>privilegesRequired</th>\n",
       "      <th>...</th>\n",
       "      <th>requiredAction</th>\n",
       "      <th>dueDate</th>\n",
       "      <th>knownRansomwareCampaignUse</th>\n",
       "      <th>notes</th>\n",
       "      <th>hasKEV</th>\n",
       "      <th>epss</th>\n",
       "      <th>percentile</th>\n",
       "      <th>publishedYear</th>\n",
       "      <th>publishedMonth</th>\n",
       "      <th>count</th>\n",
       "    </tr>\n",
       "  </thead>\n",
       "  <tbody>\n",
       "    <tr>\n",
       "      <th>0</th>\n",
       "      <td>2021-06-09 20:15:00+00:00</td>\n",
       "      <td>2021-06-28 18:03:00+00:00</td>\n",
       "      <td>CVE-2021-0001</td>\n",
       "      <td>secure@intel.com</td>\n",
       "      <td>[{'operator': 'OR', 'children': [], 'cpe_match...</td>\n",
       "      <td>3.1</td>\n",
       "      <td>CVSS:3.1/AV:L/AC:H/PR:L/UI:N/S:U/C:H/I:N/A:N</td>\n",
       "      <td>LOCAL</td>\n",
       "      <td>HIGH</td>\n",
       "      <td>LOW</td>\n",
       "      <td>...</td>\n",
       "      <td>NaN</td>\n",
       "      <td>NaT</td>\n",
       "      <td>NaN</td>\n",
       "      <td>NaN</td>\n",
       "      <td>0.0</td>\n",
       "      <td>0.00044</td>\n",
       "      <td>0.10634</td>\n",
       "      <td>2021</td>\n",
       "      <td>6</td>\n",
       "      <td>18705</td>\n",
       "    </tr>\n",
       "  </tbody>\n",
       "</table>\n",
       "<p>1 rows × 34 columns</p>\n",
       "</div>"
      ],
      "text/plain": [
       "              publishedDate          lastModifiedDate          cveID  \\\n",
       "0 2021-06-09 20:15:00+00:00 2021-06-28 18:03:00+00:00  CVE-2021-0001   \n",
       "\n",
       "           assigner                               configurations.nodes  \\\n",
       "0  secure@intel.com  [{'operator': 'OR', 'children': [], 'cpe_match...   \n",
       "\n",
       "  version                                  vectorString attackVector  \\\n",
       "0     3.1  CVSS:3.1/AV:L/AC:H/PR:L/UI:N/S:U/C:H/I:N/A:N        LOCAL   \n",
       "\n",
       "  attackComplexity privilegesRequired  ... requiredAction dueDate  \\\n",
       "0             HIGH                LOW  ...            NaN     NaT   \n",
       "\n",
       "  knownRansomwareCampaignUse notes hasKEV     epss percentile  publishedYear  \\\n",
       "0                        NaN   NaN    0.0  0.00044    0.10634           2021   \n",
       "\n",
       "   publishedMonth  count  \n",
       "0               6  18705  \n",
       "\n",
       "[1 rows x 34 columns]"
      ]
     },
     "execution_count": 71,
     "metadata": {},
     "output_type": "execute_result"
    }
   ],
   "source": [
    "df.head(1)"
   ]
  },
  {
   "cell_type": "code",
   "execution_count": 72,
   "id": "3cb16c9e",
   "metadata": {},
   "outputs": [
    {
     "data": {
      "text/plain": [
       "<seaborn.axisgrid.JointGrid at 0x7fb33a762c40>"
      ]
     },
     "execution_count": 72,
     "metadata": {},
     "output_type": "execute_result"
    },
    {
     "data": {
      "image/png": "[encoded data removed]",
      "text/plain": [
       "<Figure size 432x432 with 3 Axes>"
      ]
     },
     "metadata": {},
     "output_type": "display_data"
    }
   ],
   "source": [
    "sns.jointplot(data=df, x=\"publishedYear\", y=\"cvssScore\")"
   ]
  },
  {
   "cell_type": "code",
   "execution_count": 73,
   "id": "8904c714",
   "metadata": {},
   "outputs": [
    {
     "data": {
      "text/plain": [
       "<seaborn.axisgrid.JointGrid at 0x7fb1f253d4c0>"
      ]
     },
     "execution_count": 73,
     "metadata": {},
     "output_type": "execute_result"
    },
    {
     "data": {
      "image/png": "[encoded data removed]",
      "text/plain": [
       "<Figure size 432x432 with 3 Axes>"
      ]
     },
     "metadata": {},
     "output_type": "display_data"
    }
   ],
   "source": [
    "sns.jointplot(data=df, x=\"publishedYear\", y=\"epss\")"
   ]
  },
  {
   "cell_type": "code",
   "execution_count": 74,
   "id": "662e5fe3",
   "metadata": {},
   "outputs": [],
   "source": [
    "def venn_diagram(a, b, c, labels):\n",
    "\n",
    "    a = set(a)\n",
    "    b = set(b)\n",
    "    c = set(c)\n",
    "\n",
    "    only_a = len(a - b - c)\n",
    "    only_b = len(b - a - c)\n",
    "    only_c = len(c - a - b)\n",
    "\n",
    "    only_a_b = len(a & b - c)\n",
    "    only_a_c = len(a & c - b)\n",
    "    only_b_c = len(b & c - a)\n",
    "\n",
    "    a_b_c = len(a & b & c)\n",
    "\n",
    "    venn3(subsets=(only_a, only_b, only_a_b, only_c, only_a_c, only_b_c, a_b_c), set_labels=labels,\n",
    "         set_colors=(\"lightblue\", \"darkred\", \"grey\"), alpha=0.8)"
   ]
  },
  {
   "cell_type": "code",
   "execution_count": 75,
   "id": "cef0e7fd",
   "metadata": {},
   "outputs": [],
   "source": [
    "a = kev.cveID\n",
    "b = cvss.cveID[cvss.cvssScore >= 7]\n",
    "c = epss.cveID\n",
    "labels = ['Present in KEV', 'CVSS7+', 'EPSS']"
   ]
  },
  {
   "cell_type": "code",
   "execution_count": 76,
   "id": "fbbf308b",
   "metadata": {},
   "outputs": [
    {
     "data": {
      "image/png": "[encoded data removed]",
      "text/plain": [
       "<Figure size 1440x360 with 1 Axes>"
      ]
     },
     "metadata": {},
     "output_type": "display_data"
    }
   ],
   "source": [
    "venn_diagram(a, b, c, labels)"
   ]
  },
  {
   "cell_type": "code",
   "execution_count": 77,
   "id": "bf5e952c",
   "metadata": {},
   "outputs": [],
   "source": [
    "tp = len(set(a) & set(b) & set(c))\n",
    "fp = len(set(b) & set(c) - set(a))\n",
    "tn = len(set(a) & set(c) - set(b))\n",
    "fn = len(set(a) & set(b) - set(c))"
   ]
  },
  {
   "cell_type": "code",
   "execution_count": 78,
   "id": "1842d62c",
   "metadata": {},
   "outputs": [
    {
     "name": "stdout",
     "output_type": "stream",
     "text": [
      "Patching effort: 35.47%\n"
     ]
    }
   ],
   "source": [
    "b_c = len(set(b) & set(c))\n",
    "print(\"Patching effort: {:.2f}%\".format(b_c / len(cvss) * 100))"
   ]
  },
  {
   "cell_type": "code",
   "execution_count": 79,
   "id": "1dd2e246",
   "metadata": {},
   "outputs": [
    {
     "name": "stdout",
     "output_type": "stream",
     "text": [
      "Efficiency: 0.93%\n"
     ]
    }
   ],
   "source": [
    "print(\"Efficiency: {:.2f}%\".format(tp / (tp+fp) * 100))"
   ]
  },
  {
   "cell_type": "code",
   "execution_count": 80,
   "id": "95c7e8b7",
   "metadata": {},
   "outputs": [
    {
     "name": "stdout",
     "output_type": "stream",
     "text": [
      "Coverage: 100.00%\n"
     ]
    }
   ],
   "source": [
    "print(\"Coverage: {:.2f}%\".format(tp / (tp+fn) * 100))"
   ]
  },
  {
   "cell_type": "code",
   "execution_count": 81,
   "id": "eb2a6bc9",
   "metadata": {},
   "outputs": [],
   "source": [
    "a = kev.cveID\n",
    "b = cvss.cveID\n",
    "c = epss.cveID[epss.epss > 0.5]\n",
    "labels = ['Present in KEV', 'CVSS', 'EPSS 0.5+']"
   ]
  },
  {
   "cell_type": "code",
   "execution_count": 82,
   "id": "ef6a9161",
   "metadata": {},
   "outputs": [],
   "source": [
    "sets = [set(a), set(b), set(c)]\n",
    "# supervenn(sets, labels, side_plots=False, widths_minmax_ratio=0.05, min_width_for_annotation=100)"
   ]
  },
  {
   "cell_type": "code",
   "execution_count": 83,
   "id": "dc46cbce",
   "metadata": {
    "scrolled": true
   },
   "outputs": [
    {
     "data": {
      "text/plain": [
       "<supervenn._plots.SupervennPlot at 0x7fb1883b2ee0>"
      ]
     },
     "execution_count": 83,
     "metadata": {},
     "output_type": "execute_result"
    },
    {
     "data": {
      "image/png": "[encoded data removed]",
      "text/plain": [
       "<Figure size 1440x360 with 5 Axes>"
      ]
     },
     "metadata": {},
     "output_type": "display_data"
    }
   ],
   "source": [
    "supervenn(sets, labels, widths_minmax_ratio=0.05, min_width_for_annotation=100)"
   ]
  },
  {
   "cell_type": "code",
   "execution_count": null,
   "id": "3a9d5be8",
   "metadata": {},
   "outputs": [],
   "source": []
  },
  {
   "cell_type": "code",
   "execution_count": 84,
   "id": "cc4a5307",
   "metadata": {},
   "outputs": [],
   "source": [
    "a = kev.cveID\n",
    "b = cvss.cveID\n",
    "c = epss.cveID[epss.epss > 0.1]\n",
    "labels = ['Present in KEV', 'CVSS', 'EPSS 0.1+']"
   ]
  },
  {
   "cell_type": "code",
   "execution_count": 85,
   "id": "934b9091",
   "metadata": {},
   "outputs": [
    {
     "data": {
      "image/png": "[encoded data removed]",
      "text/plain": [
       "<Figure size 1440x360 with 1 Axes>"
      ]
     },
     "metadata": {},
     "output_type": "display_data"
    }
   ],
   "source": [
    "venn_diagram(a, b, c, labels)"
   ]
  },
  {
   "cell_type": "code",
   "execution_count": 86,
   "id": "fad23706",
   "metadata": {},
   "outputs": [],
   "source": [
    "tp = len(set(a) & set(b) & set(c))\n",
    "fp = len(set(b) & set(c) - set(a))\n",
    "tn = len(set(a) & set(c) - set(b))\n",
    "fn = len(set(a) & set(b) - set(c))"
   ]
  },
  {
   "cell_type": "code",
   "execution_count": 87,
   "id": "b99efb36",
   "metadata": {},
   "outputs": [
    {
     "name": "stdout",
     "output_type": "stream",
     "text": [
      "Patching effort: 3.12%\n"
     ]
    }
   ],
   "source": [
    "b_c = len(set(b) & set(c))\n",
    "print(\"Patching effort: {:.2f}%\".format(b_c / len(cvss) * 100))"
   ]
  },
  {
   "cell_type": "code",
   "execution_count": 88,
   "id": "1f65dc1a",
   "metadata": {},
   "outputs": [
    {
     "name": "stdout",
     "output_type": "stream",
     "text": [
      "Efficiency: 7.09%\n"
     ]
    }
   ],
   "source": [
    "print(\"Efficiency: {:.2f}%\".format(tp / (tp+fp) * 100))"
   ]
  },
  {
   "cell_type": "code",
   "execution_count": 89,
   "id": "9a1e8969",
   "metadata": {},
   "outputs": [
    {
     "name": "stdout",
     "output_type": "stream",
     "text": [
      "Coverage: 49.56%\n"
     ]
    }
   ],
   "source": [
    "print(\"Coverage: {:.2f}%\".format(tp / (tp+fn) * 100))"
   ]
  },
  {
   "cell_type": "code",
   "execution_count": null,
   "id": "0b443654",
   "metadata": {},
   "outputs": [],
   "source": []
  },
  {
   "cell_type": "code",
   "execution_count": 90,
   "id": "0ee00e93",
   "metadata": {},
   "outputs": [],
   "source": [
    "import cve_searchsploit as CS"
   ]
  },
  {
   "cell_type": "code",
   "execution_count": 91,
   "id": "0ba216bd",
   "metadata": {},
   "outputs": [
    {
     "name": "stdout",
     "output_type": "stream",
     "text": [
      "Refreshing exploit-database repo with latest exploits\n"
     ]
    },
    {
     "name": "stderr",
     "output_type": "stream",
     "text": [
      "From https://gitlab.com/exploit-database/exploitdb\n",
      " * branch                main       -> FETCH_HEAD\n",
      "100% (46256 of 46256) |##################| Elapsed Time: 0:00:00 Time:  0:00:00\n"
     ]
    },
    {
     "name": "stdout",
     "output_type": "stream",
     "text": [
      "Already up to date.\n",
      "Refreshing EDBID-CVE mapping\n"
     ]
    }
   ],
   "source": [
    "CS.update_db()"
   ]
  },
  {
   "cell_type": "code",
   "execution_count": 92,
   "id": "98c4a748",
   "metadata": {},
   "outputs": [
    {
     "data": {
      "text/plain": [
       "[46946, 47120, 47120, 47416, 47416, 47683]"
      ]
     },
     "execution_count": 92,
     "metadata": {},
     "output_type": "execute_result"
    }
   ],
   "source": [
    "CS.edbid_from_cve(\"CVE-2019-0708\")"
   ]
  },
  {
   "cell_type": "code",
   "execution_count": 93,
   "id": "a460d58b",
   "metadata": {},
   "outputs": [
    {
     "data": {
      "text/plain": [
       "count    229453.000000\n",
       "mean          0.004467\n",
       "std           0.066687\n",
       "min           0.000000\n",
       "25%           0.000000\n",
       "50%           0.000000\n",
       "75%           0.000000\n",
       "max           1.000000\n",
       "Name: hasKEV, dtype: float64"
      ]
     },
     "execution_count": 93,
     "metadata": {},
     "output_type": "execute_result"
    }
   ],
   "source": [
    "df.hasKEV.describe()"
   ]
  },
  {
   "cell_type": "code",
   "execution_count": 94,
   "id": "41f04519",
   "metadata": {},
   "outputs": [],
   "source": [
    "# df['hasKEV'] = df.apply(lambda row: row['hasKEV'] if len(CS.edbid_from_cve(row['cveID'])) == 0 else 1, axis=1)\n",
    "# condition = df['cveID'].apply(lambda x: len(CS.edbid_from_cve(x)) == 0)\n",
    "# condition = [len(CS.edbid_from_cve(x)) == 0 for x in df['cveID']]"
   ]
  },
  {
   "cell_type": "code",
   "execution_count": 97,
   "id": "24dcd38e",
   "metadata": {},
   "outputs": [],
   "source": [
    "condition = np.vectorize(lambda x: len(CS.edbid_from_cve(x)) == 0)(df['cveID'])"
   ]
  },
  {
   "cell_type": "code",
   "execution_count": 98,
   "id": "6cab47c4",
   "metadata": {},
   "outputs": [],
   "source": [
    "df['hasKEV'] = np.where(condition, df['hasKEV'], 1)"
   ]
  },
  {
   "cell_type": "code",
   "execution_count": 99,
   "id": "5cde2e02",
   "metadata": {},
   "outputs": [
    {
     "data": {
      "text/plain": [
       "count    229453.000000\n",
       "mean          0.109783\n",
       "std           0.312620\n",
       "min           0.000000\n",
       "25%           0.000000\n",
       "50%           0.000000\n",
       "75%           0.000000\n",
       "max           1.000000\n",
       "Name: hasKEV, dtype: float64"
      ]
     },
     "execution_count": 99,
     "metadata": {},
     "output_type": "execute_result"
    }
   ],
   "source": [
    "df.hasKEV.describe()"
   ]
  },
  {
   "cell_type": "code",
   "execution_count": 100,
   "id": "683e486d",
   "metadata": {},
   "outputs": [],
   "source": [
    "# save the dataframe to a new file\n",
    "df.to_csv('cve_epss_cvss.csv', index = False, encoding='utf-8-sig')"
   ]
  },
  {
   "cell_type": "code",
   "execution_count": 120,
   "id": "9b346508",
   "metadata": {},
   "outputs": [],
   "source": [
    "a = df.loc[df['hasKEV'] == 1, 'cveID']\n",
    "b = df.loc[df['cvssScore'] >= 7, 'cveID']\n",
    "c = df.cveID\n",
    "labels = ['Present in KEV', 'CVSS7+', 'EPSS']"
   ]
  },
  {
   "cell_type": "code",
   "execution_count": 121,
   "id": "aec718ac",
   "metadata": {},
   "outputs": [
    {
     "data": {
      "image/png": "[encoded data removed]",
      "text/plain": [
       "<Figure size 1440x360 with 1 Axes>"
      ]
     },
     "metadata": {},
     "output_type": "display_data"
    }
   ],
   "source": [
    "venn_diagram(a, b, c, labels)"
   ]
  },
  {
   "cell_type": "code",
   "execution_count": 122,
   "id": "953611c2",
   "metadata": {},
   "outputs": [],
   "source": [
    "tp = len(set(a) & set(b) & set(c))\n",
    "fp = len(set(b) & set(c) - set(a))\n",
    "tn = len(set(a) & set(c) - set(b))\n",
    "fn = len(set(a) & set(b) - set(c))"
   ]
  },
  {
   "cell_type": "code",
   "execution_count": 123,
   "id": "9c065d7e",
   "metadata": {},
   "outputs": [
    {
     "name": "stdout",
     "output_type": "stream",
     "text": [
      "Patching effort: 35.47%\n"
     ]
    }
   ],
   "source": [
    "b_c = len(set(b) & set(c))\n",
    "print(\"Patching effort: {:.2f}%\".format(b_c / len(cvss) * 100))"
   ]
  },
  {
   "cell_type": "code",
   "execution_count": 124,
   "id": "707cb085",
   "metadata": {},
   "outputs": [
    {
     "name": "stdout",
     "output_type": "stream",
     "text": [
      "Efficiency: 4.85%\n"
     ]
    }
   ],
   "source": [
    "print(\"Efficiency: {:.2f}%\".format(tp / (tp+fp) * 100))"
   ]
  },
  {
   "cell_type": "code",
   "execution_count": 125,
   "id": "7ab1e3a3",
   "metadata": {},
   "outputs": [
    {
     "name": "stdout",
     "output_type": "stream",
     "text": [
      "Coverage: 100.00%\n"
     ]
    }
   ],
   "source": [
    "print(\"Coverage: {:.2f}%\".format(tp / (tp+fn) * 100))"
   ]
  },
  {
   "cell_type": "code",
   "execution_count": null,
   "id": "bff83841",
   "metadata": {},
   "outputs": [],
   "source": []
  },
  {
   "cell_type": "code",
   "execution_count": 140,
   "id": "70ab32a9",
   "metadata": {},
   "outputs": [],
   "source": [
    "a = df.loc[df['hasKEV'] == 1, 'cveID']\n",
    "b = df.cveID\n",
    "c = df.loc[df['epss'] > 0.1, 'cveID']\n",
    "\n",
    "\n",
    "labels = ['Present in KEV', 'CVSS', 'EPSS 0.1+']"
   ]
  },
  {
   "cell_type": "code",
   "execution_count": 141,
   "id": "95de7c47",
   "metadata": {},
   "outputs": [
    {
     "data": {
      "image/png": "[encoded data removed]",
      "text/plain": [
       "<Figure size 1440x360 with 1 Axes>"
      ]
     },
     "metadata": {},
     "output_type": "display_data"
    }
   ],
   "source": [
    "venn_diagram(a, b, c, labels)"
   ]
  },
  {
   "cell_type": "code",
   "execution_count": 142,
   "id": "8516d601",
   "metadata": {},
   "outputs": [],
   "source": [
    "tp = len(set(a) & set(b) & set(c))\n",
    "fp = len(set(b) & set(c) - set(a))\n",
    "tn = len(set(a) & set(c) - set(b))\n",
    "fn = len(set(a) & set(b) - set(c))"
   ]
  },
  {
   "cell_type": "code",
   "execution_count": 143,
   "id": "8c36dfea",
   "metadata": {},
   "outputs": [
    {
     "name": "stdout",
     "output_type": "stream",
     "text": [
      "Patching effort: 5.43%\n"
     ]
    }
   ],
   "source": [
    "b_c = len(set(b) & set(c))\n",
    "print(\"Patching effort: {:.2f}%\".format(b_c / len(cvss) * 100))"
   ]
  },
  {
   "cell_type": "code",
   "execution_count": 144,
   "id": "9b12d6f3",
   "metadata": {},
   "outputs": [
    {
     "name": "stdout",
     "output_type": "stream",
     "text": [
      "Efficiency: 45.03%\n"
     ]
    }
   ],
   "source": [
    "print(\"Efficiency: {:.2f}%\".format(tp / (tp+fp) * 100))"
   ]
  },
  {
   "cell_type": "code",
   "execution_count": 145,
   "id": "91de55ab",
   "metadata": {},
   "outputs": [
    {
     "name": "stdout",
     "output_type": "stream",
     "text": [
      "Coverage: 22.29%\n"
     ]
    }
   ],
   "source": [
    "print(\"Coverage: {:.2f}%\".format(tp / (tp+fn) * 100))"
   ]
  },
  {
   "cell_type": "code",
   "execution_count": null,
   "id": "4ab78f98",
   "metadata": {},
   "outputs": [],
   "source": []
  },
  {
   "cell_type": "code",
   "execution_count": 146,
   "id": "37f7de5d",
   "metadata": {},
   "outputs": [],
   "source": [
    "a = df.loc[df['hasKEV'] == 1, 'cveID']\n",
    "b = df.cveID\n",
    "c = df.loc[df['epss'] >= 0.36, 'cveID']\n",
    "\n",
    "\n",
    "labels = ['Present in KEV', 'CVSS', 'EPSS 0.36+']"
   ]
  },
  {
   "cell_type": "code",
   "execution_count": 147,
   "id": "b4bf4fca",
   "metadata": {},
   "outputs": [
    {
     "data": {
      "image/png": "[encoded data removed]",
      "text/plain": [
       "<Figure size 1440x360 with 1 Axes>"
      ]
     },
     "metadata": {},
     "output_type": "display_data"
    }
   ],
   "source": [
    "venn_diagram(a, b, c, labels)"
   ]
  },
  {
   "cell_type": "code",
   "execution_count": 148,
   "id": "80dbd4dd",
   "metadata": {},
   "outputs": [],
   "source": [
    "tp = len(set(a) & set(b) & set(c))\n",
    "fp = len(set(b) & set(c) - set(a))\n",
    "tn = len(set(a) & set(c) - set(b))\n",
    "fn = len(set(a) & set(b) - set(c))"
   ]
  },
  {
   "cell_type": "code",
   "execution_count": 149,
   "id": "53dd0b88",
   "metadata": {},
   "outputs": [
    {
     "name": "stdout",
     "output_type": "stream",
     "text": [
      "Patching effort: 3.12%\n"
     ]
    }
   ],
   "source": [
    "b_c = len(set(b) & set(c))\n",
    "print(\"Patching effort: {:.2f}%\".format(b_c / len(cvss) * 100))"
   ]
  },
  {
   "cell_type": "code",
   "execution_count": 150,
   "id": "32a7c1c4",
   "metadata": {},
   "outputs": [
    {
     "name": "stdout",
     "output_type": "stream",
     "text": [
      "Efficiency: 47.63%\n"
     ]
    }
   ],
   "source": [
    "print(\"Efficiency: {:.2f}%\".format(tp / (tp+fp) * 100))"
   ]
  },
  {
   "cell_type": "code",
   "execution_count": 151,
   "id": "ef961252",
   "metadata": {},
   "outputs": [
    {
     "name": "stdout",
     "output_type": "stream",
     "text": [
      "Coverage: 13.55%\n"
     ]
    }
   ],
   "source": [
    "print(\"Coverage: {:.2f}%\".format(tp / (tp+fn) * 100))"
   ]
  },
  {
   "cell_type": "code",
   "execution_count": null,
   "id": "28d28800",
   "metadata": {},
   "outputs": [],
   "source": []
  }
 ],
 "metadata": {
  "kernelspec": {
   "display_name": "Python 3 (ipykernel)",
   "language": "python",
   "name": "python3"
  },
  "language_info": {
   "codemirror_mode": {
    "name": "ipython",
    "version": 3
   },
   "file_extension": ".py",
   "mimetype": "text/x-python",
   "name": "python",
   "nbconvert_exporter": "python",
   "pygments_lexer": "ipython3",
   "version": "3.9.12"
  }
 },
 "nbformat": 4,
 "nbformat_minor": 5
}
