{
 "cells": [
  {
   "cell_type": "code",
   "execution_count": 1,
   "id": "99091002",
   "metadata": {},
   "outputs": [],
   "source": [
    "import numpy as np\n",
    "import pandas as pd\n",
    "\n",
    "import missingno as msno \n",
    "import string \n",
    "import seaborn as sns \n",
    "import matplotlib.pyplot as plt\n",
    "\n",
    "import scipy.optimize as opt\n",
    "import plotly.graph_objects as go\n",
    "from plotly.subplots import make_subplots\n",
    "from datetime import timedelta\n",
    "import scipy.stats as sps\n",
    "from matplotlib_venn import venn3\n",
    "from supervenn import supervenn\n",
    "import json\n",
    "import csv\n",
    "\n",
    "import re    # for regular expressions \n",
    "import string\n",
    "\n",
    "import glob, os\n",
    "from epss_api import EPSS\n",
    "\n",
    "from scipy import stats\n",
    "from scipy.stats import gamma\n",
    "from scipy.special import gamma as gamma_function\n",
    "from scipy.stats import expon\n",
    "from scipy.stats import beta\n",
    "\n",
    "import statsmodels.api as sm\n",
    "import statsmodels.formula.api as smf\n"
   ]
  },
  {
   "cell_type": "code",
   "execution_count": 2,
   "id": "3c87debf",
   "metadata": {},
   "outputs": [],
   "source": [
    "csv.field_size_limit(100000000)\n",
    "import warnings\n",
    "warnings.simplefilter(action='ignore', category=FutureWarning)"
   ]
  },
  {
   "cell_type": "markdown",
   "id": "73918160",
   "metadata": {},
   "source": [
    "***\n",
    "## Data Preprocessing\n",
    "***"
   ]
  },
  {
   "cell_type": "markdown",
   "id": "57fd48d4",
   "metadata": {},
   "source": [
    "Datasets used in this analysis include CISA KEV, CVSS Scores, and EPSS Scores for CVEs.\n",
    "The fields are formatted according to their appropriate types and merged into a single dataframe, joined on CVE_ID."
   ]
  },
  {
   "cell_type": "code",
   "execution_count": 3,
   "id": "bb854d5f",
   "metadata": {},
   "outputs": [],
   "source": [
    "kev = pd.read_csv('kev.csv', encoding = 'utf-8-sig', engine = 'python')"
   ]
  },
  {
   "cell_type": "code",
   "execution_count": 4,
   "id": "8bf0ccb1",
   "metadata": {},
   "outputs": [
    {
     "data": {
      "text/html": [
       "<div>\n",
       "<style scoped>\n",
       "    .dataframe tbody tr th:only-of-type {\n",
       "        vertical-align: middle;\n",
       "    }\n",
       "\n",
       "    .dataframe tbody tr th {\n",
       "        vertical-align: top;\n",
       "    }\n",
       "\n",
       "    .dataframe thead th {\n",
       "        text-align: right;\n",
       "    }\n",
       "</style>\n",
       "<table border=\"1\" class=\"dataframe\">\n",
       "  <thead>\n",
       "    <tr style=\"text-align: right;\">\n",
       "      <th></th>\n",
       "      <th>cveID</th>\n",
       "      <th>vendorProject</th>\n",
       "      <th>product</th>\n",
       "      <th>vulnerabilityName</th>\n",
       "      <th>dateAdded</th>\n",
       "      <th>shortDescription</th>\n",
       "      <th>requiredAction</th>\n",
       "      <th>dueDate</th>\n",
       "      <th>knownRansomwareCampaignUse</th>\n",
       "      <th>notes</th>\n",
       "    </tr>\n",
       "  </thead>\n",
       "  <tbody>\n",
       "    <tr>\n",
       "      <th>0</th>\n",
       "      <td>CVE-2021-27104</td>\n",
       "      <td>Accellion</td>\n",
       "      <td>FTA</td>\n",
       "      <td>Accellion FTA OS Command Injection Vulnerability</td>\n",
       "      <td>2021-11-03</td>\n",
       "      <td>Accellion FTA contains an OS command injection...</td>\n",
       "      <td>Apply updates per vendor instructions.</td>\n",
       "      <td>2021-11-17</td>\n",
       "      <td>Known</td>\n",
       "      <td>NaN</td>\n",
       "    </tr>\n",
       "  </tbody>\n",
       "</table>\n",
       "</div>"
      ],
      "text/plain": [
       "            cveID vendorProject product  \\\n",
       "0  CVE-2021-27104     Accellion     FTA   \n",
       "\n",
       "                                  vulnerabilityName   dateAdded  \\\n",
       "0  Accellion FTA OS Command Injection Vulnerability  2021-11-03   \n",
       "\n",
       "                                    shortDescription  \\\n",
       "0  Accellion FTA contains an OS command injection...   \n",
       "\n",
       "                           requiredAction     dueDate  \\\n",
       "0  Apply updates per vendor instructions.  2021-11-17   \n",
       "\n",
       "  knownRansomwareCampaignUse notes  \n",
       "0                      Known   NaN  "
      ]
     },
     "execution_count": 4,
     "metadata": {},
     "output_type": "execute_result"
    }
   ],
   "source": [
    "kev.head(1)"
   ]
  },
  {
   "cell_type": "code",
   "execution_count": 5,
   "id": "01467de8",
   "metadata": {},
   "outputs": [],
   "source": [
    "kev['hasKEV'] = kev['cveID'].apply(lambda x : 1)"
   ]
  },
  {
   "cell_type": "code",
   "execution_count": 6,
   "id": "bb39dcdc",
   "metadata": {},
   "outputs": [
    {
     "name": "stdout",
     "output_type": "stream",
     "text": [
      "<class 'pandas.core.frame.DataFrame'>\n",
      "RangeIndex: 1025 entries, 0 to 1024\n",
      "Data columns (total 11 columns):\n",
      " #   Column                      Non-Null Count  Dtype \n",
      "---  ------                      --------------  ----- \n",
      " 0   cveID                       1025 non-null   object\n",
      " 1   vendorProject               1025 non-null   object\n",
      " 2   product                     1024 non-null   object\n",
      " 3   vulnerabilityName           1025 non-null   object\n",
      " 4   dateAdded                   1025 non-null   object\n",
      " 5   shortDescription            1025 non-null   object\n",
      " 6   requiredAction              1025 non-null   object\n",
      " 7   dueDate                     1025 non-null   object\n",
      " 8   knownRansomwareCampaignUse  1025 non-null   object\n",
      " 9   notes                       258 non-null    object\n",
      " 10  hasKEV                      1025 non-null   int64 \n",
      "dtypes: int64(1), object(10)\n",
      "memory usage: 88.2+ KB\n"
     ]
    }
   ],
   "source": [
    "kev.info()"
   ]
  },
  {
   "cell_type": "code",
   "execution_count": 7,
   "id": "bf45c58b",
   "metadata": {},
   "outputs": [],
   "source": [
    "client = EPSS()\n",
    "values = client.scores()"
   ]
  },
  {
   "cell_type": "code",
   "execution_count": 8,
   "id": "0930c83b",
   "metadata": {},
   "outputs": [],
   "source": [
    "cve = pd.read_csv('allitems.csv', encoding = 'utf-8-sig', engine = 'python')"
   ]
  },
  {
   "cell_type": "code",
   "execution_count": 9,
   "id": "5aa0575f",
   "metadata": {},
   "outputs": [
    {
     "data": {
      "text/html": [
       "<div>\n",
       "<style scoped>\n",
       "    .dataframe tbody tr th:only-of-type {\n",
       "        vertical-align: middle;\n",
       "    }\n",
       "\n",
       "    .dataframe tbody tr th {\n",
       "        vertical-align: top;\n",
       "    }\n",
       "\n",
       "    .dataframe thead th {\n",
       "        text-align: right;\n",
       "    }\n",
       "</style>\n",
       "<table border=\"1\" class=\"dataframe\">\n",
       "  <thead>\n",
       "    <tr style=\"text-align: right;\">\n",
       "      <th></th>\n",
       "      <th>Name</th>\n",
       "      <th>Status</th>\n",
       "      <th>Description</th>\n",
       "      <th>References</th>\n",
       "      <th>Phase</th>\n",
       "      <th>Votes</th>\n",
       "      <th>Comments</th>\n",
       "    </tr>\n",
       "  </thead>\n",
       "  <tbody>\n",
       "    <tr>\n",
       "      <th>0</th>\n",
       "      <td>CVE-1999-0001</td>\n",
       "      <td>Candidate</td>\n",
       "      <td>ip_input.c in BSD-derived TCP/IP implementatio...</td>\n",
       "      <td>BUGTRAQ:19981223 Re: CERT Advisory CA-98.13 - ...</td>\n",
       "      <td>Modified (20051217)</td>\n",
       "      <td>MODIFY(1) Frech  |     NOOP(2) Northcutt, Wall...</td>\n",
       "      <td>Christey&gt; A Bugtraq posting indicates that the...</td>\n",
       "    </tr>\n",
       "    <tr>\n",
       "      <th>1</th>\n",
       "      <td>CVE-1999-0002</td>\n",
       "      <td>Entry</td>\n",
       "      <td>Buffer overflow in NFS mountd gives root acces...</td>\n",
       "      <td>BID:121   |   URL:http://www.securityfocus.com...</td>\n",
       "      <td>NaN</td>\n",
       "      <td>NaN</td>\n",
       "      <td>NaN</td>\n",
       "    </tr>\n",
       "    <tr>\n",
       "      <th>2</th>\n",
       "      <td>CVE-1999-0003</td>\n",
       "      <td>Entry</td>\n",
       "      <td>Execute commands as root via buffer overflow i...</td>\n",
       "      <td>BID:122   |   URL:http://www.securityfocus.com...</td>\n",
       "      <td>NaN</td>\n",
       "      <td>NaN</td>\n",
       "      <td>NaN</td>\n",
       "    </tr>\n",
       "    <tr>\n",
       "      <th>3</th>\n",
       "      <td>CVE-1999-0004</td>\n",
       "      <td>Candidate</td>\n",
       "      <td>MIME buffer overflow in email clients, e.g. So...</td>\n",
       "      <td>CERT:CA-98.10.mime_buffer_overflows   |   MS:M...</td>\n",
       "      <td>Modified (19990621)</td>\n",
       "      <td>ACCEPT(8) Baker, Cole, Collins, Dik, Landfield...</td>\n",
       "      <td>Frech&gt; Extremely minor, but I believe e-mail i...</td>\n",
       "    </tr>\n",
       "    <tr>\n",
       "      <th>4</th>\n",
       "      <td>CVE-1999-0005</td>\n",
       "      <td>Entry</td>\n",
       "      <td>Arbitrary command execution via IMAP buffer ov...</td>\n",
       "      <td>BID:130   |   URL:http://www.securityfocus.com...</td>\n",
       "      <td>NaN</td>\n",
       "      <td>NaN</td>\n",
       "      <td>NaN</td>\n",
       "    </tr>\n",
       "  </tbody>\n",
       "</table>\n",
       "</div>"
      ],
      "text/plain": [
       "            Name     Status  \\\n",
       "0  CVE-1999-0001  Candidate   \n",
       "1  CVE-1999-0002      Entry   \n",
       "2  CVE-1999-0003      Entry   \n",
       "3  CVE-1999-0004  Candidate   \n",
       "4  CVE-1999-0005      Entry   \n",
       "\n",
       "                                         Description  \\\n",
       "0  ip_input.c in BSD-derived TCP/IP implementatio...   \n",
       "1  Buffer overflow in NFS mountd gives root acces...   \n",
       "2  Execute commands as root via buffer overflow i...   \n",
       "3  MIME buffer overflow in email clients, e.g. So...   \n",
       "4  Arbitrary command execution via IMAP buffer ov...   \n",
       "\n",
       "                                          References                Phase  \\\n",
       "0  BUGTRAQ:19981223 Re: CERT Advisory CA-98.13 - ...  Modified (20051217)   \n",
       "1  BID:121   |   URL:http://www.securityfocus.com...                  NaN   \n",
       "2  BID:122   |   URL:http://www.securityfocus.com...                  NaN   \n",
       "3  CERT:CA-98.10.mime_buffer_overflows   |   MS:M...  Modified (19990621)   \n",
       "4  BID:130   |   URL:http://www.securityfocus.com...                  NaN   \n",
       "\n",
       "                                               Votes  \\\n",
       "0  MODIFY(1) Frech  |     NOOP(2) Northcutt, Wall...   \n",
       "1                                                NaN   \n",
       "2                                                NaN   \n",
       "3  ACCEPT(8) Baker, Cole, Collins, Dik, Landfield...   \n",
       "4                                                NaN   \n",
       "\n",
       "                                            Comments  \n",
       "0  Christey> A Bugtraq posting indicates that the...  \n",
       "1                                                NaN  \n",
       "2                                                NaN  \n",
       "3  Frech> Extremely minor, but I believe e-mail i...  \n",
       "4                                                NaN  "
      ]
     },
     "execution_count": 9,
     "metadata": {},
     "output_type": "execute_result"
    }
   ],
   "source": [
    "cve.head()"
   ]
  },
  {
   "cell_type": "code",
   "execution_count": 10,
   "id": "3980a38e",
   "metadata": {},
   "outputs": [],
   "source": [
    "candidates = cve[cve.Status == 'Candidate']"
   ]
  },
  {
   "cell_type": "code",
   "execution_count": 11,
   "id": "f4f956a9",
   "metadata": {},
   "outputs": [],
   "source": [
    "# remove candidates\n",
    "cve = cve[cve.Status == 'Entry']"
   ]
  },
  {
   "cell_type": "code",
   "execution_count": 12,
   "id": "98c4d524",
   "metadata": {},
   "outputs": [],
   "source": [
    "# df['epssScore'] = df['cveID'].apply(lambda x : client.score(cve_id=x))\n",
    "epss = pd.read_csv('latest-epss-scores.csv', encoding = 'utf-8-sig', engine = 'python')"
   ]
  },
  {
   "cell_type": "code",
   "execution_count": 13,
   "id": "377d78df",
   "metadata": {},
   "outputs": [
    {
     "data": {
      "text/html": [
       "<div>\n",
       "<style scoped>\n",
       "    .dataframe tbody tr th:only-of-type {\n",
       "        vertical-align: middle;\n",
       "    }\n",
       "\n",
       "    .dataframe tbody tr th {\n",
       "        vertical-align: top;\n",
       "    }\n",
       "\n",
       "    .dataframe thead th {\n",
       "        text-align: right;\n",
       "    }\n",
       "</style>\n",
       "<table border=\"1\" class=\"dataframe\">\n",
       "  <thead>\n",
       "    <tr style=\"text-align: right;\">\n",
       "      <th></th>\n",
       "      <th>cve</th>\n",
       "      <th>epss</th>\n",
       "      <th>percentile</th>\n",
       "    </tr>\n",
       "  </thead>\n",
       "  <tbody>\n",
       "    <tr>\n",
       "      <th>0</th>\n",
       "      <td>CVE-2014-0160</td>\n",
       "      <td>0.97588</td>\n",
       "      <td>1.0</td>\n",
       "    </tr>\n",
       "  </tbody>\n",
       "</table>\n",
       "</div>"
      ],
      "text/plain": [
       "             cve     epss  percentile\n",
       "0  CVE-2014-0160  0.97588         1.0"
      ]
     },
     "execution_count": 13,
     "metadata": {},
     "output_type": "execute_result"
    }
   ],
   "source": [
    "epss.head(1)"
   ]
  },
  {
   "cell_type": "code",
   "execution_count": null,
   "id": "921f744c",
   "metadata": {},
   "outputs": [],
   "source": []
  },
  {
   "cell_type": "code",
   "execution_count": 14,
   "id": "d44dd7e8",
   "metadata": {},
   "outputs": [],
   "source": [
    "def get_files_from_path(path: str='.', extension: str=None) -> list:\n",
    "    \"\"\"return list of files from path\"\"\"\n",
    "    # https://stackoverflow.com/a/41447012/9267296\n",
    "    result = []\n",
    "    for subdir, dirs, files in os.walk(path):\n",
    "        for filename in files:\n",
    "            filepath = subdir + os.sep + filename\n",
    "            if extension == None:\n",
    "                result.append(filepath)\n",
    "            elif filename.lower().endswith(extension.lower()):\n",
    "                result.append(filepath)\n",
    "    return result"
   ]
  },
  {
   "cell_type": "code",
   "execution_count": 15,
   "id": "264d4651",
   "metadata": {},
   "outputs": [],
   "source": [
    "cvss = pd.DataFrame()"
   ]
  },
  {
   "cell_type": "code",
   "execution_count": 16,
   "id": "4fa7b578",
   "metadata": {},
   "outputs": [],
   "source": [
    "filelist = get_files_from_path(extension='.json')\n",
    "alldata = []\n",
    "for filepath in filelist:\n",
    "    with open(filepath) as infile:\n",
    "#         jsonlist.append(json.load(infile))\n",
    "        data = json.load(infile)\n",
    "#         alldata.append(data)\n",
    "        df = pd.DataFrame(data)\n",
    "        df = pd.json_normalize(df[\"CVE_Items\"])\n",
    "        cvss = cvss.append(df,ignore_index=True)"
   ]
  },
  {
   "cell_type": "code",
   "execution_count": 17,
   "id": "0ebe84d9",
   "metadata": {},
   "outputs": [
    {
     "data": {
      "text/html": [
       "<div>\n",
       "<style scoped>\n",
       "    .dataframe tbody tr th:only-of-type {\n",
       "        vertical-align: middle;\n",
       "    }\n",
       "\n",
       "    .dataframe tbody tr th {\n",
       "        vertical-align: top;\n",
       "    }\n",
       "\n",
       "    .dataframe thead th {\n",
       "        text-align: right;\n",
       "    }\n",
       "</style>\n",
       "<table border=\"1\" class=\"dataframe\">\n",
       "  <thead>\n",
       "    <tr style=\"text-align: right;\">\n",
       "      <th></th>\n",
       "      <th>publishedDate</th>\n",
       "      <th>lastModifiedDate</th>\n",
       "      <th>cve.data_type</th>\n",
       "      <th>cve.data_format</th>\n",
       "      <th>cve.data_version</th>\n",
       "      <th>cve.CVE_data_meta.ID</th>\n",
       "      <th>cve.CVE_data_meta.ASSIGNER</th>\n",
       "      <th>cve.problemtype.problemtype_data</th>\n",
       "      <th>cve.references.reference_data</th>\n",
       "      <th>cve.description.description_data</th>\n",
       "      <th>...</th>\n",
       "      <th>impact.baseMetricV2.cvssV2.availabilityImpact</th>\n",
       "      <th>impact.baseMetricV2.cvssV2.baseScore</th>\n",
       "      <th>impact.baseMetricV2.severity</th>\n",
       "      <th>impact.baseMetricV2.exploitabilityScore</th>\n",
       "      <th>impact.baseMetricV2.impactScore</th>\n",
       "      <th>impact.baseMetricV2.acInsufInfo</th>\n",
       "      <th>impact.baseMetricV2.obtainAllPrivilege</th>\n",
       "      <th>impact.baseMetricV2.obtainUserPrivilege</th>\n",
       "      <th>impact.baseMetricV2.obtainOtherPrivilege</th>\n",
       "      <th>impact.baseMetricV2.userInteractionRequired</th>\n",
       "    </tr>\n",
       "  </thead>\n",
       "  <tbody>\n",
       "    <tr>\n",
       "      <th>335622</th>\n",
       "      <td>2020-12-08T20:15Z</td>\n",
       "      <td>2023-01-09T16:41Z</td>\n",
       "      <td>CVE</td>\n",
       "      <td>MITRE</td>\n",
       "      <td>4.0</td>\n",
       "      <td>CVE-2020-9989</td>\n",
       "      <td>product-security@apple.com</td>\n",
       "      <td>[{'description': [{'lang': 'en', 'value': 'NVD...</td>\n",
       "      <td>[{'url': 'https://support.apple.com/en-us/HT21...</td>\n",
       "      <td>[{'lang': 'en', 'value': 'The issue was addres...</td>\n",
       "      <td>...</td>\n",
       "      <td>NONE</td>\n",
       "      <td>2.1</td>\n",
       "      <td>LOW</td>\n",
       "      <td>3.9</td>\n",
       "      <td>2.9</td>\n",
       "      <td>False</td>\n",
       "      <td>False</td>\n",
       "      <td>False</td>\n",
       "      <td>False</td>\n",
       "      <td>False</td>\n",
       "    </tr>\n",
       "    <tr>\n",
       "      <th>335623</th>\n",
       "      <td>2020-10-22T19:15Z</td>\n",
       "      <td>2022-05-03T16:04Z</td>\n",
       "      <td>CVE</td>\n",
       "      <td>MITRE</td>\n",
       "      <td>4.0</td>\n",
       "      <td>CVE-2020-9990</td>\n",
       "      <td>product-security@apple.com</td>\n",
       "      <td>[{'description': [{'lang': 'en', 'value': 'CWE...</td>\n",
       "      <td>[{'url': 'https://support.apple.com/kb/HT21128...</td>\n",
       "      <td>[{'lang': 'en', 'value': 'A race condition was...</td>\n",
       "      <td>...</td>\n",
       "      <td>COMPLETE</td>\n",
       "      <td>6.9</td>\n",
       "      <td>MEDIUM</td>\n",
       "      <td>3.4</td>\n",
       "      <td>10.0</td>\n",
       "      <td>False</td>\n",
       "      <td>False</td>\n",
       "      <td>False</td>\n",
       "      <td>False</td>\n",
       "      <td>False</td>\n",
       "    </tr>\n",
       "    <tr>\n",
       "      <th>335624</th>\n",
       "      <td>2020-12-08T22:15Z</td>\n",
       "      <td>2023-11-07T03:27Z</td>\n",
       "      <td>CVE</td>\n",
       "      <td>MITRE</td>\n",
       "      <td>4.0</td>\n",
       "      <td>CVE-2020-9991</td>\n",
       "      <td>product-security@apple.com</td>\n",
       "      <td>[{'description': [{'lang': 'en', 'value': 'NVD...</td>\n",
       "      <td>[{'url': 'https://support.apple.com/en-us/HT21...</td>\n",
       "      <td>[{'lang': 'en', 'value': 'This issue was addre...</td>\n",
       "      <td>...</td>\n",
       "      <td>PARTIAL</td>\n",
       "      <td>5.0</td>\n",
       "      <td>MEDIUM</td>\n",
       "      <td>10.0</td>\n",
       "      <td>2.9</td>\n",
       "      <td>False</td>\n",
       "      <td>False</td>\n",
       "      <td>False</td>\n",
       "      <td>False</td>\n",
       "      <td>False</td>\n",
       "    </tr>\n",
       "    <tr>\n",
       "      <th>335625</th>\n",
       "      <td>2020-10-16T17:15Z</td>\n",
       "      <td>2023-01-09T16:41Z</td>\n",
       "      <td>CVE</td>\n",
       "      <td>MITRE</td>\n",
       "      <td>4.0</td>\n",
       "      <td>CVE-2020-9992</td>\n",
       "      <td>product-security@apple.com</td>\n",
       "      <td>[{'description': [{'lang': 'en', 'value': 'NVD...</td>\n",
       "      <td>[{'url': 'https://support.apple.com/HT211850',...</td>\n",
       "      <td>[{'lang': 'en', 'value': 'This issue was addre...</td>\n",
       "      <td>...</td>\n",
       "      <td>COMPLETE</td>\n",
       "      <td>9.3</td>\n",
       "      <td>HIGH</td>\n",
       "      <td>8.6</td>\n",
       "      <td>10.0</td>\n",
       "      <td>False</td>\n",
       "      <td>False</td>\n",
       "      <td>False</td>\n",
       "      <td>False</td>\n",
       "      <td>True</td>\n",
       "    </tr>\n",
       "    <tr>\n",
       "      <th>335626</th>\n",
       "      <td>2020-12-08T20:15Z</td>\n",
       "      <td>2023-01-09T16:41Z</td>\n",
       "      <td>CVE</td>\n",
       "      <td>MITRE</td>\n",
       "      <td>4.0</td>\n",
       "      <td>CVE-2020-9993</td>\n",
       "      <td>product-security@apple.com</td>\n",
       "      <td>[{'description': [{'lang': 'en', 'value': 'CWE...</td>\n",
       "      <td>[{'url': 'https://support.apple.com/en-us/HT21...</td>\n",
       "      <td>[{'lang': 'en', 'value': 'The issue was addres...</td>\n",
       "      <td>...</td>\n",
       "      <td>NONE</td>\n",
       "      <td>4.3</td>\n",
       "      <td>MEDIUM</td>\n",
       "      <td>8.6</td>\n",
       "      <td>2.9</td>\n",
       "      <td>False</td>\n",
       "      <td>False</td>\n",
       "      <td>False</td>\n",
       "      <td>False</td>\n",
       "      <td>True</td>\n",
       "    </tr>\n",
       "    <tr>\n",
       "      <th>335627</th>\n",
       "      <td>2020-10-22T19:15Z</td>\n",
       "      <td>2020-10-26T20:26Z</td>\n",
       "      <td>CVE</td>\n",
       "      <td>MITRE</td>\n",
       "      <td>4.0</td>\n",
       "      <td>CVE-2020-9994</td>\n",
       "      <td>product-security@apple.com</td>\n",
       "      <td>[{'description': [{'lang': 'en', 'value': 'NVD...</td>\n",
       "      <td>[{'url': 'https://support.apple.com/kb/HT21116...</td>\n",
       "      <td>[{'lang': 'en', 'value': 'A path handling issu...</td>\n",
       "      <td>...</td>\n",
       "      <td>PARTIAL</td>\n",
       "      <td>5.8</td>\n",
       "      <td>MEDIUM</td>\n",
       "      <td>8.6</td>\n",
       "      <td>4.9</td>\n",
       "      <td>False</td>\n",
       "      <td>False</td>\n",
       "      <td>False</td>\n",
       "      <td>False</td>\n",
       "      <td>True</td>\n",
       "    </tr>\n",
       "    <tr>\n",
       "      <th>335628</th>\n",
       "      <td>2021-04-02T18:15Z</td>\n",
       "      <td>2021-04-07T20:25Z</td>\n",
       "      <td>CVE</td>\n",
       "      <td>MITRE</td>\n",
       "      <td>4.0</td>\n",
       "      <td>CVE-2020-9995</td>\n",
       "      <td>product-security@apple.com</td>\n",
       "      <td>[{'description': [{'lang': 'en', 'value': 'CWE...</td>\n",
       "      <td>[{'url': 'https://support.apple.com/en-us/HT21...</td>\n",
       "      <td>[{'lang': 'en', 'value': 'An issue existed in ...</td>\n",
       "      <td>...</td>\n",
       "      <td>NONE</td>\n",
       "      <td>5.8</td>\n",
       "      <td>MEDIUM</td>\n",
       "      <td>8.6</td>\n",
       "      <td>4.9</td>\n",
       "      <td>False</td>\n",
       "      <td>False</td>\n",
       "      <td>False</td>\n",
       "      <td>False</td>\n",
       "      <td>True</td>\n",
       "    </tr>\n",
       "    <tr>\n",
       "      <th>335629</th>\n",
       "      <td>2020-12-08T20:15Z</td>\n",
       "      <td>2023-01-09T16:41Z</td>\n",
       "      <td>CVE</td>\n",
       "      <td>MITRE</td>\n",
       "      <td>4.0</td>\n",
       "      <td>CVE-2020-9996</td>\n",
       "      <td>product-security@apple.com</td>\n",
       "      <td>[{'description': [{'lang': 'en', 'value': 'CWE...</td>\n",
       "      <td>[{'url': 'https://support.apple.com/en-us/HT21...</td>\n",
       "      <td>[{'lang': 'en', 'value': 'A use after free iss...</td>\n",
       "      <td>...</td>\n",
       "      <td>PARTIAL</td>\n",
       "      <td>6.8</td>\n",
       "      <td>MEDIUM</td>\n",
       "      <td>8.6</td>\n",
       "      <td>6.4</td>\n",
       "      <td>False</td>\n",
       "      <td>False</td>\n",
       "      <td>False</td>\n",
       "      <td>False</td>\n",
       "      <td>True</td>\n",
       "    </tr>\n",
       "    <tr>\n",
       "      <th>335630</th>\n",
       "      <td>2020-10-22T19:15Z</td>\n",
       "      <td>2020-10-26T20:27Z</td>\n",
       "      <td>CVE</td>\n",
       "      <td>MITRE</td>\n",
       "      <td>4.0</td>\n",
       "      <td>CVE-2020-9997</td>\n",
       "      <td>product-security@apple.com</td>\n",
       "      <td>[{'description': [{'lang': 'en', 'value': 'NVD...</td>\n",
       "      <td>[{'url': 'https://support.apple.com/kb/HT21128...</td>\n",
       "      <td>[{'lang': 'en', 'value': 'An information discl...</td>\n",
       "      <td>...</td>\n",
       "      <td>NONE</td>\n",
       "      <td>4.3</td>\n",
       "      <td>MEDIUM</td>\n",
       "      <td>8.6</td>\n",
       "      <td>2.9</td>\n",
       "      <td>False</td>\n",
       "      <td>False</td>\n",
       "      <td>False</td>\n",
       "      <td>False</td>\n",
       "      <td>True</td>\n",
       "    </tr>\n",
       "    <tr>\n",
       "      <th>335631</th>\n",
       "      <td>2020-12-08T20:15Z</td>\n",
       "      <td>2021-07-21T11:39Z</td>\n",
       "      <td>CVE</td>\n",
       "      <td>MITRE</td>\n",
       "      <td>4.0</td>\n",
       "      <td>CVE-2020-9999</td>\n",
       "      <td>product-security@apple.com</td>\n",
       "      <td>[{'description': [{'lang': 'en', 'value': 'CWE...</td>\n",
       "      <td>[{'url': 'https://support.apple.com/en-us/HT21...</td>\n",
       "      <td>[{'lang': 'en', 'value': 'A memory corruption ...</td>\n",
       "      <td>...</td>\n",
       "      <td>PARTIAL</td>\n",
       "      <td>6.8</td>\n",
       "      <td>MEDIUM</td>\n",
       "      <td>8.6</td>\n",
       "      <td>6.4</td>\n",
       "      <td>False</td>\n",
       "      <td>False</td>\n",
       "      <td>False</td>\n",
       "      <td>False</td>\n",
       "      <td>True</td>\n",
       "    </tr>\n",
       "  </tbody>\n",
       "</table>\n",
       "<p>10 rows × 43 columns</p>\n",
       "</div>"
      ],
      "text/plain": [
       "            publishedDate   lastModifiedDate cve.data_type cve.data_format  \\\n",
       "335622  2020-12-08T20:15Z  2023-01-09T16:41Z           CVE           MITRE   \n",
       "335623  2020-10-22T19:15Z  2022-05-03T16:04Z           CVE           MITRE   \n",
       "335624  2020-12-08T22:15Z  2023-11-07T03:27Z           CVE           MITRE   \n",
       "335625  2020-10-16T17:15Z  2023-01-09T16:41Z           CVE           MITRE   \n",
       "335626  2020-12-08T20:15Z  2023-01-09T16:41Z           CVE           MITRE   \n",
       "335627  2020-10-22T19:15Z  2020-10-26T20:26Z           CVE           MITRE   \n",
       "335628  2021-04-02T18:15Z  2021-04-07T20:25Z           CVE           MITRE   \n",
       "335629  2020-12-08T20:15Z  2023-01-09T16:41Z           CVE           MITRE   \n",
       "335630  2020-10-22T19:15Z  2020-10-26T20:27Z           CVE           MITRE   \n",
       "335631  2020-12-08T20:15Z  2021-07-21T11:39Z           CVE           MITRE   \n",
       "\n",
       "       cve.data_version cve.CVE_data_meta.ID  cve.CVE_data_meta.ASSIGNER  \\\n",
       "335622              4.0        CVE-2020-9989  product-security@apple.com   \n",
       "335623              4.0        CVE-2020-9990  product-security@apple.com   \n",
       "335624              4.0        CVE-2020-9991  product-security@apple.com   \n",
       "335625              4.0        CVE-2020-9992  product-security@apple.com   \n",
       "335626              4.0        CVE-2020-9993  product-security@apple.com   \n",
       "335627              4.0        CVE-2020-9994  product-security@apple.com   \n",
       "335628              4.0        CVE-2020-9995  product-security@apple.com   \n",
       "335629              4.0        CVE-2020-9996  product-security@apple.com   \n",
       "335630              4.0        CVE-2020-9997  product-security@apple.com   \n",
       "335631              4.0        CVE-2020-9999  product-security@apple.com   \n",
       "\n",
       "                         cve.problemtype.problemtype_data  \\\n",
       "335622  [{'description': [{'lang': 'en', 'value': 'NVD...   \n",
       "335623  [{'description': [{'lang': 'en', 'value': 'CWE...   \n",
       "335624  [{'description': [{'lang': 'en', 'value': 'NVD...   \n",
       "335625  [{'description': [{'lang': 'en', 'value': 'NVD...   \n",
       "335626  [{'description': [{'lang': 'en', 'value': 'CWE...   \n",
       "335627  [{'description': [{'lang': 'en', 'value': 'NVD...   \n",
       "335628  [{'description': [{'lang': 'en', 'value': 'CWE...   \n",
       "335629  [{'description': [{'lang': 'en', 'value': 'CWE...   \n",
       "335630  [{'description': [{'lang': 'en', 'value': 'NVD...   \n",
       "335631  [{'description': [{'lang': 'en', 'value': 'CWE...   \n",
       "\n",
       "                            cve.references.reference_data  \\\n",
       "335622  [{'url': 'https://support.apple.com/en-us/HT21...   \n",
       "335623  [{'url': 'https://support.apple.com/kb/HT21128...   \n",
       "335624  [{'url': 'https://support.apple.com/en-us/HT21...   \n",
       "335625  [{'url': 'https://support.apple.com/HT211850',...   \n",
       "335626  [{'url': 'https://support.apple.com/en-us/HT21...   \n",
       "335627  [{'url': 'https://support.apple.com/kb/HT21116...   \n",
       "335628  [{'url': 'https://support.apple.com/en-us/HT21...   \n",
       "335629  [{'url': 'https://support.apple.com/en-us/HT21...   \n",
       "335630  [{'url': 'https://support.apple.com/kb/HT21128...   \n",
       "335631  [{'url': 'https://support.apple.com/en-us/HT21...   \n",
       "\n",
       "                         cve.description.description_data  ...  \\\n",
       "335622  [{'lang': 'en', 'value': 'The issue was addres...  ...   \n",
       "335623  [{'lang': 'en', 'value': 'A race condition was...  ...   \n",
       "335624  [{'lang': 'en', 'value': 'This issue was addre...  ...   \n",
       "335625  [{'lang': 'en', 'value': 'This issue was addre...  ...   \n",
       "335626  [{'lang': 'en', 'value': 'The issue was addres...  ...   \n",
       "335627  [{'lang': 'en', 'value': 'A path handling issu...  ...   \n",
       "335628  [{'lang': 'en', 'value': 'An issue existed in ...  ...   \n",
       "335629  [{'lang': 'en', 'value': 'A use after free iss...  ...   \n",
       "335630  [{'lang': 'en', 'value': 'An information discl...  ...   \n",
       "335631  [{'lang': 'en', 'value': 'A memory corruption ...  ...   \n",
       "\n",
       "       impact.baseMetricV2.cvssV2.availabilityImpact  \\\n",
       "335622                                          NONE   \n",
       "335623                                      COMPLETE   \n",
       "335624                                       PARTIAL   \n",
       "335625                                      COMPLETE   \n",
       "335626                                          NONE   \n",
       "335627                                       PARTIAL   \n",
       "335628                                          NONE   \n",
       "335629                                       PARTIAL   \n",
       "335630                                          NONE   \n",
       "335631                                       PARTIAL   \n",
       "\n",
       "       impact.baseMetricV2.cvssV2.baseScore impact.baseMetricV2.severity  \\\n",
       "335622                                  2.1                          LOW   \n",
       "335623                                  6.9                       MEDIUM   \n",
       "335624                                  5.0                       MEDIUM   \n",
       "335625                                  9.3                         HIGH   \n",
       "335626                                  4.3                       MEDIUM   \n",
       "335627                                  5.8                       MEDIUM   \n",
       "335628                                  5.8                       MEDIUM   \n",
       "335629                                  6.8                       MEDIUM   \n",
       "335630                                  4.3                       MEDIUM   \n",
       "335631                                  6.8                       MEDIUM   \n",
       "\n",
       "       impact.baseMetricV2.exploitabilityScore  \\\n",
       "335622                                     3.9   \n",
       "335623                                     3.4   \n",
       "335624                                    10.0   \n",
       "335625                                     8.6   \n",
       "335626                                     8.6   \n",
       "335627                                     8.6   \n",
       "335628                                     8.6   \n",
       "335629                                     8.6   \n",
       "335630                                     8.6   \n",
       "335631                                     8.6   \n",
       "\n",
       "       impact.baseMetricV2.impactScore impact.baseMetricV2.acInsufInfo  \\\n",
       "335622                             2.9                           False   \n",
       "335623                            10.0                           False   \n",
       "335624                             2.9                           False   \n",
       "335625                            10.0                           False   \n",
       "335626                             2.9                           False   \n",
       "335627                             4.9                           False   \n",
       "335628                             4.9                           False   \n",
       "335629                             6.4                           False   \n",
       "335630                             2.9                           False   \n",
       "335631                             6.4                           False   \n",
       "\n",
       "       impact.baseMetricV2.obtainAllPrivilege  \\\n",
       "335622                                  False   \n",
       "335623                                  False   \n",
       "335624                                  False   \n",
       "335625                                  False   \n",
       "335626                                  False   \n",
       "335627                                  False   \n",
       "335628                                  False   \n",
       "335629                                  False   \n",
       "335630                                  False   \n",
       "335631                                  False   \n",
       "\n",
       "       impact.baseMetricV2.obtainUserPrivilege  \\\n",
       "335622                                   False   \n",
       "335623                                   False   \n",
       "335624                                   False   \n",
       "335625                                   False   \n",
       "335626                                   False   \n",
       "335627                                   False   \n",
       "335628                                   False   \n",
       "335629                                   False   \n",
       "335630                                   False   \n",
       "335631                                   False   \n",
       "\n",
       "       impact.baseMetricV2.obtainOtherPrivilege  \\\n",
       "335622                                    False   \n",
       "335623                                    False   \n",
       "335624                                    False   \n",
       "335625                                    False   \n",
       "335626                                    False   \n",
       "335627                                    False   \n",
       "335628                                    False   \n",
       "335629                                    False   \n",
       "335630                                    False   \n",
       "335631                                    False   \n",
       "\n",
       "       impact.baseMetricV2.userInteractionRequired  \n",
       "335622                                       False  \n",
       "335623                                       False  \n",
       "335624                                       False  \n",
       "335625                                        True  \n",
       "335626                                        True  \n",
       "335627                                        True  \n",
       "335628                                        True  \n",
       "335629                                        True  \n",
       "335630                                        True  \n",
       "335631                                        True  \n",
       "\n",
       "[10 rows x 43 columns]"
      ]
     },
     "execution_count": 17,
     "metadata": {},
     "output_type": "execute_result"
    }
   ],
   "source": [
    "cvss.tail(10)"
   ]
  },
  {
   "cell_type": "code",
   "execution_count": 18,
   "id": "35b32398",
   "metadata": {},
   "outputs": [
    {
     "data": {
      "text/html": [
       "<div>\n",
       "<style scoped>\n",
       "    .dataframe tbody tr th:only-of-type {\n",
       "        vertical-align: middle;\n",
       "    }\n",
       "\n",
       "    .dataframe tbody tr th {\n",
       "        vertical-align: top;\n",
       "    }\n",
       "\n",
       "    .dataframe thead th {\n",
       "        text-align: right;\n",
       "    }\n",
       "</style>\n",
       "<table border=\"1\" class=\"dataframe\">\n",
       "  <thead>\n",
       "    <tr style=\"text-align: right;\">\n",
       "      <th></th>\n",
       "      <th>publishedDate</th>\n",
       "      <th>lastModifiedDate</th>\n",
       "      <th>cve.data_type</th>\n",
       "      <th>cve.data_format</th>\n",
       "      <th>cve.data_version</th>\n",
       "      <th>cve.CVE_data_meta.ID</th>\n",
       "      <th>cve.CVE_data_meta.ASSIGNER</th>\n",
       "      <th>cve.problemtype.problemtype_data</th>\n",
       "      <th>cve.references.reference_data</th>\n",
       "      <th>cve.description.description_data</th>\n",
       "      <th>...</th>\n",
       "      <th>impact.baseMetricV2.cvssV2.availabilityImpact</th>\n",
       "      <th>impact.baseMetricV2.cvssV2.baseScore</th>\n",
       "      <th>impact.baseMetricV2.severity</th>\n",
       "      <th>impact.baseMetricV2.exploitabilityScore</th>\n",
       "      <th>impact.baseMetricV2.impactScore</th>\n",
       "      <th>impact.baseMetricV2.acInsufInfo</th>\n",
       "      <th>impact.baseMetricV2.obtainAllPrivilege</th>\n",
       "      <th>impact.baseMetricV2.obtainUserPrivilege</th>\n",
       "      <th>impact.baseMetricV2.obtainOtherPrivilege</th>\n",
       "      <th>impact.baseMetricV2.userInteractionRequired</th>\n",
       "    </tr>\n",
       "  </thead>\n",
       "  <tbody>\n",
       "    <tr>\n",
       "      <th>0</th>\n",
       "      <td>2021-06-09T20:15Z</td>\n",
       "      <td>2021-06-28T18:03Z</td>\n",
       "      <td>CVE</td>\n",
       "      <td>MITRE</td>\n",
       "      <td>4.0</td>\n",
       "      <td>CVE-2021-0001</td>\n",
       "      <td>secure@intel.com</td>\n",
       "      <td>[{'description': [{'lang': 'en', 'value': 'CWE...</td>\n",
       "      <td>[{'url': 'https://www.intel.com/content/www/us...</td>\n",
       "      <td>[{'lang': 'en', 'value': 'Observable timing di...</td>\n",
       "      <td>...</td>\n",
       "      <td>NONE</td>\n",
       "      <td>2.1</td>\n",
       "      <td>LOW</td>\n",
       "      <td>3.9</td>\n",
       "      <td>2.9</td>\n",
       "      <td>False</td>\n",
       "      <td>False</td>\n",
       "      <td>False</td>\n",
       "      <td>False</td>\n",
       "      <td>False</td>\n",
       "    </tr>\n",
       "    <tr>\n",
       "      <th>1</th>\n",
       "      <td>2021-08-11T13:15Z</td>\n",
       "      <td>2021-11-30T19:43Z</td>\n",
       "      <td>CVE</td>\n",
       "      <td>MITRE</td>\n",
       "      <td>4.0</td>\n",
       "      <td>CVE-2021-0002</td>\n",
       "      <td>secure@intel.com</td>\n",
       "      <td>[{'description': [{'lang': 'en', 'value': 'CWE...</td>\n",
       "      <td>[{'url': 'https://www.intel.com/content/www/us...</td>\n",
       "      <td>[{'lang': 'en', 'value': 'Improper conditions ...</td>\n",
       "      <td>...</td>\n",
       "      <td>PARTIAL</td>\n",
       "      <td>3.6</td>\n",
       "      <td>LOW</td>\n",
       "      <td>3.9</td>\n",
       "      <td>4.9</td>\n",
       "      <td>False</td>\n",
       "      <td>False</td>\n",
       "      <td>False</td>\n",
       "      <td>False</td>\n",
       "      <td>False</td>\n",
       "    </tr>\n",
       "    <tr>\n",
       "      <th>2</th>\n",
       "      <td>2021-08-11T13:15Z</td>\n",
       "      <td>2021-09-14T18:36Z</td>\n",
       "      <td>CVE</td>\n",
       "      <td>MITRE</td>\n",
       "      <td>4.0</td>\n",
       "      <td>CVE-2021-0003</td>\n",
       "      <td>secure@intel.com</td>\n",
       "      <td>[{'description': [{'lang': 'en', 'value': 'CWE...</td>\n",
       "      <td>[{'url': 'https://www.intel.com/content/www/us...</td>\n",
       "      <td>[{'lang': 'en', 'value': 'Improper conditions ...</td>\n",
       "      <td>...</td>\n",
       "      <td>NONE</td>\n",
       "      <td>2.1</td>\n",
       "      <td>LOW</td>\n",
       "      <td>3.9</td>\n",
       "      <td>2.9</td>\n",
       "      <td>False</td>\n",
       "      <td>False</td>\n",
       "      <td>False</td>\n",
       "      <td>False</td>\n",
       "      <td>False</td>\n",
       "    </tr>\n",
       "    <tr>\n",
       "      <th>3</th>\n",
       "      <td>2021-08-11T13:15Z</td>\n",
       "      <td>2022-03-31T19:45Z</td>\n",
       "      <td>CVE</td>\n",
       "      <td>MITRE</td>\n",
       "      <td>4.0</td>\n",
       "      <td>CVE-2021-0004</td>\n",
       "      <td>secure@intel.com</td>\n",
       "      <td>[{'description': [{'lang': 'en', 'value': 'CWE...</td>\n",
       "      <td>[{'url': 'https://www.intel.com/content/www/us...</td>\n",
       "      <td>[{'lang': 'en', 'value': 'Improper buffer rest...</td>\n",
       "      <td>...</td>\n",
       "      <td>PARTIAL</td>\n",
       "      <td>2.1</td>\n",
       "      <td>LOW</td>\n",
       "      <td>3.9</td>\n",
       "      <td>2.9</td>\n",
       "      <td>False</td>\n",
       "      <td>False</td>\n",
       "      <td>False</td>\n",
       "      <td>False</td>\n",
       "      <td>False</td>\n",
       "    </tr>\n",
       "    <tr>\n",
       "      <th>4</th>\n",
       "      <td>2021-08-11T13:15Z</td>\n",
       "      <td>2021-09-14T18:36Z</td>\n",
       "      <td>CVE</td>\n",
       "      <td>MITRE</td>\n",
       "      <td>4.0</td>\n",
       "      <td>CVE-2021-0005</td>\n",
       "      <td>secure@intel.com</td>\n",
       "      <td>[{'description': [{'lang': 'en', 'value': 'CWE...</td>\n",
       "      <td>[{'url': 'https://www.intel.com/content/www/us...</td>\n",
       "      <td>[{'lang': 'en', 'value': 'Uncaught exception i...</td>\n",
       "      <td>...</td>\n",
       "      <td>PARTIAL</td>\n",
       "      <td>2.1</td>\n",
       "      <td>LOW</td>\n",
       "      <td>3.9</td>\n",
       "      <td>2.9</td>\n",
       "      <td>False</td>\n",
       "      <td>False</td>\n",
       "      <td>False</td>\n",
       "      <td>False</td>\n",
       "      <td>False</td>\n",
       "    </tr>\n",
       "    <tr>\n",
       "      <th>5</th>\n",
       "      <td>2021-08-11T13:15Z</td>\n",
       "      <td>2021-09-14T18:35Z</td>\n",
       "      <td>CVE</td>\n",
       "      <td>MITRE</td>\n",
       "      <td>4.0</td>\n",
       "      <td>CVE-2021-0006</td>\n",
       "      <td>secure@intel.com</td>\n",
       "      <td>[{'description': [{'lang': 'en', 'value': 'CWE...</td>\n",
       "      <td>[{'url': 'https://www.intel.com/content/www/us...</td>\n",
       "      <td>[{'lang': 'en', 'value': 'Improper conditions ...</td>\n",
       "      <td>...</td>\n",
       "      <td>PARTIAL</td>\n",
       "      <td>2.1</td>\n",
       "      <td>LOW</td>\n",
       "      <td>3.9</td>\n",
       "      <td>2.9</td>\n",
       "      <td>False</td>\n",
       "      <td>False</td>\n",
       "      <td>False</td>\n",
       "      <td>False</td>\n",
       "      <td>False</td>\n",
       "    </tr>\n",
       "    <tr>\n",
       "      <th>6</th>\n",
       "      <td>2021-08-11T13:15Z</td>\n",
       "      <td>2021-09-14T18:35Z</td>\n",
       "      <td>CVE</td>\n",
       "      <td>MITRE</td>\n",
       "      <td>4.0</td>\n",
       "      <td>CVE-2021-0007</td>\n",
       "      <td>secure@intel.com</td>\n",
       "      <td>[{'description': [{'lang': 'en', 'value': 'CWE...</td>\n",
       "      <td>[{'url': 'https://www.intel.com/content/www/us...</td>\n",
       "      <td>[{'lang': 'en', 'value': 'Uncaught exception i...</td>\n",
       "      <td>...</td>\n",
       "      <td>PARTIAL</td>\n",
       "      <td>2.1</td>\n",
       "      <td>LOW</td>\n",
       "      <td>3.9</td>\n",
       "      <td>2.9</td>\n",
       "      <td>False</td>\n",
       "      <td>False</td>\n",
       "      <td>False</td>\n",
       "      <td>False</td>\n",
       "      <td>False</td>\n",
       "    </tr>\n",
       "    <tr>\n",
       "      <th>7</th>\n",
       "      <td>2021-08-11T13:15Z</td>\n",
       "      <td>2021-09-14T18:34Z</td>\n",
       "      <td>CVE</td>\n",
       "      <td>MITRE</td>\n",
       "      <td>4.0</td>\n",
       "      <td>CVE-2021-0008</td>\n",
       "      <td>secure@intel.com</td>\n",
       "      <td>[{'description': [{'lang': 'en', 'value': 'CWE...</td>\n",
       "      <td>[{'url': 'https://www.intel.com/content/www/us...</td>\n",
       "      <td>[{'lang': 'en', 'value': 'Uncontrolled resourc...</td>\n",
       "      <td>...</td>\n",
       "      <td>PARTIAL</td>\n",
       "      <td>2.1</td>\n",
       "      <td>LOW</td>\n",
       "      <td>3.9</td>\n",
       "      <td>2.9</td>\n",
       "      <td>False</td>\n",
       "      <td>False</td>\n",
       "      <td>False</td>\n",
       "      <td>False</td>\n",
       "      <td>False</td>\n",
       "    </tr>\n",
       "    <tr>\n",
       "      <th>8</th>\n",
       "      <td>2021-08-11T13:15Z</td>\n",
       "      <td>2021-09-14T18:34Z</td>\n",
       "      <td>CVE</td>\n",
       "      <td>MITRE</td>\n",
       "      <td>4.0</td>\n",
       "      <td>CVE-2021-0009</td>\n",
       "      <td>secure@intel.com</td>\n",
       "      <td>[{'description': [{'lang': 'en', 'value': 'CWE...</td>\n",
       "      <td>[{'url': 'https://www.intel.com/content/www/us...</td>\n",
       "      <td>[{'lang': 'en', 'value': 'Out-of-bounds read i...</td>\n",
       "      <td>...</td>\n",
       "      <td>NONE</td>\n",
       "      <td>3.3</td>\n",
       "      <td>LOW</td>\n",
       "      <td>6.5</td>\n",
       "      <td>2.9</td>\n",
       "      <td>False</td>\n",
       "      <td>False</td>\n",
       "      <td>False</td>\n",
       "      <td>False</td>\n",
       "      <td>False</td>\n",
       "    </tr>\n",
       "    <tr>\n",
       "      <th>9</th>\n",
       "      <td>2023-05-16T22:15Z</td>\n",
       "      <td>2023-05-16T22:15Z</td>\n",
       "      <td>CVE</td>\n",
       "      <td>MITRE</td>\n",
       "      <td>4.0</td>\n",
       "      <td>CVE-2021-0010</td>\n",
       "      <td>cve@mitre.org</td>\n",
       "      <td>[{'description': []}]</td>\n",
       "      <td>[]</td>\n",
       "      <td>[{'lang': 'en', 'value': '** REJECT ** DO NOT ...</td>\n",
       "      <td>...</td>\n",
       "      <td>NaN</td>\n",
       "      <td>NaN</td>\n",
       "      <td>NaN</td>\n",
       "      <td>NaN</td>\n",
       "      <td>NaN</td>\n",
       "      <td>NaN</td>\n",
       "      <td>NaN</td>\n",
       "      <td>NaN</td>\n",
       "      <td>NaN</td>\n",
       "      <td>NaN</td>\n",
       "    </tr>\n",
       "  </tbody>\n",
       "</table>\n",
       "<p>10 rows × 43 columns</p>\n",
       "</div>"
      ],
      "text/plain": [
       "       publishedDate   lastModifiedDate cve.data_type cve.data_format  \\\n",
       "0  2021-06-09T20:15Z  2021-06-28T18:03Z           CVE           MITRE   \n",
       "1  2021-08-11T13:15Z  2021-11-30T19:43Z           CVE           MITRE   \n",
       "2  2021-08-11T13:15Z  2021-09-14T18:36Z           CVE           MITRE   \n",
       "3  2021-08-11T13:15Z  2022-03-31T19:45Z           CVE           MITRE   \n",
       "4  2021-08-11T13:15Z  2021-09-14T18:36Z           CVE           MITRE   \n",
       "5  2021-08-11T13:15Z  2021-09-14T18:35Z           CVE           MITRE   \n",
       "6  2021-08-11T13:15Z  2021-09-14T18:35Z           CVE           MITRE   \n",
       "7  2021-08-11T13:15Z  2021-09-14T18:34Z           CVE           MITRE   \n",
       "8  2021-08-11T13:15Z  2021-09-14T18:34Z           CVE           MITRE   \n",
       "9  2023-05-16T22:15Z  2023-05-16T22:15Z           CVE           MITRE   \n",
       "\n",
       "  cve.data_version cve.CVE_data_meta.ID cve.CVE_data_meta.ASSIGNER  \\\n",
       "0              4.0        CVE-2021-0001           secure@intel.com   \n",
       "1              4.0        CVE-2021-0002           secure@intel.com   \n",
       "2              4.0        CVE-2021-0003           secure@intel.com   \n",
       "3              4.0        CVE-2021-0004           secure@intel.com   \n",
       "4              4.0        CVE-2021-0005           secure@intel.com   \n",
       "5              4.0        CVE-2021-0006           secure@intel.com   \n",
       "6              4.0        CVE-2021-0007           secure@intel.com   \n",
       "7              4.0        CVE-2021-0008           secure@intel.com   \n",
       "8              4.0        CVE-2021-0009           secure@intel.com   \n",
       "9              4.0        CVE-2021-0010              cve@mitre.org   \n",
       "\n",
       "                    cve.problemtype.problemtype_data  \\\n",
       "0  [{'description': [{'lang': 'en', 'value': 'CWE...   \n",
       "1  [{'description': [{'lang': 'en', 'value': 'CWE...   \n",
       "2  [{'description': [{'lang': 'en', 'value': 'CWE...   \n",
       "3  [{'description': [{'lang': 'en', 'value': 'CWE...   \n",
       "4  [{'description': [{'lang': 'en', 'value': 'CWE...   \n",
       "5  [{'description': [{'lang': 'en', 'value': 'CWE...   \n",
       "6  [{'description': [{'lang': 'en', 'value': 'CWE...   \n",
       "7  [{'description': [{'lang': 'en', 'value': 'CWE...   \n",
       "8  [{'description': [{'lang': 'en', 'value': 'CWE...   \n",
       "9                              [{'description': []}]   \n",
       "\n",
       "                       cve.references.reference_data  \\\n",
       "0  [{'url': 'https://www.intel.com/content/www/us...   \n",
       "1  [{'url': 'https://www.intel.com/content/www/us...   \n",
       "2  [{'url': 'https://www.intel.com/content/www/us...   \n",
       "3  [{'url': 'https://www.intel.com/content/www/us...   \n",
       "4  [{'url': 'https://www.intel.com/content/www/us...   \n",
       "5  [{'url': 'https://www.intel.com/content/www/us...   \n",
       "6  [{'url': 'https://www.intel.com/content/www/us...   \n",
       "7  [{'url': 'https://www.intel.com/content/www/us...   \n",
       "8  [{'url': 'https://www.intel.com/content/www/us...   \n",
       "9                                                 []   \n",
       "\n",
       "                    cve.description.description_data  ...  \\\n",
       "0  [{'lang': 'en', 'value': 'Observable timing di...  ...   \n",
       "1  [{'lang': 'en', 'value': 'Improper conditions ...  ...   \n",
       "2  [{'lang': 'en', 'value': 'Improper conditions ...  ...   \n",
       "3  [{'lang': 'en', 'value': 'Improper buffer rest...  ...   \n",
       "4  [{'lang': 'en', 'value': 'Uncaught exception i...  ...   \n",
       "5  [{'lang': 'en', 'value': 'Improper conditions ...  ...   \n",
       "6  [{'lang': 'en', 'value': 'Uncaught exception i...  ...   \n",
       "7  [{'lang': 'en', 'value': 'Uncontrolled resourc...  ...   \n",
       "8  [{'lang': 'en', 'value': 'Out-of-bounds read i...  ...   \n",
       "9  [{'lang': 'en', 'value': '** REJECT ** DO NOT ...  ...   \n",
       "\n",
       "  impact.baseMetricV2.cvssV2.availabilityImpact  \\\n",
       "0                                          NONE   \n",
       "1                                       PARTIAL   \n",
       "2                                          NONE   \n",
       "3                                       PARTIAL   \n",
       "4                                       PARTIAL   \n",
       "5                                       PARTIAL   \n",
       "6                                       PARTIAL   \n",
       "7                                       PARTIAL   \n",
       "8                                          NONE   \n",
       "9                                           NaN   \n",
       "\n",
       "  impact.baseMetricV2.cvssV2.baseScore impact.baseMetricV2.severity  \\\n",
       "0                                  2.1                          LOW   \n",
       "1                                  3.6                          LOW   \n",
       "2                                  2.1                          LOW   \n",
       "3                                  2.1                          LOW   \n",
       "4                                  2.1                          LOW   \n",
       "5                                  2.1                          LOW   \n",
       "6                                  2.1                          LOW   \n",
       "7                                  2.1                          LOW   \n",
       "8                                  3.3                          LOW   \n",
       "9                                  NaN                          NaN   \n",
       "\n",
       "  impact.baseMetricV2.exploitabilityScore impact.baseMetricV2.impactScore  \\\n",
       "0                                     3.9                             2.9   \n",
       "1                                     3.9                             4.9   \n",
       "2                                     3.9                             2.9   \n",
       "3                                     3.9                             2.9   \n",
       "4                                     3.9                             2.9   \n",
       "5                                     3.9                             2.9   \n",
       "6                                     3.9                             2.9   \n",
       "7                                     3.9                             2.9   \n",
       "8                                     6.5                             2.9   \n",
       "9                                     NaN                             NaN   \n",
       "\n",
       "  impact.baseMetricV2.acInsufInfo impact.baseMetricV2.obtainAllPrivilege  \\\n",
       "0                           False                                  False   \n",
       "1                           False                                  False   \n",
       "2                           False                                  False   \n",
       "3                           False                                  False   \n",
       "4                           False                                  False   \n",
       "5                           False                                  False   \n",
       "6                           False                                  False   \n",
       "7                           False                                  False   \n",
       "8                           False                                  False   \n",
       "9                             NaN                                    NaN   \n",
       "\n",
       "  impact.baseMetricV2.obtainUserPrivilege  \\\n",
       "0                                   False   \n",
       "1                                   False   \n",
       "2                                   False   \n",
       "3                                   False   \n",
       "4                                   False   \n",
       "5                                   False   \n",
       "6                                   False   \n",
       "7                                   False   \n",
       "8                                   False   \n",
       "9                                     NaN   \n",
       "\n",
       "  impact.baseMetricV2.obtainOtherPrivilege  \\\n",
       "0                                    False   \n",
       "1                                    False   \n",
       "2                                    False   \n",
       "3                                    False   \n",
       "4                                    False   \n",
       "5                                    False   \n",
       "6                                    False   \n",
       "7                                    False   \n",
       "8                                    False   \n",
       "9                                      NaN   \n",
       "\n",
       "  impact.baseMetricV2.userInteractionRequired  \n",
       "0                                       False  \n",
       "1                                       False  \n",
       "2                                       False  \n",
       "3                                       False  \n",
       "4                                       False  \n",
       "5                                       False  \n",
       "6                                       False  \n",
       "7                                       False  \n",
       "8                                       False  \n",
       "9                                         NaN  \n",
       "\n",
       "[10 rows x 43 columns]"
      ]
     },
     "execution_count": 18,
     "metadata": {},
     "output_type": "execute_result"
    }
   ],
   "source": [
    "cvss.head(10)"
   ]
  },
  {
   "cell_type": "code",
   "execution_count": 19,
   "id": "ab3e9dde",
   "metadata": {},
   "outputs": [],
   "source": [
    "cvss = cvss.infer_objects()"
   ]
  },
  {
   "cell_type": "code",
   "execution_count": 20,
   "id": "bcdd34de",
   "metadata": {},
   "outputs": [],
   "source": [
    "cvss.lastModifiedDate = pd.to_datetime(cvss.lastModifiedDate)\n",
    "cvss.publishedDate = pd.to_datetime(cvss.publishedDate)"
   ]
  },
  {
   "cell_type": "code",
   "execution_count": 21,
   "id": "a4f2c718",
   "metadata": {},
   "outputs": [],
   "source": [
    "# remove columns with high cardinality \n",
    "drop_these = ['cve.data_version', 'cve.data_type', 'cve.data_format', 'cve.references.reference_data', 'cve.problemtype.problemtype_data', 'cve.description.description_data', 'configurations.CVE_data_version']\n",
    "cvss = cvss.drop(columns=drop_these)"
   ]
  },
  {
   "cell_type": "code",
   "execution_count": 22,
   "id": "54eaedd2",
   "metadata": {},
   "outputs": [
    {
     "data": {
      "text/html": [
       "<div>\n",
       "<style scoped>\n",
       "    .dataframe tbody tr th:only-of-type {\n",
       "        vertical-align: middle;\n",
       "    }\n",
       "\n",
       "    .dataframe tbody tr th {\n",
       "        vertical-align: top;\n",
       "    }\n",
       "\n",
       "    .dataframe thead th {\n",
       "        text-align: right;\n",
       "    }\n",
       "</style>\n",
       "<table border=\"1\" class=\"dataframe\">\n",
       "  <thead>\n",
       "    <tr style=\"text-align: right;\">\n",
       "      <th></th>\n",
       "      <th>publishedDate</th>\n",
       "      <th>lastModifiedDate</th>\n",
       "      <th>cve.CVE_data_meta.ID</th>\n",
       "      <th>cve.CVE_data_meta.ASSIGNER</th>\n",
       "      <th>configurations.nodes</th>\n",
       "      <th>impact.baseMetricV3.cvssV3.version</th>\n",
       "      <th>impact.baseMetricV3.cvssV3.vectorString</th>\n",
       "      <th>impact.baseMetricV3.cvssV3.attackVector</th>\n",
       "      <th>impact.baseMetricV3.cvssV3.attackComplexity</th>\n",
       "      <th>impact.baseMetricV3.cvssV3.privilegesRequired</th>\n",
       "      <th>...</th>\n",
       "      <th>impact.baseMetricV2.cvssV2.availabilityImpact</th>\n",
       "      <th>impact.baseMetricV2.cvssV2.baseScore</th>\n",
       "      <th>impact.baseMetricV2.severity</th>\n",
       "      <th>impact.baseMetricV2.exploitabilityScore</th>\n",
       "      <th>impact.baseMetricV2.impactScore</th>\n",
       "      <th>impact.baseMetricV2.acInsufInfo</th>\n",
       "      <th>impact.baseMetricV2.obtainAllPrivilege</th>\n",
       "      <th>impact.baseMetricV2.obtainUserPrivilege</th>\n",
       "      <th>impact.baseMetricV2.obtainOtherPrivilege</th>\n",
       "      <th>impact.baseMetricV2.userInteractionRequired</th>\n",
       "    </tr>\n",
       "  </thead>\n",
       "  <tbody>\n",
       "    <tr>\n",
       "      <th>335622</th>\n",
       "      <td>2020-12-08 20:15:00+00:00</td>\n",
       "      <td>2023-01-09 16:41:00+00:00</td>\n",
       "      <td>CVE-2020-9989</td>\n",
       "      <td>product-security@apple.com</td>\n",
       "      <td>[{'operator': 'OR', 'children': [], 'cpe_match...</td>\n",
       "      <td>3.1</td>\n",
       "      <td>CVSS:3.1/AV:L/AC:L/PR:L/UI:N/S:U/C:H/I:N/A:N</td>\n",
       "      <td>LOCAL</td>\n",
       "      <td>LOW</td>\n",
       "      <td>LOW</td>\n",
       "      <td>...</td>\n",
       "      <td>NONE</td>\n",
       "      <td>2.1</td>\n",
       "      <td>LOW</td>\n",
       "      <td>3.9</td>\n",
       "      <td>2.9</td>\n",
       "      <td>False</td>\n",
       "      <td>False</td>\n",
       "      <td>False</td>\n",
       "      <td>False</td>\n",
       "      <td>False</td>\n",
       "    </tr>\n",
       "    <tr>\n",
       "      <th>335623</th>\n",
       "      <td>2020-10-22 19:15:00+00:00</td>\n",
       "      <td>2022-05-03 16:04:00+00:00</td>\n",
       "      <td>CVE-2020-9990</td>\n",
       "      <td>product-security@apple.com</td>\n",
       "      <td>[{'operator': 'OR', 'children': [], 'cpe_match...</td>\n",
       "      <td>3.1</td>\n",
       "      <td>CVSS:3.1/AV:L/AC:H/PR:L/UI:N/S:C/C:H/I:H/A:H</td>\n",
       "      <td>LOCAL</td>\n",
       "      <td>HIGH</td>\n",
       "      <td>LOW</td>\n",
       "      <td>...</td>\n",
       "      <td>COMPLETE</td>\n",
       "      <td>6.9</td>\n",
       "      <td>MEDIUM</td>\n",
       "      <td>3.4</td>\n",
       "      <td>10.0</td>\n",
       "      <td>False</td>\n",
       "      <td>False</td>\n",
       "      <td>False</td>\n",
       "      <td>False</td>\n",
       "      <td>False</td>\n",
       "    </tr>\n",
       "    <tr>\n",
       "      <th>335624</th>\n",
       "      <td>2020-12-08 22:15:00+00:00</td>\n",
       "      <td>2023-11-07 03:27:00+00:00</td>\n",
       "      <td>CVE-2020-9991</td>\n",
       "      <td>product-security@apple.com</td>\n",
       "      <td>[{'operator': 'OR', 'children': [], 'cpe_match...</td>\n",
       "      <td>3.1</td>\n",
       "      <td>CVSS:3.1/AV:N/AC:L/PR:N/UI:N/S:U/C:N/I:N/A:H</td>\n",
       "      <td>NETWORK</td>\n",
       "      <td>LOW</td>\n",
       "      <td>NONE</td>\n",
       "      <td>...</td>\n",
       "      <td>PARTIAL</td>\n",
       "      <td>5.0</td>\n",
       "      <td>MEDIUM</td>\n",
       "      <td>10.0</td>\n",
       "      <td>2.9</td>\n",
       "      <td>False</td>\n",
       "      <td>False</td>\n",
       "      <td>False</td>\n",
       "      <td>False</td>\n",
       "      <td>False</td>\n",
       "    </tr>\n",
       "    <tr>\n",
       "      <th>335625</th>\n",
       "      <td>2020-10-16 17:15:00+00:00</td>\n",
       "      <td>2023-01-09 16:41:00+00:00</td>\n",
       "      <td>CVE-2020-9992</td>\n",
       "      <td>product-security@apple.com</td>\n",
       "      <td>[{'operator': 'OR', 'children': [], 'cpe_match...</td>\n",
       "      <td>3.1</td>\n",
       "      <td>CVSS:3.1/AV:L/AC:L/PR:N/UI:R/S:U/C:H/I:H/A:H</td>\n",
       "      <td>LOCAL</td>\n",
       "      <td>LOW</td>\n",
       "      <td>NONE</td>\n",
       "      <td>...</td>\n",
       "      <td>COMPLETE</td>\n",
       "      <td>9.3</td>\n",
       "      <td>HIGH</td>\n",
       "      <td>8.6</td>\n",
       "      <td>10.0</td>\n",
       "      <td>False</td>\n",
       "      <td>False</td>\n",
       "      <td>False</td>\n",
       "      <td>False</td>\n",
       "      <td>True</td>\n",
       "    </tr>\n",
       "    <tr>\n",
       "      <th>335626</th>\n",
       "      <td>2020-12-08 20:15:00+00:00</td>\n",
       "      <td>2023-01-09 16:41:00+00:00</td>\n",
       "      <td>CVE-2020-9993</td>\n",
       "      <td>product-security@apple.com</td>\n",
       "      <td>[{'operator': 'OR', 'children': [], 'cpe_match...</td>\n",
       "      <td>3.1</td>\n",
       "      <td>CVSS:3.1/AV:N/AC:L/PR:N/UI:R/S:U/C:N/I:L/A:N</td>\n",
       "      <td>NETWORK</td>\n",
       "      <td>LOW</td>\n",
       "      <td>NONE</td>\n",
       "      <td>...</td>\n",
       "      <td>NONE</td>\n",
       "      <td>4.3</td>\n",
       "      <td>MEDIUM</td>\n",
       "      <td>8.6</td>\n",
       "      <td>2.9</td>\n",
       "      <td>False</td>\n",
       "      <td>False</td>\n",
       "      <td>False</td>\n",
       "      <td>False</td>\n",
       "      <td>True</td>\n",
       "    </tr>\n",
       "    <tr>\n",
       "      <th>335627</th>\n",
       "      <td>2020-10-22 19:15:00+00:00</td>\n",
       "      <td>2020-10-26 20:26:00+00:00</td>\n",
       "      <td>CVE-2020-9994</td>\n",
       "      <td>product-security@apple.com</td>\n",
       "      <td>[{'operator': 'OR', 'children': [], 'cpe_match...</td>\n",
       "      <td>3.1</td>\n",
       "      <td>CVSS:3.1/AV:L/AC:L/PR:N/UI:R/S:U/C:N/I:H/A:H</td>\n",
       "      <td>LOCAL</td>\n",
       "      <td>LOW</td>\n",
       "      <td>NONE</td>\n",
       "      <td>...</td>\n",
       "      <td>PARTIAL</td>\n",
       "      <td>5.8</td>\n",
       "      <td>MEDIUM</td>\n",
       "      <td>8.6</td>\n",
       "      <td>4.9</td>\n",
       "      <td>False</td>\n",
       "      <td>False</td>\n",
       "      <td>False</td>\n",
       "      <td>False</td>\n",
       "      <td>True</td>\n",
       "    </tr>\n",
       "    <tr>\n",
       "      <th>335628</th>\n",
       "      <td>2021-04-02 18:15:00+00:00</td>\n",
       "      <td>2021-04-07 20:25:00+00:00</td>\n",
       "      <td>CVE-2020-9995</td>\n",
       "      <td>product-security@apple.com</td>\n",
       "      <td>[{'operator': 'OR', 'children': [], 'cpe_match...</td>\n",
       "      <td>3.1</td>\n",
       "      <td>CVSS:3.1/AV:N/AC:L/PR:N/UI:R/S:C/C:L/I:L/A:N</td>\n",
       "      <td>NETWORK</td>\n",
       "      <td>LOW</td>\n",
       "      <td>NONE</td>\n",
       "      <td>...</td>\n",
       "      <td>NONE</td>\n",
       "      <td>5.8</td>\n",
       "      <td>MEDIUM</td>\n",
       "      <td>8.6</td>\n",
       "      <td>4.9</td>\n",
       "      <td>False</td>\n",
       "      <td>False</td>\n",
       "      <td>False</td>\n",
       "      <td>False</td>\n",
       "      <td>True</td>\n",
       "    </tr>\n",
       "    <tr>\n",
       "      <th>335629</th>\n",
       "      <td>2020-12-08 20:15:00+00:00</td>\n",
       "      <td>2023-01-09 16:41:00+00:00</td>\n",
       "      <td>CVE-2020-9996</td>\n",
       "      <td>product-security@apple.com</td>\n",
       "      <td>[{'operator': 'OR', 'children': [], 'cpe_match...</td>\n",
       "      <td>3.1</td>\n",
       "      <td>CVSS:3.1/AV:L/AC:L/PR:N/UI:R/S:U/C:H/I:H/A:H</td>\n",
       "      <td>LOCAL</td>\n",
       "      <td>LOW</td>\n",
       "      <td>NONE</td>\n",
       "      <td>...</td>\n",
       "      <td>PARTIAL</td>\n",
       "      <td>6.8</td>\n",
       "      <td>MEDIUM</td>\n",
       "      <td>8.6</td>\n",
       "      <td>6.4</td>\n",
       "      <td>False</td>\n",
       "      <td>False</td>\n",
       "      <td>False</td>\n",
       "      <td>False</td>\n",
       "      <td>True</td>\n",
       "    </tr>\n",
       "    <tr>\n",
       "      <th>335630</th>\n",
       "      <td>2020-10-22 19:15:00+00:00</td>\n",
       "      <td>2020-10-26 20:27:00+00:00</td>\n",
       "      <td>CVE-2020-9997</td>\n",
       "      <td>product-security@apple.com</td>\n",
       "      <td>[{'operator': 'OR', 'children': [], 'cpe_match...</td>\n",
       "      <td>3.1</td>\n",
       "      <td>CVSS:3.1/AV:L/AC:L/PR:N/UI:R/S:U/C:H/I:N/A:N</td>\n",
       "      <td>LOCAL</td>\n",
       "      <td>LOW</td>\n",
       "      <td>NONE</td>\n",
       "      <td>...</td>\n",
       "      <td>NONE</td>\n",
       "      <td>4.3</td>\n",
       "      <td>MEDIUM</td>\n",
       "      <td>8.6</td>\n",
       "      <td>2.9</td>\n",
       "      <td>False</td>\n",
       "      <td>False</td>\n",
       "      <td>False</td>\n",
       "      <td>False</td>\n",
       "      <td>True</td>\n",
       "    </tr>\n",
       "    <tr>\n",
       "      <th>335631</th>\n",
       "      <td>2020-12-08 20:15:00+00:00</td>\n",
       "      <td>2021-07-21 11:39:00+00:00</td>\n",
       "      <td>CVE-2020-9999</td>\n",
       "      <td>product-security@apple.com</td>\n",
       "      <td>[{'operator': 'OR', 'children': [], 'cpe_match...</td>\n",
       "      <td>3.1</td>\n",
       "      <td>CVSS:3.1/AV:L/AC:L/PR:N/UI:R/S:U/C:H/I:H/A:H</td>\n",
       "      <td>LOCAL</td>\n",
       "      <td>LOW</td>\n",
       "      <td>NONE</td>\n",
       "      <td>...</td>\n",
       "      <td>PARTIAL</td>\n",
       "      <td>6.8</td>\n",
       "      <td>MEDIUM</td>\n",
       "      <td>8.6</td>\n",
       "      <td>6.4</td>\n",
       "      <td>False</td>\n",
       "      <td>False</td>\n",
       "      <td>False</td>\n",
       "      <td>False</td>\n",
       "      <td>True</td>\n",
       "    </tr>\n",
       "  </tbody>\n",
       "</table>\n",
       "<p>10 rows × 36 columns</p>\n",
       "</div>"
      ],
      "text/plain": [
       "                   publishedDate          lastModifiedDate  \\\n",
       "335622 2020-12-08 20:15:00+00:00 2023-01-09 16:41:00+00:00   \n",
       "335623 2020-10-22 19:15:00+00:00 2022-05-03 16:04:00+00:00   \n",
       "335624 2020-12-08 22:15:00+00:00 2023-11-07 03:27:00+00:00   \n",
       "335625 2020-10-16 17:15:00+00:00 2023-01-09 16:41:00+00:00   \n",
       "335626 2020-12-08 20:15:00+00:00 2023-01-09 16:41:00+00:00   \n",
       "335627 2020-10-22 19:15:00+00:00 2020-10-26 20:26:00+00:00   \n",
       "335628 2021-04-02 18:15:00+00:00 2021-04-07 20:25:00+00:00   \n",
       "335629 2020-12-08 20:15:00+00:00 2023-01-09 16:41:00+00:00   \n",
       "335630 2020-10-22 19:15:00+00:00 2020-10-26 20:27:00+00:00   \n",
       "335631 2020-12-08 20:15:00+00:00 2021-07-21 11:39:00+00:00   \n",
       "\n",
       "       cve.CVE_data_meta.ID  cve.CVE_data_meta.ASSIGNER  \\\n",
       "335622        CVE-2020-9989  product-security@apple.com   \n",
       "335623        CVE-2020-9990  product-security@apple.com   \n",
       "335624        CVE-2020-9991  product-security@apple.com   \n",
       "335625        CVE-2020-9992  product-security@apple.com   \n",
       "335626        CVE-2020-9993  product-security@apple.com   \n",
       "335627        CVE-2020-9994  product-security@apple.com   \n",
       "335628        CVE-2020-9995  product-security@apple.com   \n",
       "335629        CVE-2020-9996  product-security@apple.com   \n",
       "335630        CVE-2020-9997  product-security@apple.com   \n",
       "335631        CVE-2020-9999  product-security@apple.com   \n",
       "\n",
       "                                     configurations.nodes  \\\n",
       "335622  [{'operator': 'OR', 'children': [], 'cpe_match...   \n",
       "335623  [{'operator': 'OR', 'children': [], 'cpe_match...   \n",
       "335624  [{'operator': 'OR', 'children': [], 'cpe_match...   \n",
       "335625  [{'operator': 'OR', 'children': [], 'cpe_match...   \n",
       "335626  [{'operator': 'OR', 'children': [], 'cpe_match...   \n",
       "335627  [{'operator': 'OR', 'children': [], 'cpe_match...   \n",
       "335628  [{'operator': 'OR', 'children': [], 'cpe_match...   \n",
       "335629  [{'operator': 'OR', 'children': [], 'cpe_match...   \n",
       "335630  [{'operator': 'OR', 'children': [], 'cpe_match...   \n",
       "335631  [{'operator': 'OR', 'children': [], 'cpe_match...   \n",
       "\n",
       "       impact.baseMetricV3.cvssV3.version  \\\n",
       "335622                                3.1   \n",
       "335623                                3.1   \n",
       "335624                                3.1   \n",
       "335625                                3.1   \n",
       "335626                                3.1   \n",
       "335627                                3.1   \n",
       "335628                                3.1   \n",
       "335629                                3.1   \n",
       "335630                                3.1   \n",
       "335631                                3.1   \n",
       "\n",
       "             impact.baseMetricV3.cvssV3.vectorString  \\\n",
       "335622  CVSS:3.1/AV:L/AC:L/PR:L/UI:N/S:U/C:H/I:N/A:N   \n",
       "335623  CVSS:3.1/AV:L/AC:H/PR:L/UI:N/S:C/C:H/I:H/A:H   \n",
       "335624  CVSS:3.1/AV:N/AC:L/PR:N/UI:N/S:U/C:N/I:N/A:H   \n",
       "335625  CVSS:3.1/AV:L/AC:L/PR:N/UI:R/S:U/C:H/I:H/A:H   \n",
       "335626  CVSS:3.1/AV:N/AC:L/PR:N/UI:R/S:U/C:N/I:L/A:N   \n",
       "335627  CVSS:3.1/AV:L/AC:L/PR:N/UI:R/S:U/C:N/I:H/A:H   \n",
       "335628  CVSS:3.1/AV:N/AC:L/PR:N/UI:R/S:C/C:L/I:L/A:N   \n",
       "335629  CVSS:3.1/AV:L/AC:L/PR:N/UI:R/S:U/C:H/I:H/A:H   \n",
       "335630  CVSS:3.1/AV:L/AC:L/PR:N/UI:R/S:U/C:H/I:N/A:N   \n",
       "335631  CVSS:3.1/AV:L/AC:L/PR:N/UI:R/S:U/C:H/I:H/A:H   \n",
       "\n",
       "       impact.baseMetricV3.cvssV3.attackVector  \\\n",
       "335622                                   LOCAL   \n",
       "335623                                   LOCAL   \n",
       "335624                                 NETWORK   \n",
       "335625                                   LOCAL   \n",
       "335626                                 NETWORK   \n",
       "335627                                   LOCAL   \n",
       "335628                                 NETWORK   \n",
       "335629                                   LOCAL   \n",
       "335630                                   LOCAL   \n",
       "335631                                   LOCAL   \n",
       "\n",
       "       impact.baseMetricV3.cvssV3.attackComplexity  \\\n",
       "335622                                         LOW   \n",
       "335623                                        HIGH   \n",
       "335624                                         LOW   \n",
       "335625                                         LOW   \n",
       "335626                                         LOW   \n",
       "335627                                         LOW   \n",
       "335628                                         LOW   \n",
       "335629                                         LOW   \n",
       "335630                                         LOW   \n",
       "335631                                         LOW   \n",
       "\n",
       "       impact.baseMetricV3.cvssV3.privilegesRequired  ...  \\\n",
       "335622                                           LOW  ...   \n",
       "335623                                           LOW  ...   \n",
       "335624                                          NONE  ...   \n",
       "335625                                          NONE  ...   \n",
       "335626                                          NONE  ...   \n",
       "335627                                          NONE  ...   \n",
       "335628                                          NONE  ...   \n",
       "335629                                          NONE  ...   \n",
       "335630                                          NONE  ...   \n",
       "335631                                          NONE  ...   \n",
       "\n",
       "       impact.baseMetricV2.cvssV2.availabilityImpact  \\\n",
       "335622                                          NONE   \n",
       "335623                                      COMPLETE   \n",
       "335624                                       PARTIAL   \n",
       "335625                                      COMPLETE   \n",
       "335626                                          NONE   \n",
       "335627                                       PARTIAL   \n",
       "335628                                          NONE   \n",
       "335629                                       PARTIAL   \n",
       "335630                                          NONE   \n",
       "335631                                       PARTIAL   \n",
       "\n",
       "       impact.baseMetricV2.cvssV2.baseScore impact.baseMetricV2.severity  \\\n",
       "335622                                  2.1                          LOW   \n",
       "335623                                  6.9                       MEDIUM   \n",
       "335624                                  5.0                       MEDIUM   \n",
       "335625                                  9.3                         HIGH   \n",
       "335626                                  4.3                       MEDIUM   \n",
       "335627                                  5.8                       MEDIUM   \n",
       "335628                                  5.8                       MEDIUM   \n",
       "335629                                  6.8                       MEDIUM   \n",
       "335630                                  4.3                       MEDIUM   \n",
       "335631                                  6.8                       MEDIUM   \n",
       "\n",
       "       impact.baseMetricV2.exploitabilityScore  \\\n",
       "335622                                     3.9   \n",
       "335623                                     3.4   \n",
       "335624                                    10.0   \n",
       "335625                                     8.6   \n",
       "335626                                     8.6   \n",
       "335627                                     8.6   \n",
       "335628                                     8.6   \n",
       "335629                                     8.6   \n",
       "335630                                     8.6   \n",
       "335631                                     8.6   \n",
       "\n",
       "       impact.baseMetricV2.impactScore  impact.baseMetricV2.acInsufInfo  \\\n",
       "335622                             2.9                            False   \n",
       "335623                            10.0                            False   \n",
       "335624                             2.9                            False   \n",
       "335625                            10.0                            False   \n",
       "335626                             2.9                            False   \n",
       "335627                             4.9                            False   \n",
       "335628                             4.9                            False   \n",
       "335629                             6.4                            False   \n",
       "335630                             2.9                            False   \n",
       "335631                             6.4                            False   \n",
       "\n",
       "       impact.baseMetricV2.obtainAllPrivilege  \\\n",
       "335622                                  False   \n",
       "335623                                  False   \n",
       "335624                                  False   \n",
       "335625                                  False   \n",
       "335626                                  False   \n",
       "335627                                  False   \n",
       "335628                                  False   \n",
       "335629                                  False   \n",
       "335630                                  False   \n",
       "335631                                  False   \n",
       "\n",
       "        impact.baseMetricV2.obtainUserPrivilege  \\\n",
       "335622                                    False   \n",
       "335623                                    False   \n",
       "335624                                    False   \n",
       "335625                                    False   \n",
       "335626                                    False   \n",
       "335627                                    False   \n",
       "335628                                    False   \n",
       "335629                                    False   \n",
       "335630                                    False   \n",
       "335631                                    False   \n",
       "\n",
       "        impact.baseMetricV2.obtainOtherPrivilege  \\\n",
       "335622                                     False   \n",
       "335623                                     False   \n",
       "335624                                     False   \n",
       "335625                                     False   \n",
       "335626                                     False   \n",
       "335627                                     False   \n",
       "335628                                     False   \n",
       "335629                                     False   \n",
       "335630                                     False   \n",
       "335631                                     False   \n",
       "\n",
       "       impact.baseMetricV2.userInteractionRequired  \n",
       "335622                                       False  \n",
       "335623                                       False  \n",
       "335624                                       False  \n",
       "335625                                        True  \n",
       "335626                                        True  \n",
       "335627                                        True  \n",
       "335628                                        True  \n",
       "335629                                        True  \n",
       "335630                                        True  \n",
       "335631                                        True  \n",
       "\n",
       "[10 rows x 36 columns]"
      ]
     },
     "execution_count": 22,
     "metadata": {},
     "output_type": "execute_result"
    }
   ],
   "source": [
    "cvss.tail(10)"
   ]
  },
  {
   "cell_type": "code",
   "execution_count": 23,
   "id": "7a9ee9a3",
   "metadata": {},
   "outputs": [],
   "source": [
    "# might have to remove them later on though\n",
    "cvss['impact.baseMetricV3.cvssV3.baseScore'].fillna(0, inplace=True)\n",
    "cvss['impact.baseMetricV2.cvssV2.baseScore'].fillna(0, inplace=True)"
   ]
  },
  {
   "cell_type": "code",
   "execution_count": 24,
   "id": "2df77e63",
   "metadata": {},
   "outputs": [
    {
     "data": {
      "text/html": [
       "<div>\n",
       "<style scoped>\n",
       "    .dataframe tbody tr th:only-of-type {\n",
       "        vertical-align: middle;\n",
       "    }\n",
       "\n",
       "    .dataframe tbody tr th {\n",
       "        vertical-align: top;\n",
       "    }\n",
       "\n",
       "    .dataframe thead th {\n",
       "        text-align: right;\n",
       "    }\n",
       "</style>\n",
       "<table border=\"1\" class=\"dataframe\">\n",
       "  <thead>\n",
       "    <tr style=\"text-align: right;\">\n",
       "      <th></th>\n",
       "      <th>publishedDate</th>\n",
       "      <th>lastModifiedDate</th>\n",
       "      <th>cve.CVE_data_meta.ID</th>\n",
       "      <th>cve.CVE_data_meta.ASSIGNER</th>\n",
       "      <th>configurations.nodes</th>\n",
       "      <th>impact.baseMetricV3.cvssV3.version</th>\n",
       "      <th>impact.baseMetricV3.cvssV3.vectorString</th>\n",
       "      <th>impact.baseMetricV3.cvssV3.attackVector</th>\n",
       "      <th>impact.baseMetricV3.cvssV3.attackComplexity</th>\n",
       "      <th>impact.baseMetricV3.cvssV3.privilegesRequired</th>\n",
       "      <th>...</th>\n",
       "      <th>impact.baseMetricV2.cvssV2.availabilityImpact</th>\n",
       "      <th>impact.baseMetricV2.cvssV2.baseScore</th>\n",
       "      <th>impact.baseMetricV2.severity</th>\n",
       "      <th>impact.baseMetricV2.exploitabilityScore</th>\n",
       "      <th>impact.baseMetricV2.impactScore</th>\n",
       "      <th>impact.baseMetricV2.acInsufInfo</th>\n",
       "      <th>impact.baseMetricV2.obtainAllPrivilege</th>\n",
       "      <th>impact.baseMetricV2.obtainUserPrivilege</th>\n",
       "      <th>impact.baseMetricV2.obtainOtherPrivilege</th>\n",
       "      <th>impact.baseMetricV2.userInteractionRequired</th>\n",
       "    </tr>\n",
       "  </thead>\n",
       "  <tbody>\n",
       "    <tr>\n",
       "      <th>0</th>\n",
       "      <td>2021-06-09 20:15:00+00:00</td>\n",
       "      <td>2021-06-28 18:03:00+00:00</td>\n",
       "      <td>CVE-2021-0001</td>\n",
       "      <td>secure@intel.com</td>\n",
       "      <td>[{'operator': 'OR', 'children': [], 'cpe_match...</td>\n",
       "      <td>3.1</td>\n",
       "      <td>CVSS:3.1/AV:L/AC:H/PR:L/UI:N/S:U/C:H/I:N/A:N</td>\n",
       "      <td>LOCAL</td>\n",
       "      <td>HIGH</td>\n",
       "      <td>LOW</td>\n",
       "      <td>...</td>\n",
       "      <td>NONE</td>\n",
       "      <td>2.1</td>\n",
       "      <td>LOW</td>\n",
       "      <td>3.9</td>\n",
       "      <td>2.9</td>\n",
       "      <td>False</td>\n",
       "      <td>False</td>\n",
       "      <td>False</td>\n",
       "      <td>False</td>\n",
       "      <td>False</td>\n",
       "    </tr>\n",
       "    <tr>\n",
       "      <th>1</th>\n",
       "      <td>2021-08-11 13:15:00+00:00</td>\n",
       "      <td>2021-11-30 19:43:00+00:00</td>\n",
       "      <td>CVE-2021-0002</td>\n",
       "      <td>secure@intel.com</td>\n",
       "      <td>[{'operator': 'AND', 'children': [{'operator':...</td>\n",
       "      <td>3.1</td>\n",
       "      <td>CVSS:3.1/AV:L/AC:L/PR:L/UI:N/S:U/C:H/I:N/A:H</td>\n",
       "      <td>LOCAL</td>\n",
       "      <td>LOW</td>\n",
       "      <td>LOW</td>\n",
       "      <td>...</td>\n",
       "      <td>PARTIAL</td>\n",
       "      <td>3.6</td>\n",
       "      <td>LOW</td>\n",
       "      <td>3.9</td>\n",
       "      <td>4.9</td>\n",
       "      <td>False</td>\n",
       "      <td>False</td>\n",
       "      <td>False</td>\n",
       "      <td>False</td>\n",
       "      <td>False</td>\n",
       "    </tr>\n",
       "    <tr>\n",
       "      <th>2</th>\n",
       "      <td>2021-08-11 13:15:00+00:00</td>\n",
       "      <td>2021-09-14 18:36:00+00:00</td>\n",
       "      <td>CVE-2021-0003</td>\n",
       "      <td>secure@intel.com</td>\n",
       "      <td>[{'operator': 'AND', 'children': [{'operator':...</td>\n",
       "      <td>3.1</td>\n",
       "      <td>CVSS:3.1/AV:L/AC:L/PR:L/UI:N/S:U/C:H/I:N/A:N</td>\n",
       "      <td>LOCAL</td>\n",
       "      <td>LOW</td>\n",
       "      <td>LOW</td>\n",
       "      <td>...</td>\n",
       "      <td>NONE</td>\n",
       "      <td>2.1</td>\n",
       "      <td>LOW</td>\n",
       "      <td>3.9</td>\n",
       "      <td>2.9</td>\n",
       "      <td>False</td>\n",
       "      <td>False</td>\n",
       "      <td>False</td>\n",
       "      <td>False</td>\n",
       "      <td>False</td>\n",
       "    </tr>\n",
       "    <tr>\n",
       "      <th>3</th>\n",
       "      <td>2021-08-11 13:15:00+00:00</td>\n",
       "      <td>2022-03-31 19:45:00+00:00</td>\n",
       "      <td>CVE-2021-0004</td>\n",
       "      <td>secure@intel.com</td>\n",
       "      <td>[{'operator': 'AND', 'children': [{'operator':...</td>\n",
       "      <td>3.1</td>\n",
       "      <td>CVSS:3.1/AV:L/AC:L/PR:H/UI:N/S:U/C:N/I:N/A:H</td>\n",
       "      <td>LOCAL</td>\n",
       "      <td>LOW</td>\n",
       "      <td>HIGH</td>\n",
       "      <td>...</td>\n",
       "      <td>PARTIAL</td>\n",
       "      <td>2.1</td>\n",
       "      <td>LOW</td>\n",
       "      <td>3.9</td>\n",
       "      <td>2.9</td>\n",
       "      <td>False</td>\n",
       "      <td>False</td>\n",
       "      <td>False</td>\n",
       "      <td>False</td>\n",
       "      <td>False</td>\n",
       "    </tr>\n",
       "    <tr>\n",
       "      <th>4</th>\n",
       "      <td>2021-08-11 13:15:00+00:00</td>\n",
       "      <td>2021-09-14 18:36:00+00:00</td>\n",
       "      <td>CVE-2021-0005</td>\n",
       "      <td>secure@intel.com</td>\n",
       "      <td>[{'operator': 'AND', 'children': [{'operator':...</td>\n",
       "      <td>3.1</td>\n",
       "      <td>CVSS:3.1/AV:L/AC:L/PR:H/UI:N/S:U/C:N/I:N/A:H</td>\n",
       "      <td>LOCAL</td>\n",
       "      <td>LOW</td>\n",
       "      <td>HIGH</td>\n",
       "      <td>...</td>\n",
       "      <td>PARTIAL</td>\n",
       "      <td>2.1</td>\n",
       "      <td>LOW</td>\n",
       "      <td>3.9</td>\n",
       "      <td>2.9</td>\n",
       "      <td>False</td>\n",
       "      <td>False</td>\n",
       "      <td>False</td>\n",
       "      <td>False</td>\n",
       "      <td>False</td>\n",
       "    </tr>\n",
       "    <tr>\n",
       "      <th>5</th>\n",
       "      <td>2021-08-11 13:15:00+00:00</td>\n",
       "      <td>2021-09-14 18:35:00+00:00</td>\n",
       "      <td>CVE-2021-0006</td>\n",
       "      <td>secure@intel.com</td>\n",
       "      <td>[{'operator': 'AND', 'children': [{'operator':...</td>\n",
       "      <td>3.1</td>\n",
       "      <td>CVSS:3.1/AV:L/AC:L/PR:H/UI:N/S:U/C:N/I:N/A:H</td>\n",
       "      <td>LOCAL</td>\n",
       "      <td>LOW</td>\n",
       "      <td>HIGH</td>\n",
       "      <td>...</td>\n",
       "      <td>PARTIAL</td>\n",
       "      <td>2.1</td>\n",
       "      <td>LOW</td>\n",
       "      <td>3.9</td>\n",
       "      <td>2.9</td>\n",
       "      <td>False</td>\n",
       "      <td>False</td>\n",
       "      <td>False</td>\n",
       "      <td>False</td>\n",
       "      <td>False</td>\n",
       "    </tr>\n",
       "    <tr>\n",
       "      <th>6</th>\n",
       "      <td>2021-08-11 13:15:00+00:00</td>\n",
       "      <td>2021-09-14 18:35:00+00:00</td>\n",
       "      <td>CVE-2021-0007</td>\n",
       "      <td>secure@intel.com</td>\n",
       "      <td>[{'operator': 'AND', 'children': [{'operator':...</td>\n",
       "      <td>3.1</td>\n",
       "      <td>CVSS:3.1/AV:L/AC:L/PR:H/UI:N/S:U/C:N/I:N/A:H</td>\n",
       "      <td>LOCAL</td>\n",
       "      <td>LOW</td>\n",
       "      <td>HIGH</td>\n",
       "      <td>...</td>\n",
       "      <td>PARTIAL</td>\n",
       "      <td>2.1</td>\n",
       "      <td>LOW</td>\n",
       "      <td>3.9</td>\n",
       "      <td>2.9</td>\n",
       "      <td>False</td>\n",
       "      <td>False</td>\n",
       "      <td>False</td>\n",
       "      <td>False</td>\n",
       "      <td>False</td>\n",
       "    </tr>\n",
       "    <tr>\n",
       "      <th>7</th>\n",
       "      <td>2021-08-11 13:15:00+00:00</td>\n",
       "      <td>2021-09-14 18:34:00+00:00</td>\n",
       "      <td>CVE-2021-0008</td>\n",
       "      <td>secure@intel.com</td>\n",
       "      <td>[{'operator': 'AND', 'children': [{'operator':...</td>\n",
       "      <td>3.1</td>\n",
       "      <td>CVSS:3.1/AV:L/AC:L/PR:H/UI:N/S:U/C:N/I:N/A:H</td>\n",
       "      <td>LOCAL</td>\n",
       "      <td>LOW</td>\n",
       "      <td>HIGH</td>\n",
       "      <td>...</td>\n",
       "      <td>PARTIAL</td>\n",
       "      <td>2.1</td>\n",
       "      <td>LOW</td>\n",
       "      <td>3.9</td>\n",
       "      <td>2.9</td>\n",
       "      <td>False</td>\n",
       "      <td>False</td>\n",
       "      <td>False</td>\n",
       "      <td>False</td>\n",
       "      <td>False</td>\n",
       "    </tr>\n",
       "    <tr>\n",
       "      <th>8</th>\n",
       "      <td>2021-08-11 13:15:00+00:00</td>\n",
       "      <td>2021-09-14 18:34:00+00:00</td>\n",
       "      <td>CVE-2021-0009</td>\n",
       "      <td>secure@intel.com</td>\n",
       "      <td>[{'operator': 'AND', 'children': [{'operator':...</td>\n",
       "      <td>3.1</td>\n",
       "      <td>CVSS:3.1/AV:A/AC:L/PR:N/UI:N/S:U/C:N/I:N/A:H</td>\n",
       "      <td>ADJACENT_NETWORK</td>\n",
       "      <td>LOW</td>\n",
       "      <td>NONE</td>\n",
       "      <td>...</td>\n",
       "      <td>NONE</td>\n",
       "      <td>3.3</td>\n",
       "      <td>LOW</td>\n",
       "      <td>6.5</td>\n",
       "      <td>2.9</td>\n",
       "      <td>False</td>\n",
       "      <td>False</td>\n",
       "      <td>False</td>\n",
       "      <td>False</td>\n",
       "      <td>False</td>\n",
       "    </tr>\n",
       "    <tr>\n",
       "      <th>9</th>\n",
       "      <td>2023-05-16 22:15:00+00:00</td>\n",
       "      <td>2023-05-16 22:15:00+00:00</td>\n",
       "      <td>CVE-2021-0010</td>\n",
       "      <td>cve@mitre.org</td>\n",
       "      <td>[]</td>\n",
       "      <td>NaN</td>\n",
       "      <td>NaN</td>\n",
       "      <td>NaN</td>\n",
       "      <td>NaN</td>\n",
       "      <td>NaN</td>\n",
       "      <td>...</td>\n",
       "      <td>NaN</td>\n",
       "      <td>0.0</td>\n",
       "      <td>NaN</td>\n",
       "      <td>NaN</td>\n",
       "      <td>NaN</td>\n",
       "      <td>NaN</td>\n",
       "      <td>NaN</td>\n",
       "      <td>NaN</td>\n",
       "      <td>NaN</td>\n",
       "      <td>NaN</td>\n",
       "    </tr>\n",
       "  </tbody>\n",
       "</table>\n",
       "<p>10 rows × 36 columns</p>\n",
       "</div>"
      ],
      "text/plain": [
       "              publishedDate          lastModifiedDate cve.CVE_data_meta.ID  \\\n",
       "0 2021-06-09 20:15:00+00:00 2021-06-28 18:03:00+00:00        CVE-2021-0001   \n",
       "1 2021-08-11 13:15:00+00:00 2021-11-30 19:43:00+00:00        CVE-2021-0002   \n",
       "2 2021-08-11 13:15:00+00:00 2021-09-14 18:36:00+00:00        CVE-2021-0003   \n",
       "3 2021-08-11 13:15:00+00:00 2022-03-31 19:45:00+00:00        CVE-2021-0004   \n",
       "4 2021-08-11 13:15:00+00:00 2021-09-14 18:36:00+00:00        CVE-2021-0005   \n",
       "5 2021-08-11 13:15:00+00:00 2021-09-14 18:35:00+00:00        CVE-2021-0006   \n",
       "6 2021-08-11 13:15:00+00:00 2021-09-14 18:35:00+00:00        CVE-2021-0007   \n",
       "7 2021-08-11 13:15:00+00:00 2021-09-14 18:34:00+00:00        CVE-2021-0008   \n",
       "8 2021-08-11 13:15:00+00:00 2021-09-14 18:34:00+00:00        CVE-2021-0009   \n",
       "9 2023-05-16 22:15:00+00:00 2023-05-16 22:15:00+00:00        CVE-2021-0010   \n",
       "\n",
       "  cve.CVE_data_meta.ASSIGNER  \\\n",
       "0           secure@intel.com   \n",
       "1           secure@intel.com   \n",
       "2           secure@intel.com   \n",
       "3           secure@intel.com   \n",
       "4           secure@intel.com   \n",
       "5           secure@intel.com   \n",
       "6           secure@intel.com   \n",
       "7           secure@intel.com   \n",
       "8           secure@intel.com   \n",
       "9              cve@mitre.org   \n",
       "\n",
       "                                configurations.nodes  \\\n",
       "0  [{'operator': 'OR', 'children': [], 'cpe_match...   \n",
       "1  [{'operator': 'AND', 'children': [{'operator':...   \n",
       "2  [{'operator': 'AND', 'children': [{'operator':...   \n",
       "3  [{'operator': 'AND', 'children': [{'operator':...   \n",
       "4  [{'operator': 'AND', 'children': [{'operator':...   \n",
       "5  [{'operator': 'AND', 'children': [{'operator':...   \n",
       "6  [{'operator': 'AND', 'children': [{'operator':...   \n",
       "7  [{'operator': 'AND', 'children': [{'operator':...   \n",
       "8  [{'operator': 'AND', 'children': [{'operator':...   \n",
       "9                                                 []   \n",
       "\n",
       "  impact.baseMetricV3.cvssV3.version  \\\n",
       "0                                3.1   \n",
       "1                                3.1   \n",
       "2                                3.1   \n",
       "3                                3.1   \n",
       "4                                3.1   \n",
       "5                                3.1   \n",
       "6                                3.1   \n",
       "7                                3.1   \n",
       "8                                3.1   \n",
       "9                                NaN   \n",
       "\n",
       "        impact.baseMetricV3.cvssV3.vectorString  \\\n",
       "0  CVSS:3.1/AV:L/AC:H/PR:L/UI:N/S:U/C:H/I:N/A:N   \n",
       "1  CVSS:3.1/AV:L/AC:L/PR:L/UI:N/S:U/C:H/I:N/A:H   \n",
       "2  CVSS:3.1/AV:L/AC:L/PR:L/UI:N/S:U/C:H/I:N/A:N   \n",
       "3  CVSS:3.1/AV:L/AC:L/PR:H/UI:N/S:U/C:N/I:N/A:H   \n",
       "4  CVSS:3.1/AV:L/AC:L/PR:H/UI:N/S:U/C:N/I:N/A:H   \n",
       "5  CVSS:3.1/AV:L/AC:L/PR:H/UI:N/S:U/C:N/I:N/A:H   \n",
       "6  CVSS:3.1/AV:L/AC:L/PR:H/UI:N/S:U/C:N/I:N/A:H   \n",
       "7  CVSS:3.1/AV:L/AC:L/PR:H/UI:N/S:U/C:N/I:N/A:H   \n",
       "8  CVSS:3.1/AV:A/AC:L/PR:N/UI:N/S:U/C:N/I:N/A:H   \n",
       "9                                           NaN   \n",
       "\n",
       "  impact.baseMetricV3.cvssV3.attackVector  \\\n",
       "0                                   LOCAL   \n",
       "1                                   LOCAL   \n",
       "2                                   LOCAL   \n",
       "3                                   LOCAL   \n",
       "4                                   LOCAL   \n",
       "5                                   LOCAL   \n",
       "6                                   LOCAL   \n",
       "7                                   LOCAL   \n",
       "8                        ADJACENT_NETWORK   \n",
       "9                                     NaN   \n",
       "\n",
       "  impact.baseMetricV3.cvssV3.attackComplexity  \\\n",
       "0                                        HIGH   \n",
       "1                                         LOW   \n",
       "2                                         LOW   \n",
       "3                                         LOW   \n",
       "4                                         LOW   \n",
       "5                                         LOW   \n",
       "6                                         LOW   \n",
       "7                                         LOW   \n",
       "8                                         LOW   \n",
       "9                                         NaN   \n",
       "\n",
       "  impact.baseMetricV3.cvssV3.privilegesRequired  ...  \\\n",
       "0                                           LOW  ...   \n",
       "1                                           LOW  ...   \n",
       "2                                           LOW  ...   \n",
       "3                                          HIGH  ...   \n",
       "4                                          HIGH  ...   \n",
       "5                                          HIGH  ...   \n",
       "6                                          HIGH  ...   \n",
       "7                                          HIGH  ...   \n",
       "8                                          NONE  ...   \n",
       "9                                           NaN  ...   \n",
       "\n",
       "  impact.baseMetricV2.cvssV2.availabilityImpact  \\\n",
       "0                                          NONE   \n",
       "1                                       PARTIAL   \n",
       "2                                          NONE   \n",
       "3                                       PARTIAL   \n",
       "4                                       PARTIAL   \n",
       "5                                       PARTIAL   \n",
       "6                                       PARTIAL   \n",
       "7                                       PARTIAL   \n",
       "8                                          NONE   \n",
       "9                                           NaN   \n",
       "\n",
       "  impact.baseMetricV2.cvssV2.baseScore impact.baseMetricV2.severity  \\\n",
       "0                                  2.1                          LOW   \n",
       "1                                  3.6                          LOW   \n",
       "2                                  2.1                          LOW   \n",
       "3                                  2.1                          LOW   \n",
       "4                                  2.1                          LOW   \n",
       "5                                  2.1                          LOW   \n",
       "6                                  2.1                          LOW   \n",
       "7                                  2.1                          LOW   \n",
       "8                                  3.3                          LOW   \n",
       "9                                  0.0                          NaN   \n",
       "\n",
       "  impact.baseMetricV2.exploitabilityScore impact.baseMetricV2.impactScore  \\\n",
       "0                                     3.9                             2.9   \n",
       "1                                     3.9                             4.9   \n",
       "2                                     3.9                             2.9   \n",
       "3                                     3.9                             2.9   \n",
       "4                                     3.9                             2.9   \n",
       "5                                     3.9                             2.9   \n",
       "6                                     3.9                             2.9   \n",
       "7                                     3.9                             2.9   \n",
       "8                                     6.5                             2.9   \n",
       "9                                     NaN                             NaN   \n",
       "\n",
       "   impact.baseMetricV2.acInsufInfo impact.baseMetricV2.obtainAllPrivilege  \\\n",
       "0                            False                                  False   \n",
       "1                            False                                  False   \n",
       "2                            False                                  False   \n",
       "3                            False                                  False   \n",
       "4                            False                                  False   \n",
       "5                            False                                  False   \n",
       "6                            False                                  False   \n",
       "7                            False                                  False   \n",
       "8                            False                                  False   \n",
       "9                              NaN                                    NaN   \n",
       "\n",
       "   impact.baseMetricV2.obtainUserPrivilege  \\\n",
       "0                                    False   \n",
       "1                                    False   \n",
       "2                                    False   \n",
       "3                                    False   \n",
       "4                                    False   \n",
       "5                                    False   \n",
       "6                                    False   \n",
       "7                                    False   \n",
       "8                                    False   \n",
       "9                                      NaN   \n",
       "\n",
       "   impact.baseMetricV2.obtainOtherPrivilege  \\\n",
       "0                                     False   \n",
       "1                                     False   \n",
       "2                                     False   \n",
       "3                                     False   \n",
       "4                                     False   \n",
       "5                                     False   \n",
       "6                                     False   \n",
       "7                                     False   \n",
       "8                                     False   \n",
       "9                                       NaN   \n",
       "\n",
       "  impact.baseMetricV2.userInteractionRequired  \n",
       "0                                       False  \n",
       "1                                       False  \n",
       "2                                       False  \n",
       "3                                       False  \n",
       "4                                       False  \n",
       "5                                       False  \n",
       "6                                       False  \n",
       "7                                       False  \n",
       "8                                       False  \n",
       "9                                         NaN  \n",
       "\n",
       "[10 rows x 36 columns]"
      ]
     },
     "execution_count": 24,
     "metadata": {},
     "output_type": "execute_result"
    }
   ],
   "source": [
    "cvss.head(10)"
   ]
  },
  {
   "cell_type": "code",
   "execution_count": 25,
   "id": "11afa3ba",
   "metadata": {},
   "outputs": [
    {
     "name": "stdout",
     "output_type": "stream",
     "text": [
      "<class 'pandas.core.frame.DataFrame'>\n",
      "RangeIndex: 335632 entries, 0 to 335631\n",
      "Data columns (total 36 columns):\n",
      " #   Column                                            Non-Null Count   Dtype              \n",
      "---  ------                                            --------------   -----              \n",
      " 0   publishedDate                                     335632 non-null  datetime64[ns, UTC]\n",
      " 1   lastModifiedDate                                  335632 non-null  datetime64[ns, UTC]\n",
      " 2   cve.CVE_data_meta.ID                              335632 non-null  object             \n",
      " 3   cve.CVE_data_meta.ASSIGNER                        335632 non-null  object             \n",
      " 4   configurations.nodes                              335632 non-null  object             \n",
      " 5   impact.baseMetricV3.cvssV3.version                242642 non-null  object             \n",
      " 6   impact.baseMetricV3.cvssV3.vectorString           242642 non-null  object             \n",
      " 7   impact.baseMetricV3.cvssV3.attackVector           242642 non-null  object             \n",
      " 8   impact.baseMetricV3.cvssV3.attackComplexity       242642 non-null  object             \n",
      " 9   impact.baseMetricV3.cvssV3.privilegesRequired     242642 non-null  object             \n",
      " 10  impact.baseMetricV3.cvssV3.userInteraction        242642 non-null  object             \n",
      " 11  impact.baseMetricV3.cvssV3.scope                  242642 non-null  object             \n",
      " 12  impact.baseMetricV3.cvssV3.confidentialityImpact  242642 non-null  object             \n",
      " 13  impact.baseMetricV3.cvssV3.integrityImpact        242642 non-null  object             \n",
      " 14  impact.baseMetricV3.cvssV3.availabilityImpact     242642 non-null  object             \n",
      " 15  impact.baseMetricV3.cvssV3.baseScore              335632 non-null  float64            \n",
      " 16  impact.baseMetricV3.cvssV3.baseSeverity           242642 non-null  object             \n",
      " 17  impact.baseMetricV3.exploitabilityScore           242642 non-null  float64            \n",
      " 18  impact.baseMetricV3.impactScore                   242642 non-null  float64            \n",
      " 19  impact.baseMetricV2.cvssV2.version                242553 non-null  object             \n",
      " 20  impact.baseMetricV2.cvssV2.vectorString           242553 non-null  object             \n",
      " 21  impact.baseMetricV2.cvssV2.accessVector           242553 non-null  object             \n",
      " 22  impact.baseMetricV2.cvssV2.accessComplexity       242553 non-null  object             \n",
      " 23  impact.baseMetricV2.cvssV2.authentication         242553 non-null  object             \n",
      " 24  impact.baseMetricV2.cvssV2.confidentialityImpact  242553 non-null  object             \n",
      " 25  impact.baseMetricV2.cvssV2.integrityImpact        242553 non-null  object             \n",
      " 26  impact.baseMetricV2.cvssV2.availabilityImpact     242553 non-null  object             \n",
      " 27  impact.baseMetricV2.cvssV2.baseScore              335632 non-null  float64            \n",
      " 28  impact.baseMetricV2.severity                      242553 non-null  object             \n",
      " 29  impact.baseMetricV2.exploitabilityScore           242553 non-null  float64            \n",
      " 30  impact.baseMetricV2.impactScore                   242553 non-null  float64            \n",
      " 31  impact.baseMetricV2.acInsufInfo                   145370 non-null  object             \n",
      " 32  impact.baseMetricV2.obtainAllPrivilege            242553 non-null  object             \n",
      " 33  impact.baseMetricV2.obtainUserPrivilege           242553 non-null  object             \n",
      " 34  impact.baseMetricV2.obtainOtherPrivilege          242553 non-null  object             \n",
      " 35  impact.baseMetricV2.userInteractionRequired       241580 non-null  object             \n",
      "dtypes: datetime64[ns, UTC](2), float64(6), object(28)\n",
      "memory usage: 92.2+ MB\n"
     ]
    }
   ],
   "source": [
    "cvss.info()"
   ]
  },
  {
   "cell_type": "code",
   "execution_count": 26,
   "id": "79bc48ae",
   "metadata": {},
   "outputs": [],
   "source": [
    "# remove version 2 references and columns, likely superseeded by version 3\n",
    "drop_these = ['impact.baseMetricV2.cvssV2.version', \n",
    "              'impact.baseMetricV2.cvssV2.vectorString',  \n",
    "              'impact.baseMetricV2.cvssV2.accessVector',   \n",
    "              'impact.baseMetricV2.cvssV2.accessComplexity',\n",
    "              'impact.baseMetricV2.cvssV2.authentication',    \n",
    "              'impact.baseMetricV2.cvssV2.confidentialityImpact',  \n",
    "              'impact.baseMetricV2.cvssV2.integrityImpact',       \n",
    "              'impact.baseMetricV2.cvssV2.availabilityImpact',    \n",
    "              'impact.baseMetricV2.cvssV2.baseScore',         \n",
    "              'impact.baseMetricV2.severity',                 \n",
    "              'impact.baseMetricV2.exploitabilityScore', \n",
    "              'impact.baseMetricV2.impactScore', \n",
    "              'impact.baseMetricV2.acInsufInfo',   \n",
    "              'impact.baseMetricV2.obtainAllPrivilege', \n",
    "              'impact.baseMetricV2.obtainUserPrivilege', \n",
    "              'impact.baseMetricV2.obtainOtherPrivilege',\n",
    "              'impact.baseMetricV2.userInteractionRequired'] \n",
    "cvss = cvss.drop(columns=drop_these)"
   ]
  },
  {
   "cell_type": "code",
   "execution_count": 27,
   "id": "8c612fd9",
   "metadata": {},
   "outputs": [
    {
     "data": {
      "text/plain": [
       "(335632, 19)"
      ]
     },
     "execution_count": 27,
     "metadata": {},
     "output_type": "execute_result"
    }
   ],
   "source": [
    "cvss.shape"
   ]
  },
  {
   "cell_type": "code",
   "execution_count": 28,
   "id": "a53693f2",
   "metadata": {},
   "outputs": [
    {
     "data": {
      "text/plain": [
       "(1025, 11)"
      ]
     },
     "execution_count": 28,
     "metadata": {},
     "output_type": "execute_result"
    }
   ],
   "source": [
    "kev.shape"
   ]
  },
  {
   "cell_type": "code",
   "execution_count": 29,
   "id": "2e817f08",
   "metadata": {},
   "outputs": [],
   "source": [
    "cvss = cvss.rename(columns={'cve.CVE_data_meta.ID': 'cveID', 'cve.CVE_data_meta.ASSIGNER': 'assigner', 'impact.baseMetricV3.cvssV3.baseScore' : 'cvssScore'})"
   ]
  },
  {
   "cell_type": "code",
   "execution_count": 30,
   "id": "4870186e",
   "metadata": {},
   "outputs": [
    {
     "data": {
      "text/plain": [
       "Index(['publishedDate', 'lastModifiedDate', 'cveID', 'assigner',\n",
       "       'configurations.nodes', 'cvssV3.version', 'cvssV3.vectorString',\n",
       "       'cvssV3.attackVector', 'cvssV3.attackComplexity',\n",
       "       'cvssV3.privilegesRequired', 'cvssV3.userInteraction', 'cvssV3.scope',\n",
       "       'cvssV3.confidentialityImpact', 'cvssV3.integrityImpact',\n",
       "       'cvssV3.availabilityImpact', 'cvssScore', 'cvssV3.baseSeverity',\n",
       "       'exploitabilityScore', 'impactScore'],\n",
       "      dtype='object')"
      ]
     },
     "execution_count": 30,
     "metadata": {},
     "output_type": "execute_result"
    }
   ],
   "source": [
    "# cvss.rename(columns = lambda x: x.replace('impact.baseMetricV3.$', ''))\n",
    "cvss.columns = cvss.columns.map(lambda x: x.removeprefix('impact.baseMetricV3.')) \n",
    "cvss.columns = cvss.columns.map(lambda x: x.removeprefix('impact.baseMetricV2.')) \n",
    "cvss.columns"
   ]
  },
  {
   "cell_type": "code",
   "execution_count": 31,
   "id": "80a899a9",
   "metadata": {},
   "outputs": [],
   "source": [
    "epss = epss.rename(columns = {'cve' : 'cveID'})"
   ]
  },
  {
   "cell_type": "code",
   "execution_count": 32,
   "id": "7a77196d",
   "metadata": {},
   "outputs": [],
   "source": [
    "df = pd.merge(cvss, kev, on = 'cveID', how = 'left')"
   ]
  },
  {
   "cell_type": "code",
   "execution_count": 33,
   "id": "acd84c4b",
   "metadata": {},
   "outputs": [],
   "source": [
    "df = pd.merge(df, epss, on = 'cveID', how = 'left')"
   ]
  },
  {
   "cell_type": "code",
   "execution_count": 34,
   "id": "e9bc3dbd",
   "metadata": {},
   "outputs": [
    {
     "data": {
      "text/plain": [
       "Index(['publishedDate', 'lastModifiedDate', 'cveID', 'assigner',\n",
       "       'configurations.nodes', 'version', 'vectorString', 'attackVector',\n",
       "       'attackComplexity', 'privilegesRequired', 'userInteraction', 'scope',\n",
       "       'confidentialityImpact', 'integrityImpact', 'availabilityImpact',\n",
       "       'cvssScore', 'baseSeverity', 'exploitabilityScore', 'impactScore',\n",
       "       'vendorProject', 'product', 'vulnerabilityName', 'dateAdded',\n",
       "       'shortDescription', 'requiredAction', 'dueDate',\n",
       "       'knownRansomwareCampaignUse', 'notes', 'hasKEV', 'epss', 'percentile'],\n",
       "      dtype='object')"
      ]
     },
     "execution_count": 34,
     "metadata": {},
     "output_type": "execute_result"
    }
   ],
   "source": [
    "df.columns = df.columns.map(lambda x: x.removeprefix('cvssV3.')) \n",
    "df.columns"
   ]
  },
  {
   "cell_type": "markdown",
   "id": "5ea30dfe",
   "metadata": {},
   "source": [
    "***\n",
    "### Exploratory Data Analysis\n",
    "***"
   ]
  },
  {
   "cell_type": "code",
   "execution_count": 35,
   "id": "524dea77",
   "metadata": {},
   "outputs": [
    {
     "data": {
      "text/plain": [
       "(335632, 31)"
      ]
     },
     "execution_count": 35,
     "metadata": {},
     "output_type": "execute_result"
    }
   ],
   "source": [
    "df.shape"
   ]
  },
  {
   "cell_type": "code",
   "execution_count": 36,
   "id": "b40f0f27",
   "metadata": {},
   "outputs": [
    {
     "data": {
      "text/html": [
       "<div>\n",
       "<style scoped>\n",
       "    .dataframe tbody tr th:only-of-type {\n",
       "        vertical-align: middle;\n",
       "    }\n",
       "\n",
       "    .dataframe tbody tr th {\n",
       "        vertical-align: top;\n",
       "    }\n",
       "\n",
       "    .dataframe thead th {\n",
       "        text-align: right;\n",
       "    }\n",
       "</style>\n",
       "<table border=\"1\" class=\"dataframe\">\n",
       "  <thead>\n",
       "    <tr style=\"text-align: right;\">\n",
       "      <th></th>\n",
       "      <th>cvssScore</th>\n",
       "      <th>exploitabilityScore</th>\n",
       "      <th>impactScore</th>\n",
       "      <th>hasKEV</th>\n",
       "      <th>epss</th>\n",
       "      <th>percentile</th>\n",
       "    </tr>\n",
       "  </thead>\n",
       "  <tbody>\n",
       "    <tr>\n",
       "      <th>count</th>\n",
       "      <td>335632.000000</td>\n",
       "      <td>242642.000000</td>\n",
       "      <td>242642.000000</td>\n",
       "      <td>1660.0</td>\n",
       "      <td>314615.000000</td>\n",
       "      <td>314615.000000</td>\n",
       "    </tr>\n",
       "    <tr>\n",
       "      <th>mean</th>\n",
       "      <td>5.186888</td>\n",
       "      <td>2.681916</td>\n",
       "      <td>4.352068</td>\n",
       "      <td>1.0</td>\n",
       "      <td>0.028805</td>\n",
       "      <td>0.461652</td>\n",
       "    </tr>\n",
       "    <tr>\n",
       "      <th>std</th>\n",
       "      <td>3.515337</td>\n",
       "      <td>0.957215</td>\n",
       "      <td>1.526150</td>\n",
       "      <td>0.0</td>\n",
       "      <td>0.132597</td>\n",
       "      <td>0.278337</td>\n",
       "    </tr>\n",
       "    <tr>\n",
       "      <th>min</th>\n",
       "      <td>0.000000</td>\n",
       "      <td>0.100000</td>\n",
       "      <td>1.400000</td>\n",
       "      <td>1.0</td>\n",
       "      <td>0.000420</td>\n",
       "      <td>0.004490</td>\n",
       "    </tr>\n",
       "    <tr>\n",
       "      <th>25%</th>\n",
       "      <td>0.000000</td>\n",
       "      <td>1.800000</td>\n",
       "      <td>3.600000</td>\n",
       "      <td>1.0</td>\n",
       "      <td>0.000560</td>\n",
       "      <td>0.216370</td>\n",
       "    </tr>\n",
       "    <tr>\n",
       "      <th>50%</th>\n",
       "      <td>6.100000</td>\n",
       "      <td>2.800000</td>\n",
       "      <td>3.600000</td>\n",
       "      <td>1.0</td>\n",
       "      <td>0.001080</td>\n",
       "      <td>0.435390</td>\n",
       "    </tr>\n",
       "    <tr>\n",
       "      <th>75%</th>\n",
       "      <td>7.800000</td>\n",
       "      <td>3.900000</td>\n",
       "      <td>5.900000</td>\n",
       "      <td>1.0</td>\n",
       "      <td>0.003590</td>\n",
       "      <td>0.691270</td>\n",
       "    </tr>\n",
       "    <tr>\n",
       "      <th>max</th>\n",
       "      <td>10.000000</td>\n",
       "      <td>3.900000</td>\n",
       "      <td>6.000000</td>\n",
       "      <td>1.0</td>\n",
       "      <td>0.975880</td>\n",
       "      <td>1.000000</td>\n",
       "    </tr>\n",
       "  </tbody>\n",
       "</table>\n",
       "</div>"
      ],
      "text/plain": [
       "           cvssScore  exploitabilityScore    impactScore  hasKEV  \\\n",
       "count  335632.000000        242642.000000  242642.000000  1660.0   \n",
       "mean        5.186888             2.681916       4.352068     1.0   \n",
       "std         3.515337             0.957215       1.526150     0.0   \n",
       "min         0.000000             0.100000       1.400000     1.0   \n",
       "25%         0.000000             1.800000       3.600000     1.0   \n",
       "50%         6.100000             2.800000       3.600000     1.0   \n",
       "75%         7.800000             3.900000       5.900000     1.0   \n",
       "max        10.000000             3.900000       6.000000     1.0   \n",
       "\n",
       "                epss     percentile  \n",
       "count  314615.000000  314615.000000  \n",
       "mean        0.028805       0.461652  \n",
       "std         0.132597       0.278337  \n",
       "min         0.000420       0.004490  \n",
       "25%         0.000560       0.216370  \n",
       "50%         0.001080       0.435390  \n",
       "75%         0.003590       0.691270  \n",
       "max         0.975880       1.000000  "
      ]
     },
     "execution_count": 36,
     "metadata": {},
     "output_type": "execute_result"
    }
   ],
   "source": [
    "df.describe()"
   ]
  },
  {
   "cell_type": "code",
   "execution_count": 37,
   "id": "5a8fd980",
   "metadata": {},
   "outputs": [
    {
     "data": {
      "image/png": "[encoded data removed]",
      "text/plain": [
       "<Figure size 432x288 with 2 Axes>"
      ]
     },
     "metadata": {
      "needs_background": "light"
     },
     "output_type": "display_data"
    }
   ],
   "source": [
    "sns.heatmap(df.isnull(), cmap=\"RdBu_r\")\n",
    "plt.show()"
   ]
  },
  {
   "cell_type": "code",
   "execution_count": 38,
   "id": "91d8e1c3",
   "metadata": {},
   "outputs": [
    {
     "data": {
      "image/png": "[encoded data removed]",
      "text/plain": [
       "<Figure size 432x288 with 2 Axes>"
      ]
     },
     "metadata": {
      "needs_background": "light"
     },
     "output_type": "display_data"
    }
   ],
   "source": [
    "correlation_matrix = df.corr()\n",
    "sns.heatmap(correlation_matrix, annot=True, cmap=\"RdBu_r\")\n",
    "plt.show()"
   ]
  },
  {
   "cell_type": "code",
   "execution_count": 39,
   "id": "077235ef",
   "metadata": {},
   "outputs": [],
   "source": [
    "df.lastModifiedDate = pd.to_datetime(df.lastModifiedDate)\n",
    "df.publishedDate = pd.to_datetime(df.publishedDate)\n",
    "df.dueDate = pd.to_datetime(df.dueDate)"
   ]
  },
  {
   "cell_type": "code",
   "execution_count": 40,
   "id": "9fa1a38c",
   "metadata": {},
   "outputs": [
    {
     "data": {
      "text/plain": [
       "Timestamp('1988-10-01 04:00:00+0000', tz='UTC')"
      ]
     },
     "execution_count": 40,
     "metadata": {},
     "output_type": "execute_result"
    }
   ],
   "source": [
    "least_recent_date = df.publishedDate.min()\n",
    "least_recent_date"
   ]
  },
  {
   "cell_type": "code",
   "execution_count": 41,
   "id": "2c81e414",
   "metadata": {},
   "outputs": [
    {
     "data": {
      "text/plain": [
       "Timestamp('2023-12-15 05:15:00+0000', tz='UTC')"
      ]
     },
     "execution_count": 41,
     "metadata": {},
     "output_type": "execute_result"
    }
   ],
   "source": [
    "most_recent_date = df.publishedDate.max()\n",
    "most_recent_date"
   ]
  },
  {
   "cell_type": "code",
   "execution_count": 42,
   "id": "210f09ec",
   "metadata": {},
   "outputs": [],
   "source": [
    "df['publishedYear'] = df['publishedDate'].apply(lambda x : x.year)"
   ]
  },
  {
   "cell_type": "code",
   "execution_count": 43,
   "id": "519e6dd1",
   "metadata": {},
   "outputs": [],
   "source": [
    "df['publishedMonth'] = df['publishedDate'].apply(lambda x : x.month)"
   ]
  },
  {
   "cell_type": "code",
   "execution_count": 44,
   "id": "f30cbfdc",
   "metadata": {},
   "outputs": [],
   "source": [
    "z = df['publishedMonth'].value_counts()\n",
    "\n",
    "z1 = z.to_dict() #converts to dictionary\n",
    "\n",
    "df['count'] = df['publishedMonth'].map(z1)"
   ]
  },
  {
   "cell_type": "code",
   "execution_count": 45,
   "id": "dc682442",
   "metadata": {},
   "outputs": [
    {
     "data": {
      "text/html": [
       "<div>\n",
       "<style scoped>\n",
       "    .dataframe tbody tr th:only-of-type {\n",
       "        vertical-align: middle;\n",
       "    }\n",
       "\n",
       "    .dataframe tbody tr th {\n",
       "        vertical-align: top;\n",
       "    }\n",
       "\n",
       "    .dataframe thead th {\n",
       "        text-align: right;\n",
       "    }\n",
       "</style>\n",
       "<table border=\"1\" class=\"dataframe\">\n",
       "  <thead>\n",
       "    <tr style=\"text-align: right;\">\n",
       "      <th></th>\n",
       "      <th>publishedDate</th>\n",
       "      <th>lastModifiedDate</th>\n",
       "      <th>cveID</th>\n",
       "      <th>assigner</th>\n",
       "      <th>configurations.nodes</th>\n",
       "      <th>version</th>\n",
       "      <th>vectorString</th>\n",
       "      <th>attackVector</th>\n",
       "      <th>attackComplexity</th>\n",
       "      <th>privilegesRequired</th>\n",
       "      <th>...</th>\n",
       "      <th>requiredAction</th>\n",
       "      <th>dueDate</th>\n",
       "      <th>knownRansomwareCampaignUse</th>\n",
       "      <th>notes</th>\n",
       "      <th>hasKEV</th>\n",
       "      <th>epss</th>\n",
       "      <th>percentile</th>\n",
       "      <th>publishedYear</th>\n",
       "      <th>publishedMonth</th>\n",
       "      <th>count</th>\n",
       "    </tr>\n",
       "  </thead>\n",
       "  <tbody>\n",
       "    <tr>\n",
       "      <th>335622</th>\n",
       "      <td>2020-12-08 20:15:00+00:00</td>\n",
       "      <td>2023-01-09 16:41:00+00:00</td>\n",
       "      <td>CVE-2020-9989</td>\n",
       "      <td>product-security@apple.com</td>\n",
       "      <td>[{'operator': 'OR', 'children': [], 'cpe_match...</td>\n",
       "      <td>3.1</td>\n",
       "      <td>CVSS:3.1/AV:L/AC:L/PR:L/UI:N/S:U/C:H/I:N/A:N</td>\n",
       "      <td>LOCAL</td>\n",
       "      <td>LOW</td>\n",
       "      <td>LOW</td>\n",
       "      <td>...</td>\n",
       "      <td>NaN</td>\n",
       "      <td>NaT</td>\n",
       "      <td>NaN</td>\n",
       "      <td>NaN</td>\n",
       "      <td>NaN</td>\n",
       "      <td>0.00042</td>\n",
       "      <td>0.05714</td>\n",
       "      <td>2020</td>\n",
       "      <td>12</td>\n",
       "      <td>30600</td>\n",
       "    </tr>\n",
       "    <tr>\n",
       "      <th>335623</th>\n",
       "      <td>2020-10-22 19:15:00+00:00</td>\n",
       "      <td>2022-05-03 16:04:00+00:00</td>\n",
       "      <td>CVE-2020-9990</td>\n",
       "      <td>product-security@apple.com</td>\n",
       "      <td>[{'operator': 'OR', 'children': [], 'cpe_match...</td>\n",
       "      <td>3.1</td>\n",
       "      <td>CVSS:3.1/AV:L/AC:H/PR:L/UI:N/S:C/C:H/I:H/A:H</td>\n",
       "      <td>LOCAL</td>\n",
       "      <td>HIGH</td>\n",
       "      <td>LOW</td>\n",
       "      <td>...</td>\n",
       "      <td>NaN</td>\n",
       "      <td>NaT</td>\n",
       "      <td>NaN</td>\n",
       "      <td>NaN</td>\n",
       "      <td>NaN</td>\n",
       "      <td>0.00045</td>\n",
       "      <td>0.13059</td>\n",
       "      <td>2020</td>\n",
       "      <td>10</td>\n",
       "      <td>29995</td>\n",
       "    </tr>\n",
       "    <tr>\n",
       "      <th>335624</th>\n",
       "      <td>2020-12-08 22:15:00+00:00</td>\n",
       "      <td>2023-11-07 03:27:00+00:00</td>\n",
       "      <td>CVE-2020-9991</td>\n",
       "      <td>product-security@apple.com</td>\n",
       "      <td>[{'operator': 'OR', 'children': [], 'cpe_match...</td>\n",
       "      <td>3.1</td>\n",
       "      <td>CVSS:3.1/AV:N/AC:L/PR:N/UI:N/S:U/C:N/I:N/A:H</td>\n",
       "      <td>NETWORK</td>\n",
       "      <td>LOW</td>\n",
       "      <td>NONE</td>\n",
       "      <td>...</td>\n",
       "      <td>NaN</td>\n",
       "      <td>NaT</td>\n",
       "      <td>NaN</td>\n",
       "      <td>NaN</td>\n",
       "      <td>NaN</td>\n",
       "      <td>0.00578</td>\n",
       "      <td>0.75615</td>\n",
       "      <td>2020</td>\n",
       "      <td>12</td>\n",
       "      <td>30600</td>\n",
       "    </tr>\n",
       "    <tr>\n",
       "      <th>335625</th>\n",
       "      <td>2020-10-16 17:15:00+00:00</td>\n",
       "      <td>2023-01-09 16:41:00+00:00</td>\n",
       "      <td>CVE-2020-9992</td>\n",
       "      <td>product-security@apple.com</td>\n",
       "      <td>[{'operator': 'OR', 'children': [], 'cpe_match...</td>\n",
       "      <td>3.1</td>\n",
       "      <td>CVSS:3.1/AV:L/AC:L/PR:N/UI:R/S:U/C:H/I:H/A:H</td>\n",
       "      <td>LOCAL</td>\n",
       "      <td>LOW</td>\n",
       "      <td>NONE</td>\n",
       "      <td>...</td>\n",
       "      <td>NaN</td>\n",
       "      <td>NaT</td>\n",
       "      <td>NaN</td>\n",
       "      <td>NaN</td>\n",
       "      <td>NaN</td>\n",
       "      <td>0.00108</td>\n",
       "      <td>0.43542</td>\n",
       "      <td>2020</td>\n",
       "      <td>10</td>\n",
       "      <td>29995</td>\n",
       "    </tr>\n",
       "    <tr>\n",
       "      <th>335626</th>\n",
       "      <td>2020-12-08 20:15:00+00:00</td>\n",
       "      <td>2023-01-09 16:41:00+00:00</td>\n",
       "      <td>CVE-2020-9993</td>\n",
       "      <td>product-security@apple.com</td>\n",
       "      <td>[{'operator': 'OR', 'children': [], 'cpe_match...</td>\n",
       "      <td>3.1</td>\n",
       "      <td>CVSS:3.1/AV:N/AC:L/PR:N/UI:R/S:U/C:N/I:L/A:N</td>\n",
       "      <td>NETWORK</td>\n",
       "      <td>LOW</td>\n",
       "      <td>NONE</td>\n",
       "      <td>...</td>\n",
       "      <td>NaN</td>\n",
       "      <td>NaT</td>\n",
       "      <td>NaN</td>\n",
       "      <td>NaN</td>\n",
       "      <td>NaN</td>\n",
       "      <td>0.00101</td>\n",
       "      <td>0.41254</td>\n",
       "      <td>2020</td>\n",
       "      <td>12</td>\n",
       "      <td>30600</td>\n",
       "    </tr>\n",
       "    <tr>\n",
       "      <th>335627</th>\n",
       "      <td>2020-10-22 19:15:00+00:00</td>\n",
       "      <td>2020-10-26 20:26:00+00:00</td>\n",
       "      <td>CVE-2020-9994</td>\n",
       "      <td>product-security@apple.com</td>\n",
       "      <td>[{'operator': 'OR', 'children': [], 'cpe_match...</td>\n",
       "      <td>3.1</td>\n",
       "      <td>CVSS:3.1/AV:L/AC:L/PR:N/UI:R/S:U/C:N/I:H/A:H</td>\n",
       "      <td>LOCAL</td>\n",
       "      <td>LOW</td>\n",
       "      <td>NONE</td>\n",
       "      <td>...</td>\n",
       "      <td>NaN</td>\n",
       "      <td>NaT</td>\n",
       "      <td>NaN</td>\n",
       "      <td>NaN</td>\n",
       "      <td>NaN</td>\n",
       "      <td>0.00073</td>\n",
       "      <td>0.30652</td>\n",
       "      <td>2020</td>\n",
       "      <td>10</td>\n",
       "      <td>29995</td>\n",
       "    </tr>\n",
       "    <tr>\n",
       "      <th>335628</th>\n",
       "      <td>2021-04-02 18:15:00+00:00</td>\n",
       "      <td>2021-04-07 20:25:00+00:00</td>\n",
       "      <td>CVE-2020-9995</td>\n",
       "      <td>product-security@apple.com</td>\n",
       "      <td>[{'operator': 'OR', 'children': [], 'cpe_match...</td>\n",
       "      <td>3.1</td>\n",
       "      <td>CVSS:3.1/AV:N/AC:L/PR:N/UI:R/S:C/C:L/I:L/A:N</td>\n",
       "      <td>NETWORK</td>\n",
       "      <td>LOW</td>\n",
       "      <td>NONE</td>\n",
       "      <td>...</td>\n",
       "      <td>NaN</td>\n",
       "      <td>NaT</td>\n",
       "      <td>NaN</td>\n",
       "      <td>NaN</td>\n",
       "      <td>NaN</td>\n",
       "      <td>0.00070</td>\n",
       "      <td>0.29252</td>\n",
       "      <td>2021</td>\n",
       "      <td>4</td>\n",
       "      <td>28706</td>\n",
       "    </tr>\n",
       "    <tr>\n",
       "      <th>335629</th>\n",
       "      <td>2020-12-08 20:15:00+00:00</td>\n",
       "      <td>2023-01-09 16:41:00+00:00</td>\n",
       "      <td>CVE-2020-9996</td>\n",
       "      <td>product-security@apple.com</td>\n",
       "      <td>[{'operator': 'OR', 'children': [], 'cpe_match...</td>\n",
       "      <td>3.1</td>\n",
       "      <td>CVSS:3.1/AV:L/AC:L/PR:N/UI:R/S:U/C:H/I:H/A:H</td>\n",
       "      <td>LOCAL</td>\n",
       "      <td>LOW</td>\n",
       "      <td>NONE</td>\n",
       "      <td>...</td>\n",
       "      <td>NaN</td>\n",
       "      <td>NaT</td>\n",
       "      <td>NaN</td>\n",
       "      <td>NaN</td>\n",
       "      <td>NaN</td>\n",
       "      <td>0.00102</td>\n",
       "      <td>0.41556</td>\n",
       "      <td>2020</td>\n",
       "      <td>12</td>\n",
       "      <td>30600</td>\n",
       "    </tr>\n",
       "    <tr>\n",
       "      <th>335630</th>\n",
       "      <td>2020-10-22 19:15:00+00:00</td>\n",
       "      <td>2020-10-26 20:27:00+00:00</td>\n",
       "      <td>CVE-2020-9997</td>\n",
       "      <td>product-security@apple.com</td>\n",
       "      <td>[{'operator': 'OR', 'children': [], 'cpe_match...</td>\n",
       "      <td>3.1</td>\n",
       "      <td>CVSS:3.1/AV:L/AC:L/PR:N/UI:R/S:U/C:H/I:N/A:N</td>\n",
       "      <td>LOCAL</td>\n",
       "      <td>LOW</td>\n",
       "      <td>NONE</td>\n",
       "      <td>...</td>\n",
       "      <td>NaN</td>\n",
       "      <td>NaT</td>\n",
       "      <td>NaN</td>\n",
       "      <td>NaN</td>\n",
       "      <td>NaN</td>\n",
       "      <td>0.00065</td>\n",
       "      <td>0.27340</td>\n",
       "      <td>2020</td>\n",
       "      <td>10</td>\n",
       "      <td>29995</td>\n",
       "    </tr>\n",
       "    <tr>\n",
       "      <th>335631</th>\n",
       "      <td>2020-12-08 20:15:00+00:00</td>\n",
       "      <td>2021-07-21 11:39:00+00:00</td>\n",
       "      <td>CVE-2020-9999</td>\n",
       "      <td>product-security@apple.com</td>\n",
       "      <td>[{'operator': 'OR', 'children': [], 'cpe_match...</td>\n",
       "      <td>3.1</td>\n",
       "      <td>CVSS:3.1/AV:L/AC:L/PR:N/UI:R/S:U/C:H/I:H/A:H</td>\n",
       "      <td>LOCAL</td>\n",
       "      <td>LOW</td>\n",
       "      <td>NONE</td>\n",
       "      <td>...</td>\n",
       "      <td>NaN</td>\n",
       "      <td>NaT</td>\n",
       "      <td>NaN</td>\n",
       "      <td>NaN</td>\n",
       "      <td>NaN</td>\n",
       "      <td>0.00173</td>\n",
       "      <td>0.54381</td>\n",
       "      <td>2020</td>\n",
       "      <td>12</td>\n",
       "      <td>30600</td>\n",
       "    </tr>\n",
       "  </tbody>\n",
       "</table>\n",
       "<p>10 rows × 34 columns</p>\n",
       "</div>"
      ],
      "text/plain": [
       "                   publishedDate          lastModifiedDate          cveID  \\\n",
       "335622 2020-12-08 20:15:00+00:00 2023-01-09 16:41:00+00:00  CVE-2020-9989   \n",
       "335623 2020-10-22 19:15:00+00:00 2022-05-03 16:04:00+00:00  CVE-2020-9990   \n",
       "335624 2020-12-08 22:15:00+00:00 2023-11-07 03:27:00+00:00  CVE-2020-9991   \n",
       "335625 2020-10-16 17:15:00+00:00 2023-01-09 16:41:00+00:00  CVE-2020-9992   \n",
       "335626 2020-12-08 20:15:00+00:00 2023-01-09 16:41:00+00:00  CVE-2020-9993   \n",
       "335627 2020-10-22 19:15:00+00:00 2020-10-26 20:26:00+00:00  CVE-2020-9994   \n",
       "335628 2021-04-02 18:15:00+00:00 2021-04-07 20:25:00+00:00  CVE-2020-9995   \n",
       "335629 2020-12-08 20:15:00+00:00 2023-01-09 16:41:00+00:00  CVE-2020-9996   \n",
       "335630 2020-10-22 19:15:00+00:00 2020-10-26 20:27:00+00:00  CVE-2020-9997   \n",
       "335631 2020-12-08 20:15:00+00:00 2021-07-21 11:39:00+00:00  CVE-2020-9999   \n",
       "\n",
       "                          assigner  \\\n",
       "335622  product-security@apple.com   \n",
       "335623  product-security@apple.com   \n",
       "335624  product-security@apple.com   \n",
       "335625  product-security@apple.com   \n",
       "335626  product-security@apple.com   \n",
       "335627  product-security@apple.com   \n",
       "335628  product-security@apple.com   \n",
       "335629  product-security@apple.com   \n",
       "335630  product-security@apple.com   \n",
       "335631  product-security@apple.com   \n",
       "\n",
       "                                     configurations.nodes version  \\\n",
       "335622  [{'operator': 'OR', 'children': [], 'cpe_match...     3.1   \n",
       "335623  [{'operator': 'OR', 'children': [], 'cpe_match...     3.1   \n",
       "335624  [{'operator': 'OR', 'children': [], 'cpe_match...     3.1   \n",
       "335625  [{'operator': 'OR', 'children': [], 'cpe_match...     3.1   \n",
       "335626  [{'operator': 'OR', 'children': [], 'cpe_match...     3.1   \n",
       "335627  [{'operator': 'OR', 'children': [], 'cpe_match...     3.1   \n",
       "335628  [{'operator': 'OR', 'children': [], 'cpe_match...     3.1   \n",
       "335629  [{'operator': 'OR', 'children': [], 'cpe_match...     3.1   \n",
       "335630  [{'operator': 'OR', 'children': [], 'cpe_match...     3.1   \n",
       "335631  [{'operator': 'OR', 'children': [], 'cpe_match...     3.1   \n",
       "\n",
       "                                        vectorString attackVector  \\\n",
       "335622  CVSS:3.1/AV:L/AC:L/PR:L/UI:N/S:U/C:H/I:N/A:N        LOCAL   \n",
       "335623  CVSS:3.1/AV:L/AC:H/PR:L/UI:N/S:C/C:H/I:H/A:H        LOCAL   \n",
       "335624  CVSS:3.1/AV:N/AC:L/PR:N/UI:N/S:U/C:N/I:N/A:H      NETWORK   \n",
       "335625  CVSS:3.1/AV:L/AC:L/PR:N/UI:R/S:U/C:H/I:H/A:H        LOCAL   \n",
       "335626  CVSS:3.1/AV:N/AC:L/PR:N/UI:R/S:U/C:N/I:L/A:N      NETWORK   \n",
       "335627  CVSS:3.1/AV:L/AC:L/PR:N/UI:R/S:U/C:N/I:H/A:H        LOCAL   \n",
       "335628  CVSS:3.1/AV:N/AC:L/PR:N/UI:R/S:C/C:L/I:L/A:N      NETWORK   \n",
       "335629  CVSS:3.1/AV:L/AC:L/PR:N/UI:R/S:U/C:H/I:H/A:H        LOCAL   \n",
       "335630  CVSS:3.1/AV:L/AC:L/PR:N/UI:R/S:U/C:H/I:N/A:N        LOCAL   \n",
       "335631  CVSS:3.1/AV:L/AC:L/PR:N/UI:R/S:U/C:H/I:H/A:H        LOCAL   \n",
       "\n",
       "       attackComplexity privilegesRequired  ... requiredAction dueDate  \\\n",
       "335622              LOW                LOW  ...            NaN     NaT   \n",
       "335623             HIGH                LOW  ...            NaN     NaT   \n",
       "335624              LOW               NONE  ...            NaN     NaT   \n",
       "335625              LOW               NONE  ...            NaN     NaT   \n",
       "335626              LOW               NONE  ...            NaN     NaT   \n",
       "335627              LOW               NONE  ...            NaN     NaT   \n",
       "335628              LOW               NONE  ...            NaN     NaT   \n",
       "335629              LOW               NONE  ...            NaN     NaT   \n",
       "335630              LOW               NONE  ...            NaN     NaT   \n",
       "335631              LOW               NONE  ...            NaN     NaT   \n",
       "\n",
       "       knownRansomwareCampaignUse notes hasKEV     epss percentile  \\\n",
       "335622                        NaN   NaN    NaN  0.00042    0.05714   \n",
       "335623                        NaN   NaN    NaN  0.00045    0.13059   \n",
       "335624                        NaN   NaN    NaN  0.00578    0.75615   \n",
       "335625                        NaN   NaN    NaN  0.00108    0.43542   \n",
       "335626                        NaN   NaN    NaN  0.00101    0.41254   \n",
       "335627                        NaN   NaN    NaN  0.00073    0.30652   \n",
       "335628                        NaN   NaN    NaN  0.00070    0.29252   \n",
       "335629                        NaN   NaN    NaN  0.00102    0.41556   \n",
       "335630                        NaN   NaN    NaN  0.00065    0.27340   \n",
       "335631                        NaN   NaN    NaN  0.00173    0.54381   \n",
       "\n",
       "        publishedYear  publishedMonth  count  \n",
       "335622           2020              12  30600  \n",
       "335623           2020              10  29995  \n",
       "335624           2020              12  30600  \n",
       "335625           2020              10  29995  \n",
       "335626           2020              12  30600  \n",
       "335627           2020              10  29995  \n",
       "335628           2021               4  28706  \n",
       "335629           2020              12  30600  \n",
       "335630           2020              10  29995  \n",
       "335631           2020              12  30600  \n",
       "\n",
       "[10 rows x 34 columns]"
      ]
     },
     "execution_count": 45,
     "metadata": {},
     "output_type": "execute_result"
    }
   ],
   "source": [
    "df.tail(10)"
   ]
  },
  {
   "cell_type": "code",
   "execution_count": 46,
   "id": "b3b997dc",
   "metadata": {},
   "outputs": [],
   "source": [
    "df['epss'].fillna(0, inplace=True)"
   ]
  },
  {
   "cell_type": "code",
   "execution_count": 47,
   "id": "b7a7f503",
   "metadata": {},
   "outputs": [],
   "source": [
    "df['hasKEV'].fillna(0, inplace=True)"
   ]
  },
  {
   "cell_type": "code",
   "execution_count": 48,
   "id": "1486d6e0",
   "metadata": {},
   "outputs": [
    {
     "data": {
      "text/plain": [
       "<seaborn.axisgrid.FacetGrid at 0x7fa41613b5b0>"
      ]
     },
     "execution_count": 48,
     "metadata": {},
     "output_type": "execute_result"
    },
    {
     "data": {
      "image/png": "[encoded data removed]",
      "text/plain": [
       "<Figure size 360x360 with 1 Axes>"
      ]
     },
     "metadata": {},
     "output_type": "display_data"
    }
   ],
   "source": [
    "#define figure size\n",
    "sns.set(rc={\"figure.figsize\":(20, 5)}) \n",
    "sns.set_style(\"whitegrid\", {'axes.grid' : False})\n",
    "sns.set_palette(\"Spectral\")\n",
    "sns.displot(x= 'publishedYear', data=df, stat='percent')"
   ]
  },
  {
   "cell_type": "markdown",
   "id": "5704036c",
   "metadata": {},
   "source": [
    "An immediate first reaction would be to conclude that the threat proliferation is increasing exponentially over time.\n",
    "\n",
    "A time series is broadly classified into three categories of long-term fluctuations, short-term or periodic fluctuations, and random variations. A long-term variation or a trend shows the general tendency of the data to increase or decrease during a long period of time. The variation may be gradual but it is inevitably present."
   ]
  },
  {
   "cell_type": "code",
   "execution_count": 49,
   "id": "20a820cb",
   "metadata": {
    "scrolled": true
   },
   "outputs": [
    {
     "data": {
      "text/plain": [
       "<Axes: xlabel='publishedYear', ylabel='count'>"
      ]
     },
     "execution_count": 49,
     "metadata": {},
     "output_type": "execute_result"
    },
    {
     "data": {
      "image/png": "[encoded data removed]",
      "text/plain": [
       "<Figure size 1440x360 with 1 Axes>"
      ]
     },
     "metadata": {},
     "output_type": "display_data"
    }
   ],
   "source": [
    "#define figure size\n",
    "sns.set(rc={\"figure.figsize\":(20, 5)}) \n",
    "sns.set_style(\"whitegrid\", {'axes.grid' : False})\n",
    "sns.set_palette(\"Spectral\")\n",
    "sns.lineplot('publishedYear', 'count', data=df)"
   ]
  },
  {
   "cell_type": "markdown",
   "id": "3e902979",
   "metadata": {},
   "source": [
    "The moving average is commonly used with time series to smooth random short-term variations and to highlight other components (trend, season, or cycle) present in your data. The moving average is also known as rolling mean and is calculated by averaging data of the time series within k periods of time.\n",
    "\n",
    "This method uses the concept of ironing out the fluctuations of the data by taking the means. It measures the trend by eliminating the changes or the variations by means of a moving average. The simplest of the mean used for the measurement of a trend is the arithmetic means (averages)."
   ]
  },
  {
   "cell_type": "code",
   "execution_count": 50,
   "id": "df3821d1",
   "metadata": {},
   "outputs": [],
   "source": [
    "cve_gr = pd.DataFrame({'count' : df.groupby( [ \"publishedYear\", \"publishedMonth\"] ).size()}).reset_index()"
   ]
  },
  {
   "cell_type": "code",
   "execution_count": 51,
   "id": "416733d3",
   "metadata": {},
   "outputs": [],
   "source": [
    "cve_gr['count'] = cve_gr['count'].replace(0, 1)"
   ]
  },
  {
   "cell_type": "markdown",
   "id": "ed554f96",
   "metadata": {},
   "source": [
    "The simple moving average is the unweighted mean of the previous M data points. The selection of M (sliding window) depends on the amount of smoothing desired since increasing the value of M improves the smoothing at the expense of accuracy."
   ]
  },
  {
   "cell_type": "code",
   "execution_count": 52,
   "id": "4fba5d74",
   "metadata": {},
   "outputs": [
    {
     "name": "stderr",
     "output_type": "stream",
     "text": [
      "/var/folders/81/jyd7r7j97q36mxrppmmkm7qw0000gn/T/ipykernel_7973/2377251798.py:1: UserWarning: Converting to PeriodArray/Index representation will drop timezone information.\n",
      "  rolling = df.publishedDate.dt.to_period('M').sort_index().value_counts()\n"
     ]
    }
   ],
   "source": [
    "rolling = df.publishedDate.dt.to_period('M').sort_index().value_counts()"
   ]
  },
  {
   "cell_type": "code",
   "execution_count": 53,
   "id": "786ee30d",
   "metadata": {},
   "outputs": [],
   "source": [
    "rolling.index = rolling.index.to_timestamp()\n",
    "rolling = rolling.sort_index()\n",
    "rolling[rolling.index] = np.cumsum(rolling.values)\n",
    "rolling = rolling.rolling(12, axis=0).sum().pct_change(axis=0)"
   ]
  },
  {
   "cell_type": "code",
   "execution_count": 54,
   "id": "a8ebed26",
   "metadata": {},
   "outputs": [
    {
     "data": {
      "text/plain": [
       "<Axes: >"
      ]
     },
     "execution_count": 54,
     "metadata": {},
     "output_type": "execute_result"
    },
    {
     "data": {
      "image/png": "[encoded data removed]",
      "text/plain": [
       "<Figure size 1440x360 with 1 Axes>"
      ]
     },
     "metadata": {},
     "output_type": "display_data"
    }
   ],
   "source": [
    "#define figure size\n",
    "sns.set(rc={\"figure.figsize\":(20, 5)}) \n",
    "sns.set_style(\"whitegrid\", {'axes.grid' : False})\n",
    "sns.set_palette(\"Spectral\")\n",
    "sns.lineplot(x=rolling.index, y=rolling.values)"
   ]
  },
  {
   "cell_type": "markdown",
   "id": "558e51c3",
   "metadata": {},
   "source": [
    "While the treat proliferation seems to increase exponentially, the moving average suggests a different trend, which is that while new threats appear every year, the trend points to a stabilization of the number of new threats per years."
   ]
  },
  {
   "cell_type": "code",
   "execution_count": 55,
   "id": "50900e2c",
   "metadata": {},
   "outputs": [],
   "source": [
    "y = df.cvssScore.sort_values().astype('int').value_counts().sort_index()[1:]"
   ]
  },
  {
   "cell_type": "code",
   "execution_count": 56,
   "id": "f3aeda6d",
   "metadata": {
    "scrolled": false
   },
   "outputs": [
    {
     "data": {
      "text/plain": [
       "[Text(0, 0, '0.0%'),\n",
       " Text(0, 0, '0.4%'),\n",
       " Text(0, 0, '1.4%'),\n",
       " Text(0, 0, '7.7%'),\n",
       " Text(0, 0, '16.6%'),\n",
       " Text(0, 0, '17.0%'),\n",
       " Text(0, 0, '28.1%'),\n",
       " Text(0, 0, '13.5%'),\n",
       " Text(0, 0, '15.1%'),\n",
       " Text(0, 0, '0.2%')]"
      ]
     },
     "execution_count": 56,
     "metadata": {},
     "output_type": "execute_result"
    },
    {
     "data": {
      "image/png": "[encoded data removed]",
      "text/plain": [
       "<Figure size 1440x360 with 1 Axes>"
      ]
     },
     "metadata": {},
     "output_type": "display_data"
    }
   ],
   "source": [
    "#define figure size\n",
    "sns.set(rc={\"figure.figsize\":(20, 5)}) \n",
    "sns.set_style(\"whitegrid\", {'axes.grid' : False})\n",
    "sns.set_palette(\"Spectral\")\n",
    "#use orange for bar with max value and grey for all other bars\n",
    "cols = ['grey' if (x < max(y.values)) else 'orange' for x in y.values]\n",
    "\n",
    "ax = sns.barplot(x=y.index.map(lambda x: \"{}-{}\".format(x-1,x)), y=y.values/np.sum(y.values)*100, palette=cols)\n",
    "ax.bar_label(ax.containers[0], fmt='%.1f%%')"
   ]
  },
  {
   "cell_type": "code",
   "execution_count": 57,
   "id": "57f25f4c",
   "metadata": {},
   "outputs": [
    {
     "data": {
      "text/plain": [
       "<seaborn.axisgrid.FacetGrid at 0x7fa41cb3e8e0>"
      ]
     },
     "execution_count": 57,
     "metadata": {},
     "output_type": "execute_result"
    },
    {
     "data": {
      "image/png": "[encoded data removed]",
      "text/plain": [
       "<Figure size 360x360 with 1 Axes>"
      ]
     },
     "metadata": {},
     "output_type": "display_data"
    }
   ],
   "source": [
    "sns.displot(df, x=\"cvssScore\", kind=\"kde\")"
   ]
  },
  {
   "cell_type": "code",
   "execution_count": 58,
   "id": "4590119c",
   "metadata": {},
   "outputs": [],
   "source": [
    "y = df.epss.sort_values().astype('float').value_counts().sort_index()[1:]"
   ]
  },
  {
   "cell_type": "code",
   "execution_count": 59,
   "id": "c234b701",
   "metadata": {},
   "outputs": [
    {
     "data": {
      "text/plain": [
       "count    335632.000000\n",
       "mean          0.027001\n",
       "std           0.128568\n",
       "min           0.000000\n",
       "25%           0.000500\n",
       "50%           0.000980\n",
       "75%           0.003170\n",
       "max           0.975880\n",
       "Name: epss, dtype: float64"
      ]
     },
     "execution_count": 59,
     "metadata": {},
     "output_type": "execute_result"
    }
   ],
   "source": [
    "df['epss'].describe()"
   ]
  },
  {
   "cell_type": "code",
   "execution_count": 60,
   "id": "e46cbe7e",
   "metadata": {},
   "outputs": [
    {
     "data": {
      "text/plain": [
       "<seaborn.axisgrid.FacetGrid at 0x7fa416d6f2b0>"
      ]
     },
     "execution_count": 60,
     "metadata": {},
     "output_type": "execute_result"
    },
    {
     "data": {
      "image/png": "[encoded data removed]",
      "text/plain": [
       "<Figure size 360x360 with 1 Axes>"
      ]
     },
     "metadata": {},
     "output_type": "display_data"
    }
   ],
   "source": [
    "sns.displot(df, x=\"epss\", kind=\"ecdf\")"
   ]
  },
  {
   "cell_type": "code",
   "execution_count": 61,
   "id": "75aa2dd9",
   "metadata": {},
   "outputs": [
    {
     "data": {
      "text/plain": [
       "<seaborn.axisgrid.FacetGrid at 0x7fa416f48dc0>"
      ]
     },
     "execution_count": 61,
     "metadata": {},
     "output_type": "execute_result"
    },
    {
     "data": {
      "image/png": "[encoded data removed]",
      "text/plain": [
       "<Figure size 360x360 with 1 Axes>"
      ]
     },
     "metadata": {},
     "output_type": "display_data"
    }
   ],
   "source": [
    "sns.displot(df, x=\"epss\", y=\"cvssScore\")"
   ]
  },
  {
   "cell_type": "code",
   "execution_count": 62,
   "id": "79fadf15",
   "metadata": {},
   "outputs": [
    {
     "data": {
      "text/plain": [
       "<seaborn.axisgrid.FacetGrid at 0x7fa4181cc940>"
      ]
     },
     "execution_count": 62,
     "metadata": {},
     "output_type": "execute_result"
    },
    {
     "data": {
      "image/png": "[encoded data removed]",
      "text/plain": [
       "<Figure size 360x360 with 1 Axes>"
      ]
     },
     "metadata": {},
     "output_type": "display_data"
    }
   ],
   "source": [
    "sns.displot(df, x=\"epss\", y=\"cvssScore\", kind=\"kde\")"
   ]
  },
  {
   "cell_type": "code",
   "execution_count": 63,
   "id": "2fcbdd23",
   "metadata": {},
   "outputs": [
    {
     "data": {
      "text/html": [
       "<div>\n",
       "<style scoped>\n",
       "    .dataframe tbody tr th:only-of-type {\n",
       "        vertical-align: middle;\n",
       "    }\n",
       "\n",
       "    .dataframe tbody tr th {\n",
       "        vertical-align: top;\n",
       "    }\n",
       "\n",
       "    .dataframe thead th {\n",
       "        text-align: right;\n",
       "    }\n",
       "</style>\n",
       "<table border=\"1\" class=\"dataframe\">\n",
       "  <thead>\n",
       "    <tr style=\"text-align: right;\">\n",
       "      <th></th>\n",
       "      <th>publishedDate</th>\n",
       "      <th>lastModifiedDate</th>\n",
       "      <th>cveID</th>\n",
       "      <th>assigner</th>\n",
       "      <th>configurations.nodes</th>\n",
       "      <th>version</th>\n",
       "      <th>vectorString</th>\n",
       "      <th>attackVector</th>\n",
       "      <th>attackComplexity</th>\n",
       "      <th>privilegesRequired</th>\n",
       "      <th>...</th>\n",
       "      <th>requiredAction</th>\n",
       "      <th>dueDate</th>\n",
       "      <th>knownRansomwareCampaignUse</th>\n",
       "      <th>notes</th>\n",
       "      <th>hasKEV</th>\n",
       "      <th>epss</th>\n",
       "      <th>percentile</th>\n",
       "      <th>publishedYear</th>\n",
       "      <th>publishedMonth</th>\n",
       "      <th>count</th>\n",
       "    </tr>\n",
       "  </thead>\n",
       "  <tbody>\n",
       "    <tr>\n",
       "      <th>0</th>\n",
       "      <td>2021-06-09 20:15:00+00:00</td>\n",
       "      <td>2021-06-28 18:03:00+00:00</td>\n",
       "      <td>CVE-2021-0001</td>\n",
       "      <td>secure@intel.com</td>\n",
       "      <td>[{'operator': 'OR', 'children': [], 'cpe_match...</td>\n",
       "      <td>3.1</td>\n",
       "      <td>CVSS:3.1/AV:L/AC:H/PR:L/UI:N/S:U/C:H/I:N/A:N</td>\n",
       "      <td>LOCAL</td>\n",
       "      <td>HIGH</td>\n",
       "      <td>LOW</td>\n",
       "      <td>...</td>\n",
       "      <td>NaN</td>\n",
       "      <td>NaT</td>\n",
       "      <td>NaN</td>\n",
       "      <td>NaN</td>\n",
       "      <td>0.0</td>\n",
       "      <td>0.00044</td>\n",
       "      <td>0.10634</td>\n",
       "      <td>2021</td>\n",
       "      <td>6</td>\n",
       "      <td>27679</td>\n",
       "    </tr>\n",
       "  </tbody>\n",
       "</table>\n",
       "<p>1 rows × 34 columns</p>\n",
       "</div>"
      ],
      "text/plain": [
       "              publishedDate          lastModifiedDate          cveID  \\\n",
       "0 2021-06-09 20:15:00+00:00 2021-06-28 18:03:00+00:00  CVE-2021-0001   \n",
       "\n",
       "           assigner                               configurations.nodes  \\\n",
       "0  secure@intel.com  [{'operator': 'OR', 'children': [], 'cpe_match...   \n",
       "\n",
       "  version                                  vectorString attackVector  \\\n",
       "0     3.1  CVSS:3.1/AV:L/AC:H/PR:L/UI:N/S:U/C:H/I:N/A:N        LOCAL   \n",
       "\n",
       "  attackComplexity privilegesRequired  ... requiredAction dueDate  \\\n",
       "0             HIGH                LOW  ...            NaN     NaT   \n",
       "\n",
       "  knownRansomwareCampaignUse notes hasKEV     epss percentile  publishedYear  \\\n",
       "0                        NaN   NaN    0.0  0.00044    0.10634           2021   \n",
       "\n",
       "   publishedMonth  count  \n",
       "0               6  27679  \n",
       "\n",
       "[1 rows x 34 columns]"
      ]
     },
     "execution_count": 63,
     "metadata": {},
     "output_type": "execute_result"
    }
   ],
   "source": [
    "df.head(1)"
   ]
  },
  {
   "cell_type": "code",
   "execution_count": 64,
   "id": "3cb16c9e",
   "metadata": {},
   "outputs": [
    {
     "data": {
      "text/plain": [
       "<seaborn.axisgrid.JointGrid at 0x7fa419d72a90>"
      ]
     },
     "execution_count": 64,
     "metadata": {},
     "output_type": "execute_result"
    },
    {
     "data": {
      "image/png": "[encoded data removed]",
      "text/plain": [
       "<Figure size 432x432 with 3 Axes>"
      ]
     },
     "metadata": {},
     "output_type": "display_data"
    }
   ],
   "source": [
    "sns.jointplot(data=df, x=\"publishedYear\", y=\"cvssScore\")"
   ]
  },
  {
   "cell_type": "code",
   "execution_count": 65,
   "id": "8904c714",
   "metadata": {
    "scrolled": false
   },
   "outputs": [
    {
     "data": {
      "text/plain": [
       "<seaborn.axisgrid.JointGrid at 0x7fa41b895850>"
      ]
     },
     "execution_count": 65,
     "metadata": {},
     "output_type": "execute_result"
    },
    {
     "data": {
      "image/png": "[encoded data removed]",
      "text/plain": [
       "<Figure size 432x432 with 3 Axes>"
      ]
     },
     "metadata": {},
     "output_type": "display_data"
    }
   ],
   "source": [
    "sns.jointplot(data=df, x=\"publishedYear\", y=\"epss\")"
   ]
  },
  {
   "cell_type": "markdown",
   "id": "ffeb33d5",
   "metadata": {},
   "source": [
    "***\n",
    "## Statistical Analysis\n",
    "***\n",
    "### Descriptive Statistics\n",
    "***"
   ]
  },
  {
   "cell_type": "code",
   "execution_count": 66,
   "id": "8b0508b0",
   "metadata": {},
   "outputs": [
    {
     "name": "stdout",
     "output_type": "stream",
     "text": [
      "                 count      mean       std  min  25%  50%  75%   max\n",
      "baseSeverity                                                        \n",
      "CRITICAL       37095.0  9.739340  0.201825  9.0  9.8  9.8  9.8  10.0\n",
      "HIGH          100856.0  7.922250  0.562094  7.0  7.5  7.8  8.6   8.9\n",
      "LOW             4541.0  3.194186  0.419903  1.8  3.1  3.3  3.3   3.9\n",
      "MEDIUM        100150.0  5.652456  0.695754  4.0  5.3  5.5  6.1   6.9\n"
     ]
    }
   ],
   "source": [
    "descriptive_stats = df.groupby('baseSeverity')['cvssScore'].describe()\n",
    "print(descriptive_stats)"
   ]
  },
  {
   "cell_type": "code",
   "execution_count": 67,
   "id": "16040e20",
   "metadata": {},
   "outputs": [
    {
     "name": "stdout",
     "output_type": "stream",
     "text": [
      "                 count      mean       std  min      25%      50%       75%  \\\n",
      "baseSeverity                                                                  \n",
      "CRITICAL       37095.0  0.041609  0.163469  0.0  0.00138  0.00231  0.006225   \n",
      "HIGH          100856.0  0.017053  0.100432  0.0  0.00056  0.00098  0.002180   \n",
      "LOW             4541.0  0.002428  0.036338  0.0  0.00044  0.00048  0.000700   \n",
      "MEDIUM        100150.0  0.004695  0.049252  0.0  0.00046  0.00063  0.000960   \n",
      "\n",
      "                  max  \n",
      "baseSeverity           \n",
      "CRITICAL      0.97568  \n",
      "HIGH          0.97588  \n",
      "LOW           0.97505  \n",
      "MEDIUM        0.97573  \n"
     ]
    }
   ],
   "source": [
    "descriptive_stats = df.groupby('baseSeverity')['epss'].describe()\n",
    "print(descriptive_stats)"
   ]
  },
  {
   "cell_type": "markdown",
   "id": "52fb3f5f",
   "metadata": {},
   "source": [
    "***\n",
    "### Hypothesis Testing (t-test)\n",
    "***"
   ]
  },
  {
   "cell_type": "code",
   "execution_count": 68,
   "id": "a69cf995",
   "metadata": {},
   "outputs": [],
   "source": [
    "severity_groups = df.groupby('baseSeverity')\n",
    "severity_group_names = df['baseSeverity'].unique()"
   ]
  },
  {
   "cell_type": "code",
   "execution_count": 69,
   "id": "930e10b9",
   "metadata": {},
   "outputs": [
    {
     "name": "stdout",
     "output_type": "stream",
     "text": [
      "Keys in severity_groups: dict_keys(['CRITICAL', 'HIGH', 'LOW', 'MEDIUM'])\n"
     ]
    }
   ],
   "source": [
    "# Check for NaN values in severity_group_names\n",
    "severity_group_names = [name for name in severity_group_names if pd.notna(name)]\n",
    "\n",
    "# Inspecting the group keys in severity_groups\n",
    "print(\"Keys in severity_groups:\", severity_groups.groups.keys())"
   ]
  },
  {
   "cell_type": "code",
   "execution_count": 70,
   "id": "f286beb1",
   "metadata": {},
   "outputs": [
    {
     "name": "stdout",
     "output_type": "stream",
     "text": [
      "T-test between MEDIUM and HIGH:\n",
      "  T-statistic: -804.1950695157652\n",
      "  P-value: 0.0\n",
      "T-test between MEDIUM and CRITICAL:\n",
      "  T-statistic: -1678.059477309127\n",
      "  P-value: 0.0\n",
      "T-test between MEDIUM and LOW:\n",
      "  T-statistic: 372.0313811678559\n",
      "  P-value: 0.0\n",
      "T-test between HIGH and CRITICAL:\n",
      "  T-statistic: -883.4195181726541\n",
      "  P-value: 0.0\n",
      "T-test between HIGH and LOW:\n",
      "  T-statistic: 729.8964262093186\n",
      "  P-value: 0.0\n",
      "T-test between CRITICAL and LOW:\n",
      "  T-statistic: 1035.8352237817962\n",
      "  P-value: 0.0\n"
     ]
    }
   ],
   "source": [
    "# Modified loop with error handling\n",
    "for i in range(len(severity_group_names)):\n",
    "    for j in range(i + 1, len(severity_group_names)):\n",
    "        group1 = severity_group_names[i]\n",
    "        group2 = severity_group_names[j]\n",
    "\n",
    "        try:\n",
    "            data1 = severity_groups.get_group(group1)['cvssScore']\n",
    "            data2 = severity_groups.get_group(group2)['cvssScore']\n",
    "\n",
    "            t_statistic, p_value = stats.ttest_ind(data1, data2, equal_var=False)\n",
    "            print(f\"T-test between {group1} and {group2}:\")\n",
    "            print(f\"  T-statistic: {t_statistic}\")\n",
    "            print(f\"  P-value: {p_value}\")\n",
    "        except KeyError as e:\n",
    "            print(f\"KeyError for group: {e}\")"
   ]
  },
  {
   "cell_type": "markdown",
   "id": "0f03f340",
   "metadata": {},
   "source": [
    "The results show the outcome of independent t-tests comparing the mean of a certain metric across different severity groups of vulnerabilities (CRITICAL, HIGH, MEDIUM, and LOW). The t-test is a statistical hypothesis test that checks whether there is a significant difference between the means of two groups. Here's the interpretation of each test:\n",
    "\n",
    "1. **MEDIUM vs. HIGH:**\n",
    "- T-statistic: -614.55. A large negative t-value indicates that the mean of the metric for MEDIUM is significantly lower than for HIGH.\n",
    "- P-value: 0.0. A p-value of 0 suggests that the difference in means is statistically significant, meaning it's highly unlikely that this difference is due to random chance.\n",
    "2 . **MEDIUM vs. CRITICAL:**\n",
    "- T-statistic: -1288.72. This even larger negative t-value indicates a much lower mean for the MEDIUM group compared to the CRITICAL group.\n",
    "- P-value: 0.0. The result is statistically significant.\n",
    "3. **MEDIUM vs. LOW:**\n",
    "- T-statistic: 282.46. A positive t-value suggests that the mean for the MEDIUM group is significantly higher than for the LOW group.\n",
    "- P-value: 0.0. The result is statistically significant."
   ]
  },
  {
   "cell_type": "markdown",
   "id": "38ec2bbe",
   "metadata": {},
   "source": [
    "***\n",
    "**General Interpretation:**\n",
    "The t-statistics are very large in magnitude, and the p-values are essentially zero in all cases, which strongly indicates that there are significant differences between the groups' means being compared.\n",
    "The tests suggest that there is a clear and significant hierarchy in the metric means across severity groups, with CRITICAL being the highest (or lowest, depending on the metric), followed by HIGH, then MEDIUM, and LOW being the lowest (or highest)."
   ]
  },
  {
   "cell_type": "code",
   "execution_count": 71,
   "id": "1df0f3a2",
   "metadata": {},
   "outputs": [
    {
     "name": "stdout",
     "output_type": "stream",
     "text": [
      "T-test between MEDIUM and HIGH:\n",
      "  T-statistic: -35.063054510932126\n",
      "  P-value: 3.1950648521959284e-268\n",
      "T-test between MEDIUM and CRITICAL:\n",
      "  T-statistic: -42.779301306310835\n",
      "  P-value: 0.0\n",
      "T-test between MEDIUM and LOW:\n",
      "  T-statistic: 4.038510924091563\n",
      "  P-value: 5.4547669476101195e-05\n",
      "T-test between HIGH and CRITICAL:\n",
      "  T-statistic: -27.110880658187977\n",
      "  P-value: 1.21262327714868e-160\n",
      "T-test between HIGH and LOW:\n",
      "  T-statistic: 23.39505288025782\n",
      "  P-value: 3.258545775084135e-117\n",
      "T-test between CRITICAL and LOW:\n",
      "  T-statistic: 38.96401598631089\n",
      "  P-value: 0.0\n"
     ]
    }
   ],
   "source": [
    "for i in range(len(severity_group_names)):\n",
    "    for j in range(i + 1, len(severity_group_names)):\n",
    "        group1 = severity_group_names[i]\n",
    "        group2 = severity_group_names[j]\n",
    "\n",
    "        try:\n",
    "            data1 = severity_groups.get_group(group1)['epss']\n",
    "            data2 = severity_groups.get_group(group2)['epss']\n",
    "\n",
    "            t_statistic, p_value = stats.ttest_ind(data1, data2, equal_var=False)\n",
    "            print(f\"T-test between {group1} and {group2}:\")\n",
    "            print(f\"  T-statistic: {t_statistic}\")\n",
    "            print(f\"  P-value: {p_value}\")\n",
    "        except KeyError as e:\n",
    "            print(f\"KeyError for group: {e}\")\n"
   ]
  },
  {
   "cell_type": "markdown",
   "id": "a2ea0e77",
   "metadata": {},
   "source": [
    "**General Interpretation:**\n",
    "- The t-statistics are still large in magnitude (though not as large as in the case of the CVSS scores), and the p-values are extremely small in all cases, which strongly indicates that there are significant differences between the groups' means being compared.\n",
    "- The tests suggest that there is a clear and significant hierarchy in the metric means across severity groups, with CRITICAL being the highest (or lowest, depending on the metric), followed by HIGH, then MEDIUM, and LOW being the lowest (or highest)."
   ]
  },
  {
   "cell_type": "markdown",
   "id": "5f5e3f74",
   "metadata": {},
   "source": [
    "***\n",
    "### Poisson-Gamma Bayesian Model\n",
    "***"
   ]
  },
  {
   "cell_type": "code",
   "execution_count": 72,
   "id": "2f5b0080",
   "metadata": {},
   "outputs": [],
   "source": [
    "formula = 'cvssScore ~ baseSeverity'\n",
    "model = smf.glm(formula=formula, data=df, family=sm.families.Poisson()).fit()"
   ]
  },
  {
   "cell_type": "code",
   "execution_count": 73,
   "id": "f913f62d",
   "metadata": {},
   "outputs": [
    {
     "name": "stdout",
     "output_type": "stream",
     "text": [
      "                 Generalized Linear Model Regression Results                  \n",
      "==============================================================================\n",
      "Dep. Variable:              cvssScore   No. Observations:               242642\n",
      "Model:                            GLM   Df Residuals:                   242638\n",
      "Model Family:                 Poisson   Df Model:                            3\n",
      "Link Function:                    Log   Scale:                          1.0000\n",
      "Method:                          IRLS   Log-Likelihood:            -4.6796e+05\n",
      "Date:                Fri, 15 Dec 2023   Deviance:                       13138.\n",
      "Time:                        22:09:34   Pearson chi2:                 1.30e+04\n",
      "No. Iterations:                     5   Pseudo R-squ. (CS):             0.2977\n",
      "Covariance Type:            nonrobust                                         \n",
      "==========================================================================================\n",
      "                             coef    std err          z      P>|z|      [0.025      0.975]\n",
      "------------------------------------------------------------------------------------------\n",
      "Intercept                  2.2762      0.002   1368.131      0.000       2.273       2.279\n",
      "baseSeverity[T.HIGH]      -0.2065      0.002   -102.998      0.000      -0.210      -0.203\n",
      "baseSeverity[T.LOW]       -1.1148      0.008   -131.650      0.000      -1.131      -1.098\n",
      "baseSeverity[T.MEDIUM]    -0.5441      0.002   -255.508      0.000      -0.548      -0.540\n",
      "==========================================================================================\n"
     ]
    }
   ],
   "source": [
    "# Print model summary\n",
    "print(model.summary())"
   ]
  },
  {
   "cell_type": "markdown",
   "id": "9fb6f90a",
   "metadata": {},
   "source": [
    "The model indicates that there are statistically significant differences in cvssScore across different base severity levels, with CRITICAL severity having the highest cvssScore count (as indicated by the intercept) and the other severities having progressively lower counts. The model has a moderate explanatory power for the variation in cvssScore."
   ]
  },
  {
   "cell_type": "code",
   "execution_count": null,
   "id": "a48cd44c",
   "metadata": {},
   "outputs": [],
   "source": []
  },
  {
   "cell_type": "code",
   "execution_count": 74,
   "id": "8ada01c0",
   "metadata": {},
   "outputs": [],
   "source": [
    "formula = 'epss ~ baseSeverity'\n",
    "model = smf.glm(formula=formula, data=df, family=sm.families.Poisson()).fit()"
   ]
  },
  {
   "cell_type": "code",
   "execution_count": 75,
   "id": "ec939530",
   "metadata": {},
   "outputs": [
    {
     "name": "stdout",
     "output_type": "stream",
     "text": [
      "                 Generalized Linear Model Regression Results                  \n",
      "==============================================================================\n",
      "Dep. Variable:                   epss   No. Observations:               242642\n",
      "Model:                            GLM   Df Residuals:                   242638\n",
      "Model Family:                 Poisson   Df Model:                            3\n",
      "Link Function:                    Log   Scale:                          1.0000\n",
      "Method:                          IRLS   Log-Likelihood:                -17505.\n",
      "Date:                Fri, 15 Dec 2023   Deviance:                       20445.\n",
      "Time:                        22:09:36   Pearson chi2:                 1.38e+05\n",
      "No. Iterations:                     7   Pseudo R-squ. (CS):           0.009211\n",
      "Covariance Type:            nonrobust                                         \n",
      "==========================================================================================\n",
      "                             coef    std err          z      P>|z|      [0.025      0.975]\n",
      "------------------------------------------------------------------------------------------\n",
      "Intercept                 -3.1794      0.025   -124.911      0.000      -3.229      -3.130\n",
      "baseSeverity[T.HIGH]      -0.8920      0.035    -25.440      0.000      -0.961      -0.823\n",
      "baseSeverity[T.LOW]       -2.8412      0.302     -9.401      0.000      -3.434      -2.249\n",
      "baseSeverity[T.MEDIUM]    -2.1819      0.053    -41.421      0.000      -2.285      -2.079\n",
      "==========================================================================================\n"
     ]
    }
   ],
   "source": [
    "# Print model summary\n",
    "print(model.summary())"
   ]
  },
  {
   "cell_type": "markdown",
   "id": "f3b4bd71",
   "metadata": {},
   "source": [
    "These results are more interesting, so let's take a closer look.\n",
    "\n",
    "**Coefficients:**\n",
    "- **Intercept:** -3.1019. This is the log of the expected count of epss when all predictors are at their baseline levels.\n",
    "- **baseSeverity[T.HIGH]:** -0.7692. This coefficient suggests that the log of expected count of epss for HIGH severity is 0.7692 lower than the baseline severity (probably CRITICAL). This is statistically significant (p < 0.000).\n",
    "- **baseSeverity[T.LOW]:** -2.5951. The log of expected count of epss for LOW severity is 2.5951 lower than the baseline, significantly different from the baseline.\n",
    "- **baseSeverity[T.MEDIUM]:** -2.1269. The log of expected count of epss for MEDIUM severity is 2.1269 lower than the baseline, also significantly different.\n",
    "\n",
    "**Statistical Significance:**\n",
    "All p-values are less than 0.05, indicating that the coefficients are statistically significant.\n",
    "The confidence intervals do not contain zero, further supporting the significance of the findings.\n",
    "\n",
    "***\n",
    "**Interpretation of Effects:**\n",
    "Compared to the baseline severity level (likely CRITICAL), HIGH, MEDIUM, and LOW severities all have significantly lower expected counts of epss. The magnitude of these effects is considerable, especially for LOW and MEDIUM severities.\n",
    "The negative coefficients indicate that as the severity decreases from the baseline, the expected count of epss decreases exponentially (given the Poisson model with a log link function).\n",
    "***"
   ]
  },
  {
   "cell_type": "markdown",
   "id": "4bc0545f",
   "metadata": {},
   "source": [
    "**Overall Model Assessment:**\n",
    "The model is statistically significant, but the pseudo R-squared value is quite low, suggesting that while the model's predictors are significant, they explain a small portion of the variability in epss.\n",
    "\n",
    "\n",
    "**Practical Considerations:**\n",
    "The Poisson model assumes that the mean and variance of the response variable are equal. If this assumption does not hold, it could affect the validity of the model.\n",
    "\n",
    "***"
   ]
  },
  {
   "cell_type": "markdown",
   "id": "3ded2fac",
   "metadata": {},
   "source": [
    "## Comparison of patching effort, coverage and efficiency using EPSS vs CVSS\n",
    "***"
   ]
  },
  {
   "cell_type": "code",
   "execution_count": 76,
   "id": "662e5fe3",
   "metadata": {},
   "outputs": [],
   "source": [
    "def venn_diagram(a, b, c, labels):\n",
    "\n",
    "    a = set(a)\n",
    "    b = set(b)\n",
    "    c = set(c)\n",
    "\n",
    "    only_a = len(a - b - c)\n",
    "    only_b = len(b - a - c)\n",
    "    only_c = len(c - a - b)\n",
    "\n",
    "    only_a_b = len(a & b - c)\n",
    "    only_a_c = len(a & c - b)\n",
    "    only_b_c = len(b & c - a)\n",
    "\n",
    "    a_b_c = len(a & b & c)\n",
    "\n",
    "    venn3(subsets=(only_a, only_b, only_a_b, only_c, only_a_c, only_b_c, a_b_c), set_labels=labels,\n",
    "         set_colors=(\"lightblue\", \"darkred\", \"grey\"), alpha=0.8)"
   ]
  },
  {
   "cell_type": "code",
   "execution_count": 77,
   "id": "cef0e7fd",
   "metadata": {},
   "outputs": [],
   "source": [
    "a = df.loc[df['hasKEV'] == 1, 'cveID']\n",
    "b = df.loc[df['cvssScore'] >= 7, 'cveID']\n",
    "c = df.cveID\n",
    "labels = ['Present in KEV', 'CVSS7+', 'EPSS']"
   ]
  },
  {
   "cell_type": "code",
   "execution_count": 78,
   "id": "fbbf308b",
   "metadata": {},
   "outputs": [
    {
     "data": {
      "image/png": "[encoded data removed]",
      "text/plain": [
       "<Figure size 1440x360 with 1 Axes>"
      ]
     },
     "metadata": {},
     "output_type": "display_data"
    }
   ],
   "source": [
    "venn_diagram(a, b, c, labels)"
   ]
  },
  {
   "cell_type": "code",
   "execution_count": 79,
   "id": "bf5e952c",
   "metadata": {},
   "outputs": [],
   "source": [
    "tp = len(set(a) & set(b) & set(c))\n",
    "fp = len(set(b) & set(c) - set(a))\n",
    "tn = len(set(a) & set(c) - set(b))\n",
    "fn = len(set(a) & set(b) - set(c))"
   ]
  },
  {
   "cell_type": "code",
   "execution_count": 80,
   "id": "1842d62c",
   "metadata": {},
   "outputs": [
    {
     "name": "stdout",
     "output_type": "stream",
     "text": [
      "Patching effort: 24.90%\n"
     ]
    }
   ],
   "source": [
    "b_c = len(set(b) & set(c))\n",
    "print(\"Patching effort: {:.2f}%\".format(b_c / len(cvss) * 100))"
   ]
  },
  {
   "cell_type": "code",
   "execution_count": 81,
   "id": "1dd2e246",
   "metadata": {},
   "outputs": [
    {
     "name": "stdout",
     "output_type": "stream",
     "text": [
      "Efficiency: 0.91%\n"
     ]
    }
   ],
   "source": [
    "print(\"Efficiency: {:.2f}%\".format(tp / (tp+fp) * 100))"
   ]
  },
  {
   "cell_type": "code",
   "execution_count": 82,
   "id": "95c7e8b7",
   "metadata": {},
   "outputs": [
    {
     "name": "stdout",
     "output_type": "stream",
     "text": [
      "Coverage: 100.00%\n"
     ]
    }
   ],
   "source": [
    "print(\"Coverage: {:.2f}%\".format(tp / (tp+fn) * 100))"
   ]
  },
  {
   "cell_type": "markdown",
   "id": "9b8b3b56",
   "metadata": {},
   "source": [
    "Focusing on vulnerabilities with CVSS score of 7 or more gives us a pretty good coverage but a very poor efficiency in terms of focusing on the vulnerabilities with known exploits and a patching effort of 24.34%."
   ]
  },
  {
   "cell_type": "code",
   "execution_count": 83,
   "id": "ef6a9161",
   "metadata": {},
   "outputs": [],
   "source": [
    "sets = [set(a), set(b), set(c)]\n",
    "# supervenn(sets, labels, side_plots=False, widths_minmax_ratio=0.05, min_width_for_annotation=100)"
   ]
  },
  {
   "cell_type": "code",
   "execution_count": 84,
   "id": "dc46cbce",
   "metadata": {
    "scrolled": true
   },
   "outputs": [
    {
     "data": {
      "text/plain": [
       "<supervenn._plots.SupervennPlot at 0x7fa3a45ab100>"
      ]
     },
     "execution_count": 84,
     "metadata": {},
     "output_type": "execute_result"
    },
    {
     "data": {
      "image/png": "[encoded data removed]",
      "text/plain": [
       "<Figure size 1440x360 with 5 Axes>"
      ]
     },
     "metadata": {},
     "output_type": "display_data"
    }
   ],
   "source": [
    "supervenn(sets, labels, widths_minmax_ratio=0.05, min_width_for_annotation=100)"
   ]
  },
  {
   "cell_type": "code",
   "execution_count": 85,
   "id": "eb2a6bc9",
   "metadata": {},
   "outputs": [],
   "source": [
    "a = df.loc[df['hasKEV'] == 1, 'cveID']\n",
    "b = df.cveID\n",
    "c = df.loc[df['epss'] >= 0.5, 'cveID']\n",
    "\n",
    "\n",
    "labels = ['Present in KEV', 'CVSS', 'EPSS 0.5+']"
   ]
  },
  {
   "cell_type": "code",
   "execution_count": 86,
   "id": "3a9d5be8",
   "metadata": {},
   "outputs": [
    {
     "data": {
      "image/png": "[encoded data removed]",
      "text/plain": [
       "<Figure size 1440x360 with 1 Axes>"
      ]
     },
     "metadata": {},
     "output_type": "display_data"
    }
   ],
   "source": [
    "venn_diagram(a, b, c, labels)"
   ]
  },
  {
   "cell_type": "code",
   "execution_count": 87,
   "id": "3fafe0d5",
   "metadata": {},
   "outputs": [],
   "source": [
    "tp = len(set(a) & set(b) & set(c))\n",
    "fp = len(set(b) & set(c) - set(a))\n",
    "tn = len(set(a) & set(c) - set(b))\n",
    "fn = len(set(a) & set(b) - set(c))"
   ]
  },
  {
   "cell_type": "code",
   "execution_count": 88,
   "id": "8fbecbdc",
   "metadata": {},
   "outputs": [
    {
     "name": "stdout",
     "output_type": "stream",
     "text": [
      "Patching effort: 1.84%\n"
     ]
    }
   ],
   "source": [
    "b_c = len(set(b) & set(c))\n",
    "print(\"Patching effort: {:.2f}%\".format(b_c / len(cvss) * 100))"
   ]
  },
  {
   "cell_type": "code",
   "execution_count": 89,
   "id": "5632352d",
   "metadata": {},
   "outputs": [
    {
     "name": "stdout",
     "output_type": "stream",
     "text": [
      "Efficiency: 7.84%\n"
     ]
    }
   ],
   "source": [
    "print(\"Efficiency: {:.2f}%\".format(tp / (tp+fp) * 100))"
   ]
  },
  {
   "cell_type": "code",
   "execution_count": 90,
   "id": "f8b06c77",
   "metadata": {},
   "outputs": [
    {
     "name": "stdout",
     "output_type": "stream",
     "text": [
      "Coverage: 47.12%\n"
     ]
    }
   ],
   "source": [
    "print(\"Coverage: {:.2f}%\".format(tp / (tp+fn) * 100))"
   ]
  },
  {
   "cell_type": "code",
   "execution_count": null,
   "id": "f52d28ea",
   "metadata": {},
   "outputs": [],
   "source": []
  },
  {
   "cell_type": "code",
   "execution_count": 91,
   "id": "cc4a5307",
   "metadata": {},
   "outputs": [],
   "source": [
    "a = df.loc[df['hasKEV'] == 1, 'cveID']\n",
    "b = df.cveID\n",
    "c = df.loc[df['epss'] > 0.1, 'cveID']\n",
    "\n",
    "\n",
    "labels = ['Present in KEV', 'CVSS', 'EPSS 0.1+']"
   ]
  },
  {
   "cell_type": "code",
   "execution_count": 92,
   "id": "934b9091",
   "metadata": {},
   "outputs": [
    {
     "data": {
      "image/png": "[encoded data removed]",
      "text/plain": [
       "<Figure size 1440x360 with 1 Axes>"
      ]
     },
     "metadata": {},
     "output_type": "display_data"
    }
   ],
   "source": [
    "venn_diagram(a, b, c, labels)"
   ]
  },
  {
   "cell_type": "code",
   "execution_count": 93,
   "id": "fad23706",
   "metadata": {},
   "outputs": [],
   "source": [
    "tp = len(set(a) & set(b) & set(c))\n",
    "fp = len(set(b) & set(c) - set(a))\n",
    "tn = len(set(a) & set(c) - set(b))\n",
    "fn = len(set(a) & set(b) - set(c))"
   ]
  },
  {
   "cell_type": "code",
   "execution_count": 94,
   "id": "b99efb36",
   "metadata": {},
   "outputs": [
    {
     "name": "stdout",
     "output_type": "stream",
     "text": [
      "Patching effort: 3.71%\n"
     ]
    }
   ],
   "source": [
    "b_c = len(set(b) & set(c))\n",
    "print(\"Patching effort: {:.2f}%\".format(b_c / len(cvss) * 100))"
   ]
  },
  {
   "cell_type": "code",
   "execution_count": 95,
   "id": "1f65dc1a",
   "metadata": {},
   "outputs": [
    {
     "name": "stdout",
     "output_type": "stream",
     "text": [
      "Efficiency: 4.49%\n"
     ]
    }
   ],
   "source": [
    "print(\"Efficiency: {:.2f}%\".format(tp / (tp+fp) * 100))"
   ]
  },
  {
   "cell_type": "code",
   "execution_count": 96,
   "id": "9a1e8969",
   "metadata": {},
   "outputs": [
    {
     "name": "stdout",
     "output_type": "stream",
     "text": [
      "Coverage: 54.63%\n"
     ]
    }
   ],
   "source": [
    "print(\"Coverage: {:.2f}%\".format(tp / (tp+fn) * 100))"
   ]
  },
  {
   "cell_type": "markdown",
   "id": "71ec5340",
   "metadata": {},
   "source": [
    "These results do not seem very impressive, and this may be related to the fact that I only use CISA KEV as source for know exploits. Thankfully I cam across https://github.com/andreafioraldi/cve_searchsploit so I'll use this in addition as well."
   ]
  },
  {
   "cell_type": "code",
   "execution_count": 97,
   "id": "0ee00e93",
   "metadata": {},
   "outputs": [],
   "source": [
    "import cve_searchsploit as CS"
   ]
  },
  {
   "cell_type": "code",
   "execution_count": 98,
   "id": "0ba216bd",
   "metadata": {},
   "outputs": [
    {
     "name": "stdout",
     "output_type": "stream",
     "text": [
      "Refreshing exploit-database repo with latest exploits\n"
     ]
    },
    {
     "name": "stderr",
     "output_type": "stream",
     "text": [
      "From https://gitlab.com/exploit-database/exploitdb\n",
      " * branch                main       -> FETCH_HEAD\n",
      " 98% (45671 of 46256) |################# | Elapsed Time: 0:00:00 ETA:  00:00:00"
     ]
    },
    {
     "name": "stdout",
     "output_type": "stream",
     "text": [
      "Already up to date.\n",
      "Refreshing EDBID-CVE mapping\n"
     ]
    },
    {
     "name": "stderr",
     "output_type": "stream",
     "text": [
      "100% (46256 of 46256) |##################| Elapsed Time: 0:00:00 Time:  0:00:00\n"
     ]
    }
   ],
   "source": [
    "CS.update_db()"
   ]
  },
  {
   "cell_type": "code",
   "execution_count": 99,
   "id": "98c4a748",
   "metadata": {},
   "outputs": [
    {
     "data": {
      "text/plain": [
       "[46946, 47120, 47120, 47416, 47416, 47683]"
      ]
     },
     "execution_count": 99,
     "metadata": {},
     "output_type": "execute_result"
    }
   ],
   "source": [
    "CS.edbid_from_cve(\"CVE-2019-0708\")"
   ]
  },
  {
   "cell_type": "code",
   "execution_count": 100,
   "id": "a460d58b",
   "metadata": {},
   "outputs": [
    {
     "data": {
      "text/plain": [
       "count    335632.000000\n",
       "mean          0.004946\n",
       "std           0.070153\n",
       "min           0.000000\n",
       "25%           0.000000\n",
       "50%           0.000000\n",
       "75%           0.000000\n",
       "max           1.000000\n",
       "Name: hasKEV, dtype: float64"
      ]
     },
     "execution_count": 100,
     "metadata": {},
     "output_type": "execute_result"
    }
   ],
   "source": [
    "df.hasKEV.describe()"
   ]
  },
  {
   "cell_type": "code",
   "execution_count": 101,
   "id": "41f04519",
   "metadata": {},
   "outputs": [],
   "source": [
    "# df['hasKEV'] = df.apply(lambda row: row['hasKEV'] if len(CS.edbid_from_cve(row['cveID'])) == 0 else 1, axis=1)\n",
    "# condition = df['cveID'].apply(lambda x: len(CS.edbid_from_cve(x)) == 0)\n",
    "# condition = [len(CS.edbid_from_cve(x)) == 0 for x in df['cveID']]"
   ]
  },
  {
   "cell_type": "code",
   "execution_count": null,
   "id": "24dcd38e",
   "metadata": {},
   "outputs": [],
   "source": [
    "condition = np.vectorize(lambda x: len(CS.edbid_from_cve(x)) == 0)(df['cveID'])"
   ]
  },
  {
   "cell_type": "code",
   "execution_count": null,
   "id": "6cab47c4",
   "metadata": {},
   "outputs": [],
   "source": [
    "df['hasKEV'] = np.where(condition, df['hasKEV'], 1)"
   ]
  },
  {
   "cell_type": "code",
   "execution_count": null,
   "id": "5cde2e02",
   "metadata": {},
   "outputs": [],
   "source": [
    "df.hasKEV.describe()"
   ]
  },
  {
   "cell_type": "code",
   "execution_count": null,
   "id": "683e486d",
   "metadata": {},
   "outputs": [],
   "source": [
    "# save the dataframe to a new file\n",
    "df.to_csv('cve_epss_cvss.csv', index = False, encoding='utf-8-sig')"
   ]
  },
  {
   "cell_type": "code",
   "execution_count": null,
   "id": "9b346508",
   "metadata": {},
   "outputs": [],
   "source": [
    "a = df.loc[df['hasKEV'] == 1, 'cveID']\n",
    "b = df.loc[df['cvssScore'] >= 7, 'cveID']\n",
    "c = df.cveID\n",
    "labels = ['Present in KEV', 'CVSS7+', 'EPSS']"
   ]
  },
  {
   "cell_type": "code",
   "execution_count": null,
   "id": "aec718ac",
   "metadata": {},
   "outputs": [],
   "source": [
    "venn_diagram(a, b, c, labels)"
   ]
  },
  {
   "cell_type": "code",
   "execution_count": null,
   "id": "953611c2",
   "metadata": {},
   "outputs": [],
   "source": [
    "tp = len(set(a) & set(b) & set(c))\n",
    "fp = len(set(b) & set(c) - set(a))\n",
    "tn = len(set(a) & set(c) - set(b))\n",
    "fn = len(set(a) & set(b) - set(c))"
   ]
  },
  {
   "cell_type": "code",
   "execution_count": null,
   "id": "9c065d7e",
   "metadata": {},
   "outputs": [],
   "source": [
    "b_c = len(set(b) & set(c))\n",
    "print(\"Patching effort: {:.2f}%\".format(b_c / len(cvss) * 100))"
   ]
  },
  {
   "cell_type": "code",
   "execution_count": null,
   "id": "707cb085",
   "metadata": {},
   "outputs": [],
   "source": [
    "print(\"Efficiency: {:.2f}%\".format(tp / (tp+fp) * 100))"
   ]
  },
  {
   "cell_type": "code",
   "execution_count": null,
   "id": "7ab1e3a3",
   "metadata": {},
   "outputs": [],
   "source": [
    "print(\"Coverage: {:.2f}%\".format(tp / (tp+fn) * 100))"
   ]
  },
  {
   "cell_type": "code",
   "execution_count": null,
   "id": "bff83841",
   "metadata": {},
   "outputs": [],
   "source": []
  },
  {
   "cell_type": "code",
   "execution_count": null,
   "id": "37f7de5d",
   "metadata": {},
   "outputs": [],
   "source": [
    "a = df.loc[df['hasKEV'] == 1, 'cveID']\n",
    "b = df.cveID\n",
    "c = df.loc[df['epss'] >= 0.5, 'cveID']\n",
    "\n",
    "\n",
    "labels = ['Present in KEV', 'CVSS', 'EPSS 0.5+']"
   ]
  },
  {
   "cell_type": "code",
   "execution_count": null,
   "id": "b4bf4fca",
   "metadata": {},
   "outputs": [],
   "source": [
    "venn_diagram(a, b, c, labels)"
   ]
  },
  {
   "cell_type": "code",
   "execution_count": null,
   "id": "80dbd4dd",
   "metadata": {},
   "outputs": [],
   "source": [
    "tp = len(set(a) & set(b) & set(c))\n",
    "fp = len(set(b) & set(c) - set(a))\n",
    "tn = len(set(a) & set(c) - set(b))\n",
    "fn = len(set(a) & set(b) - set(c))"
   ]
  },
  {
   "cell_type": "code",
   "execution_count": null,
   "id": "53dd0b88",
   "metadata": {},
   "outputs": [],
   "source": [
    "b_c = len(set(b) & set(c))\n",
    "print(\"Patching effort: {:.2f}%\".format(b_c / len(cvss) * 100))"
   ]
  },
  {
   "cell_type": "code",
   "execution_count": null,
   "id": "32a7c1c4",
   "metadata": {},
   "outputs": [],
   "source": [
    "print(\"Efficiency: {:.2f}%\".format(tp / (tp+fp) * 100))"
   ]
  },
  {
   "cell_type": "code",
   "execution_count": null,
   "id": "ef961252",
   "metadata": {
    "scrolled": true
   },
   "outputs": [],
   "source": [
    "print(\"Coverage: {:.2f}%\".format(tp / (tp+fn) * 100))"
   ]
  },
  {
   "cell_type": "code",
   "execution_count": null,
   "id": "7c59f315",
   "metadata": {},
   "outputs": [],
   "source": []
  },
  {
   "cell_type": "code",
   "execution_count": null,
   "id": "70ab32a9",
   "metadata": {},
   "outputs": [],
   "source": [
    "a = df.loc[df['hasKEV'] == 1, 'cveID']\n",
    "b = df.cveID\n",
    "c = df.loc[df['epss'] > 0.1, 'cveID']\n",
    "\n",
    "\n",
    "labels = ['Present in KEV', 'CVSS', 'EPSS 0.1+']"
   ]
  },
  {
   "cell_type": "code",
   "execution_count": null,
   "id": "95de7c47",
   "metadata": {},
   "outputs": [],
   "source": [
    "venn_diagram(a, b, c, labels)"
   ]
  },
  {
   "cell_type": "code",
   "execution_count": null,
   "id": "8516d601",
   "metadata": {},
   "outputs": [],
   "source": [
    "tp = len(set(a) & set(b) & set(c))\n",
    "fp = len(set(b) & set(c) - set(a))\n",
    "tn = len(set(a) & set(c) - set(b))\n",
    "fn = len(set(a) & set(b) - set(c))"
   ]
  },
  {
   "cell_type": "code",
   "execution_count": null,
   "id": "8c36dfea",
   "metadata": {},
   "outputs": [],
   "source": [
    "b_c = len(set(b) & set(c))\n",
    "print(\"Patching effort: {:.2f}%\".format(b_c / len(cvss) * 100))"
   ]
  },
  {
   "cell_type": "code",
   "execution_count": null,
   "id": "9b12d6f3",
   "metadata": {},
   "outputs": [],
   "source": [
    "print(\"Efficiency: {:.2f}%\".format(tp / (tp+fp) * 100))"
   ]
  },
  {
   "cell_type": "code",
   "execution_count": null,
   "id": "91de55ab",
   "metadata": {},
   "outputs": [],
   "source": [
    "print(\"Coverage: {:.2f}%\".format(tp / (tp+fn) * 100))"
   ]
  },
  {
   "cell_type": "code",
   "execution_count": null,
   "id": "4ab78f98",
   "metadata": {},
   "outputs": [],
   "source": []
  },
  {
   "cell_type": "code",
   "execution_count": null,
   "id": "13cb84d5",
   "metadata": {},
   "outputs": [],
   "source": [
    "# save the dataframe to a new file\n",
    "df.to_csv('cve_epss_cvss.csv', index = False, encoding='utf-8-sig')"
   ]
  },
  {
   "cell_type": "code",
   "execution_count": null,
   "id": "437eaf20",
   "metadata": {},
   "outputs": [],
   "source": []
  }
 ],
 "metadata": {
  "kernelspec": {
   "display_name": "Python 3 (ipykernel)",
   "language": "python",
   "name": "python3"
  },
  "language_info": {
   "codemirror_mode": {
    "name": "ipython",
    "version": 3
   },
   "file_extension": ".py",
   "mimetype": "text/x-python",
   "name": "python",
   "nbconvert_exporter": "python",
   "pygments_lexer": "ipython3",
   "version": "3.9.12"
  }
 },
 "nbformat": 4,
 "nbformat_minor": 5
}
