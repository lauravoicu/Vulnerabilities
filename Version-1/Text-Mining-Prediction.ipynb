{
 "cells": [
  {
   "cell_type": "markdown",
   "metadata": {},
   "source": [
    "# CVSS Score Prediction"
   ]
  },
  {
   "cell_type": "markdown",
   "metadata": {},
   "source": [
    "The CVSS is composed of three metric groups: Base, Temporal, and Environmental. But often it is only the “Base Score” that is used in databases and researches. The Base Score represents the innate characteristics of each vulnerability that is not affected by time, place or system. The figure below shows the CVSS base score formula."
   ]
  },
  {
   "cell_type": "markdown",
   "metadata": {},
   "source": [
    "<img src='cvss.jpg' width=\"600\" height=\"400\">"
   ]
  },
  {
   "cell_type": "markdown",
   "metadata": {},
   "source": [
    "Although the CVSS is a public standard it has few restrictions. The CVSS score calculation is subjective and two users may be having different CVSS scores. On the other hands, the users should be familiar with both, the vulnerability characteristics and CVSS scoring systems."
   ]
  },
  {
   "cell_type": "markdown",
   "metadata": {},
   "source": [
    "The goal of this study is predicting the CVSS base scores based on vulnerability description using text mining. Describing the vulnerabilities to natural language is easier than to find and compute CVSS base score parameters."
   ]
  },
  {
   "cell_type": "code",
   "execution_count": 1,
   "metadata": {},
   "outputs": [],
   "source": [
    "# dependencies\n",
    "import pandas as pd\n",
    "import os\n",
    "import numpy as np\n",
    "import matplotlib.pyplot as plt\n",
    "import seaborn as sns\n",
    "import glob\n",
    "from collections import Counter\n",
    "\n",
    "import re    # for regular expressions \n",
    "import nltk  # for text manipulation \n",
    "import string \n",
    "import warnings \n",
    "import seaborn as sns \n",
    "\n",
    "pd.set_option(\"display.max_colwidth\", 200) \n",
    "warnings.filterwarnings(\"ignore\", category=DeprecationWarning) \n",
    "\n",
    "%matplotlib inline\n",
    "import multiprocessing\n",
    "import time\n",
    "\n",
    "import nltk\n",
    "# nltk.download('stopwords')\n",
    "# nltk.download('punkt')\n",
    "# nltk.download('averaged_perceptron_tagger')\n",
    "from nltk.corpus import stopwords\n",
    "from nltk.tokenize import word_tokenize\n",
    "from nltk import WordNetLemmatizer\n",
    "from nltk.stem.porter import PorterStemmer\n",
    "from nltk.tokenize import word_tokenize\n",
    "\n",
    "import spacy\n",
    "from pprint import pprint\n",
    "\n",
    "from sklearn.feature_extraction.text import TfidfVectorizer\n",
    "\n",
    "from sklearn.linear_model import LogisticRegression \n",
    "from sklearn.neighbors import KNeighborsClassifier\n",
    "from sklearn.tree import DecisionTreeClassifier\n",
    "from sklearn.ensemble import RandomForestClassifier, AdaBoostClassifier, GradientBoostingClassifier\n",
    "\n",
    "from sklearn.model_selection import GridSearchCV, RandomizedSearchCV, train_test_split, StratifiedKFold, cross_val_score, cross_val_predict\n",
    "\n",
    "# from sklearn.pipeline import Pipeline\n",
    "from sklearn import metrics\n",
    "from sklearn.metrics import classification_report\n",
    "from sklearn.metrics import f1_score, roc_auc_score, roc_curve, average_precision_score, precision_recall_curve\n",
    "from sklearn.metrics import classification_report, confusion_matrix\n",
    "\n",
    "from sklearn.dummy import DummyClassifier\n",
    "\n",
    "import matplotlib.pyplot as plt\n",
    "%matplotlib inline\n",
    "\n",
    "# Enable logging for gensim - optional\n",
    "import logging\n",
    "logging.basicConfig(format='%(asctime)s : %(levelname)s : %(message)s', level=logging.ERROR)\n",
    "\n",
    "import warnings\n",
    "warnings.filterwarnings('ignore')"
   ]
  },
  {
   "cell_type": "code",
   "execution_count": 2,
   "metadata": {},
   "outputs": [],
   "source": [
    "df = pd.read_csv('cve_cleaned.csv', header=0, index_col=0)"
   ]
  },
  {
   "cell_type": "code",
   "execution_count": 3,
   "metadata": {},
   "outputs": [],
   "source": [
    "df.drop(['cwe_code' ,'mod_date', 'pub_date', 'access_authentication', 'access_complexity', 'access_vector', 'impact_availability', 'impact_confidentiality', 'impact_integrity'], axis=1, inplace=True)"
   ]
  },
  {
   "cell_type": "code",
   "execution_count": 4,
   "metadata": {},
   "outputs": [
    {
     "data": {
      "text/html": [
       "<div>\n",
       "<style scoped>\n",
       "    .dataframe tbody tr th:only-of-type {\n",
       "        vertical-align: middle;\n",
       "    }\n",
       "\n",
       "    .dataframe tbody tr th {\n",
       "        vertical-align: top;\n",
       "    }\n",
       "\n",
       "    .dataframe thead th {\n",
       "        text-align: right;\n",
       "    }\n",
       "</style>\n",
       "<table border=\"1\" class=\"dataframe\">\n",
       "  <thead>\n",
       "    <tr style=\"text-align: right;\">\n",
       "      <th></th>\n",
       "      <th>cvss</th>\n",
       "      <th>cwe_name</th>\n",
       "      <th>summary</th>\n",
       "    </tr>\n",
       "  </thead>\n",
       "  <tbody>\n",
       "    <tr>\n",
       "      <th>CVE-2019-2211</th>\n",
       "      <td>7.8</td>\n",
       "      <td>Improper Neutralization of Special Elements used in an SQL Command ('SQL Injection')</td>\n",
       "      <td>In createProjectionMapForQuery of TvProvider.java, there is possible SQL injection. This could lead to local information disclosure with no additional execution privileges needed. User interaction...</td>\n",
       "    </tr>\n",
       "    <tr>\n",
       "      <th>CVE-2019-2212</th>\n",
       "      <td>4.9</td>\n",
       "      <td>Information Exposure</td>\n",
       "      <td>In poisson_distribution of random, there is an out of bounds read. This could lead to local information disclosure with no additional execution privileges needed. User interaction is not needed fo...</td>\n",
       "    </tr>\n",
       "    <tr>\n",
       "      <th>CVE-2019-2213</th>\n",
       "      <td>6.9</td>\n",
       "      <td>Use After Free</td>\n",
       "      <td>In binder_free_transaction of binder.c, there is a possible use-after-free due to a race condition. This could lead to local escalation of privilege with no additional execution privileges needed....</td>\n",
       "    </tr>\n",
       "    <tr>\n",
       "      <th>CVE-2019-2214</th>\n",
       "      <td>7.2</td>\n",
       "      <td>Improper Privilege Management</td>\n",
       "      <td>In binder_transaction of binder.c, there is a possible out of bounds write due to a missing bounds check. This could lead to local escalation of privilege with no additional execution privileges n...</td>\n",
       "    </tr>\n",
       "    <tr>\n",
       "      <th>CVE-2019-18793</th>\n",
       "      <td>4.3</td>\n",
       "      <td>Improper Neutralization of Input During Web Page Generation ('Cross-site Scripting')</td>\n",
       "      <td>Parallels Plesk Panel 9.5 allows XSS in target/locales/tr-TR/help/index.htm? via the \"fileName\" parameter.</td>\n",
       "    </tr>\n",
       "  </tbody>\n",
       "</table>\n",
       "</div>"
      ],
      "text/plain": [
       "                cvss  \\\n",
       "CVE-2019-2211    7.8   \n",
       "CVE-2019-2212    4.9   \n",
       "CVE-2019-2213    6.9   \n",
       "CVE-2019-2214    7.2   \n",
       "CVE-2019-18793   4.3   \n",
       "\n",
       "                                                                                             cwe_name  \\\n",
       "CVE-2019-2211    Improper Neutralization of Special Elements used in an SQL Command ('SQL Injection')   \n",
       "CVE-2019-2212                                                                    Information Exposure   \n",
       "CVE-2019-2213                                                                          Use After Free   \n",
       "CVE-2019-2214                                                           Improper Privilege Management   \n",
       "CVE-2019-18793   Improper Neutralization of Input During Web Page Generation ('Cross-site Scripting')   \n",
       "\n",
       "                                                                                                                                                                                                                summary  \n",
       "CVE-2019-2211   In createProjectionMapForQuery of TvProvider.java, there is possible SQL injection. This could lead to local information disclosure with no additional execution privileges needed. User interaction...  \n",
       "CVE-2019-2212   In poisson_distribution of random, there is an out of bounds read. This could lead to local information disclosure with no additional execution privileges needed. User interaction is not needed fo...  \n",
       "CVE-2019-2213   In binder_free_transaction of binder.c, there is a possible use-after-free due to a race condition. This could lead to local escalation of privilege with no additional execution privileges needed....  \n",
       "CVE-2019-2214   In binder_transaction of binder.c, there is a possible out of bounds write due to a missing bounds check. This could lead to local escalation of privilege with no additional execution privileges n...  \n",
       "CVE-2019-18793                                                                                               Parallels Plesk Panel 9.5 allows XSS in target/locales/tr-TR/help/index.htm? via the \"fileName\" parameter.  "
      ]
     },
     "execution_count": 4,
     "metadata": {},
     "output_type": "execute_result"
    }
   ],
   "source": [
    "df.head()"
   ]
  },
  {
   "cell_type": "markdown",
   "metadata": {},
   "source": [
    "***\n",
    "**Tokenize words and Clean-up text**\n",
    "***\n"
   ]
  },
  {
   "cell_type": "code",
   "execution_count": 5,
   "metadata": {},
   "outputs": [],
   "source": [
    "# NLTK Stop words\n",
    "from nltk.corpus import stopwords\n",
    "stop_words = stopwords.words('english')"
   ]
  },
  {
   "cell_type": "code",
   "execution_count": 6,
   "metadata": {},
   "outputs": [
    {
     "data": {
      "text/html": [
       "<div>\n",
       "<style scoped>\n",
       "    .dataframe tbody tr th:only-of-type {\n",
       "        vertical-align: middle;\n",
       "    }\n",
       "\n",
       "    .dataframe tbody tr th {\n",
       "        vertical-align: top;\n",
       "    }\n",
       "\n",
       "    .dataframe thead th {\n",
       "        text-align: right;\n",
       "    }\n",
       "</style>\n",
       "<table border=\"1\" class=\"dataframe\">\n",
       "  <thead>\n",
       "    <tr style=\"text-align: right;\">\n",
       "      <th></th>\n",
       "      <th>cvss</th>\n",
       "      <th>cwe_name</th>\n",
       "      <th>summary</th>\n",
       "    </tr>\n",
       "  </thead>\n",
       "  <tbody>\n",
       "    <tr>\n",
       "      <th>CVE-2019-2211</th>\n",
       "      <td>7.8</td>\n",
       "      <td>Improper Neutralization of Special Elements used in an SQL Command ('SQL Injection')</td>\n",
       "      <td>In createProjectionMapForQuery TvProvider.java, possible SQL injection. This could lead local information disclosure additional execution privileges needed. User interaction needed exploitation.Pr...</td>\n",
       "    </tr>\n",
       "    <tr>\n",
       "      <th>CVE-2019-2212</th>\n",
       "      <td>4.9</td>\n",
       "      <td>Information Exposure</td>\n",
       "      <td>In poisson_distribution random, bounds read. This could lead local information disclosure additional execution privileges needed. User interaction needed exploitation.Product: AndroidVersions: And...</td>\n",
       "    </tr>\n",
       "    <tr>\n",
       "      <th>CVE-2019-2213</th>\n",
       "      <td>6.9</td>\n",
       "      <td>Use After Free</td>\n",
       "      <td>In binder_free_transaction binder.c, possible use-after-free due race condition. This could lead local escalation privilege additional execution privileges needed. User interaction needed exploita...</td>\n",
       "    </tr>\n",
       "    <tr>\n",
       "      <th>CVE-2019-2214</th>\n",
       "      <td>7.2</td>\n",
       "      <td>Improper Privilege Management</td>\n",
       "      <td>In binder_transaction binder.c, possible bounds write due missing bounds check. This could lead local escalation privilege additional execution privileges needed. User interaction needed exploitat...</td>\n",
       "    </tr>\n",
       "    <tr>\n",
       "      <th>CVE-2019-18793</th>\n",
       "      <td>4.3</td>\n",
       "      <td>Improper Neutralization of Input During Web Page Generation ('Cross-site Scripting')</td>\n",
       "      <td>Parallels Plesk Panel 9.5 allows XSS target/locales/tr-TR/help/index.htm? via \"fileName\" parameter.</td>\n",
       "    </tr>\n",
       "  </tbody>\n",
       "</table>\n",
       "</div>"
      ],
      "text/plain": [
       "                cvss  \\\n",
       "CVE-2019-2211    7.8   \n",
       "CVE-2019-2212    4.9   \n",
       "CVE-2019-2213    6.9   \n",
       "CVE-2019-2214    7.2   \n",
       "CVE-2019-18793   4.3   \n",
       "\n",
       "                                                                                             cwe_name  \\\n",
       "CVE-2019-2211    Improper Neutralization of Special Elements used in an SQL Command ('SQL Injection')   \n",
       "CVE-2019-2212                                                                    Information Exposure   \n",
       "CVE-2019-2213                                                                          Use After Free   \n",
       "CVE-2019-2214                                                           Improper Privilege Management   \n",
       "CVE-2019-18793   Improper Neutralization of Input During Web Page Generation ('Cross-site Scripting')   \n",
       "\n",
       "                                                                                                                                                                                                                summary  \n",
       "CVE-2019-2211   In createProjectionMapForQuery TvProvider.java, possible SQL injection. This could lead local information disclosure additional execution privileges needed. User interaction needed exploitation.Pr...  \n",
       "CVE-2019-2212   In poisson_distribution random, bounds read. This could lead local information disclosure additional execution privileges needed. User interaction needed exploitation.Product: AndroidVersions: And...  \n",
       "CVE-2019-2213   In binder_free_transaction binder.c, possible use-after-free due race condition. This could lead local escalation privilege additional execution privileges needed. User interaction needed exploita...  \n",
       "CVE-2019-2214   In binder_transaction binder.c, possible bounds write due missing bounds check. This could lead local escalation privilege additional execution privileges needed. User interaction needed exploitat...  \n",
       "CVE-2019-18793                                                                                                      Parallels Plesk Panel 9.5 allows XSS target/locales/tr-TR/help/index.htm? via \"fileName\" parameter.  "
      ]
     },
     "execution_count": 6,
     "metadata": {},
     "output_type": "execute_result"
    }
   ],
   "source": [
    "# remove stopwords\n",
    "df['summary'] = df['summary'].apply(lambda x: ' '.join([word for word in x.split() if (word not in stop_words)]))\n",
    "df.head()"
   ]
  },
  {
   "cell_type": "code",
   "execution_count": 7,
   "metadata": {},
   "outputs": [
    {
     "data": {
      "text/html": [
       "<div>\n",
       "<style scoped>\n",
       "    .dataframe tbody tr th:only-of-type {\n",
       "        vertical-align: middle;\n",
       "    }\n",
       "\n",
       "    .dataframe tbody tr th {\n",
       "        vertical-align: top;\n",
       "    }\n",
       "\n",
       "    .dataframe thead th {\n",
       "        text-align: right;\n",
       "    }\n",
       "</style>\n",
       "<table border=\"1\" class=\"dataframe\">\n",
       "  <thead>\n",
       "    <tr style=\"text-align: right;\">\n",
       "      <th></th>\n",
       "      <th>cvss</th>\n",
       "      <th>cwe_name</th>\n",
       "      <th>summary</th>\n",
       "    </tr>\n",
       "  </thead>\n",
       "  <tbody>\n",
       "    <tr>\n",
       "      <th>CVE-2019-2211</th>\n",
       "      <td>7.8</td>\n",
       "      <td>Improper Neutralization of Special Elements used in an SQL Command ('SQL Injection')</td>\n",
       "      <td>In createProjectionMapForQuery TvProvider.java, possible SQL injection. This could lead local information disclosure additional execution privileges needed. User interaction needed exploitation.Pr...</td>\n",
       "    </tr>\n",
       "    <tr>\n",
       "      <th>CVE-2019-2212</th>\n",
       "      <td>4.9</td>\n",
       "      <td>Information Exposure</td>\n",
       "      <td>In poisson_distribution random, bounds read. This could lead local information disclosure additional execution privileges needed. User interaction needed exploitation.Product: AndroidVersions: And...</td>\n",
       "    </tr>\n",
       "    <tr>\n",
       "      <th>CVE-2019-2213</th>\n",
       "      <td>6.9</td>\n",
       "      <td>Use After Free</td>\n",
       "      <td>In binder_free_transaction binder.c, possible use-after-free due race condition. This could lead local escalation privilege additional execution privileges needed. User interaction needed exploita...</td>\n",
       "    </tr>\n",
       "    <tr>\n",
       "      <th>CVE-2019-2214</th>\n",
       "      <td>7.2</td>\n",
       "      <td>Improper Privilege Management</td>\n",
       "      <td>In binder_transaction binder.c, possible bounds write due missing bounds check. This could lead local escalation privilege additional execution privileges needed. User interaction needed exploitat...</td>\n",
       "    </tr>\n",
       "    <tr>\n",
       "      <th>CVE-2019-18793</th>\n",
       "      <td>4.3</td>\n",
       "      <td>Improper Neutralization of Input During Web Page Generation ('Cross-site Scripting')</td>\n",
       "      <td>Parallels Plesk Panel . allows XSS target/locales/tr-TR/help/index.htm? via \"fileName\" parameter.</td>\n",
       "    </tr>\n",
       "  </tbody>\n",
       "</table>\n",
       "</div>"
      ],
      "text/plain": [
       "                cvss  \\\n",
       "CVE-2019-2211    7.8   \n",
       "CVE-2019-2212    4.9   \n",
       "CVE-2019-2213    6.9   \n",
       "CVE-2019-2214    7.2   \n",
       "CVE-2019-18793   4.3   \n",
       "\n",
       "                                                                                             cwe_name  \\\n",
       "CVE-2019-2211    Improper Neutralization of Special Elements used in an SQL Command ('SQL Injection')   \n",
       "CVE-2019-2212                                                                    Information Exposure   \n",
       "CVE-2019-2213                                                                          Use After Free   \n",
       "CVE-2019-2214                                                           Improper Privilege Management   \n",
       "CVE-2019-18793   Improper Neutralization of Input During Web Page Generation ('Cross-site Scripting')   \n",
       "\n",
       "                                                                                                                                                                                                                summary  \n",
       "CVE-2019-2211   In createProjectionMapForQuery TvProvider.java, possible SQL injection. This could lead local information disclosure additional execution privileges needed. User interaction needed exploitation.Pr...  \n",
       "CVE-2019-2212   In poisson_distribution random, bounds read. This could lead local information disclosure additional execution privileges needed. User interaction needed exploitation.Product: AndroidVersions: And...  \n",
       "CVE-2019-2213   In binder_free_transaction binder.c, possible use-after-free due race condition. This could lead local escalation privilege additional execution privileges needed. User interaction needed exploita...  \n",
       "CVE-2019-2214   In binder_transaction binder.c, possible bounds write due missing bounds check. This could lead local escalation privilege additional execution privileges needed. User interaction needed exploitat...  \n",
       "CVE-2019-18793                                                                                                        Parallels Plesk Panel . allows XSS target/locales/tr-TR/help/index.htm? via \"fileName\" parameter.  "
      ]
     },
     "execution_count": 7,
     "metadata": {},
     "output_type": "execute_result"
    }
   ],
   "source": [
    "# remove digits\n",
    "df['summary'] = df['summary'].apply(lambda x: ''.join([i for i in x if not i.isdigit()]))\n",
    "df.head()"
   ]
  },
  {
   "cell_type": "code",
   "execution_count": 8,
   "metadata": {},
   "outputs": [],
   "source": [
    "translator = re.compile('[%s]' % re.escape(string.punctuation))"
   ]
  },
  {
   "cell_type": "code",
   "execution_count": 9,
   "metadata": {},
   "outputs": [
    {
     "data": {
      "text/html": [
       "<div>\n",
       "<style scoped>\n",
       "    .dataframe tbody tr th:only-of-type {\n",
       "        vertical-align: middle;\n",
       "    }\n",
       "\n",
       "    .dataframe tbody tr th {\n",
       "        vertical-align: top;\n",
       "    }\n",
       "\n",
       "    .dataframe thead th {\n",
       "        text-align: right;\n",
       "    }\n",
       "</style>\n",
       "<table border=\"1\" class=\"dataframe\">\n",
       "  <thead>\n",
       "    <tr style=\"text-align: right;\">\n",
       "      <th></th>\n",
       "      <th>cvss</th>\n",
       "      <th>cwe_name</th>\n",
       "      <th>summary</th>\n",
       "    </tr>\n",
       "  </thead>\n",
       "  <tbody>\n",
       "    <tr>\n",
       "      <th>CVE-2019-2211</th>\n",
       "      <td>7.8</td>\n",
       "      <td>Improper Neutralization of Special Elements used in an SQL Command ('SQL Injection')</td>\n",
       "      <td>In createProjectionMapForQuery TvProvider java  possible SQL injection  This could lead local information disclosure additional execution privileges needed  User interaction needed exploitation Pr...</td>\n",
       "    </tr>\n",
       "    <tr>\n",
       "      <th>CVE-2019-2212</th>\n",
       "      <td>4.9</td>\n",
       "      <td>Information Exposure</td>\n",
       "      <td>In poisson distribution random  bounds read  This could lead local information disclosure additional execution privileges needed  User interaction needed exploitation Product  AndroidVersions  And...</td>\n",
       "    </tr>\n",
       "    <tr>\n",
       "      <th>CVE-2019-2213</th>\n",
       "      <td>6.9</td>\n",
       "      <td>Use After Free</td>\n",
       "      <td>In binder free transaction binder c  possible use after free due race condition  This could lead local escalation privilege additional execution privileges needed  User interaction needed exploita...</td>\n",
       "    </tr>\n",
       "    <tr>\n",
       "      <th>CVE-2019-2214</th>\n",
       "      <td>7.2</td>\n",
       "      <td>Improper Privilege Management</td>\n",
       "      <td>In binder transaction binder c  possible bounds write due missing bounds check  This could lead local escalation privilege additional execution privileges needed  User interaction needed exploitat...</td>\n",
       "    </tr>\n",
       "    <tr>\n",
       "      <th>CVE-2019-18793</th>\n",
       "      <td>4.3</td>\n",
       "      <td>Improper Neutralization of Input During Web Page Generation ('Cross-site Scripting')</td>\n",
       "      <td>Parallels Plesk Panel   allows XSS target locales tr TR help index htm  via  fileName  parameter</td>\n",
       "    </tr>\n",
       "  </tbody>\n",
       "</table>\n",
       "</div>"
      ],
      "text/plain": [
       "                cvss  \\\n",
       "CVE-2019-2211    7.8   \n",
       "CVE-2019-2212    4.9   \n",
       "CVE-2019-2213    6.9   \n",
       "CVE-2019-2214    7.2   \n",
       "CVE-2019-18793   4.3   \n",
       "\n",
       "                                                                                             cwe_name  \\\n",
       "CVE-2019-2211    Improper Neutralization of Special Elements used in an SQL Command ('SQL Injection')   \n",
       "CVE-2019-2212                                                                    Information Exposure   \n",
       "CVE-2019-2213                                                                          Use After Free   \n",
       "CVE-2019-2214                                                           Improper Privilege Management   \n",
       "CVE-2019-18793   Improper Neutralization of Input During Web Page Generation ('Cross-site Scripting')   \n",
       "\n",
       "                                                                                                                                                                                                                summary  \n",
       "CVE-2019-2211   In createProjectionMapForQuery TvProvider java  possible SQL injection  This could lead local information disclosure additional execution privileges needed  User interaction needed exploitation Pr...  \n",
       "CVE-2019-2212   In poisson distribution random  bounds read  This could lead local information disclosure additional execution privileges needed  User interaction needed exploitation Product  AndroidVersions  And...  \n",
       "CVE-2019-2213   In binder free transaction binder c  possible use after free due race condition  This could lead local escalation privilege additional execution privileges needed  User interaction needed exploita...  \n",
       "CVE-2019-2214   In binder transaction binder c  possible bounds write due missing bounds check  This could lead local escalation privilege additional execution privileges needed  User interaction needed exploitat...  \n",
       "CVE-2019-18793                                                                                                        Parallels Plesk Panel   allows XSS target locales tr TR help index htm  via  fileName  parameter   "
      ]
     },
     "execution_count": 9,
     "metadata": {},
     "output_type": "execute_result"
    }
   ],
   "source": [
    "# remove punctuation\n",
    "df['summary'] = df['summary'].apply(lambda x: translator.sub(' ', x))\n",
    "df.head()"
   ]
  },
  {
   "cell_type": "code",
   "execution_count": 10,
   "metadata": {},
   "outputs": [
    {
     "data": {
      "text/html": [
       "<div>\n",
       "<style scoped>\n",
       "    .dataframe tbody tr th:only-of-type {\n",
       "        vertical-align: middle;\n",
       "    }\n",
       "\n",
       "    .dataframe tbody tr th {\n",
       "        vertical-align: top;\n",
       "    }\n",
       "\n",
       "    .dataframe thead th {\n",
       "        text-align: right;\n",
       "    }\n",
       "</style>\n",
       "<table border=\"1\" class=\"dataframe\">\n",
       "  <thead>\n",
       "    <tr style=\"text-align: right;\">\n",
       "      <th></th>\n",
       "      <th>cvss</th>\n",
       "      <th>cwe_name</th>\n",
       "      <th>summary</th>\n",
       "    </tr>\n",
       "  </thead>\n",
       "  <tbody>\n",
       "    <tr>\n",
       "      <th>CVE-2019-2211</th>\n",
       "      <td>7.8</td>\n",
       "      <td>Improper Neutralization of Special Elements used in an SQL Command ('SQL Injection')</td>\n",
       "      <td>In createProjectionMapForQuery TvProvider java possible SQL injection This could lead local information disclosure additional execution privileges needed User interaction needed exploitation Produ...</td>\n",
       "    </tr>\n",
       "    <tr>\n",
       "      <th>CVE-2019-2212</th>\n",
       "      <td>4.9</td>\n",
       "      <td>Information Exposure</td>\n",
       "      <td>In poisson distribution random bounds read This could lead local information disclosure additional execution privileges needed User interaction needed exploitation Product AndroidVersions Android ...</td>\n",
       "    </tr>\n",
       "    <tr>\n",
       "      <th>CVE-2019-2213</th>\n",
       "      <td>6.9</td>\n",
       "      <td>Use After Free</td>\n",
       "      <td>In binder free transaction binder possible use after free due race condition This could lead local escalation privilege additional execution privileges needed User interaction needed exploitation ...</td>\n",
       "    </tr>\n",
       "    <tr>\n",
       "      <th>CVE-2019-2214</th>\n",
       "      <td>7.2</td>\n",
       "      <td>Improper Privilege Management</td>\n",
       "      <td>In binder transaction binder possible bounds write due missing bounds check This could lead local escalation privilege additional execution privileges needed User interaction needed exploitation P...</td>\n",
       "    </tr>\n",
       "    <tr>\n",
       "      <th>CVE-2019-18793</th>\n",
       "      <td>4.3</td>\n",
       "      <td>Improper Neutralization of Input During Web Page Generation ('Cross-site Scripting')</td>\n",
       "      <td>Parallels Plesk Panel allows XSS target locales tr TR help index htm via fileName parameter</td>\n",
       "    </tr>\n",
       "  </tbody>\n",
       "</table>\n",
       "</div>"
      ],
      "text/plain": [
       "                cvss  \\\n",
       "CVE-2019-2211    7.8   \n",
       "CVE-2019-2212    4.9   \n",
       "CVE-2019-2213    6.9   \n",
       "CVE-2019-2214    7.2   \n",
       "CVE-2019-18793   4.3   \n",
       "\n",
       "                                                                                             cwe_name  \\\n",
       "CVE-2019-2211    Improper Neutralization of Special Elements used in an SQL Command ('SQL Injection')   \n",
       "CVE-2019-2212                                                                    Information Exposure   \n",
       "CVE-2019-2213                                                                          Use After Free   \n",
       "CVE-2019-2214                                                           Improper Privilege Management   \n",
       "CVE-2019-18793   Improper Neutralization of Input During Web Page Generation ('Cross-site Scripting')   \n",
       "\n",
       "                                                                                                                                                                                                                summary  \n",
       "CVE-2019-2211   In createProjectionMapForQuery TvProvider java possible SQL injection This could lead local information disclosure additional execution privileges needed User interaction needed exploitation Produ...  \n",
       "CVE-2019-2212   In poisson distribution random bounds read This could lead local information disclosure additional execution privileges needed User interaction needed exploitation Product AndroidVersions Android ...  \n",
       "CVE-2019-2213   In binder free transaction binder possible use after free due race condition This could lead local escalation privilege additional execution privileges needed User interaction needed exploitation ...  \n",
       "CVE-2019-2214   In binder transaction binder possible bounds write due missing bounds check This could lead local escalation privilege additional execution privileges needed User interaction needed exploitation P...  \n",
       "CVE-2019-18793                                                                                                              Parallels Plesk Panel allows XSS target locales tr TR help index htm via fileName parameter  "
      ]
     },
     "execution_count": 10,
     "metadata": {},
     "output_type": "execute_result"
    }
   ],
   "source": [
    "# remove single letters\n",
    "df['summary'] = df['summary'].apply(lambda x: ' '.join([w for w in x.split() if len(w)>1]))\n",
    "df.head()"
   ]
  },
  {
   "cell_type": "code",
   "execution_count": 11,
   "metadata": {},
   "outputs": [],
   "source": [
    "# one last check to see if the data cleaning hasn't completely removed all the words in some of the rows with very few words\n",
    "df = df.dropna(how='any',axis=0) "
   ]
  },
  {
   "cell_type": "code",
   "execution_count": 12,
   "metadata": {},
   "outputs": [
    {
     "data": {
      "text/html": [
       "<div>\n",
       "<style scoped>\n",
       "    .dataframe tbody tr th:only-of-type {\n",
       "        vertical-align: middle;\n",
       "    }\n",
       "\n",
       "    .dataframe tbody tr th {\n",
       "        vertical-align: top;\n",
       "    }\n",
       "\n",
       "    .dataframe thead th {\n",
       "        text-align: right;\n",
       "    }\n",
       "</style>\n",
       "<table border=\"1\" class=\"dataframe\">\n",
       "  <thead>\n",
       "    <tr style=\"text-align: right;\">\n",
       "      <th></th>\n",
       "      <th>cvss</th>\n",
       "      <th>cwe_name</th>\n",
       "      <th>summary</th>\n",
       "    </tr>\n",
       "  </thead>\n",
       "  <tbody>\n",
       "    <tr>\n",
       "      <th>CVE-2019-2211</th>\n",
       "      <td>7.8</td>\n",
       "      <td>Improper Neutralization of Special Elements used in an SQL Command ('SQL Injection')</td>\n",
       "      <td>in createprojectionmapforquery tvprovider java possible sql injection this could lead local information disclosure additional execution privileges needed user interaction needed exploitation produ...</td>\n",
       "    </tr>\n",
       "    <tr>\n",
       "      <th>CVE-2019-2212</th>\n",
       "      <td>4.9</td>\n",
       "      <td>Information Exposure</td>\n",
       "      <td>in poisson distribution random bounds read this could lead local information disclosure additional execution privileges needed user interaction needed exploitation product androidversions android ...</td>\n",
       "    </tr>\n",
       "    <tr>\n",
       "      <th>CVE-2019-2213</th>\n",
       "      <td>6.9</td>\n",
       "      <td>Use After Free</td>\n",
       "      <td>in binder free transaction binder possible use after free due race condition this could lead local escalation privilege additional execution privileges needed user interaction needed exploitation ...</td>\n",
       "    </tr>\n",
       "    <tr>\n",
       "      <th>CVE-2019-2214</th>\n",
       "      <td>7.2</td>\n",
       "      <td>Improper Privilege Management</td>\n",
       "      <td>in binder transaction binder possible bounds write due missing bounds check this could lead local escalation privilege additional execution privileges needed user interaction needed exploitation p...</td>\n",
       "    </tr>\n",
       "    <tr>\n",
       "      <th>CVE-2019-18793</th>\n",
       "      <td>4.3</td>\n",
       "      <td>Improper Neutralization of Input During Web Page Generation ('Cross-site Scripting')</td>\n",
       "      <td>parallels plesk panel allows xss target locales tr tr help index htm via filename parameter</td>\n",
       "    </tr>\n",
       "  </tbody>\n",
       "</table>\n",
       "</div>"
      ],
      "text/plain": [
       "                cvss  \\\n",
       "CVE-2019-2211    7.8   \n",
       "CVE-2019-2212    4.9   \n",
       "CVE-2019-2213    6.9   \n",
       "CVE-2019-2214    7.2   \n",
       "CVE-2019-18793   4.3   \n",
       "\n",
       "                                                                                             cwe_name  \\\n",
       "CVE-2019-2211    Improper Neutralization of Special Elements used in an SQL Command ('SQL Injection')   \n",
       "CVE-2019-2212                                                                    Information Exposure   \n",
       "CVE-2019-2213                                                                          Use After Free   \n",
       "CVE-2019-2214                                                           Improper Privilege Management   \n",
       "CVE-2019-18793   Improper Neutralization of Input During Web Page Generation ('Cross-site Scripting')   \n",
       "\n",
       "                                                                                                                                                                                                                summary  \n",
       "CVE-2019-2211   in createprojectionmapforquery tvprovider java possible sql injection this could lead local information disclosure additional execution privileges needed user interaction needed exploitation produ...  \n",
       "CVE-2019-2212   in poisson distribution random bounds read this could lead local information disclosure additional execution privileges needed user interaction needed exploitation product androidversions android ...  \n",
       "CVE-2019-2213   in binder free transaction binder possible use after free due race condition this could lead local escalation privilege additional execution privileges needed user interaction needed exploitation ...  \n",
       "CVE-2019-2214   in binder transaction binder possible bounds write due missing bounds check this could lead local escalation privilege additional execution privileges needed user interaction needed exploitation p...  \n",
       "CVE-2019-18793                                                                                                              parallels plesk panel allows xss target locales tr tr help index htm via filename parameter  "
      ]
     },
     "execution_count": 12,
     "metadata": {},
     "output_type": "execute_result"
    }
   ],
   "source": [
    "# to lower case\n",
    "df[\"summary\"] = df[\"summary\"].str.lower()\n",
    "df.head()"
   ]
  },
  {
   "cell_type": "markdown",
   "metadata": {},
   "source": [
    "***\n",
    "**Prepare Labels**\n",
    "***"
   ]
  },
  {
   "cell_type": "markdown",
   "metadata": {},
   "source": [
    "To use the most of classifiers, for example SVM and Random Forest, the number of classes should be limited. So the continuous CVSS scores could not be used for these classifiers.\n",
    "To determine the label of samples, CVSS interval (that is [0 10]) was discretized to ten equal subintervals, and each of them is a class. For example, the CVSS score between zero and 0.9 is a member of the Zero-Class, the score between 1 and 1.9 is a member of the One-Class, and so on the score between 9 and 10 is a member of Nine-Class."
   ]
  },
  {
   "cell_type": "code",
   "execution_count": 13,
   "metadata": {},
   "outputs": [],
   "source": [
    "# truncate the scores column\n",
    "df['cvss'] = df['cvss'].apply(np.floor)"
   ]
  },
  {
   "cell_type": "code",
   "execution_count": 14,
   "metadata": {},
   "outputs": [
    {
     "data": {
      "text/html": [
       "<div>\n",
       "<style scoped>\n",
       "    .dataframe tbody tr th:only-of-type {\n",
       "        vertical-align: middle;\n",
       "    }\n",
       "\n",
       "    .dataframe tbody tr th {\n",
       "        vertical-align: top;\n",
       "    }\n",
       "\n",
       "    .dataframe thead th {\n",
       "        text-align: right;\n",
       "    }\n",
       "</style>\n",
       "<table border=\"1\" class=\"dataframe\">\n",
       "  <thead>\n",
       "    <tr style=\"text-align: right;\">\n",
       "      <th></th>\n",
       "      <th>cvss</th>\n",
       "      <th>cwe_name</th>\n",
       "      <th>summary</th>\n",
       "    </tr>\n",
       "  </thead>\n",
       "  <tbody>\n",
       "    <tr>\n",
       "      <th>CVE-2019-2211</th>\n",
       "      <td>7.0</td>\n",
       "      <td>Improper Neutralization of Special Elements used in an SQL Command ('SQL Injection')</td>\n",
       "      <td>in createprojectionmapforquery tvprovider java possible sql injection this could lead local information disclosure additional execution privileges needed user interaction needed exploitation produ...</td>\n",
       "    </tr>\n",
       "    <tr>\n",
       "      <th>CVE-2019-2212</th>\n",
       "      <td>4.0</td>\n",
       "      <td>Information Exposure</td>\n",
       "      <td>in poisson distribution random bounds read this could lead local information disclosure additional execution privileges needed user interaction needed exploitation product androidversions android ...</td>\n",
       "    </tr>\n",
       "    <tr>\n",
       "      <th>CVE-2019-2213</th>\n",
       "      <td>6.0</td>\n",
       "      <td>Use After Free</td>\n",
       "      <td>in binder free transaction binder possible use after free due race condition this could lead local escalation privilege additional execution privileges needed user interaction needed exploitation ...</td>\n",
       "    </tr>\n",
       "    <tr>\n",
       "      <th>CVE-2019-2214</th>\n",
       "      <td>7.0</td>\n",
       "      <td>Improper Privilege Management</td>\n",
       "      <td>in binder transaction binder possible bounds write due missing bounds check this could lead local escalation privilege additional execution privileges needed user interaction needed exploitation p...</td>\n",
       "    </tr>\n",
       "    <tr>\n",
       "      <th>CVE-2019-18793</th>\n",
       "      <td>4.0</td>\n",
       "      <td>Improper Neutralization of Input During Web Page Generation ('Cross-site Scripting')</td>\n",
       "      <td>parallels plesk panel allows xss target locales tr tr help index htm via filename parameter</td>\n",
       "    </tr>\n",
       "    <tr>\n",
       "      <th>...</th>\n",
       "      <td>...</td>\n",
       "      <td>...</td>\n",
       "      <td>...</td>\n",
       "    </tr>\n",
       "    <tr>\n",
       "      <th>CVE-2004-2182</th>\n",
       "      <td>7.0</td>\n",
       "      <td>Improper Authentication</td>\n",
       "      <td>session fixation vulnerability macromedia jrun allows remote attackers hijack user sessions pre setting user session id information used session server</td>\n",
       "    </tr>\n",
       "    <tr>\n",
       "      <th>CVE-2003-1562</th>\n",
       "      <td>7.0</td>\n",
       "      <td>Concurrent Execution using Shared Resource with Improper Synchronization ('Race Condition')</td>\n",
       "      <td>sshd openssh earlier permitrootlogin disabled using pam keyboard interactive authentication insert delay root login attempt correct password makes easier remote attackers use timing differences de...</td>\n",
       "    </tr>\n",
       "    <tr>\n",
       "      <th>CVE-2002-2230</th>\n",
       "      <td>4.0</td>\n",
       "      <td>Improper Neutralization of Input During Web Page Generation ('Cross-site Scripting')</td>\n",
       "      <td>cross site scripting xss vulnerability ikonboard allows remote attackers inject arbitrary web script html via private message javascript url img tag url ends gif jpg string variant cve</td>\n",
       "    </tr>\n",
       "    <tr>\n",
       "      <th>CVE-2002-1991</th>\n",
       "      <td>7.0</td>\n",
       "      <td>Improper Control of Generation of Code ('Code Injection')</td>\n",
       "      <td>php file inclusion vulnerability oscommerce execute arbitrary commands via include file parameter include once php</td>\n",
       "    </tr>\n",
       "    <tr>\n",
       "      <th>CVE-2002-1432</th>\n",
       "      <td>5.0</td>\n",
       "      <td>Information Exposure</td>\n",
       "      <td>midicart stores midicart mdb database file web document root allows remote attackers steal sensitive information directly requesting database</td>\n",
       "    </tr>\n",
       "  </tbody>\n",
       "</table>\n",
       "<p>87613 rows × 3 columns</p>\n",
       "</div>"
      ],
      "text/plain": [
       "                cvss  \\\n",
       "CVE-2019-2211    7.0   \n",
       "CVE-2019-2212    4.0   \n",
       "CVE-2019-2213    6.0   \n",
       "CVE-2019-2214    7.0   \n",
       "CVE-2019-18793   4.0   \n",
       "...              ...   \n",
       "CVE-2004-2182    7.0   \n",
       "CVE-2003-1562    7.0   \n",
       "CVE-2002-2230    4.0   \n",
       "CVE-2002-1991    7.0   \n",
       "CVE-2002-1432    5.0   \n",
       "\n",
       "                                                                                                    cwe_name  \\\n",
       "CVE-2019-2211           Improper Neutralization of Special Elements used in an SQL Command ('SQL Injection')   \n",
       "CVE-2019-2212                                                                           Information Exposure   \n",
       "CVE-2019-2213                                                                                 Use After Free   \n",
       "CVE-2019-2214                                                                  Improper Privilege Management   \n",
       "CVE-2019-18793          Improper Neutralization of Input During Web Page Generation ('Cross-site Scripting')   \n",
       "...                                                                                                      ...   \n",
       "CVE-2004-2182                                                                        Improper Authentication   \n",
       "CVE-2003-1562    Concurrent Execution using Shared Resource with Improper Synchronization ('Race Condition')   \n",
       "CVE-2002-2230           Improper Neutralization of Input During Web Page Generation ('Cross-site Scripting')   \n",
       "CVE-2002-1991                                      Improper Control of Generation of Code ('Code Injection')   \n",
       "CVE-2002-1432                                                                           Information Exposure   \n",
       "\n",
       "                                                                                                                                                                                                                summary  \n",
       "CVE-2019-2211   in createprojectionmapforquery tvprovider java possible sql injection this could lead local information disclosure additional execution privileges needed user interaction needed exploitation produ...  \n",
       "CVE-2019-2212   in poisson distribution random bounds read this could lead local information disclosure additional execution privileges needed user interaction needed exploitation product androidversions android ...  \n",
       "CVE-2019-2213   in binder free transaction binder possible use after free due race condition this could lead local escalation privilege additional execution privileges needed user interaction needed exploitation ...  \n",
       "CVE-2019-2214   in binder transaction binder possible bounds write due missing bounds check this could lead local escalation privilege additional execution privileges needed user interaction needed exploitation p...  \n",
       "CVE-2019-18793                                                                                                              parallels plesk panel allows xss target locales tr tr help index htm via filename parameter  \n",
       "...                                                                                                                                                                                                                 ...  \n",
       "CVE-2004-2182                                                   session fixation vulnerability macromedia jrun allows remote attackers hijack user sessions pre setting user session id information used session server  \n",
       "CVE-2003-1562   sshd openssh earlier permitrootlogin disabled using pam keyboard interactive authentication insert delay root login attempt correct password makes easier remote attackers use timing differences de...  \n",
       "CVE-2002-2230                  cross site scripting xss vulnerability ikonboard allows remote attackers inject arbitrary web script html via private message javascript url img tag url ends gif jpg string variant cve  \n",
       "CVE-2002-1991                                                                                        php file inclusion vulnerability oscommerce execute arbitrary commands via include file parameter include once php  \n",
       "CVE-2002-1432                                                             midicart stores midicart mdb database file web document root allows remote attackers steal sensitive information directly requesting database  \n",
       "\n",
       "[87613 rows x 3 columns]"
      ]
     },
     "execution_count": 14,
     "metadata": {},
     "output_type": "execute_result"
    }
   ],
   "source": [
    "df"
   ]
  },
  {
   "cell_type": "code",
   "execution_count": 16,
   "metadata": {},
   "outputs": [
    {
     "data": {
      "text/plain": [
       "<matplotlib.axes._subplots.AxesSubplot at 0x7fee76c579a0>"
      ]
     },
     "execution_count": 16,
     "metadata": {},
     "output_type": "execute_result"
    },
    {
     "data": {
      "image/png": "[encoded data removed]",
      "text/plain": [
       "<Figure size 432x720 with 1 Axes>"
      ]
     },
     "metadata": {
      "needs_background": "light"
     },
     "output_type": "display_data"
    }
   ],
   "source": [
    "f, ax = plt.subplots(figsize=(6, 10))\n",
    "sns.countplot(x=\"cvss\", data=df, palette='Blues_d')"
   ]
  },
  {
   "cell_type": "code",
   "execution_count": 17,
   "metadata": {
    "scrolled": true
   },
   "outputs": [
    {
     "data": {
      "text/plain": [
       "4.0     21898\n",
       "7.0     17099\n",
       "5.0     15457\n",
       "6.0     13662\n",
       "9.0      7008\n",
       "10.0     4354\n",
       "3.0      3966\n",
       "2.0      3069\n",
       "1.0       631\n",
       "8.0       468\n",
       "0.0         1\n",
       "Name: cvss, dtype: int64"
      ]
     },
     "execution_count": 17,
     "metadata": {},
     "output_type": "execute_result"
    }
   ],
   "source": [
    "df['cvss'].value_counts()"
   ]
  },
  {
   "cell_type": "markdown",
   "metadata": {},
   "source": [
    "Remarks:\n",
    "\n",
    "- Most of the vulnerabilities are scored as 4, 5, 6 or 7.\n",
    "\n",
    "- The other classes are not very well represented, and might need upsampling. Another option to deal with the imbalance is to choose an appropriate metric, like F1 score or AUC.\n",
    "\n",
    "- Class 0 only has 1 value, it is difficult to make predictions based on that. Apart from that, it is also probably mistake and very unlikely, according to the calculation of the score as given above."
   ]
  },
  {
   "cell_type": "code",
   "execution_count": 18,
   "metadata": {},
   "outputs": [],
   "source": [
    "# remove class 0 as it only contains 1 element.\n",
    "# this would not let us stratify on cvss later on and have an equal distribution of class in the train-test-split\n",
    "df = df[(df[\"cvss\"]>0)]"
   ]
  },
  {
   "cell_type": "markdown",
   "metadata": {},
   "source": [
    "***\n",
    "**Performance Metric**\n",
    "***"
   ]
  },
  {
   "cell_type": "markdown",
   "metadata": {},
   "source": [
    "We are predicting the CVSS scores from 1 to 10. The score is an ordinal variable meaning that ordering is important. This can be viewed as a classification or an ordinal regression problem. (Ordinal regression is sometimes described as an problem somewhere in between classification and regression.)\n",
    "\n",
    "To measure the performance of our algorithms, we'll use the F1 score which balances the precision and recall of a classifier. Traditionally, the F1 score is used to evaluate performance on a binary classifier, but since we have three possible labels we will use a variant called the micro averaged F1 score."
   ]
  },
  {
   "cell_type": "markdown",
   "metadata": {},
   "source": [
    "$$F_{micro} = \\frac{2 \\cdot P_{micro} \\cdot R_{micro}}{P_{micro} + R_{micro}}$$"
   ]
  },
  {
   "cell_type": "markdown",
   "metadata": {},
   "source": [
    "where"
   ]
  },
  {
   "cell_type": "markdown",
   "metadata": {},
   "source": [
    "$$P_{micro} = \\frac{\\sum_{k=1}^{3}TP_{k}}{\\sum_{k=1}^{3}(TP_{k} + FP_{k})},~~R_{micro} = \\frac{\\sum_{k=1}^{3}TP_{k}}{\\sum_{k=1}^{3}(TP_{k} + FN_{k})}$$"
   ]
  },
  {
   "cell_type": "markdown",
   "metadata": {},
   "source": [
    "and TP is True Positive, FP is False Positive, FN is False Negative, and k represents each class in 1,2,...,10."
   ]
  },
  {
   "cell_type": "markdown",
   "metadata": {},
   "source": [
    "***\n",
    "**Feature Engineering**\n",
    "***"
   ]
  },
  {
   "cell_type": "code",
   "execution_count": 19,
   "metadata": {},
   "outputs": [],
   "source": [
    "cumulative_sum = {}\n",
    "\n",
    "for x in df[\"summary\"].values:\n",
    "    cumulative_sum.update(dict.fromkeys(set(x.lower().split())))"
   ]
  },
  {
   "cell_type": "code",
   "execution_count": 20,
   "metadata": {},
   "outputs": [
    {
     "name": "stdout",
     "output_type": "stream",
     "text": [
      "67312\n"
     ]
    }
   ],
   "source": [
    "print(len(cumulative_sum))"
   ]
  },
  {
   "cell_type": "code",
   "execution_count": 21,
   "metadata": {},
   "outputs": [],
   "source": [
    "# keep the same random state for reproducibility\n",
    "RANDOM_STATE = 12\n",
    "TRAIN_TEST_SPLIT_SIZE = .1"
   ]
  },
  {
   "cell_type": "code",
   "execution_count": 22,
   "metadata": {},
   "outputs": [],
   "source": [
    "texts = df['summary'].astype('str')\n",
    "labels = df['cvss']"
   ]
  },
  {
   "cell_type": "code",
   "execution_count": 23,
   "metadata": {},
   "outputs": [],
   "source": [
    "wpt = nltk.WordPunctTokenizer()\n",
    "tokenized_texts = [wpt.tokenize(text) for text in texts]"
   ]
  },
  {
   "cell_type": "code",
   "execution_count": 24,
   "metadata": {},
   "outputs": [],
   "source": [
    "x_train, x_test, y_train, y_test = train_test_split(tokenized_texts, labels,\n",
    "                                                  test_size = TRAIN_TEST_SPLIT_SIZE, stratify = labels,\n",
    "                                                  random_state = RANDOM_STATE)"
   ]
  },
  {
   "cell_type": "code",
   "execution_count": 25,
   "metadata": {},
   "outputs": [],
   "source": [
    "np.save(\"train_dataset_features.npy\", np.array(x_train))\n",
    "np.save(\"train_dataset_labels.npy\", np.array(y_train))"
   ]
  },
  {
   "cell_type": "code",
   "execution_count": 26,
   "metadata": {},
   "outputs": [],
   "source": [
    "np.save(\"test_dataset_features.npy\", np.array(x_test))\n",
    "np.save(\"test_dataset_labels.npy\", np.array(y_test))"
   ]
  },
  {
   "cell_type": "code",
   "execution_count": 27,
   "metadata": {},
   "outputs": [
    {
     "data": {
      "text/plain": [
       "(78850, 12196)"
      ]
     },
     "execution_count": 27,
     "metadata": {},
     "output_type": "execute_result"
    }
   ],
   "source": [
    "tfidf_vectorizer = TfidfVectorizer(tokenizer = lambda x: x,\n",
    "                        preprocessor = lambda x: x, \n",
    "                        min_df = 5, max_df = 0.8) \n",
    "x_train_tfidf = tfidf_vectorizer.fit_transform(x_train) \n",
    "x_test_tfidf = tfidf_vectorizer.transform(x_test)\n",
    "\n",
    "x_train_tfidf.shape"
   ]
  },
  {
   "cell_type": "code",
   "execution_count": 28,
   "metadata": {},
   "outputs": [],
   "source": [
    "# return a list of (term, score/frequency) pairs for each distinct term \n",
    "scores = np.asarray(x_train_tfidf.mean(axis = 0)).ravel().tolist()\n",
    "scores_df = pd.DataFrame({'word': tfidf_vectorizer.get_feature_names(), 'tfidf': scores})\n",
    "df_tfidf = scores_df.sort_values(by = 'tfidf', ascending = False).head(50)"
   ]
  },
  {
   "cell_type": "code",
   "execution_count": 29,
   "metadata": {},
   "outputs": [
    {
     "data": {
      "text/html": [
       "<div>\n",
       "<style scoped>\n",
       "    .dataframe tbody tr th:only-of-type {\n",
       "        vertical-align: middle;\n",
       "    }\n",
       "\n",
       "    .dataframe tbody tr th {\n",
       "        vertical-align: top;\n",
       "    }\n",
       "\n",
       "    .dataframe thead th {\n",
       "        text-align: right;\n",
       "    }\n",
       "</style>\n",
       "<table border=\"1\" class=\"dataframe\">\n",
       "  <thead>\n",
       "    <tr style=\"text-align: right;\">\n",
       "      <th></th>\n",
       "      <th>word</th>\n",
       "      <th>tfidf</th>\n",
       "    </tr>\n",
       "  </thead>\n",
       "  <tbody>\n",
       "    <tr>\n",
       "      <th>11349</th>\n",
       "      <td>via</td>\n",
       "      <td>0.036886</td>\n",
       "    </tr>\n",
       "    <tr>\n",
       "      <th>355</th>\n",
       "      <td>allows</td>\n",
       "      <td>0.036310</td>\n",
       "    </tr>\n",
       "    <tr>\n",
       "      <th>8764</th>\n",
       "      <td>remote</td>\n",
       "      <td>0.036114</td>\n",
       "    </tr>\n",
       "    <tr>\n",
       "      <th>713</th>\n",
       "      <td>attackers</td>\n",
       "      <td>0.034418</td>\n",
       "    </tr>\n",
       "    <tr>\n",
       "      <th>11523</th>\n",
       "      <td>vulnerability</td>\n",
       "      <td>0.033738</td>\n",
       "    </tr>\n",
       "    <tr>\n",
       "      <th>544</th>\n",
       "      <td>arbitrary</td>\n",
       "      <td>0.030981</td>\n",
       "    </tr>\n",
       "    <tr>\n",
       "      <th>7752</th>\n",
       "      <td>php</td>\n",
       "      <td>0.028014</td>\n",
       "    </tr>\n",
       "    <tr>\n",
       "      <th>2328</th>\n",
       "      <td>cve</td>\n",
       "      <td>0.023746</td>\n",
       "    </tr>\n",
       "    <tr>\n",
       "      <th>10546</th>\n",
       "      <td>the</td>\n",
       "      <td>0.022931</td>\n",
       "    </tr>\n",
       "    <tr>\n",
       "      <th>3477</th>\n",
       "      <td>execute</td>\n",
       "      <td>0.022794</td>\n",
       "    </tr>\n",
       "    <tr>\n",
       "      <th>9965</th>\n",
       "      <td>sql</td>\n",
       "      <td>0.021402</td>\n",
       "    </tr>\n",
       "    <tr>\n",
       "      <th>1712</th>\n",
       "      <td>code</td>\n",
       "      <td>0.021134</td>\n",
       "    </tr>\n",
       "    <tr>\n",
       "      <th>9471</th>\n",
       "      <td>service</td>\n",
       "      <td>0.020744</td>\n",
       "    </tr>\n",
       "    <tr>\n",
       "      <th>2137</th>\n",
       "      <td>crafted</td>\n",
       "      <td>0.020567</td>\n",
       "    </tr>\n",
       "    <tr>\n",
       "      <th>7538</th>\n",
       "      <td>parameter</td>\n",
       "      <td>0.020216</td>\n",
       "    </tr>\n",
       "    <tr>\n",
       "      <th>11604</th>\n",
       "      <td>web</td>\n",
       "      <td>0.020034</td>\n",
       "    </tr>\n",
       "    <tr>\n",
       "      <th>2543</th>\n",
       "      <td>denial</td>\n",
       "      <td>0.018827</td>\n",
       "    </tr>\n",
       "    <tr>\n",
       "      <th>1384</th>\n",
       "      <td>cause</td>\n",
       "      <td>0.018539</td>\n",
       "    </tr>\n",
       "    <tr>\n",
       "      <th>9655</th>\n",
       "      <td>site</td>\n",
       "      <td>0.018477</td>\n",
       "    </tr>\n",
       "    <tr>\n",
       "      <th>3709</th>\n",
       "      <td>file</td>\n",
       "      <td>0.018465</td>\n",
       "    </tr>\n",
       "    <tr>\n",
       "      <th>12063</th>\n",
       "      <td>xss</td>\n",
       "      <td>0.017961</td>\n",
       "    </tr>\n",
       "    <tr>\n",
       "      <th>2175</th>\n",
       "      <td>cross</td>\n",
       "      <td>0.016756</td>\n",
       "    </tr>\n",
       "    <tr>\n",
       "      <th>11120</th>\n",
       "      <td>unspecified</td>\n",
       "      <td>0.016493</td>\n",
       "    </tr>\n",
       "    <tr>\n",
       "      <th>4967</th>\n",
       "      <td>information</td>\n",
       "      <td>0.016471</td>\n",
       "    </tr>\n",
       "    <tr>\n",
       "      <th>11201</th>\n",
       "      <td>users</td>\n",
       "      <td>0.015928</td>\n",
       "    </tr>\n",
       "    <tr>\n",
       "      <th>4634</th>\n",
       "      <td>html</td>\n",
       "      <td>0.015533</td>\n",
       "    </tr>\n",
       "    <tr>\n",
       "      <th>9308</th>\n",
       "      <td>scripting</td>\n",
       "      <td>0.015480</td>\n",
       "    </tr>\n",
       "    <tr>\n",
       "      <th>3041</th>\n",
       "      <td>earlier</td>\n",
       "      <td>0.015454</td>\n",
       "    </tr>\n",
       "    <tr>\n",
       "      <th>350</th>\n",
       "      <td>allow</td>\n",
       "      <td>0.015037</td>\n",
       "    </tr>\n",
       "    <tr>\n",
       "      <th>11183</th>\n",
       "      <td>user</td>\n",
       "      <td>0.014874</td>\n",
       "    </tr>\n",
       "    <tr>\n",
       "      <th>11304</th>\n",
       "      <td>vectors</td>\n",
       "      <td>0.014850</td>\n",
       "    </tr>\n",
       "    <tr>\n",
       "      <th>9304</th>\n",
       "      <td>script</td>\n",
       "      <td>0.014760</td>\n",
       "    </tr>\n",
       "    <tr>\n",
       "      <th>299</th>\n",
       "      <td>aka</td>\n",
       "      <td>0.014540</td>\n",
       "    </tr>\n",
       "    <tr>\n",
       "      <th>6373</th>\n",
       "      <td>memory</td>\n",
       "      <td>0.014509</td>\n",
       "    </tr>\n",
       "    <tr>\n",
       "      <th>11773</th>\n",
       "      <td>windows</td>\n",
       "      <td>0.014092</td>\n",
       "    </tr>\n",
       "    <tr>\n",
       "      <th>9466</th>\n",
       "      <td>server</td>\n",
       "      <td>0.014046</td>\n",
       "    </tr>\n",
       "    <tr>\n",
       "      <th>421</th>\n",
       "      <td>android</td>\n",
       "      <td>0.013734</td>\n",
       "    </tr>\n",
       "    <tr>\n",
       "      <th>4998</th>\n",
       "      <td>inject</td>\n",
       "      <td>0.013589</td>\n",
       "    </tr>\n",
       "    <tr>\n",
       "      <th>5001</th>\n",
       "      <td>injection</td>\n",
       "      <td>0.013581</td>\n",
       "    </tr>\n",
       "    <tr>\n",
       "      <th>712</th>\n",
       "      <td>attacker</td>\n",
       "      <td>0.013211</td>\n",
       "    </tr>\n",
       "    <tr>\n",
       "      <th>513</th>\n",
       "      <td>application</td>\n",
       "      <td>0.012963</td>\n",
       "    </tr>\n",
       "    <tr>\n",
       "      <th>4046</th>\n",
       "      <td>function</td>\n",
       "      <td>0.012822</td>\n",
       "    </tr>\n",
       "    <tr>\n",
       "      <th>52</th>\n",
       "      <td>access</td>\n",
       "      <td>0.012572</td>\n",
       "    </tr>\n",
       "    <tr>\n",
       "      <th>1209</th>\n",
       "      <td>buffer</td>\n",
       "      <td>0.012498</td>\n",
       "    </tr>\n",
       "    <tr>\n",
       "      <th>7436</th>\n",
       "      <td>overflow</td>\n",
       "      <td>0.012460</td>\n",
       "    </tr>\n",
       "    <tr>\n",
       "      <th>5282</th>\n",
       "      <td>issue</td>\n",
       "      <td>0.012153</td>\n",
       "    </tr>\n",
       "    <tr>\n",
       "      <th>1777</th>\n",
       "      <td>commands</td>\n",
       "      <td>0.012143</td>\n",
       "    </tr>\n",
       "    <tr>\n",
       "      <th>4722</th>\n",
       "      <td>id</td>\n",
       "      <td>0.011931</td>\n",
       "    </tr>\n",
       "    <tr>\n",
       "      <th>2090</th>\n",
       "      <td>could</td>\n",
       "      <td>0.011912</td>\n",
       "    </tr>\n",
       "    <tr>\n",
       "      <th>407</th>\n",
       "      <td>an</td>\n",
       "      <td>0.011461</td>\n",
       "    </tr>\n",
       "  </tbody>\n",
       "</table>\n",
       "</div>"
      ],
      "text/plain": [
       "                word     tfidf\n",
       "11349            via  0.036886\n",
       "355           allows  0.036310\n",
       "8764          remote  0.036114\n",
       "713        attackers  0.034418\n",
       "11523  vulnerability  0.033738\n",
       "544        arbitrary  0.030981\n",
       "7752             php  0.028014\n",
       "2328             cve  0.023746\n",
       "10546            the  0.022931\n",
       "3477         execute  0.022794\n",
       "9965             sql  0.021402\n",
       "1712            code  0.021134\n",
       "9471         service  0.020744\n",
       "2137         crafted  0.020567\n",
       "7538       parameter  0.020216\n",
       "11604            web  0.020034\n",
       "2543          denial  0.018827\n",
       "1384           cause  0.018539\n",
       "9655            site  0.018477\n",
       "3709            file  0.018465\n",
       "12063            xss  0.017961\n",
       "2175           cross  0.016756\n",
       "11120    unspecified  0.016493\n",
       "4967     information  0.016471\n",
       "11201          users  0.015928\n",
       "4634            html  0.015533\n",
       "9308       scripting  0.015480\n",
       "3041         earlier  0.015454\n",
       "350            allow  0.015037\n",
       "11183           user  0.014874\n",
       "11304        vectors  0.014850\n",
       "9304          script  0.014760\n",
       "299              aka  0.014540\n",
       "6373          memory  0.014509\n",
       "11773        windows  0.014092\n",
       "9466          server  0.014046\n",
       "421          android  0.013734\n",
       "4998          inject  0.013589\n",
       "5001       injection  0.013581\n",
       "712         attacker  0.013211\n",
       "513      application  0.012963\n",
       "4046        function  0.012822\n",
       "52            access  0.012572\n",
       "1209          buffer  0.012498\n",
       "7436        overflow  0.012460\n",
       "5282           issue  0.012153\n",
       "1777        commands  0.012143\n",
       "4722              id  0.011931\n",
       "2090           could  0.011912\n",
       "407               an  0.011461"
      ]
     },
     "execution_count": 29,
     "metadata": {},
     "output_type": "execute_result"
    }
   ],
   "source": [
    "df_tfidf"
   ]
  },
  {
   "cell_type": "code",
   "execution_count": 30,
   "metadata": {},
   "outputs": [
    {
     "data": {
      "image/png": "[encoded data removed]",
      "text/plain": [
       "<Figure size 1800x720 with 1 Axes>"
      ]
     },
     "metadata": {
      "needs_background": "light"
     },
     "output_type": "display_data"
    }
   ],
   "source": [
    "plt.figure(figsize = (25,10))\n",
    "sns.barplot(x = 'word', y = 'tfidf', data = df_tfidf, palette = sns.light_palette((210, 90, 60), input = \"husl\"))\n",
    "plt.xticks(rotation = 45)\n",
    "plt.show()"
   ]
  },
  {
   "cell_type": "markdown",
   "metadata": {},
   "source": [
    "***\n",
    "**Prepare Features**\n",
    "***"
   ]
  },
  {
   "cell_type": "code",
   "execution_count": 31,
   "metadata": {},
   "outputs": [],
   "source": [
    "np.save(\"train_dataset_tfidf_features.npy\", np.array(x_train_tfidf))\n",
    "np.save(\"train_dataset_tfidf_labels.npy\", np.array(y_train))"
   ]
  },
  {
   "cell_type": "code",
   "execution_count": 32,
   "metadata": {},
   "outputs": [],
   "source": [
    "np.save(\"test_dataset_tfidf_features.npy\", np.array(x_test_tfidf))\n",
    "np.save(\"test_dataset_tfidf_labels.npy\", np.array(y_test))"
   ]
  },
  {
   "cell_type": "markdown",
   "metadata": {},
   "source": [
    "***\n",
    "**Visualize TF-IDF Features**\n",
    "***"
   ]
  },
  {
   "cell_type": "code",
   "execution_count": 33,
   "metadata": {},
   "outputs": [
    {
     "name": "stdout",
     "output_type": "stream",
     "text": [
      "<78850x12196 sparse matrix of type '<class 'numpy.float64'>'\n",
      "\twith 1850564 stored elements in Compressed Sparse Row format>\n"
     ]
    }
   ],
   "source": [
    "print(repr(x_train_tfidf))"
   ]
  },
  {
   "cell_type": "markdown",
   "metadata": {},
   "source": [
    "The TF-IDF features form a sparse matrix, which we can try to visualize using a heatmap and select only 100 dimension to preserve a certain visibility."
   ]
  },
  {
   "cell_type": "code",
   "execution_count": 34,
   "metadata": {},
   "outputs": [
    {
     "data": {
      "text/plain": [
       "Text(0.5, 1.0, 'Sparse Matrix 100 Sample')"
      ]
     },
     "execution_count": 34,
     "metadata": {},
     "output_type": "execute_result"
    },
    {
     "data": {
      "image/png": "[encoded data removed]",
      "text/plain": [
       "<Figure size 432x288 with 1 Axes>"
      ]
     },
     "metadata": {
      "needs_background": "light"
     },
     "output_type": "display_data"
    }
   ],
   "source": [
    "sns.heatmap(x_train_tfidf.todense()\n",
    "            [:,np.random.randint(0, x_train_tfidf.shape[1],100)]==0, vmin=0, vmax=1, cbar=False).set_title('Sparse Matrix 100 Sample')"
   ]
  },
  {
   "cell_type": "markdown",
   "metadata": {},
   "source": [
    "***\n",
    "**Baseline: most frequent class**\n",
    "***"
   ]
  },
  {
   "cell_type": "code",
   "execution_count": 35,
   "metadata": {},
   "outputs": [],
   "source": [
    "strategies = ['most_frequent', 'stratified', 'uniform']\n",
    "  \n",
    "test_scores = []\n",
    "for s in strategies:\n",
    "    dclf = DummyClassifier(strategy = s, random_state = 0)\n",
    "    dclf.fit(x_train_tfidf, y_train)\n",
    "#     score = dclf.score(x_val_tfidf, y_val)\n",
    "    y_pred = dclf.predict(x_test_tfidf)\n",
    "    score = f1_score(y_test, y_pred, average='micro')\n",
    "\n",
    "    test_scores.append(score)"
   ]
  },
  {
   "cell_type": "code",
   "execution_count": 36,
   "metadata": {},
   "outputs": [
    {
     "data": {
      "image/png": "[encoded data removed]",
      "text/plain": [
       "<Figure size 432x288 with 1 Axes>"
      ]
     },
     "metadata": {
      "needs_background": "light"
     },
     "output_type": "display_data"
    }
   ],
   "source": [
    "ax = sns.stripplot(strategies, test_scores);\n",
    "ax.set(xlabel ='Strategy', ylabel ='Test Score')\n",
    "plt.show()"
   ]
  },
  {
   "cell_type": "markdown",
   "metadata": {},
   "source": [
    "Out of the \"dummy classifiers\" tested, the most-frequent strategy showed the highest F1 score. This will be the baseline against which we compare the next models."
   ]
  },
  {
   "cell_type": "markdown",
   "metadata": {},
   "source": [
    "***\n",
    "**Model Selection**\n",
    "***"
   ]
  },
  {
   "cell_type": "code",
   "execution_count": 37,
   "metadata": {},
   "outputs": [],
   "source": [
    "def check_model_and_test(x_train, y_train, x_test, y_test, classifiers):\n",
    "    for model in classifiers:\n",
    "        this_model = model.__class__.__name__ #get the name of the classifier\n",
    "        model.fit(x_train, y_train)\n",
    "        y_pred = model.predict(x_test)\n",
    "        \n",
    "        print(f'{this_model} f1 score:')\n",
    "        score = f1_score(y_test, y_pred, average='micro')\n",
    "        print(f'{score:.4f}')\n",
    "        print('\\n')"
   ]
  },
  {
   "cell_type": "code",
   "execution_count": 38,
   "metadata": {},
   "outputs": [],
   "source": [
    "classifiers = [\n",
    "    KNeighborsClassifier(),\n",
    "    DecisionTreeClassifier(),\n",
    "    RandomForestClassifier(),\n",
    "    AdaBoostClassifier(),\n",
    "    GradientBoostingClassifier()]"
   ]
  },
  {
   "cell_type": "code",
   "execution_count": 39,
   "metadata": {},
   "outputs": [
    {
     "name": "stdout",
     "output_type": "stream",
     "text": [
      "KNeighborsClassifier f1 score:\n",
      "0.5517\n",
      "\n",
      "\n",
      "DecisionTreeClassifier f1 score:\n",
      "0.6125\n",
      "\n",
      "\n",
      "RandomForestClassifier f1 score:\n",
      "0.6778\n",
      "\n",
      "\n",
      "AdaBoostClassifier f1 score:\n",
      "0.4840\n",
      "\n",
      "\n",
      "GradientBoostingClassifier f1 score:\n",
      "0.6289\n",
      "\n",
      "\n"
     ]
    }
   ],
   "source": [
    "check_model_and_test(x_train_tfidf, y_train, x_test_tfidf, y_test, classifiers)"
   ]
  },
  {
   "cell_type": "markdown",
   "metadata": {},
   "source": [
    "***\n",
    "**Random Forest**\n",
    "***\n",
    "Random Forest is an ensemble bagging model. It creates a set of decision trees from randomly selected subset of training set and then aggregates the votes from different decision trees to decide the final class of the test object. In that way, random forest will get lower variance compared to decision tree because the decision tree is more sensitive to specific data and only one single decision tree is built. Moreover, random forest will get less overfit issues even when the number of trees is increased.\n",
    "\n",
    "Randome Forest has the best F1 score, so I'll continue with optimizing Random Forest further."
   ]
  },
  {
   "cell_type": "markdown",
   "metadata": {},
   "source": [
    "***\n",
    "**Model Optimization**\n",
    "***"
   ]
  },
  {
   "cell_type": "markdown",
   "metadata": {},
   "source": [
    "Most generally, a hyperparameter is a parameter of the model that is set prior to the start of the learning process. Different models have different hyperparameters that can be set. For a Random Forest Classifier, there are several different hyperparameters that can be adjusted. For now I will concentrate on the following four parameters:\n",
    "1. **n_estimators**: The n_estimators parameter specifies the number of trees in the forest of the model. The default value for this parameter is 10, which means that 10 different decision trees will be constructed in the random forest.\n",
    "2. **max_depth**: The max_depth parameter specifies the maximum depth of each tree. The default value for max_depth is None, which means that each tree will expand until every leaf is pure. A pure leaf is one where all of the data on the leaf comes from the same class.\n",
    "3. **min_samples_split**: The min_samples_split parameter specifies the minimum number of samples required to split an internal leaf node. The default value for this parameter is 2, which means that an internal node must have at least two samples before it can be split to have a more specific classification.\n",
    "4. **min_samples_leaf**: The min_samples_leaf parameter specifies the minimum number of samples required to be at a leaf node. The default value for this parameter is 1, which means that every leaf must have at least 1 sample that it classifies."
   ]
  },
  {
   "cell_type": "code",
   "execution_count": 40,
   "metadata": {},
   "outputs": [
    {
     "name": "stdout",
     "output_type": "stream",
     "text": [
      "{'n_estimators': [100, 200, 300, 400, 500, 600, 700, 800, 900, 1000], 'max_features': ['auto', 'sqrt'], 'max_depth': [10, 20, 30, 40, 50, 60, 70, 80, 90, 100, 110], 'min_samples_split': [2, 5, 10], 'min_samples_leaf': [1, 2, 4], 'bootstrap': [True, False]}\n"
     ]
    }
   ],
   "source": [
    "# Create the random grid\n",
    "random_grid = {\n",
    "               # Number of trees in random forest\n",
    "               'n_estimators': [int(x) for x in np.linspace(start = 100, stop = 1000, num = 10)],\n",
    "               # Number of features to consider at every split\n",
    "               'max_features': ['auto', 'sqrt'],\n",
    "               'max_depth': [int(x) for x in np.linspace(10, 110, num = 11)],\n",
    "               'min_samples_split': [2, 5, 10],\n",
    "               'min_samples_leaf': [1, 2, 4],\n",
    "               'bootstrap': [True, False]}\n",
    "print(random_grid)"
   ]
  },
  {
   "cell_type": "markdown",
   "metadata": {},
   "source": [
    "On each iteration, the algorithm will choose a difference combination of the features. Altogether, there are 10 * 2 * 11 * 3 * 3 * 2 settings! However, the benefit of a random search is that we are not trying every combination, but selecting at random to sample a wide range of values."
   ]
  },
  {
   "cell_type": "markdown",
   "metadata": {},
   "source": [
    "A common extension of randomized/grid search is to use it alongside cross validation, training on several different folds for each hyperparameter combination to have a more reliable estimate of each model’s performance out of sample."
   ]
  },
  {
   "cell_type": "markdown",
   "metadata": {},
   "source": [
    "K-fold cross validation works by breaking the training data into K equal-sized “folds.” It iterates through each fold, treating that fold as holdout data, training a model on all the other K-1 folds, and evaluating the model’s performance on the one holdout fold. This results in having K different models, each with an out of sample model accuracy score on a different holdout set. The average of these K models’ out-of-sample scores is the model’s cross-validation score.\n",
    "\n",
    "Cross validation is useful because it provides a lower-variance estimate of the model’s true out of sample score than if you had only used a single train-test split.\n",
    "\n",
    "Here I will use a stratified K-fold cross validation to preserve the distribution of classes, due to the imbalance in the dataset and set the number of fold to 2, since I already have a test set. In reality it is advisable to keep a completely separate, unseen test set because during the grid search process some information about the dataset, over which we perform a grid search leaks into the hyperparameters. To get a final, unbiased performance on the new data we need to hold out a sample of a dataset which was never seen by fit classifier - ever, directly or indirectly."
   ]
  },
  {
   "cell_type": "code",
   "execution_count": 41,
   "metadata": {},
   "outputs": [],
   "source": [
    "kf_2_cv = StratifiedKFold(n_splits = 2, random_state = RANDOM_STATE, shuffle = True)"
   ]
  },
  {
   "cell_type": "code",
   "execution_count": 42,
   "metadata": {},
   "outputs": [],
   "source": [
    "kf_5_cv = StratifiedKFold(n_splits = 5, random_state = RANDOM_STATE, shuffle = True)"
   ]
  },
  {
   "cell_type": "code",
   "execution_count": 43,
   "metadata": {},
   "outputs": [],
   "source": [
    "rf_clf = RandomForestClassifier()"
   ]
  },
  {
   "cell_type": "markdown",
   "metadata": {},
   "source": [
    "The most important arguments in RandomizedSearchCV are n_iter, which controls the number of different combinations to try, and cv which is the number of folds to use for cross validation (we use 100 and 2 respectively). More iterations will cover a wider search space and more cv folds reduces the chances of overfitting, but raising each will increase the run time. Machine learning is a field of trade-offs, and performance vs time is one of the most fundamental."
   ]
  },
  {
   "cell_type": "code",
   "execution_count": 44,
   "metadata": {},
   "outputs": [],
   "source": [
    "rf_random = RandomizedSearchCV(estimator = rf_clf, param_distributions = random_grid, n_iter = 100, cv = kf_2_cv, scoring = 'f1_micro', verbose = 5, random_state = RANDOM_STATE, n_jobs = 1)"
   ]
  },
  {
   "cell_type": "code",
   "execution_count": 45,
   "metadata": {},
   "outputs": [
    {
     "name": "stdout",
     "output_type": "stream",
     "text": [
      "Fitting 2 folds for each of 100 candidates, totalling 200 fits\n",
      "[CV 1/2] END bootstrap=False, max_depth=50, max_features=sqrt, min_samples_leaf=1, min_samples_split=2, n_estimators=100; total time= 1.4min\n",
      "[CV 2/2] END bootstrap=False, max_depth=50, max_features=sqrt, min_samples_leaf=1, min_samples_split=2, n_estimators=100; total time= 1.4min\n",
      "[CV 1/2] END bootstrap=True, max_depth=40, max_features=sqrt, min_samples_leaf=1, min_samples_split=10, n_estimators=300; total time= 1.1min\n",
      "[CV 2/2] END bootstrap=True, max_depth=40, max_features=sqrt, min_samples_leaf=1, min_samples_split=10, n_estimators=300; total time= 1.1min\n",
      "[CV 1/2] END bootstrap=False, max_depth=20, max_features=auto, min_samples_leaf=2, min_samples_split=2, n_estimators=600; total time= 1.0min\n",
      "[CV 2/2] END bootstrap=False, max_depth=20, max_features=auto, min_samples_leaf=2, min_samples_split=2, n_estimators=600; total time= 1.0min\n",
      "[CV 1/2] END bootstrap=False, max_depth=10, max_features=sqrt, min_samples_leaf=1, min_samples_split=2, n_estimators=1000; total time=  51.9s\n",
      "[CV 2/2] END bootstrap=False, max_depth=10, max_features=sqrt, min_samples_leaf=1, min_samples_split=2, n_estimators=1000; total time=  50.0s\n",
      "[CV 1/2] END bootstrap=True, max_depth=10, max_features=sqrt, min_samples_leaf=1, min_samples_split=10, n_estimators=100; total time=   4.0s\n",
      "[CV 2/2] END bootstrap=True, max_depth=10, max_features=sqrt, min_samples_leaf=1, min_samples_split=10, n_estimators=100; total time=   3.8s\n",
      "[CV 1/2] END bootstrap=True, max_depth=40, max_features=auto, min_samples_leaf=2, min_samples_split=10, n_estimators=800; total time= 1.9min\n",
      "[CV 2/2] END bootstrap=True, max_depth=40, max_features=auto, min_samples_leaf=2, min_samples_split=10, n_estimators=800; total time= 1.9min\n",
      "[CV 1/2] END bootstrap=False, max_depth=10, max_features=sqrt, min_samples_leaf=1, min_samples_split=2, n_estimators=900; total time=  46.9s\n",
      "[CV 2/2] END bootstrap=False, max_depth=10, max_features=sqrt, min_samples_leaf=1, min_samples_split=2, n_estimators=900; total time=  45.9s\n",
      "[CV 1/2] END bootstrap=False, max_depth=100, max_features=auto, min_samples_leaf=4, min_samples_split=5, n_estimators=1000; total time= 3.8min\n",
      "[CV 2/2] END bootstrap=False, max_depth=100, max_features=auto, min_samples_leaf=4, min_samples_split=5, n_estimators=1000; total time= 3.8min\n",
      "[CV 1/2] END bootstrap=True, max_depth=80, max_features=auto, min_samples_leaf=1, min_samples_split=2, n_estimators=1000; total time=13.8min\n",
      "[CV 2/2] END bootstrap=True, max_depth=80, max_features=auto, min_samples_leaf=1, min_samples_split=2, n_estimators=1000; total time=14.4min\n",
      "[CV 1/2] END bootstrap=True, max_depth=110, max_features=sqrt, min_samples_leaf=4, min_samples_split=2, n_estimators=500; total time= 1.3min\n",
      "[CV 2/2] END bootstrap=True, max_depth=110, max_features=sqrt, min_samples_leaf=4, min_samples_split=2, n_estimators=500; total time= 1.3min\n",
      "[CV 1/2] END bootstrap=False, max_depth=110, max_features=auto, min_samples_leaf=1, min_samples_split=10, n_estimators=900; total time=15.8min\n",
      "[CV 2/2] END bootstrap=False, max_depth=110, max_features=auto, min_samples_leaf=1, min_samples_split=10, n_estimators=900; total time=14.2min\n",
      "[CV 1/2] END bootstrap=True, max_depth=90, max_features=sqrt, min_samples_leaf=4, min_samples_split=2, n_estimators=700; total time= 2.6min\n",
      "[CV 2/2] END bootstrap=True, max_depth=90, max_features=sqrt, min_samples_leaf=4, min_samples_split=2, n_estimators=700; total time= 2.7min\n",
      "[CV 1/2] END bootstrap=False, max_depth=40, max_features=sqrt, min_samples_leaf=2, min_samples_split=2, n_estimators=200; total time= 1.1min\n",
      "[CV 2/2] END bootstrap=False, max_depth=40, max_features=sqrt, min_samples_leaf=2, min_samples_split=2, n_estimators=200; total time= 1.1min\n",
      "[CV 1/2] END bootstrap=True, max_depth=50, max_features=sqrt, min_samples_leaf=2, min_samples_split=2, n_estimators=400; total time= 1.7min\n",
      "[CV 2/2] END bootstrap=True, max_depth=50, max_features=sqrt, min_samples_leaf=2, min_samples_split=2, n_estimators=400; total time= 1.6min\n",
      "[CV 1/2] END bootstrap=False, max_depth=50, max_features=sqrt, min_samples_leaf=2, min_samples_split=5, n_estimators=500; total time= 3.0min\n",
      "[CV 2/2] END bootstrap=False, max_depth=50, max_features=sqrt, min_samples_leaf=2, min_samples_split=5, n_estimators=500; total time= 2.9min\n",
      "[CV 1/2] END bootstrap=True, max_depth=80, max_features=sqrt, min_samples_leaf=4, min_samples_split=10, n_estimators=800; total time= 2.7min\n",
      "[CV 2/2] END bootstrap=True, max_depth=80, max_features=sqrt, min_samples_leaf=4, min_samples_split=10, n_estimators=800; total time= 2.7min\n",
      "[CV 1/2] END bootstrap=True, max_depth=80, max_features=sqrt, min_samples_leaf=1, min_samples_split=10, n_estimators=800; total time= 8.6min\n",
      "[CV 2/2] END bootstrap=True, max_depth=80, max_features=sqrt, min_samples_leaf=1, min_samples_split=10, n_estimators=800; total time= 5.9min\n",
      "[CV 1/2] END bootstrap=False, max_depth=60, max_features=auto, min_samples_leaf=4, min_samples_split=10, n_estimators=300; total time=  55.1s\n",
      "[CV 2/2] END bootstrap=False, max_depth=60, max_features=auto, min_samples_leaf=4, min_samples_split=10, n_estimators=300; total time=  56.1s\n",
      "[CV 1/2] END bootstrap=True, max_depth=80, max_features=sqrt, min_samples_leaf=4, min_samples_split=10, n_estimators=900; total time= 2.1min\n",
      "[CV 2/2] END bootstrap=True, max_depth=80, max_features=sqrt, min_samples_leaf=4, min_samples_split=10, n_estimators=900; total time= 2.0min\n",
      "[CV 1/2] END bootstrap=False, max_depth=30, max_features=sqrt, min_samples_leaf=2, min_samples_split=2, n_estimators=400; total time=  59.7s\n",
      "[CV 2/2] END bootstrap=False, max_depth=30, max_features=sqrt, min_samples_leaf=2, min_samples_split=2, n_estimators=400; total time= 1.0min\n",
      "[CV 1/2] END bootstrap=False, max_depth=110, max_features=sqrt, min_samples_leaf=1, min_samples_split=2, n_estimators=400; total time= 9.5min\n",
      "[CV 2/2] END bootstrap=False, max_depth=110, max_features=sqrt, min_samples_leaf=1, min_samples_split=2, n_estimators=400; total time= 8.3min\n",
      "[CV 1/2] END bootstrap=True, max_depth=70, max_features=sqrt, min_samples_leaf=4, min_samples_split=10, n_estimators=300; total time=  38.4s\n",
      "[CV 2/2] END bootstrap=True, max_depth=70, max_features=sqrt, min_samples_leaf=4, min_samples_split=10, n_estimators=300; total time=  37.5s\n",
      "[CV 1/2] END bootstrap=True, max_depth=20, max_features=auto, min_samples_leaf=2, min_samples_split=5, n_estimators=700; total time=  45.6s\n",
      "[CV 2/2] END bootstrap=True, max_depth=20, max_features=auto, min_samples_leaf=2, min_samples_split=5, n_estimators=700; total time=  44.7s\n",
      "[CV 1/2] END bootstrap=False, max_depth=110, max_features=auto, min_samples_leaf=2, min_samples_split=5, n_estimators=1000; total time= 5.7min\n",
      "[CV 2/2] END bootstrap=False, max_depth=110, max_features=auto, min_samples_leaf=2, min_samples_split=5, n_estimators=1000; total time= 5.5min\n",
      "[CV 1/2] END bootstrap=True, max_depth=40, max_features=sqrt, min_samples_leaf=1, min_samples_split=5, n_estimators=400; total time= 1.8min\n",
      "[CV 2/2] END bootstrap=True, max_depth=40, max_features=sqrt, min_samples_leaf=1, min_samples_split=5, n_estimators=400; total time= 2.1min\n",
      "[CV 1/2] END bootstrap=False, max_depth=80, max_features=auto, min_samples_leaf=4, min_samples_split=2, n_estimators=500; total time= 2.0min\n",
      "[CV 2/2] END bootstrap=False, max_depth=80, max_features=auto, min_samples_leaf=4, min_samples_split=2, n_estimators=500; total time= 2.0min\n",
      "[CV 1/2] END bootstrap=False, max_depth=100, max_features=sqrt, min_samples_leaf=1, min_samples_split=2, n_estimators=700; total time=17.3min\n",
      "[CV 2/2] END bootstrap=False, max_depth=100, max_features=sqrt, min_samples_leaf=1, min_samples_split=2, n_estimators=700; total time=16.9min\n",
      "[CV 1/2] END bootstrap=True, max_depth=80, max_features=sqrt, min_samples_leaf=1, min_samples_split=10, n_estimators=100; total time=  42.0s\n",
      "[CV 2/2] END bootstrap=True, max_depth=80, max_features=sqrt, min_samples_leaf=1, min_samples_split=10, n_estimators=100; total time=  40.8s\n",
      "[CV 1/2] END bootstrap=True, max_depth=10, max_features=sqrt, min_samples_leaf=4, min_samples_split=10, n_estimators=500; total time=  16.6s\n",
      "[CV 2/2] END bootstrap=True, max_depth=10, max_features=sqrt, min_samples_leaf=4, min_samples_split=10, n_estimators=500; total time=  16.0s\n"
     ]
    },
    {
     "name": "stdout",
     "output_type": "stream",
     "text": [
      "[CV 1/2] END bootstrap=False, max_depth=90, max_features=sqrt, min_samples_leaf=1, min_samples_split=2, n_estimators=500; total time= 9.6min\n",
      "[CV 2/2] END bootstrap=False, max_depth=90, max_features=sqrt, min_samples_leaf=1, min_samples_split=2, n_estimators=500; total time=10.1min\n",
      "[CV 1/2] END bootstrap=True, max_depth=100, max_features=auto, min_samples_leaf=1, min_samples_split=5, n_estimators=200; total time= 2.1min\n",
      "[CV 2/2] END bootstrap=True, max_depth=100, max_features=auto, min_samples_leaf=1, min_samples_split=5, n_estimators=200; total time= 2.3min\n",
      "[CV 1/2] END bootstrap=False, max_depth=30, max_features=sqrt, min_samples_leaf=4, min_samples_split=5, n_estimators=800; total time= 1.9min\n",
      "[CV 2/2] END bootstrap=False, max_depth=30, max_features=sqrt, min_samples_leaf=4, min_samples_split=5, n_estimators=800; total time= 1.9min\n",
      "[CV 1/2] END bootstrap=False, max_depth=60, max_features=sqrt, min_samples_leaf=2, min_samples_split=2, n_estimators=500; total time= 2.5min\n",
      "[CV 2/2] END bootstrap=False, max_depth=60, max_features=sqrt, min_samples_leaf=2, min_samples_split=2, n_estimators=500; total time= 2.6min\n",
      "[CV 1/2] END bootstrap=False, max_depth=30, max_features=sqrt, min_samples_leaf=1, min_samples_split=10, n_estimators=700; total time= 2.5min\n",
      "[CV 2/2] END bootstrap=False, max_depth=30, max_features=sqrt, min_samples_leaf=1, min_samples_split=10, n_estimators=700; total time= 2.3min\n",
      "[CV 1/2] END bootstrap=True, max_depth=60, max_features=sqrt, min_samples_leaf=1, min_samples_split=10, n_estimators=300; total time= 1.6min\n",
      "[CV 2/2] END bootstrap=True, max_depth=60, max_features=sqrt, min_samples_leaf=1, min_samples_split=10, n_estimators=300; total time= 1.6min\n",
      "[CV 1/2] END bootstrap=True, max_depth=90, max_features=auto, min_samples_leaf=2, min_samples_split=5, n_estimators=400; total time= 1.5min\n",
      "[CV 2/2] END bootstrap=True, max_depth=90, max_features=auto, min_samples_leaf=2, min_samples_split=5, n_estimators=400; total time= 1.4min\n",
      "[CV 1/2] END bootstrap=False, max_depth=20, max_features=sqrt, min_samples_leaf=2, min_samples_split=5, n_estimators=100; total time=   9.5s\n",
      "[CV 2/2] END bootstrap=False, max_depth=20, max_features=sqrt, min_samples_leaf=2, min_samples_split=5, n_estimators=100; total time=   9.2s\n",
      "[CV 1/2] END bootstrap=True, max_depth=100, max_features=auto, min_samples_leaf=1, min_samples_split=2, n_estimators=100; total time= 1.3min\n",
      "[CV 2/2] END bootstrap=True, max_depth=100, max_features=auto, min_samples_leaf=1, min_samples_split=2, n_estimators=100; total time= 1.3min\n",
      "[CV 1/2] END bootstrap=True, max_depth=40, max_features=sqrt, min_samples_leaf=1, min_samples_split=2, n_estimators=500; total time= 2.7min\n",
      "[CV 2/2] END bootstrap=True, max_depth=40, max_features=sqrt, min_samples_leaf=1, min_samples_split=2, n_estimators=500; total time= 2.8min\n",
      "[CV 1/2] END bootstrap=True, max_depth=80, max_features=sqrt, min_samples_leaf=1, min_samples_split=10, n_estimators=1000; total time= 6.9min\n",
      "[CV 2/2] END bootstrap=True, max_depth=80, max_features=sqrt, min_samples_leaf=1, min_samples_split=10, n_estimators=1000; total time= 6.7min\n",
      "[CV 1/2] END bootstrap=False, max_depth=110, max_features=auto, min_samples_leaf=2, min_samples_split=5, n_estimators=100; total time=  33.2s\n",
      "[CV 2/2] END bootstrap=False, max_depth=110, max_features=auto, min_samples_leaf=2, min_samples_split=5, n_estimators=100; total time=  32.8s\n",
      "[CV 1/2] END bootstrap=False, max_depth=10, max_features=sqrt, min_samples_leaf=2, min_samples_split=2, n_estimators=400; total time=  18.0s\n",
      "[CV 2/2] END bootstrap=False, max_depth=10, max_features=sqrt, min_samples_leaf=2, min_samples_split=2, n_estimators=400; total time=  17.4s\n",
      "[CV 1/2] END bootstrap=True, max_depth=50, max_features=sqrt, min_samples_leaf=1, min_samples_split=10, n_estimators=500; total time= 2.2min\n",
      "[CV 2/2] END bootstrap=True, max_depth=50, max_features=sqrt, min_samples_leaf=1, min_samples_split=10, n_estimators=500; total time= 2.3min\n",
      "[CV 1/2] END bootstrap=True, max_depth=20, max_features=auto, min_samples_leaf=2, min_samples_split=10, n_estimators=700; total time=  50.2s\n",
      "[CV 2/2] END bootstrap=True, max_depth=20, max_features=auto, min_samples_leaf=2, min_samples_split=10, n_estimators=700; total time=  47.4s\n",
      "[CV 1/2] END bootstrap=False, max_depth=110, max_features=auto, min_samples_leaf=2, min_samples_split=5, n_estimators=800; total time= 5.0min\n",
      "[CV 2/2] END bootstrap=False, max_depth=110, max_features=auto, min_samples_leaf=2, min_samples_split=5, n_estimators=800; total time= 4.9min\n",
      "[CV 1/2] END bootstrap=True, max_depth=100, max_features=sqrt, min_samples_leaf=1, min_samples_split=5, n_estimators=200; total time= 2.1min\n",
      "[CV 2/2] END bootstrap=True, max_depth=100, max_features=sqrt, min_samples_leaf=1, min_samples_split=5, n_estimators=200; total time= 2.1min\n",
      "[CV 1/2] END bootstrap=False, max_depth=20, max_features=auto, min_samples_leaf=4, min_samples_split=2, n_estimators=100; total time=   9.0s\n",
      "[CV 2/2] END bootstrap=False, max_depth=20, max_features=auto, min_samples_leaf=4, min_samples_split=2, n_estimators=100; total time=   8.9s\n",
      "[CV 1/2] END bootstrap=True, max_depth=30, max_features=auto, min_samples_leaf=1, min_samples_split=5, n_estimators=800; total time= 2.3min\n",
      "[CV 2/2] END bootstrap=True, max_depth=30, max_features=auto, min_samples_leaf=1, min_samples_split=5, n_estimators=800; total time= 2.3min\n",
      "[CV 1/2] END bootstrap=False, max_depth=90, max_features=sqrt, min_samples_leaf=4, min_samples_split=5, n_estimators=800; total time= 2.9min\n",
      "[CV 2/2] END bootstrap=False, max_depth=90, max_features=sqrt, min_samples_leaf=4, min_samples_split=5, n_estimators=800; total time= 2.8min\n",
      "[CV 1/2] END bootstrap=True, max_depth=70, max_features=auto, min_samples_leaf=2, min_samples_split=5, n_estimators=700; total time= 2.5min\n",
      "[CV 2/2] END bootstrap=True, max_depth=70, max_features=auto, min_samples_leaf=2, min_samples_split=5, n_estimators=700; total time= 2.7min\n",
      "[CV 1/2] END bootstrap=True, max_depth=90, max_features=auto, min_samples_leaf=2, min_samples_split=5, n_estimators=700; total time= 3.1min\n",
      "[CV 2/2] END bootstrap=True, max_depth=90, max_features=auto, min_samples_leaf=2, min_samples_split=5, n_estimators=700; total time= 2.6min\n",
      "[CV 1/2] END bootstrap=False, max_depth=60, max_features=sqrt, min_samples_leaf=4, min_samples_split=5, n_estimators=100; total time=  18.4s\n",
      "[CV 2/2] END bootstrap=False, max_depth=60, max_features=sqrt, min_samples_leaf=4, min_samples_split=5, n_estimators=100; total time=  20.9s\n",
      "[CV 1/2] END bootstrap=False, max_depth=10, max_features=sqrt, min_samples_leaf=1, min_samples_split=2, n_estimators=600; total time=  37.3s\n",
      "[CV 2/2] END bootstrap=False, max_depth=10, max_features=sqrt, min_samples_leaf=1, min_samples_split=2, n_estimators=600; total time=  35.1s\n",
      "[CV 1/2] END bootstrap=True, max_depth=10, max_features=auto, min_samples_leaf=1, min_samples_split=5, n_estimators=100; total time=   4.1s\n",
      "[CV 2/2] END bootstrap=True, max_depth=10, max_features=auto, min_samples_leaf=1, min_samples_split=5, n_estimators=100; total time=   5.3s\n",
      "[CV 1/2] END bootstrap=True, max_depth=90, max_features=auto, min_samples_leaf=4, min_samples_split=5, n_estimators=400; total time= 1.2min\n",
      "[CV 2/2] END bootstrap=True, max_depth=90, max_features=auto, min_samples_leaf=4, min_samples_split=5, n_estimators=400; total time=  59.9s\n",
      "[CV 1/2] END bootstrap=True, max_depth=30, max_features=auto, min_samples_leaf=4, min_samples_split=10, n_estimators=500; total time=  49.5s\n",
      "[CV 2/2] END bootstrap=True, max_depth=30, max_features=auto, min_samples_leaf=4, min_samples_split=10, n_estimators=500; total time=  54.6s\n",
      "[CV 1/2] END bootstrap=False, max_depth=60, max_features=sqrt, min_samples_leaf=2, min_samples_split=10, n_estimators=800; total time= 3.9min\n",
      "[CV 2/2] END bootstrap=False, max_depth=60, max_features=sqrt, min_samples_leaf=2, min_samples_split=10, n_estimators=800; total time= 4.0min\n",
      "[CV 1/2] END bootstrap=True, max_depth=110, max_features=auto, min_samples_leaf=4, min_samples_split=2, n_estimators=500; total time= 1.5min\n",
      "[CV 2/2] END bootstrap=True, max_depth=110, max_features=auto, min_samples_leaf=4, min_samples_split=2, n_estimators=500; total time= 1.4min\n",
      "[CV 1/2] END bootstrap=False, max_depth=10, max_features=auto, min_samples_leaf=4, min_samples_split=10, n_estimators=300; total time=  16.3s\n"
     ]
    },
    {
     "name": "stdout",
     "output_type": "stream",
     "text": [
      "[CV 2/2] END bootstrap=False, max_depth=10, max_features=auto, min_samples_leaf=4, min_samples_split=10, n_estimators=300; total time=  13.6s\n",
      "[CV 1/2] END bootstrap=False, max_depth=30, max_features=auto, min_samples_leaf=2, min_samples_split=10, n_estimators=600; total time= 1.5min\n",
      "[CV 2/2] END bootstrap=False, max_depth=30, max_features=auto, min_samples_leaf=2, min_samples_split=10, n_estimators=600; total time= 1.6min\n",
      "[CV 1/2] END bootstrap=False, max_depth=80, max_features=auto, min_samples_leaf=2, min_samples_split=2, n_estimators=500; total time= 3.1min\n",
      "[CV 2/2] END bootstrap=False, max_depth=80, max_features=auto, min_samples_leaf=2, min_samples_split=2, n_estimators=500; total time= 2.7min\n",
      "[CV 1/2] END bootstrap=False, max_depth=60, max_features=sqrt, min_samples_leaf=2, min_samples_split=2, n_estimators=100; total time=  36.8s\n",
      "[CV 2/2] END bootstrap=False, max_depth=60, max_features=sqrt, min_samples_leaf=2, min_samples_split=2, n_estimators=100; total time=  35.5s\n",
      "[CV 1/2] END bootstrap=False, max_depth=100, max_features=auto, min_samples_leaf=1, min_samples_split=10, n_estimators=100; total time= 1.4min\n",
      "[CV 2/2] END bootstrap=False, max_depth=100, max_features=auto, min_samples_leaf=1, min_samples_split=10, n_estimators=100; total time= 1.3min\n",
      "[CV 1/2] END bootstrap=True, max_depth=40, max_features=sqrt, min_samples_leaf=2, min_samples_split=2, n_estimators=800; total time= 1.8min\n",
      "[CV 2/2] END bootstrap=True, max_depth=40, max_features=sqrt, min_samples_leaf=2, min_samples_split=2, n_estimators=800; total time= 2.0min\n",
      "[CV 1/2] END bootstrap=True, max_depth=20, max_features=auto, min_samples_leaf=2, min_samples_split=10, n_estimators=200; total time=  15.5s\n",
      "[CV 2/2] END bootstrap=True, max_depth=20, max_features=auto, min_samples_leaf=2, min_samples_split=10, n_estimators=200; total time=  21.2s\n",
      "[CV 1/2] END bootstrap=False, max_depth=50, max_features=sqrt, min_samples_leaf=2, min_samples_split=10, n_estimators=100; total time=  28.3s\n",
      "[CV 2/2] END bootstrap=False, max_depth=50, max_features=sqrt, min_samples_leaf=2, min_samples_split=10, n_estimators=100; total time=  30.9s\n",
      "[CV 1/2] END bootstrap=True, max_depth=20, max_features=auto, min_samples_leaf=1, min_samples_split=2, n_estimators=600; total time= 2.1min\n",
      "[CV 2/2] END bootstrap=True, max_depth=20, max_features=auto, min_samples_leaf=1, min_samples_split=2, n_estimators=600; total time= 1.2min\n",
      "[CV 1/2] END bootstrap=False, max_depth=10, max_features=sqrt, min_samples_leaf=2, min_samples_split=10, n_estimators=300; total time=  16.4s\n",
      "[CV 2/2] END bootstrap=False, max_depth=10, max_features=sqrt, min_samples_leaf=2, min_samples_split=10, n_estimators=300; total time=  15.3s\n",
      "[CV 1/2] END bootstrap=True, max_depth=80, max_features=auto, min_samples_leaf=2, min_samples_split=10, n_estimators=100; total time=  26.7s\n",
      "[CV 2/2] END bootstrap=True, max_depth=80, max_features=auto, min_samples_leaf=2, min_samples_split=10, n_estimators=100; total time=  22.5s\n",
      "[CV 1/2] END bootstrap=True, max_depth=80, max_features=auto, min_samples_leaf=4, min_samples_split=2, n_estimators=200; total time=  34.6s\n",
      "[CV 2/2] END bootstrap=True, max_depth=80, max_features=auto, min_samples_leaf=4, min_samples_split=2, n_estimators=200; total time=  33.1s\n",
      "[CV 1/2] END bootstrap=True, max_depth=60, max_features=auto, min_samples_leaf=2, min_samples_split=5, n_estimators=600; total time= 2.3min\n",
      "[CV 2/2] END bootstrap=True, max_depth=60, max_features=auto, min_samples_leaf=2, min_samples_split=5, n_estimators=600; total time= 2.1min\n",
      "[CV 1/2] END bootstrap=True, max_depth=50, max_features=sqrt, min_samples_leaf=2, min_samples_split=10, n_estimators=400; total time= 1.0min\n",
      "[CV 2/2] END bootstrap=True, max_depth=50, max_features=sqrt, min_samples_leaf=2, min_samples_split=10, n_estimators=400; total time= 1.0min\n",
      "[CV 1/2] END bootstrap=True, max_depth=20, max_features=auto, min_samples_leaf=4, min_samples_split=5, n_estimators=900; total time=  54.4s\n",
      "[CV 2/2] END bootstrap=True, max_depth=20, max_features=auto, min_samples_leaf=4, min_samples_split=5, n_estimators=900; total time=  51.5s\n",
      "[CV 1/2] END bootstrap=True, max_depth=60, max_features=auto, min_samples_leaf=1, min_samples_split=5, n_estimators=700; total time= 4.7min\n",
      "[CV 2/2] END bootstrap=True, max_depth=60, max_features=auto, min_samples_leaf=1, min_samples_split=5, n_estimators=700; total time= 4.8min\n",
      "[CV 1/2] END bootstrap=True, max_depth=40, max_features=sqrt, min_samples_leaf=2, min_samples_split=5, n_estimators=600; total time= 1.4min\n",
      "[CV 2/2] END bootstrap=True, max_depth=40, max_features=sqrt, min_samples_leaf=2, min_samples_split=5, n_estimators=600; total time= 1.4min\n",
      "[CV 1/2] END bootstrap=False, max_depth=110, max_features=sqrt, min_samples_leaf=1, min_samples_split=10, n_estimators=600; total time= 6.9min\n",
      "[CV 2/2] END bootstrap=False, max_depth=110, max_features=sqrt, min_samples_leaf=1, min_samples_split=10, n_estimators=600; total time= 6.8min\n",
      "[CV 1/2] END bootstrap=False, max_depth=50, max_features=auto, min_samples_leaf=4, min_samples_split=2, n_estimators=800; total time= 2.2min\n",
      "[CV 2/2] END bootstrap=False, max_depth=50, max_features=auto, min_samples_leaf=4, min_samples_split=2, n_estimators=800; total time= 2.2min\n",
      "[CV 1/2] END bootstrap=False, max_depth=90, max_features=auto, min_samples_leaf=1, min_samples_split=10, n_estimators=200; total time= 2.1min\n",
      "[CV 2/2] END bootstrap=False, max_depth=90, max_features=auto, min_samples_leaf=1, min_samples_split=10, n_estimators=200; total time= 2.1min\n",
      "[CV 1/2] END bootstrap=True, max_depth=30, max_features=auto, min_samples_leaf=4, min_samples_split=5, n_estimators=500; total time=  40.8s\n",
      "[CV 2/2] END bootstrap=True, max_depth=30, max_features=auto, min_samples_leaf=4, min_samples_split=5, n_estimators=500; total time=  50.6s\n",
      "[CV 1/2] END bootstrap=True, max_depth=80, max_features=auto, min_samples_leaf=1, min_samples_split=10, n_estimators=700; total time= 6.2min\n",
      "[CV 2/2] END bootstrap=True, max_depth=80, max_features=auto, min_samples_leaf=1, min_samples_split=10, n_estimators=700; total time= 7.5min\n",
      "[CV 1/2] END bootstrap=True, max_depth=70, max_features=auto, min_samples_leaf=4, min_samples_split=2, n_estimators=700; total time= 2.5min\n",
      "[CV 2/2] END bootstrap=True, max_depth=70, max_features=auto, min_samples_leaf=4, min_samples_split=2, n_estimators=700; total time= 2.3min\n",
      "[CV 1/2] END bootstrap=True, max_depth=30, max_features=sqrt, min_samples_leaf=4, min_samples_split=2, n_estimators=600; total time= 1.4min\n",
      "[CV 2/2] END bootstrap=True, max_depth=30, max_features=sqrt, min_samples_leaf=4, min_samples_split=2, n_estimators=600; total time= 1.3min\n",
      "[CV 1/2] END bootstrap=False, max_depth=50, max_features=sqrt, min_samples_leaf=2, min_samples_split=2, n_estimators=700; total time= 5.4min\n",
      "[CV 2/2] END bootstrap=False, max_depth=50, max_features=sqrt, min_samples_leaf=2, min_samples_split=2, n_estimators=700; total time= 4.9min\n",
      "[CV 1/2] END bootstrap=False, max_depth=100, max_features=sqrt, min_samples_leaf=4, min_samples_split=5, n_estimators=200; total time= 1.3min\n",
      "[CV 2/2] END bootstrap=False, max_depth=100, max_features=sqrt, min_samples_leaf=4, min_samples_split=5, n_estimators=200; total time= 1.3min\n",
      "[CV 1/2] END bootstrap=True, max_depth=50, max_features=auto, min_samples_leaf=2, min_samples_split=10, n_estimators=1000; total time= 4.0min\n",
      "[CV 2/2] END bootstrap=True, max_depth=50, max_features=auto, min_samples_leaf=2, min_samples_split=10, n_estimators=1000; total time= 3.4min\n",
      "[CV 1/2] END bootstrap=True, max_depth=40, max_features=sqrt, min_samples_leaf=1, min_samples_split=2, n_estimators=400; total time= 2.6min\n",
      "[CV 2/2] END bootstrap=True, max_depth=40, max_features=sqrt, min_samples_leaf=1, min_samples_split=2, n_estimators=400; total time= 2.6min\n",
      "[CV 1/2] END bootstrap=False, max_depth=30, max_features=auto, min_samples_leaf=1, min_samples_split=2, n_estimators=900; total time= 4.7min\n",
      "[CV 2/2] END bootstrap=False, max_depth=30, max_features=auto, min_samples_leaf=1, min_samples_split=2, n_estimators=900; total time= 4.6min\n",
      "[CV 1/2] END bootstrap=False, max_depth=100, max_features=auto, min_samples_leaf=1, min_samples_split=10, n_estimators=700; total time= 8.7min\n",
      "[CV 2/2] END bootstrap=False, max_depth=100, max_features=auto, min_samples_leaf=1, min_samples_split=10, n_estimators=700; total time=10.1min\n"
     ]
    },
    {
     "name": "stdout",
     "output_type": "stream",
     "text": [
      "[CV 1/2] END bootstrap=True, max_depth=70, max_features=sqrt, min_samples_leaf=4, min_samples_split=5, n_estimators=600; total time= 1.7min\n",
      "[CV 2/2] END bootstrap=True, max_depth=70, max_features=sqrt, min_samples_leaf=4, min_samples_split=5, n_estimators=600; total time= 1.6min\n",
      "[CV 1/2] END bootstrap=True, max_depth=60, max_features=auto, min_samples_leaf=1, min_samples_split=2, n_estimators=400; total time= 4.9min\n",
      "[CV 2/2] END bootstrap=True, max_depth=60, max_features=auto, min_samples_leaf=1, min_samples_split=2, n_estimators=400; total time= 5.1min\n",
      "[CV 1/2] END bootstrap=False, max_depth=10, max_features=sqrt, min_samples_leaf=2, min_samples_split=2, n_estimators=300; total time=  16.8s\n",
      "[CV 2/2] END bootstrap=False, max_depth=10, max_features=sqrt, min_samples_leaf=2, min_samples_split=2, n_estimators=300; total time=  16.5s\n",
      "[CV 1/2] END bootstrap=True, max_depth=20, max_features=auto, min_samples_leaf=4, min_samples_split=2, n_estimators=800; total time=  59.0s\n",
      "[CV 2/2] END bootstrap=True, max_depth=20, max_features=auto, min_samples_leaf=4, min_samples_split=2, n_estimators=800; total time=  57.6s\n",
      "[CV 1/2] END bootstrap=False, max_depth=50, max_features=auto, min_samples_leaf=4, min_samples_split=10, n_estimators=900; total time= 3.2min\n",
      "[CV 2/2] END bootstrap=False, max_depth=50, max_features=auto, min_samples_leaf=4, min_samples_split=10, n_estimators=900; total time= 3.1min\n",
      "[CV 1/2] END bootstrap=True, max_depth=110, max_features=sqrt, min_samples_leaf=2, min_samples_split=5, n_estimators=200; total time=  59.2s\n",
      "[CV 2/2] END bootstrap=True, max_depth=110, max_features=sqrt, min_samples_leaf=2, min_samples_split=5, n_estimators=200; total time=  58.8s\n",
      "[CV 1/2] END bootstrap=True, max_depth=20, max_features=sqrt, min_samples_leaf=2, min_samples_split=10, n_estimators=700; total time=  56.6s\n",
      "[CV 2/2] END bootstrap=True, max_depth=20, max_features=sqrt, min_samples_leaf=2, min_samples_split=10, n_estimators=700; total time=  55.1s\n",
      "[CV 1/2] END bootstrap=True, max_depth=50, max_features=auto, min_samples_leaf=4, min_samples_split=10, n_estimators=200; total time=  28.9s\n",
      "[CV 2/2] END bootstrap=True, max_depth=50, max_features=auto, min_samples_leaf=4, min_samples_split=10, n_estimators=200; total time=  28.2s\n",
      "[CV 1/2] END bootstrap=False, max_depth=40, max_features=auto, min_samples_leaf=1, min_samples_split=2, n_estimators=300; total time= 3.3min\n",
      "[CV 2/2] END bootstrap=False, max_depth=40, max_features=auto, min_samples_leaf=1, min_samples_split=2, n_estimators=300; total time= 3.5min\n",
      "[CV 1/2] END bootstrap=False, max_depth=20, max_features=sqrt, min_samples_leaf=4, min_samples_split=2, n_estimators=200; total time=  21.0s\n",
      "[CV 2/2] END bootstrap=False, max_depth=20, max_features=sqrt, min_samples_leaf=4, min_samples_split=2, n_estimators=200; total time=  20.0s\n",
      "[CV 1/2] END bootstrap=True, max_depth=60, max_features=sqrt, min_samples_leaf=1, min_samples_split=10, n_estimators=1000; total time= 7.0min\n",
      "[CV 2/2] END bootstrap=True, max_depth=60, max_features=sqrt, min_samples_leaf=1, min_samples_split=10, n_estimators=1000; total time= 6.8min\n",
      "[CV 1/2] END bootstrap=True, max_depth=110, max_features=auto, min_samples_leaf=4, min_samples_split=5, n_estimators=200; total time=  29.3s\n",
      "[CV 2/2] END bootstrap=True, max_depth=110, max_features=auto, min_samples_leaf=4, min_samples_split=5, n_estimators=200; total time=  28.8s\n"
     ]
    },
    {
     "data": {
      "text/plain": [
       "RandomizedSearchCV(cv=StratifiedKFold(n_splits=2, random_state=12, shuffle=True),\n",
       "                   estimator=RandomForestClassifier(), n_iter=100, n_jobs=1,\n",
       "                   param_distributions={'bootstrap': [True, False],\n",
       "                                        'max_depth': [10, 20, 30, 40, 50, 60,\n",
       "                                                      70, 80, 90, 100, 110],\n",
       "                                        'max_features': ['auto', 'sqrt'],\n",
       "                                        'min_samples_leaf': [1, 2, 4],\n",
       "                                        'min_samples_split': [2, 5, 10],\n",
       "                                        'n_estimators': [100, 200, 300, 400,\n",
       "                                                         500, 600, 700, 800,\n",
       "                                                         900, 1000]},\n",
       "                   random_state=12, scoring='f1_micro', verbose=5)"
      ]
     },
     "execution_count": 45,
     "metadata": {},
     "output_type": "execute_result"
    }
   ],
   "source": [
    "# Fit the random search model\n",
    "rf_random.fit(x_train_tfidf, y_train)"
   ]
  },
  {
   "cell_type": "code",
   "execution_count": 46,
   "metadata": {},
   "outputs": [
    {
     "data": {
      "text/plain": [
       "0.6681927710843374"
      ]
     },
     "execution_count": 46,
     "metadata": {},
     "output_type": "execute_result"
    }
   ],
   "source": [
    "rf_random.best_score_"
   ]
  },
  {
   "cell_type": "code",
   "execution_count": 47,
   "metadata": {},
   "outputs": [
    {
     "data": {
      "text/plain": [
       "{'n_estimators': 900,\n",
       " 'min_samples_split': 10,\n",
       " 'min_samples_leaf': 1,\n",
       " 'max_features': 'auto',\n",
       " 'max_depth': 110,\n",
       " 'bootstrap': False}"
      ]
     },
     "execution_count": 47,
     "metadata": {},
     "output_type": "execute_result"
    }
   ],
   "source": [
    "rf_random.best_params_"
   ]
  },
  {
   "cell_type": "markdown",
   "metadata": {},
   "source": [
    "From these results, we should be able to narrow the range of values for each hyperparameter."
   ]
  },
  {
   "cell_type": "code",
   "execution_count": 48,
   "metadata": {},
   "outputs": [],
   "source": [
    "best_random = rf_random.best_estimator_"
   ]
  },
  {
   "cell_type": "markdown",
   "metadata": {},
   "source": [
    "Random search allowed us to narrow down the range for each hyperparameter. Now that we know where to concentrate our search, we can explicitly specify different combinations of settings to try concentrated around the best parameters from the randomized search."
   ]
  },
  {
   "cell_type": "markdown",
   "metadata": {},
   "source": [
    "This can be done with GridSearchCV, a method which instead of sampling randomly from a distribution, evaluates all combinations that we define. We feed it a set of hyperparameters and the values we want to test for each hyperparameter, and then run an exhaustive search over all possible combinations of these values, training one model for each set of values. The algorithm then compares the scores of each model it trains and keeps the best one. To use Grid Search, we make another parameter grid based on the best values provided by random search."
   ]
  },
  {
   "cell_type": "code",
   "execution_count": 53,
   "metadata": {},
   "outputs": [
    {
     "name": "stdout",
     "output_type": "stream",
     "text": [
      "{'bootstrap': [False], 'max_depth': [110, 120], 'max_features': ['auto'], 'min_samples_split': [10], 'min_samples_leaf': [1], 'n_estimators': [850, 900, 950]}\n"
     ]
    }
   ],
   "source": [
    "# Create the parameter grid based on the results of random search \n",
    "param_grid = {\n",
    "    'bootstrap': [False],\n",
    "    'max_depth': [110, 120],\n",
    "    'max_features': ['auto'],\n",
    "    'min_samples_split': [10],\n",
    "    'min_samples_leaf': [1],\n",
    "    'n_estimators': [850, 900, 950]\n",
    "}\n",
    "print(param_grid)"
   ]
  },
  {
   "cell_type": "code",
   "execution_count": 54,
   "metadata": {},
   "outputs": [],
   "source": [
    "rf_cv = GridSearchCV(estimator = rf_clf, param_grid = param_grid, cv = kf_5_cv, scoring = 'f1_micro', verbose = 5, n_jobs = 1)"
   ]
  },
  {
   "cell_type": "code",
   "execution_count": 55,
   "metadata": {},
   "outputs": [
    {
     "name": "stdout",
     "output_type": "stream",
     "text": [
      "Fitting 5 folds for each of 6 candidates, totalling 30 fits\n",
      "[CV 1/5] END bootstrap=False, max_depth=110, max_features=auto, min_samples_leaf=1, min_samples_split=10, n_estimators=850; total time=20.7min\n",
      "[CV 2/5] END bootstrap=False, max_depth=110, max_features=auto, min_samples_leaf=1, min_samples_split=10, n_estimators=850; total time=18.3min\n",
      "[CV 3/5] END bootstrap=False, max_depth=110, max_features=auto, min_samples_leaf=1, min_samples_split=10, n_estimators=850; total time=18.2min\n",
      "[CV 4/5] END bootstrap=False, max_depth=110, max_features=auto, min_samples_leaf=1, min_samples_split=10, n_estimators=850; total time=21.8min\n",
      "[CV 5/5] END bootstrap=False, max_depth=110, max_features=auto, min_samples_leaf=1, min_samples_split=10, n_estimators=850; total time=20.7min\n",
      "[CV 1/5] END bootstrap=False, max_depth=110, max_features=auto, min_samples_leaf=1, min_samples_split=10, n_estimators=900; total time=22.7min\n",
      "[CV 2/5] END bootstrap=False, max_depth=110, max_features=auto, min_samples_leaf=1, min_samples_split=10, n_estimators=900; total time=26.3min\n",
      "[CV 3/5] END bootstrap=False, max_depth=110, max_features=auto, min_samples_leaf=1, min_samples_split=10, n_estimators=900; total time=23.4min\n",
      "[CV 4/5] END bootstrap=False, max_depth=110, max_features=auto, min_samples_leaf=1, min_samples_split=10, n_estimators=900; total time=26.8min\n",
      "[CV 5/5] END bootstrap=False, max_depth=110, max_features=auto, min_samples_leaf=1, min_samples_split=10, n_estimators=900; total time=28.6min\n",
      "[CV 1/5] END bootstrap=False, max_depth=110, max_features=auto, min_samples_leaf=1, min_samples_split=10, n_estimators=950; total time=23.9min\n",
      "[CV 2/5] END bootstrap=False, max_depth=110, max_features=auto, min_samples_leaf=1, min_samples_split=10, n_estimators=950; total time=23.8min\n",
      "[CV 3/5] END bootstrap=False, max_depth=110, max_features=auto, min_samples_leaf=1, min_samples_split=10, n_estimators=950; total time=24.5min\n",
      "[CV 4/5] END bootstrap=False, max_depth=110, max_features=auto, min_samples_leaf=1, min_samples_split=10, n_estimators=950; total time=24.2min\n",
      "[CV 5/5] END bootstrap=False, max_depth=110, max_features=auto, min_samples_leaf=1, min_samples_split=10, n_estimators=950; total time=22.1min\n",
      "[CV 1/5] END bootstrap=False, max_depth=120, max_features=auto, min_samples_leaf=1, min_samples_split=10, n_estimators=850; total time=22.6min\n",
      "[CV 2/5] END bootstrap=False, max_depth=120, max_features=auto, min_samples_leaf=1, min_samples_split=10, n_estimators=850; total time=22.8min\n",
      "[CV 3/5] END bootstrap=False, max_depth=120, max_features=auto, min_samples_leaf=1, min_samples_split=10, n_estimators=850; total time=21.4min\n",
      "[CV 4/5] END bootstrap=False, max_depth=120, max_features=auto, min_samples_leaf=1, min_samples_split=10, n_estimators=850; total time=21.5min\n",
      "[CV 5/5] END bootstrap=False, max_depth=120, max_features=auto, min_samples_leaf=1, min_samples_split=10, n_estimators=850; total time=21.5min\n",
      "[CV 1/5] END bootstrap=False, max_depth=120, max_features=auto, min_samples_leaf=1, min_samples_split=10, n_estimators=900; total time=22.7min\n",
      "[CV 2/5] END bootstrap=False, max_depth=120, max_features=auto, min_samples_leaf=1, min_samples_split=10, n_estimators=900; total time=21.9min\n",
      "[CV 3/5] END bootstrap=False, max_depth=120, max_features=auto, min_samples_leaf=1, min_samples_split=10, n_estimators=900; total time=19.7min\n",
      "[CV 4/5] END bootstrap=False, max_depth=120, max_features=auto, min_samples_leaf=1, min_samples_split=10, n_estimators=900; total time=19.9min\n",
      "[CV 5/5] END bootstrap=False, max_depth=120, max_features=auto, min_samples_leaf=1, min_samples_split=10, n_estimators=900; total time=20.4min\n",
      "[CV 1/5] END bootstrap=False, max_depth=120, max_features=auto, min_samples_leaf=1, min_samples_split=10, n_estimators=950; total time=20.9min\n",
      "[CV 2/5] END bootstrap=False, max_depth=120, max_features=auto, min_samples_leaf=1, min_samples_split=10, n_estimators=950; total time=20.6min\n",
      "[CV 3/5] END bootstrap=False, max_depth=120, max_features=auto, min_samples_leaf=1, min_samples_split=10, n_estimators=950; total time=20.7min\n",
      "[CV 4/5] END bootstrap=False, max_depth=120, max_features=auto, min_samples_leaf=1, min_samples_split=10, n_estimators=950; total time=21.0min\n",
      "[CV 5/5] END bootstrap=False, max_depth=120, max_features=auto, min_samples_leaf=1, min_samples_split=10, n_estimators=950; total time=20.8min\n"
     ]
    },
    {
     "data": {
      "text/plain": [
       "GridSearchCV(cv=StratifiedKFold(n_splits=5, random_state=12, shuffle=True),\n",
       "             estimator=RandomForestClassifier(), n_jobs=1,\n",
       "             param_grid={'bootstrap': [False], 'max_depth': [110, 120],\n",
       "                         'max_features': ['auto'], 'min_samples_leaf': [1],\n",
       "                         'min_samples_split': [10],\n",
       "                         'n_estimators': [850, 900, 950]},\n",
       "             scoring='f1_micro', verbose=5)"
      ]
     },
     "execution_count": 55,
     "metadata": {},
     "output_type": "execute_result"
    }
   ],
   "source": [
    "rf_cv.fit(x_train_tfidf, y_train)"
   ]
  },
  {
   "cell_type": "code",
   "execution_count": 56,
   "metadata": {},
   "outputs": [
    {
     "data": {
      "text/plain": [
       "0.6827647431832593"
      ]
     },
     "execution_count": 56,
     "metadata": {},
     "output_type": "execute_result"
    }
   ],
   "source": [
    "rf_cv.best_score_ "
   ]
  },
  {
   "cell_type": "code",
   "execution_count": 57,
   "metadata": {},
   "outputs": [
    {
     "data": {
      "text/plain": [
       "{'bootstrap': False,\n",
       " 'max_depth': 120,\n",
       " 'max_features': 'auto',\n",
       " 'min_samples_leaf': 1,\n",
       " 'min_samples_split': 10,\n",
       " 'n_estimators': 950}"
      ]
     },
     "execution_count": 57,
     "metadata": {},
     "output_type": "execute_result"
    }
   ],
   "source": [
    "rf_cv.best_params_ "
   ]
  },
  {
   "cell_type": "code",
   "execution_count": 58,
   "metadata": {},
   "outputs": [],
   "source": [
    "rf = rf_cv.best_estimator_"
   ]
  },
  {
   "cell_type": "code",
   "execution_count": 59,
   "metadata": {},
   "outputs": [],
   "source": [
    "rf.fit(x_train_tfidf, y_train)\n",
    "y_pred_rf = rf.predict(x_test_tfidf)"
   ]
  },
  {
   "cell_type": "code",
   "execution_count": 60,
   "metadata": {},
   "outputs": [
    {
     "data": {
      "text/plain": [
       "(array([0.5, 1.5, 2.5, 3.5, 4.5, 5.5, 6.5, 7.5, 8.5, 9.5]),\n",
       " <a list of 10 Text major ticklabel objects>)"
      ]
     },
     "execution_count": 60,
     "metadata": {},
     "output_type": "execute_result"
    },
    {
     "data": {
      "image/png": "[encoded data removed]",
      "text/plain": [
       "<Figure size 432x288 with 2 Axes>"
      ]
     },
     "metadata": {
      "needs_background": "light"
     },
     "output_type": "display_data"
    }
   ],
   "source": [
    "df_cm_rf = pd.DataFrame(confusion_matrix(y_test, y_pred_rf), columns=np.unique(y_test), index = np.unique(y_test))\n",
    "df_cm_rf.index.name = 'Actual'\n",
    "df_cm_rf.columns.name = 'Predicted'\n",
    "\n",
    "sns.heatmap(df_cm_rf, annot=True, fmt='d', annot_kws={\"size\": 14})\n",
    "plt.title(\"Confusion Matrix for Random Forest\")\n",
    "plt.xticks(rotation=45)\n",
    "plt.yticks(rotation=360)"
   ]
  },
  {
   "cell_type": "markdown",
   "metadata": {},
   "source": [
    "We are doing decently on classifying the majority classes accurately, but we are misclassiflying a big fraction of the other labels. As was to be expected class imbalance seems to be causing some problem. We can try using class weights to address class imbalance, or upsampling with SMOTE.\n",
    "\n",
    "Let's look at the classification report."
   ]
  },
  {
   "cell_type": "code",
   "execution_count": 61,
   "metadata": {},
   "outputs": [
    {
     "name": "stdout",
     "output_type": "stream",
     "text": [
      "              precision    recall  f1-score   support\n",
      "\n",
      "         1.0       0.76      0.25      0.38        63\n",
      "         2.0       0.73      0.46      0.56       307\n",
      "         3.0       0.83      0.49      0.62       397\n",
      "         4.0       0.72      0.79      0.76      2190\n",
      "         5.0       0.61      0.79      0.68      1546\n",
      "         6.0       0.70      0.56      0.62      1366\n",
      "         7.0       0.67      0.74      0.70      1710\n",
      "         8.0       0.60      0.13      0.21        47\n",
      "         9.0       0.75      0.69      0.72       701\n",
      "        10.0       0.74      0.47      0.57       435\n",
      "\n",
      "    accuracy                           0.69      8762\n",
      "   macro avg       0.71      0.54      0.58      8762\n",
      "weighted avg       0.70      0.69      0.68      8762\n",
      "\n"
     ]
    }
   ],
   "source": [
    "print(classification_report(y_test, y_pred_rf))"
   ]
  },
  {
   "cell_type": "markdown",
   "metadata": {},
   "source": [
    "These classification reports show that the precision for all classes seems really good, while the recall has good values only for the majority classes, which can be expected, looking at the labels distribution."
   ]
  },
  {
   "cell_type": "markdown",
   "metadata": {},
   "source": [
    "Tens of thousands of vulnerabilities were discovered until now. But almost all organizations have the limited resources to address all vulnerabilities that might affect their systems. The CVSS is the standard prioritization system for vulnerabilities. The calculation of CVSS score is somewhat subjective and the users should be familiar with both, the vulnerability characteristics and the CVSS scoring systems.\n",
    "The goal of this mini-project was predicting the CVSS base scores, based on vulnerability descriptions and text mining techniques. The results show that there is some untapped potential of text mining for CVSS score prediction."
   ]
  },
  {
   "cell_type": "code",
   "execution_count": null,
   "metadata": {},
   "outputs": [],
   "source": []
  },
  {
   "cell_type": "code",
   "execution_count": null,
   "metadata": {},
   "outputs": [],
   "source": [
    "import shap\n",
    "explainer = shap.TreeExplainer(rf)\n",
    "shap.initjs()\n",
    "shap_values = explainer.shap_values(y_pred_rf, approximate=True)"
   ]
  },
  {
   "cell_type": "code",
   "execution_count": null,
   "metadata": {},
   "outputs": [],
   "source": []
  },
  {
   "cell_type": "code",
   "execution_count": null,
   "metadata": {},
   "outputs": [],
   "source": [
    "from lime import lime_text\n",
    "\n",
    "explainer = lime_text.LimeTextExplainer(class_names=df.cvss)\n",
    "explainer"
   ]
  },
  {
   "cell_type": "code",
   "execution_count": null,
   "metadata": {},
   "outputs": [],
   "source": [
    "text_test = 'An information disclosure vulnerability exists when the Windows kernel improperly handles objects in memory. An attacker who successfully exploited this vulnerability could obtain information to further compromise the user’s system'"
   ]
  },
  {
   "cell_type": "code",
   "execution_count": null,
   "metadata": {},
   "outputs": [],
   "source": [
    "def pred_fn(text):\n",
    "    text_transformed = tfidf_vectorizer.transform(text)\n",
    "    return rf.predict_proba(text_transformed)\n",
    "\n",
    "pred_fn(text_test[:2])"
   ]
  },
  {
   "cell_type": "code",
   "execution_count": null,
   "metadata": {},
   "outputs": [],
   "source": [
    "idx = random.randint(1, len(text_test))\n",
    "\n",
    "print(\"Actual Text : \", text_test[idx])\n",
    "\n",
    "print(\"Prediction : \", rf.predict(x_test_tfidf[idx].reshape(1,-1))[0])\n",
    "print(\"Actual :     \", y_test[idx])\n",
    "\n",
    "explanation = explainer.explain_instance(text_test[idx], classifier_fn=pred_fn)\n",
    "\n",
    "explanation.show_in_notebook()"
   ]
  },
  {
   "cell_type": "code",
   "execution_count": null,
   "metadata": {},
   "outputs": [],
   "source": []
  },
  {
   "cell_type": "markdown",
   "metadata": {},
   "source": [
    "***\n",
    "**Ideas for future work**\n",
    "***"
   ]
  },
  {
   "cell_type": "markdown",
   "metadata": {},
   "source": [
    "It would be interesting to consider multiple cases for the Random-Forest experiments:\n",
    "- Feature dimension reduction, either using LDA or PCA or a combination of both as opposed to using the all features (without data dimension reduction) like I did in this notebook\n",
    "- Class weights or SMOTE to handle the imbalanced classes.\n",
    "- Different classifiers, like SVM."
   ]
  },
  {
   "cell_type": "code",
   "execution_count": null,
   "metadata": {},
   "outputs": [],
   "source": []
  },
  {
   "cell_type": "code",
   "execution_count": null,
   "metadata": {},
   "outputs": [],
   "source": []
  },
  {
   "cell_type": "code",
   "execution_count": null,
   "metadata": {},
   "outputs": [],
   "source": []
  }
 ],
 "metadata": {
  "kernelspec": {
   "display_name": "Python 3",
   "language": "python",
   "name": "python3"
  },
  "language_info": {
   "codemirror_mode": {
    "name": "ipython",
    "version": 3
   },
   "file_extension": ".py",
   "mimetype": "text/x-python",
   "name": "python",
   "nbconvert_exporter": "python",
   "pygments_lexer": "ipython3",
   "version": "3.8.3"
  }
 },
 "nbformat": 4,
 "nbformat_minor": 2
}
